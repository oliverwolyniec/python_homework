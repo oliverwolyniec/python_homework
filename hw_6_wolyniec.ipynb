{
 "cells": [
  {
   "cell_type": "markdown",
   "id": "aac5bcfb-020e-44b4-a0f1-7a8ca177fa1b",
   "metadata": {},
   "source": [
    "# HW 6\n",
    "\n",
    "1. Translating Sentences:\n",
    "10 pts\n",
    "Write a function that translates sentences. The function takes two arguements, the sentence to be translated and tthe targeted language and returns the translated sentence."
   ]
  },
  {
   "cell_type": "markdown",
   "id": "3931710b-3139-46ba-b40c-b261a64eb2e9",
   "metadata": {},
   "source": [
    "At the top, wanted to mention that I had to use a loaner laptop for this assignment, so I was unable to access my prior assignments and notes. Because of that (and because I had to miss our last class), I had to lean more heavily on ChatGPT, but I tried to get a grasp on what ChatGPT offered and mark up my code as much as I could. Happy to make adjustments as needed."
   ]
  },
  {
   "cell_type": "code",
   "execution_count": 1,
   "id": "f089667a-5110-4b19-9c09-71c2fb8f8f12",
   "metadata": {},
   "outputs": [
    {
     "name": "stdout",
     "output_type": "stream",
     "text": [
      "Requirement already satisfied: googletrans==4.0.0-rc1 in c:\\users\\oaw6\\appdata\\local\\anaconda3\\lib\\site-packages (4.0.0rc1)\n",
      "Requirement already satisfied: httpx==0.13.3 in c:\\users\\oaw6\\appdata\\local\\anaconda3\\lib\\site-packages (from googletrans==4.0.0-rc1) (0.13.3)\n",
      "Requirement already satisfied: certifi in c:\\users\\oaw6\\appdata\\local\\anaconda3\\lib\\site-packages (from httpx==0.13.3->googletrans==4.0.0-rc1) (2024.8.30)\n",
      "Requirement already satisfied: hstspreload in c:\\users\\oaw6\\appdata\\local\\anaconda3\\lib\\site-packages (from httpx==0.13.3->googletrans==4.0.0-rc1) (2024.10.1)\n",
      "Requirement already satisfied: sniffio in c:\\users\\oaw6\\appdata\\local\\anaconda3\\lib\\site-packages (from httpx==0.13.3->googletrans==4.0.0-rc1) (1.3.0)\n",
      "Requirement already satisfied: chardet==3.* in c:\\users\\oaw6\\appdata\\local\\anaconda3\\lib\\site-packages (from httpx==0.13.3->googletrans==4.0.0-rc1) (3.0.4)\n",
      "Requirement already satisfied: idna==2.* in c:\\users\\oaw6\\appdata\\local\\anaconda3\\lib\\site-packages (from httpx==0.13.3->googletrans==4.0.0-rc1) (2.10)\n",
      "Requirement already satisfied: rfc3986<2,>=1.3 in c:\\users\\oaw6\\appdata\\local\\anaconda3\\lib\\site-packages (from httpx==0.13.3->googletrans==4.0.0-rc1) (1.5.0)\n",
      "Requirement already satisfied: httpcore==0.9.* in c:\\users\\oaw6\\appdata\\local\\anaconda3\\lib\\site-packages (from httpx==0.13.3->googletrans==4.0.0-rc1) (0.9.1)\n",
      "Requirement already satisfied: h11<0.10,>=0.8 in c:\\users\\oaw6\\appdata\\local\\anaconda3\\lib\\site-packages (from httpcore==0.9.*->httpx==0.13.3->googletrans==4.0.0-rc1) (0.9.0)\n",
      "Requirement already satisfied: h2==3.* in c:\\users\\oaw6\\appdata\\local\\anaconda3\\lib\\site-packages (from httpcore==0.9.*->httpx==0.13.3->googletrans==4.0.0-rc1) (3.2.0)\n",
      "Requirement already satisfied: hyperframe<6,>=5.2.0 in c:\\users\\oaw6\\appdata\\local\\anaconda3\\lib\\site-packages (from h2==3.*->httpcore==0.9.*->httpx==0.13.3->googletrans==4.0.0-rc1) (5.2.0)\n",
      "Requirement already satisfied: hpack<4,>=3.0 in c:\\users\\oaw6\\appdata\\local\\anaconda3\\lib\\site-packages (from h2==3.*->httpcore==0.9.*->httpx==0.13.3->googletrans==4.0.0-rc1) (3.0.0)\n"
     ]
    }
   ],
   "source": [
    "# Your code here:\n",
    "!pip install googletrans==4.0.0-rc1"
   ]
  },
  {
   "cell_type": "code",
   "execution_count": 19,
   "id": "bb719fed-f2a2-427c-a513-24898d9a843e",
   "metadata": {},
   "outputs": [],
   "source": [
    "from googletrans import Translator\n",
    "\n",
    "def translate_sentence(sentence, target_language): #Defining the function\n",
    "    \"\"\"This is a function to translate a sentence into a target language\"\"\"\n",
    "    translator = Translator() #Here I'm initializing the translator object\n",
    "    translated = translator.translate(sentence, dest=target_language) #This takes the sentence I want translated and the target language code and returns a translation object\n",
    "    return translated.text #.text takes out the translated text from the object"
   ]
  },
  {
   "cell_type": "code",
   "execution_count": 21,
   "id": "2ed78af8-55db-48b7-8f58-b890082c0ec7",
   "metadata": {},
   "outputs": [
    {
     "name": "stdout",
     "output_type": "stream",
     "text": [
      "Меня зовут Геннади, и я иду в магазин\n"
     ]
    }
   ],
   "source": [
    "final_sentence = translate_sentence(\"My name is Gennady and I am going to the store\", \"ru\")\n",
    "print(final_sentence) #Interesting that it adds a comma in after Gennady"
   ]
  },
  {
   "cell_type": "markdown",
   "id": "acb9b1ca-0b7a-4367-b0d4-0eec50b068d8",
   "metadata": {},
   "source": [
    "Take the following sentence and translate it from English to Spanish.\n",
    "\"Make a career of humanity. Commit yourself to the noble struggle for equal rights. You will make a better person of yourself, a greater nation of your country, and a finer world to live in.\""
   ]
  },
  {
   "cell_type": "code",
   "execution_count": 23,
   "id": "5cba0ba5-1f13-442d-83ee-561fb9301791",
   "metadata": {},
   "outputs": [
    {
     "name": "stdout",
     "output_type": "stream",
     "text": [
      "Hacer una carrera de la humanidad.Comprométate con la noble lucha por la igualdad de derechos.Harás una mejor persona de ti mismo, una nación más grande de tu país y un mundo más fino para vivir\n"
     ]
    }
   ],
   "source": [
    "translated_sentence = translate_sentence(\"Make a career of humanity. Commit yourself to the noble struggle for equal rights. You will make a better person of yourself, a greater nation of your country, and a finer world to live in\", \"es\")\n",
    "print(translated_sentence)"
   ]
  },
  {
   "cell_type": "markdown",
   "id": "daf0373e-686c-4372-a49c-a583620161c3",
   "metadata": {},
   "source": [
    "2. Now translate it from Spanish to Chinese\n",
    "2.5pts"
   ]
  },
  {
   "cell_type": "code",
   "execution_count": 27,
   "id": "ed3f5d0d-9129-4321-b1a2-43b14ccfd211",
   "metadata": {},
   "outputs": [
    {
     "name": "stdout",
     "output_type": "stream",
     "text": [
      "使人类职业生涯以平等的权利来促进自己。\n"
     ]
    }
   ],
   "source": [
    "#Your code here:\n",
    "spanish_sentence = \"Hacer una carrera de la humanidad.Comprométate con la noble lucha por la igualdad de derechos.Harás una mejor persona de ti mismo, una nación más grande de tu país y un mundo más fino para vivir\"\n",
    "chinese_sentence = translate_sentence(spanish_sentence, \"zh-cn\") #Asked ChatGPT for the code for Simplified Chinese\n",
    "print(chinese_sentence)"
   ]
  },
  {
   "cell_type": "markdown",
   "id": "5a0f2361-5bd0-4bcb-9dc4-7ee6630cbabd",
   "metadata": {},
   "source": [
    "3. Now translate it from Chinese back to English.\n",
    "2.5pts"
   ]
  },
  {
   "cell_type": "code",
   "execution_count": 29,
   "id": "156fe134-2df9-4210-8444-6822b00aed6e",
   "metadata": {},
   "outputs": [
    {
     "name": "stdout",
     "output_type": "stream",
     "text": [
      "Make human career promoting themselves with equal rights.\n"
     ]
    }
   ],
   "source": [
    "#Your code here:\n",
    "chinese_sentence1 = \"使人类职业生涯以平等的权利来促进自己。\"\n",
    "english_sentence = translate_sentence(chinese_sentence1, \"en\")\n",
    "print(english_sentence) #OK, now I want to see what Traditional Chinese produces"
   ]
  },
  {
   "cell_type": "code",
   "execution_count": 31,
   "id": "44a3b7c5-819b-4b67-8677-7253f119b8c5",
   "metadata": {},
   "outputs": [
    {
     "name": "stdout",
     "output_type": "stream",
     "text": [
      "使人類職業生涯以平等的權利來促進自己。\n"
     ]
    }
   ],
   "source": [
    "spanish_sentence = \"Hacer una carrera de la humanidad.Comprométate con la noble lucha por la igualdad de derechos.Harás una mejor persona de ti mismo, una nación más grande de tu país y un mundo más fino para vivir\"\n",
    "chinese_sentence = translate_sentence(spanish_sentence, \"zh-tw\")\n",
    "print(chinese_sentence)"
   ]
  },
  {
   "cell_type": "code",
   "execution_count": 33,
   "id": "31dc8c2d-d091-47bf-a67f-aa9f9e8804f7",
   "metadata": {},
   "outputs": [
    {
     "name": "stdout",
     "output_type": "stream",
     "text": [
      "Make human career promoting themselves with equal rights.\n"
     ]
    }
   ],
   "source": [
    "chinese_sentence1 = \"使人類職業生涯以平等的權利來促進自己。\"\n",
    "english_sentence = translate_sentence(chinese_sentence1, \"en\")\n",
    "print(english_sentence) #Exact same."
   ]
  },
  {
   "cell_type": "markdown",
   "id": "5f22fb28-eb8c-4394-b291-22f695d04469",
   "metadata": {},
   "source": [
    "4. Now do the same thing with ChatGPT.\n",
    "\n",
    "2.5pts\n",
    "Eng to Sp: Sp to Chinese: Chinese to Eng:\n",
    "\n",
    "Eng: \"Make a career of humanity. Commit yourself to the noble struggle for equal rights. You will make a better person of yourself, a greater nation of your country, and a finer world to live in.\"\n",
    "\n",
    "Eng to Sp: \"Haz una carrera de la humanidad. Comprométete con la noble lucha por la igualdad de derechos. Harás una mejor persona de ti mismo, una nación más grande de tu país y un mundo más fino para vivir.\"\n",
    "\n",
    "Sp to Chinese: \"为人类而奋斗。致力于为平等权利而进行的崇高斗争。你将成为更好的人，造就一个更伟大的国家，以及一个更美好的生活世界。\"\n",
    "\n",
    "Chinese to Eng: \"Strive for humanity. Commit yourself to the noble struggle for equal rights. You will become a better person, create a greater nation, and build a finer world to live in.\""
   ]
  },
  {
   "cell_type": "markdown",
   "id": "95f22fc5-75b5-4e6e-8c2e-00291f468035",
   "metadata": {},
   "source": [
    "5. Describe the difference in quality and features of output:\n",
    "2.5pts"
   ]
  },
  {
   "cell_type": "markdown",
   "id": "90f45014-5aa0-4fab-b48f-a468d1261f06",
   "metadata": {},
   "source": [
    "Your answer here:\n",
    "ChatGPT clearly did a far better job in this instance. Not that I can read Chinese, but it looks like translating from Spanish to Chinese\n",
    "in Python resulted in a far shorter phrase for some reason, with some of the content cut out. The ChatGPT translation seemed to preserve the phrase from Spanish to Chinese. It was the same in Python for both Simplified and Traditional Chinese, a shorter phrase was produced. The final English translation that ChatGPT gave me wasn't perfect, but it was pretty close and captured the essence of the quote."
   ]
  },
  {
   "cell_type": "markdown",
   "id": "2dcf5ad4-25ec-4eef-bc6a-bd480e64b65a",
   "metadata": {},
   "source": [
    " ## 7.  The Trump Card\n",
    "Here is a link to a speech made by former President Trump on January 6: https://www.npr.org/2021/02/10/966396848/read-trumps-jan-6-speech-a-key-part-of-impeachment-trial. Not all of the text is his speech. Some of the text is the analysis. Please extract Donald Trump's speech only, remove stopwords and perform a word frequency distribution and visualize it.\n",
    "20pts"
   ]
  },
  {
   "cell_type": "code",
   "execution_count": 2,
   "id": "4efcbb23-4d40-4e01-9d89-257d8024c15e",
   "metadata": {},
   "outputs": [
    {
     "name": "stdout",
     "output_type": "stream",
     "text": [
      "Requirement already satisfied: requests in c:\\users\\oaw6\\appdata\\local\\anaconda3\\lib\\site-packages (2.32.2)\n",
      "Requirement already satisfied: beautifulsoup4 in c:\\users\\oaw6\\appdata\\local\\anaconda3\\lib\\site-packages (4.12.3)\n",
      "Requirement already satisfied: nltk in c:\\users\\oaw6\\appdata\\local\\anaconda3\\lib\\site-packages (3.8.1)\n",
      "Requirement already satisfied: matplotlib in c:\\users\\oaw6\\appdata\\local\\anaconda3\\lib\\site-packages (3.8.4)\n",
      "Requirement already satisfied: charset-normalizer<4,>=2 in c:\\users\\oaw6\\appdata\\local\\anaconda3\\lib\\site-packages (from requests) (2.0.4)\n",
      "Requirement already satisfied: idna<4,>=2.5 in c:\\users\\oaw6\\appdata\\local\\anaconda3\\lib\\site-packages (from requests) (2.10)\n",
      "Requirement already satisfied: urllib3<3,>=1.21.1 in c:\\users\\oaw6\\appdata\\local\\anaconda3\\lib\\site-packages (from requests) (2.2.2)\n",
      "Requirement already satisfied: certifi>=2017.4.17 in c:\\users\\oaw6\\appdata\\local\\anaconda3\\lib\\site-packages (from requests) (2024.8.30)\n",
      "Requirement already satisfied: soupsieve>1.2 in c:\\users\\oaw6\\appdata\\local\\anaconda3\\lib\\site-packages (from beautifulsoup4) (2.5)\n",
      "Requirement already satisfied: click in c:\\users\\oaw6\\appdata\\local\\anaconda3\\lib\\site-packages (from nltk) (8.1.7)\n",
      "Requirement already satisfied: joblib in c:\\users\\oaw6\\appdata\\local\\anaconda3\\lib\\site-packages (from nltk) (1.4.2)\n",
      "Requirement already satisfied: regex>=2021.8.3 in c:\\users\\oaw6\\appdata\\local\\anaconda3\\lib\\site-packages (from nltk) (2023.10.3)\n",
      "Requirement already satisfied: tqdm in c:\\users\\oaw6\\appdata\\local\\anaconda3\\lib\\site-packages (from nltk) (4.66.4)\n",
      "Requirement already satisfied: contourpy>=1.0.1 in c:\\users\\oaw6\\appdata\\local\\anaconda3\\lib\\site-packages (from matplotlib) (1.2.0)\n",
      "Requirement already satisfied: cycler>=0.10 in c:\\users\\oaw6\\appdata\\local\\anaconda3\\lib\\site-packages (from matplotlib) (0.11.0)\n",
      "Requirement already satisfied: fonttools>=4.22.0 in c:\\users\\oaw6\\appdata\\local\\anaconda3\\lib\\site-packages (from matplotlib) (4.51.0)\n",
      "Requirement already satisfied: kiwisolver>=1.3.1 in c:\\users\\oaw6\\appdata\\local\\anaconda3\\lib\\site-packages (from matplotlib) (1.4.4)\n",
      "Requirement already satisfied: numpy>=1.21 in c:\\users\\oaw6\\appdata\\local\\anaconda3\\lib\\site-packages (from matplotlib) (1.26.4)\n",
      "Requirement already satisfied: packaging>=20.0 in c:\\users\\oaw6\\appdata\\local\\anaconda3\\lib\\site-packages (from matplotlib) (23.2)\n",
      "Requirement already satisfied: pillow>=8 in c:\\users\\oaw6\\appdata\\local\\anaconda3\\lib\\site-packages (from matplotlib) (10.3.0)\n",
      "Requirement already satisfied: pyparsing>=2.3.1 in c:\\users\\oaw6\\appdata\\local\\anaconda3\\lib\\site-packages (from matplotlib) (3.0.9)\n",
      "Requirement already satisfied: python-dateutil>=2.7 in c:\\users\\oaw6\\appdata\\local\\anaconda3\\lib\\site-packages (from matplotlib) (2.9.0.post0)\n",
      "Requirement already satisfied: six>=1.5 in c:\\users\\oaw6\\appdata\\local\\anaconda3\\lib\\site-packages (from python-dateutil>=2.7->matplotlib) (1.16.0)\n",
      "Requirement already satisfied: colorama in c:\\users\\oaw6\\appdata\\local\\anaconda3\\lib\\site-packages (from click->nltk) (0.4.6)\n"
     ]
    }
   ],
   "source": [
    "#Your code here:\n",
    "!pip install requests beautifulsoup4 nltk matplotlib"
   ]
  },
  {
   "cell_type": "code",
   "execution_count": 8,
   "id": "9b7d1838-6bcc-49f6-ac93-e5c9ce557dce",
   "metadata": {},
   "outputs": [
    {
     "name": "stderr",
     "output_type": "stream",
     "text": [
      "[nltk_data] Downloading package punkt to\n",
      "[nltk_data]     C:\\Users\\oaw6\\AppData\\Roaming\\nltk_data...\n",
      "[nltk_data]   Unzipping tokenizers\\punkt.zip.\n",
      "[nltk_data] Downloading package stopwords to\n",
      "[nltk_data]     C:\\Users\\oaw6\\AppData\\Roaming\\nltk_data...\n",
      "[nltk_data]   Unzipping corpora\\stopwords.zip.\n"
     ]
    },
    {
     "data": {
      "image/png": "[encoded data removed]",
      "text/plain": [
       "<Figure size 640x480 with 1 Axes>"
      ]
     },
     "metadata": {},
     "output_type": "display_data"
    }
   ],
   "source": [
    "import requests\n",
    "from bs4 import BeautifulSoup\n",
    "from nltk.corpus import stopwords\n",
    "from nltk.tokenize import word_tokenize\n",
    "from collections import Counter\n",
    "import matplotlib.pyplot as plt\n",
    "import nltk\n",
    "\n",
    "url = \"https://www.npr.org/2021/02/10/966396848/read-trumps-jan-6-speech-a-key-part-of-impeachment-trial\"\n",
    "response = requests.get(url) #This block is for fetching the webpage\n",
    "soup = BeautifulSoup(response.content, 'html.parser') #Using this to extract the text\n",
    "paragraphs = soup.find_all('p') #Now I'm extracting Trump's speech\n",
    "speech_text = ' '.join(p.get_text() for p in paragraphs)\n",
    "\n",
    "nltk.download('punkt') #Here I'm tokenizing and removing stopwords\n",
    "nltk.download('stopwords')\n",
    "stop_words = set(stopwords.words('english'))\n",
    "words = word_tokenize(speech_text.lower()) #Filtering out stopwords\n",
    "filtered_words = [word for word in words if word.isalnum() and word not in stop_words]\n",
    "\n",
    "word_freq = Counter(filtered_words) #Using this to make a frequency distribution of the filtered words\n",
    "most_common = word_freq.most_common(10)\n",
    "words, counts = zip(*most_common)\n",
    "\n",
    "plt.bar(words, counts)\n",
    "plt.xticks(rotation=45)\n",
    "plt.show()"
   ]
  },
  {
   "cell_type": "markdown",
   "id": "b78b87a8-223c-4dc0-a838-523871fb3a75",
   "metadata": {},
   "source": [
    "8. Here is a link to a github repo that contains Donald Trump's speeches: https://github.com/ryanmcdermott/trump-speeches/blob/master/speeches.txt\n",
    "   \n",
    "What are the 10 most common things Donald Trump \"loves?\"\n",
    "10pts"
   ]
  },
  {
   "cell_type": "code",
   "execution_count": 10,
   "id": "f78b97a7-618d-4fc2-969d-f72cdb7fd3d4",
   "metadata": {},
   "outputs": [
    {
     "name": "stdout",
     "output_type": "stream",
     "text": [
      "Requirement already satisfied: requests in c:\\users\\oaw6\\appdata\\local\\anaconda3\\lib\\site-packages (2.32.2)\n",
      "Requirement already satisfied: nltk in c:\\users\\oaw6\\appdata\\local\\anaconda3\\lib\\site-packages (3.8.1)\n",
      "Requirement already satisfied: charset-normalizer<4,>=2 in c:\\users\\oaw6\\appdata\\local\\anaconda3\\lib\\site-packages (from requests) (2.0.4)\n",
      "Requirement already satisfied: idna<4,>=2.5 in c:\\users\\oaw6\\appdata\\local\\anaconda3\\lib\\site-packages (from requests) (2.10)\n",
      "Requirement already satisfied: urllib3<3,>=1.21.1 in c:\\users\\oaw6\\appdata\\local\\anaconda3\\lib\\site-packages (from requests) (2.2.2)\n",
      "Requirement already satisfied: certifi>=2017.4.17 in c:\\users\\oaw6\\appdata\\local\\anaconda3\\lib\\site-packages (from requests) (2024.8.30)\n",
      "Requirement already satisfied: click in c:\\users\\oaw6\\appdata\\local\\anaconda3\\lib\\site-packages (from nltk) (8.1.7)\n",
      "Requirement already satisfied: joblib in c:\\users\\oaw6\\appdata\\local\\anaconda3\\lib\\site-packages (from nltk) (1.4.2)\n",
      "Requirement already satisfied: regex>=2021.8.3 in c:\\users\\oaw6\\appdata\\local\\anaconda3\\lib\\site-packages (from nltk) (2023.10.3)\n",
      "Requirement already satisfied: tqdm in c:\\users\\oaw6\\appdata\\local\\anaconda3\\lib\\site-packages (from nltk) (4.66.4)\n",
      "Requirement already satisfied: colorama in c:\\users\\oaw6\\appdata\\local\\anaconda3\\lib\\site-packages (from click->nltk) (0.4.6)\n"
     ]
    }
   ],
   "source": [
    "#Your code and answer here:\n",
    "!pip install requests nltk"
   ]
  },
  {
   "cell_type": "code",
   "execution_count": 14,
   "id": "f8771941-968d-4f3a-940d-0cd312ddaf75",
   "metadata": {},
   "outputs": [
    {
     "name": "stdout",
     "output_type": "stream",
     "text": [
      "Top 10 things Donald Trump loves:\n",
      "china: 5\n",
      "florida: 4\n",
      "mexico: 4\n",
      "israel: 3\n",
      "everybody: 3\n",
      "bobby: 3\n",
      "nevada: 2\n",
      "john: 2\n",
      "polls: 2\n",
      "love: 2\n"
     ]
    }
   ],
   "source": [
    "import requests\n",
    "from collections import Counter\n",
    "import nltk\n",
    "import re\n",
    "\n",
    "url = \"https://raw.githubusercontent.com/ryanmcdermott/trump-speeches/master/speeches.txt\"\n",
    "response = requests.get(url) #Fetching the speeches here\n",
    "speeches_text = response.text\n",
    "sentences = nltk.sent_tokenize(speeches_text)\n",
    "love_sentences = [sentence for sentence in sentences if \"love\" in sentence.lower()] #Here I'm extracting the phrases containing \"love\"\n",
    "love_words = [] #This is finding the words after \"love\" for context\n",
    "stopwords = set(nltk.corpus.stopwords.words('english')) #Getting stopwords\n",
    "for sentence in love_sentences:\n",
    "    words = re.findall(r'\\b\\w+\\b', sentence) #Here I'm getting all the words in the sentence\n",
    "    for i, word in enumerate(words):\n",
    "        if word.lower() == \"love\" and i + 1 < len(words):\n",
    "            following_word = words[i + 1].lower() #This gets the word following \"love\"\n",
    "            if following_word not in stopwords: #This checks to see if it's a stopword or not\n",
    "                love_words.append(following_word)\n",
    "love_word_freq = Counter(love_words) #Here I'm counting the most common words following \"love\"\n",
    "most_common_loves = love_word_freq.most_common(10)\n",
    "print(\"Top 10 things Donald Trump loves:\")\n",
    "for word, count in most_common_loves:\n",
    "    print(f\"{word}: {count}\")"
   ]
  },
  {
   "cell_type": "markdown",
   "id": "c07782a4-2931-4e23-bb33-b9fab29182ca",
   "metadata": {},
   "source": [
    "9. Which are the top 5 countries Trump mentions in his speeches, besides America or the United States of America?\n",
    "10pts"
   ]
  },
  {
   "cell_type": "code",
   "execution_count": 16,
   "id": "bdb639d1-6f9e-444c-8248-75b74bf569c7",
   "metadata": {},
   "outputs": [
    {
     "name": "stderr",
     "output_type": "stream",
     "text": [
      "[nltk_data] Downloading package punkt to\n",
      "[nltk_data]     C:\\Users\\oaw6\\AppData\\Roaming\\nltk_data...\n",
      "[nltk_data]   Package punkt is already up-to-date!\n"
     ]
    },
    {
     "name": "stdout",
     "output_type": "stream",
     "text": [
      "Top 5 countries mentioned by Donald Trump (excluding America):\n",
      "China: 201\n",
      "Mexico: 159\n",
      "Iran: 91\n",
      "Israel: 83\n",
      "Iraq: 72\n"
     ]
    }
   ],
   "source": [
    "#Your code and answer here:\n",
    "url = \"https://raw.githubusercontent.com/ryanmcdermott/trump-speeches/master/speeches.txt\"\n",
    "response = requests.get(url)\n",
    "speeches_text = response.text\n",
    "\n",
    "nltk.download('punkt')\n",
    "words = nltk.word_tokenize(speeches_text)\n",
    "\n",
    "countries = [\n",
    "    \"afghanistan\", \"albania\", \"algeria\", \"argentina\", \"armenia\", \"australia\",\n",
    "    \"austria\", \"azerbaijan\", \"bahamas\", \"bahrain\", \"bangladesh\", \"barbados\",\n",
    "    \"belarus\", \"belgium\", \"belize\", \"benin\", \"bhutan\", \"bolivia\", \"bosnia\",\n",
    "    \"botswana\", \"brazil\", \"brunei\", \"bulgaria\", \"burkina\", \"burundi\",\n",
    "    \"cambodia\", \"canada\", \"chad\", \"china\", \"colombia\", \"comoros\", \"costa rica\",\n",
    "    \"croatia\", \"cuba\", \"cyprus\", \"czech republic\", \"denmark\", \"djibouti\",\n",
    "    \"dominica\", \"dominican republic\", \"ecuador\", \"egypt\", \"el salvador\",\n",
    "    \"equatorial guinea\", \"eritrea\", \"estonia\", \"eswatini\", \"ethiopia\",\n",
    "    \"finland\", \"france\", \"gabon\", \"gambia\", \"georgia\", \"germany\", \"ghana\",\n",
    "    \"greece\", \"grenada\", \"guatemala\", \"guinea\", \"guinea-bissau\", \"guyana\",\n",
    "    \"haiti\", \"honduras\", \"hungary\", \"iceland\", \"india\", \"indonesia\", \"iran\",\n",
    "    \"iraq\", \"ireland\", \"israel\", \"italy\", \"jamaica\", \"japan\", \"jordan\",\n",
    "    \"kazakhstan\", \"kenya\", \"kiribati\", \"korea\", \"kuwait\", \"kyrgyzstan\",\n",
    "    \"laos\", \"latvia\", \"lebanon\", \"lesotho\", \"liberia\", \"libya\", \"lithuania\",\n",
    "    \"luxembourg\", \"madagascar\", \"malawi\", \"malaysia\", \"maldives\", \"mali\",\n",
    "    \"malta\", \"marshall islands\", \"mauritania\", \"mauritius\", \"mexico\",\n",
    "    \"micronesia\", \"moldova\", \"monaco\", \"mongolia\", \"montenegro\", \"morocco\",\n",
    "    \"mozambique\", \"myanmar\", \"namibia\", \"nauru\", \"nepal\", \"netherlands\",\n",
    "    \"new zealand\", \"nicaragua\", \"niger\", \"nigeria\", \"north macedonia\",\n",
    "    \"norway\", \"oman\", \"pakistan\", \"palau\", \"panama\", \"papua new guinea\",\n",
    "    \"paraguay\", \"peru\", \"philippines\", \"poland\", \"portugal\", \"qatar\",\n",
    "    \"romania\", \"russia\", \"rwanda\", \"saudi arabia\", \"senegal\", \"serbia\",\n",
    "    \"singapore\", \"slovakia\", \"slovenia\", \"solomon islands\", \"somalia\",\n",
    "    \"south africa\", \"south korea\", \"spain\", \"sri lanka\", \"sweden\",\n",
    "    \"switzerland\", \"syria\", \"taiwan\", \"tajikistan\", \"tanzania\", \"thailand\",\n",
    "    \"togo\", \"tonga\", \"trinidad and tobago\", \"tunisia\", \"turkey\", \"turkmenistan\",\n",
    "    \"tuvalu\", \"uganda\", \"ukraine\", \"united arab emirates\", \"united kingdom\",\n",
    "    \"uruguay\", \"uzbekistan\", \"vanuatu\", \"vatican city\", \"venezuela\", \"vietnam\",\n",
    "    \"yemen\", \"zambia\", \"zimbabwe\"\n",
    "] #Asked ChatGPT for a list of countries\n",
    "\n",
    "filtered_countries = [word.lower() for word in words if word.lower() in countries] #Here I'm filtering out country mentions\n",
    "\n",
    "country_freq = Counter(filtered_countries) #This counts the most common countries mentioned by Trump\n",
    "top_countries = country_freq.most_common(5) #This gets the top 5 most-mentioned countries\n",
    "\n",
    "print(\"Top 5 countries mentioned by Donald Trump (excluding America):\")\n",
    "for country, count in top_countries:\n",
    "    print(f\"{country.capitalize()}: {count}\")"
   ]
  },
  {
   "cell_type": "code",
   "execution_count": 20,
   "id": "72900e26-dee0-4c7d-ac6b-260510a31769",
   "metadata": {},
   "outputs": [],
   "source": [
    "#Not too surprising! I would have expected both China and Iran to be in the top five. Mexico and Israel aren't too surprising either. Iraq surprised me a bit, I would've expected Russia over Iraq."
   ]
  },
  {
   "cell_type": "markdown",
   "id": "025cea9c-b4d6-47a4-8910-826c521d594b",
   "metadata": {},
   "source": [
    "\n",
    " In class we talked about tokenizing sentences into words, or parsing texts by single words(unigrams), or two words(bigrams). But you can also tokenize by sentences. Here is some sample code:\n"
   ]
  },
  {
   "cell_type": "code",
   "execution_count": 18,
   "id": "5b9af68c-a8e1-4d1e-ab49-e791d071bf3a",
   "metadata": {},
   "outputs": [
    {
     "name": "stdout",
     "output_type": "stream",
     "text": [
      "['This is the first sentence.', 'This is the second sentence.']\n"
     ]
    }
   ],
   "source": [
    "import nltk\n",
    "from nltk.tokenize import sent_tokenize\n",
    "\n",
    "text = \"This is the first sentence. This is the second sentence.\"\n",
    "sentences = sent_tokenize(text)\n",
    "\n",
    "print(sentences)"
   ]
  },
  {
   "cell_type": "markdown",
   "id": "7481e654-f253-4573-948b-0cf63d2b22c7",
   "metadata": {},
   "source": [
    "In class we talked about final projects and I suggested one of the interesting uses of this technology is to consider conventional thinking on some subject and use Python to more comprehensively and critically evaluate that thinking. We touched on \"political thinking\" as a good place to apply Python language analyses. In political speeches, certain sentences or phrases are repeated to show a candidates coaching, focus or in marketing terms, \"messaging.\" \n",
    "\n",
    "Here is an analyis from https://www.vox.com/2016/8/18/12423688/donald-trump-speech-style-explained-by-linguists of the \"salesman\" techniques that Trump uses: \"Trump’s speeches can be appealing because he uses a lot of salesmen’s tricks. Lakoff, for his part, has an explanation for why Trump’s style of speaking is so appealing to many. Many of Trump’s most famous catchphrases are actually versions of time-tested speech mechanisms that salesmen use. They’re powerful because they help shape our unconscious. Take, for example, Trump’s frequent use of \"Many people are saying...\" or \"Believe me\" — often right after saying something that is baseless or untrue. This tends to sound more trustworthy to listeners than just outright stating the baseless claim, since Trump implies that he has direct experience with what he’s talking about. At a base level, Lakoff argues, people are more inclined to believe something that seems to have been shared. Or when Trump keeps calling Clinton \"crooked,\" or keeps referring to terrorists as \"radical Muslims,\" he’s strengthening the association through repetition. He also calls his supporters \"folks,\" to show he is one of them (though many politicians employ this trick). Trump doesn’t repeat phrases and adjectives because he is stalling for time, Liberman says; for the most part, he’s providing emphasis and strengthening the association. These are normal techniques, particularly in conversational speech. \"Is he reading cognitive science? No. He has 50 years of experience as a salesman who doesn’t care who he is selling to,\" Lakoff says. On this account, Trump uses similar methods in his QVC-style pitch of steaks and vodka as when he talks about his plan to stop ISIS.\"He has been doing this for a very long time as a salesman — that’s what he is best at,\" Lakoff says.\"  \n",
    "*This is not to say I agree or disagree with this analysis.*  This is just one example of what we touched on in class. "
   ]
  },
  {
   "cell_type": "markdown",
   "id": "a96e1cb4-90b1-4f3e-9948-6ec6935401ea",
   "metadata": {},
   "source": [
    "10. Perform a frequency analysis that provides evidence for or against the assertion made in the Vox article.\n",
    "Consider tokenizing by unigram (one word), bigram(two words), trigram(three words) or more, or whole sentences or multiple approaches that help us understand the most common Trump linguistic characteristcs. Use your evidence and words to describe what you found. This is a fairly open ask. Don't just execute code. Tell me and show me something interesting!\n",
    "20pts"
   ]
  },
  {
   "cell_type": "code",
   "execution_count": 24,
   "id": "68933a0b-53da-465c-99f3-5c4bf1a3212b",
   "metadata": {},
   "outputs": [
    {
     "name": "stderr",
     "output_type": "stream",
     "text": [
      "[nltk_data] Downloading package punkt to\n",
      "[nltk_data]     C:\\Users\\oaw6\\AppData\\Roaming\\nltk_data...\n",
      "[nltk_data]   Package punkt is already up-to-date!\n"
     ]
    },
    {
     "name": "stdout",
     "output_type": "stream",
     "text": [
      "Most common unigrams: [('going', 2055), ('people', 1336), ('know', 1315), ('said', 773), ('want', 760), ('great', 687), ('get', 633), ('like', 627), ('think', 625), ('one', 592), ('country', 535), ('say', 510), ('right', 501), ('look', 401), ('go', 392), ('money', 390), ('lot', 377), ('got', 371), ('many', 366), ('good', 355)]\n",
      "Most common bigrams: [(('united', 'states'), 117), (('hillary', 'clinton'), 101), (('going', 'happen'), 100), (('going', 'get'), 97), (('going', 'win'), 95), (('going', 'make'), 93), (('think', 'going'), 76), (('take', 'care'), 69), (('years', 'ago'), 65), (('make', 'america'), 65), (('number', 'one'), 62), (('thank', 'much'), 61), (('going', 'take'), 61), (('many', 'people'), 54), (('people', 'know'), 53), (('america', 'great'), 52), (('know', 'going'), 51), (('lot', 'money'), 49), (('lot', 'people'), 48), (('donald', 'trump'), 46)]\n",
      "Most common trigrams: [(('make', 'america', 'great'), 48), (('going', 'take', 'care'), 39), (('thank', 'thank', 'much'), 20), (('going', 'build', 'wall'), 20), (('going', 'happen', 'going'), 20), (('make', 'country', 'great'), 19), (('going', 'make', 'america'), 18), (('thank', 'much', 'everybody'), 17), (('going', 'pay', 'wall'), 17), (('going', 'bring', 'back'), 17), (('going', 'get', 'rid'), 17), (('mexico', 'going', 'pay'), 15), (('take', 'care', 'vets'), 15), (('going', 'win', 'going'), 15), (('thank', 'much', 'thank'), 14), (('going', 'make', 'country'), 14), (('bring', 'jobs', 'back'), 14), (('going', 'happen', 'anymore'), 14), (('said', 'donald', 'trump'), 13), (('going', 'start', 'winning'), 13)]\n"
     ]
    }
   ],
   "source": [
    "#Your code and response here:\n",
    "import requests\n",
    "import nltk\n",
    "from nltk import ngrams\n",
    "from collections import Counter\n",
    "import re\n",
    "\n",
    "url = \"https://raw.githubusercontent.com/ryanmcdermott/trump-speeches/master/speeches.txt\"\n",
    "response = requests.get(url)\n",
    "speeches_text = response.text\n",
    "\n",
    "speeches_text = re.sub(r'\\n+', ' ', speeches_text)  # Remove newlines\n",
    "speeches_text = re.sub(r'\\s+', ' ', speeches_text)  # Remove extra spaces\n",
    "speeches_text = speeches_text.lower()  # Convert to lowercase\n",
    "\n",
    "nltk.download('punkt')\n",
    "words = nltk.word_tokenize(speeches_text)\n",
    "\n",
    "# Remove stopwords\n",
    "stopwords = set(nltk.corpus.stopwords.words('english'))\n",
    "filtered_words = [word for word in words if word.isalnum() and word not in stopwords]\n",
    "\n",
    "# Create n-grams\n",
    "unigrams = Counter(filtered_words)\n",
    "bigrams = Counter(ngrams(filtered_words, 2))\n",
    "trigrams = Counter(ngrams(filtered_words, 3))\n",
    "\n",
    "# Get the most common\n",
    "most_common_unigrams = unigrams.most_common(20)\n",
    "most_common_bigrams = bigrams.most_common(20)\n",
    "most_common_trigrams = trigrams.most_common(20)\n",
    "\n",
    "print(\"Most common unigrams:\", most_common_unigrams)\n",
    "print(\"Most common bigrams:\", most_common_bigrams)\n",
    "print(\"Most common trigrams:\", most_common_trigrams)"
   ]
  },
  {
   "cell_type": "markdown",
   "id": "ee292a2b-0d29-4a72-bf3e-a1e5984705b8",
   "metadata": {},
   "source": [
    "One thing I notice immediately (and know from listening to Trump speak over the past nine years) is that Trump uses very simple language, rarely using words with more than two or three syllables. One might surmise that Trump isn't very bright and has a limited vocabulary - or that Trump knows that using flowery language can make one seem elite and distant. I think there's some of both at play, and it's extremely clear that Trump does know how to connect with the \"folks\" that form his base. He talks like a regular person, like many of the people I grew up with in rural Minnesota. I know them, and I know Trump's relatively simple speech resonates more with most of them than most politicians' heavily calculated speech. In the top 20 unigrams, there isn't a single word with more than two syllables! This first word in this entire list that does have three or more syllables is \"Hillary\", followed by \"America\". This is hardly complex language. But I think it's at least partially a calculation on Trump's part.\n",
    "\n",
    "It's also interesting that, as much as Trump often glorifies a certain past in which America was \"great\", it seems that a lot of his speech is forward-looking. \"Going\" appears a ton in this list. That can be compelling, as Trump presents a future in which America can be \"great\" again, only if he is the one to steer the country in that direction. It's pretty simple and straightforward, again easy to connect with. The synergy between the glorification of the past and the possible \"return\" of that past in the future is pretty fascinating.\n",
    "\n",
    "Additionally, you can see in the bigrams and trigrams that Trump offers exceedingly simple solutions to problems: we're going to build a wall to stop illegal immigration, we're going to make Mexico pay for that wall, we're going to bring jobs back to America, we're going to start winning, etc. Trump has never been one to dive deeply into the intricacies of policy, but these simple and repeatable slogans sound great, and you'd be hard pressed to find an American who hasn't heard one of them over the past decade. This tracks with the arguments outlined by the Vox article.\n",
    "\n",
    "Lastly, it's interesting how frequently Trump says his own name. He often talks in the third person, which many find quite strange, but I think it helps Trump center the conversation around himself. Evidence points to Trump being a narcissist obsessed with personal loyalty, and by repeating his own name often, he reminds listeners that he is the only person who can save America, he is the only one who can defend \"real\" Americans, etc. It helps reinforce loyalty to him (see his countless scandals over the years and how he's hardly lost any support) and creates a sort of cult of personality around him. It's stunning to look at his rallies and see him almost deified as a cult-like figure, while at Democratic rallies and pre-Trump Republican rallies you would never see such glorification of the candidate (you do, of course, but not at the level that we see with Trump)."
   ]
  },
  {
   "cell_type": "markdown",
   "id": "7e0bd617-57e6-4f8f-bf44-3aba3ebb671c",
   "metadata": {},
   "source": [
    "## 6. Mired in Mango Madness ##\n",
    "20pts\n",
    "\n",
    "Congratulations! In your last semester at Yale, you got a job at the World Bank ! \n",
    "\n",
    "Your first assignment is to address the dearth of good data in Mali on Mango quality and production. Your boss put you on a plane to Mali during the harvest season. You are excited, not only because your boss is annoying and wears too much cologne, but international travel is part of the excitement of an international job. You are excited to see the Great Mosque of Djenne, to watch the sunset from the Bandiagara Cliffs, and to dance the night away to  at Le Byblos. Oh yeah, there is the work too. After a particular \"rough\" night you meet with your colleagues at the office.  You thought you'd be able to just get by making eye contact and nodding while they did most of the work. After all, you are new to the role. No such luck. Your colleagues are thrilled that you can solve their problems by creating an automated call center. Their exact words are, \"The Harvard grad ended up quitting, I'm glad we have someone from Yale here to make things right.\"\n",
    "\n",
    "You are given an office and a computer. You may have slightly overstated your Python coding skills to get the job, but too late now. They ask if you mind if they watch you code. You tell them that you prefer to work alone, although ask them to lunch later to soften the push back. After the initial panic and hangover subsides you think back to your days in intermediate python at Yale, the encouraging words of your caring but demanding prof,  and then a light flashes in your mind and you think, \"I got this.\" \n",
    "\n",
    "You've been tasked with the goal of setting up an automated call center to get data on current market prices, production and quality. There are growers who are both collectives who report these factors, and also smaller growers! Unfortunately, some of these are incentivized to underreport production and prices under the assumption that they will receive more foreign aid. Not all of them though! It's estimated that 10-20% of the self-reporting is innacurate. Callers call the center. Words are processed from speech to text. Text is processed, converted back to speech and then communicated to the caller. \n",
    "\n",
    "There are a few challenges you face: \n",
    "1. The speech to text algo was trained on French, but most of the farmers who call in speak Bambara. You must translate from Bambara to French, and then French to English, because your boss doesn't speak French and wants things in English and is completely unreasonable.\n",
    "2. Sometimes the call just ends, sometimes words are sporadic, sometimes the algo. confuses the word \"child\" and the word \"mango\"\n",
    "3. The call in number was once the number for the infant health hotline. People still use the number to try to get immediate emergency care for their infant. Their calls must be redirected or children could die and it would be your fault, not to mention an international incident.\n",
    "4. The call number is often called by fans and musicians who are given the number by directory assistance because there is a music production company called Mango Mali, a fledgling world music group that markets music from Mali to France.\n",
    "5. You must try to identify who is lying about their crop yield quality and prices.\n",
    "\n",
    "\n",
    "**YOUR MISSION**\n",
    "\n",
    "Write code that accepts the number as an input and then collects user input(in Bambara), translates it to French, and then outputs the data to a csv file in English. Please make sure you write code that addresses the challenges above (1-5). \n",
    "Create use cases to demonstrate that your code works and that you have addressed the basic use case, and that you have addressed challenges 1-5."
   ]
  },
  {
   "cell_type": "code",
   "execution_count": 9,
   "id": "fd23d774-b6c5-4c39-a9b2-0092697987e8",
   "metadata": {},
   "outputs": [
    {
     "name": "stdin",
     "output_type": "stream",
     "text": [
      "Enter the phone number (10 digits):  1233333333\n"
     ]
    },
    {
     "name": "stdout",
     "output_type": "stream",
     "text": [
      "Redirecting to infant health hotline.\n"
     ]
    },
    {
     "name": "stdin",
     "output_type": "stream",
     "text": [
      "Do you want to collect data from another caller? (yes/no):  4566666666\n",
      "Please answer 'yes' or 'no':  yes\n",
      "Enter the phone number (10 digits):  4566666666\n"
     ]
    },
    {
     "name": "stdout",
     "output_type": "stream",
     "text": [
      "Redirecting to Mango Mali music production.\n"
     ]
    },
    {
     "name": "stdin",
     "output_type": "stream",
     "text": [
      "Do you want to collect data from another caller? (yes/no):  yes\n",
      "Enter the phone number (10 digits):  1111111111\n",
      "Please provide your crop yield and quality in Bambara:  mangoro 850, a ka dɔgɔ\n"
     ]
    },
    {
     "name": "stdout",
     "output_type": "stream",
     "text": [
      "Translated to French: 850 mangues\n",
      "Translated to English: 850 mangoes\n",
      "Data collected successfully!\n"
     ]
    },
    {
     "name": "stdin",
     "output_type": "stream",
     "text": [
      "Do you want to collect data from another caller? (yes/no):  yes\n",
      "Enter the phone number (10 digits):  1111111111\n",
      "Please provide your crop yield and quality in Bambara:  mangoro 850, a ka dɔgɔ\n"
     ]
    },
    {
     "name": "stdout",
     "output_type": "stream",
     "text": [
      "Translated to French: 850 mangues\n",
      "Translated to English: 850 mangoes\n",
      "Data collected successfully!\n"
     ]
    },
    {
     "name": "stdin",
     "output_type": "stream",
     "text": [
      "Do you want to collect data from another caller? (yes/no):  yes\n",
      "Enter the phone number (10 digits):  1111111111\n",
      "Please provide your crop yield and quality in Bambara:  mangoro 850, a ka dɔgɔ\n"
     ]
    },
    {
     "name": "stdout",
     "output_type": "stream",
     "text": [
      "Translated to French: 850 mangues\n",
      "Translated to English: 850 mangoes\n",
      "Data appears suspicious; further verification may be needed.\n",
      "Data collected successfully!\n"
     ]
    },
    {
     "name": "stdin",
     "output_type": "stream",
     "text": [
      "Do you want to collect data from another caller? (yes/no):  no\n"
     ]
    }
   ],
   "source": [
    "import csv\n",
    "import random\n",
    "import os\n",
    "from googletrans import Translator\n",
    "\n",
    "translator = Translator()\n",
    "\n",
    "def is_valid_number(number):\n",
    "    \"\"\"This is a function to validate phone numbers\"\"\"\n",
    "    return number.isdigit() and len(number) == 10\n",
    "\n",
    "def is_emergency_call(number):\n",
    "    \"\"\"This is a function to check if the call is emergency or music-related\"\"\"\n",
    "    return number.startswith(\"123\")  #This is an example emergency number\n",
    "\n",
    "def is_music_call(number):\n",
    "    return number.startswith(\"456\")  #This is an example music production number\n",
    "\n",
    "def collect_data():\n",
    "    \"\"\"This is a function to collect data on mango crop yield and quality in Bambara\"\"\"\n",
    "    phone_number = input(\"Enter the phone number (10 digits): \") #Defining a function to collect the data\n",
    "    \n",
    "    if not is_valid_number(phone_number):\n",
    "        print(\"Invalid phone number. Please enter a 10-digit number.\")\n",
    "        return False  #Indicating failure\n",
    "\n",
    "    if is_emergency_call(phone_number):\n",
    "        print(\"Redirecting to infant health hotline.\")\n",
    "        return False  #Indicating failure\n",
    "\n",
    "    if is_music_call(phone_number):\n",
    "        print(\"Redirecting to Mango Mali music production.\")\n",
    "        return False  #Indicating failure\n",
    "\n",
    "    user_input = input(\"Please provide your crop yield and quality in Bambara: \") #Collecting input from the user in Bambara\n",
    "\n",
    "    french_input = translator.translate(user_input, dest='fr', src='auto').text #Translating from Bambara to French, then French to English\n",
    "    english_output = translator.translate(french_input, dest='en', src='fr').text\n",
    "\n",
    "    print(f\"Translated to French: {french_input}\")\n",
    "    print(f\"Translated to English: {english_output}\") #Displays translations so I know they're occurring and look OK\n",
    "\n",
    "    if random.random() < 0.1:  #10% chance of suspicious data, simulating data validating here\n",
    "        print(\"Data appears suspicious; further verification may be needed.\")\n",
    "\n",
    "    with open(\"mango_data.csv\", mode=\"a\", newline=\"\", encoding=\"utf-8\") as file: #Writing to CSV here\n",
    "        writer = csv.writer(file)\n",
    "        writer.writerow([phone_number, english_output])\n",
    "    \n",
    "    print(\"Data collected successfully!\")\n",
    "    return True  #Indicating success here\n",
    "\n",
    "# Main program loop\n",
    "if __name__ == \"__main__\": #Here's the main program loop\n",
    "    while True:\n",
    "        success = collect_data()  #Here I'm collecting the data and checking if it's successful\n",
    "        if not success:\n",
    "            cont = input(\"Do you want to collect data from another caller? (yes/no): \")\n",
    "            while cont.lower() not in ['yes', 'no']:\n",
    "                cont = input(\"Please answer 'yes' or 'no': \")\n",
    "            if cont.lower() != 'yes':\n",
    "                break\n",
    "        else:\n",
    "            cont = input(\"Do you want to collect data from another caller? (yes/no): \")\n",
    "            while cont.lower() not in ['yes', 'no']:\n",
    "                cont = input(\"Please answer 'yes' or 'no': \")\n",
    "            if cont.lower() != 'yes':\n",
    "                break\n"
   ]
  }
 ],
 "metadata": {
  "kernelspec": {
   "display_name": "Python 3 (ipykernel)",
   "language": "python",
   "name": "python3"
  },
  "language_info": {
   "codemirror_mode": {
    "name": "ipython",
    "version": 3
   },
   "file_extension": ".py",
   "mimetype": "text/x-python",
   "name": "python",
   "nbconvert_exporter": "python",
   "pygments_lexer": "ipython3",
   "version": "3.12.4"
  }
 },
 "nbformat": 4,
 "nbformat_minor": 5
}
