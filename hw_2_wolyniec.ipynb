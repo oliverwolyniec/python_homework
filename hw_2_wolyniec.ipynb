{
 "cells": [
  {
   "cell_type": "markdown",
   "id": "4c77a658-43d6-45e6-ab2a-019fcd7b2f66",
   "metadata": {},
   "source": [
    "# Jackson Python Sequences:\n",
    "\n",
    "In Python, sequence is a generic term for an ordered collection of elements. Sequences provide powerful ways to store, access, and manipulate ordered collections of data. We actually have a choice of sequences: lists, tuples, arrays. As a matter of fact a string is a \"sequence\" in that it is an ordered sequence of characters. In sequences, ordered collection of elements, each element is assigned an index based on its position in the sequence, starting with 0. "
   ]
  },
  {
   "cell_type": "markdown",
   "id": "c57b2eaa-6336-4066-b8cb-d989a4c88e06",
   "metadata": {},
   "source": [
    "## Python Sequences: Lists"
   ]
  },
  {
   "cell_type": "markdown",
   "id": "d6db6cb1-566c-4ec5-a282-b3cee064cead",
   "metadata": {},
   "source": [
    "Lists are among the most flexible and widely used data structure in Python. Lists allow you to store sets of information in one place, whether you have just a few items or millions of an item. They are essentially a collection of items in a particular order and you can put anything you want into a list. \n",
    "\n",
    "The syntax is simple: square brackets form the list\n",
    "\n",
    "Each individual item has quotations and is separated by commas."
   ]
  },
  {
   "cell_type": "markdown",
   "id": "74861bd7-cefa-466e-91b1-7a2bb13bc7ef",
   "metadata": {},
   "source": [
    "### Lists: Example\n",
    "\n",
    "Below is a list called aussi_animals with a few types of animals indigenous to Australia."
   ]
  },
  {
   "cell_type": "code",
   "execution_count": null,
   "id": "64720df8-8bac-45a7-a73e-2678915eacb6",
   "metadata": {},
   "outputs": [],
   "source": [
    "aus_animals = [ 'wombats', 'dingos', 'kangaroos', 'wallabees', 'koala']\n",
    "#How can you check to see the type of object you created?\n",
    "print(type(aus_animals))"
   ]
  },
  {
   "cell_type": "markdown",
   "id": "9a7ca54a-c717-47e8-bda1-9bdc495f902c",
   "metadata": {
    "jp-MarkdownHeadingCollapsed": true
   },
   "source": [
    "1. Create a list of the UN Security Council Members and assign it the variable un_sc"
   ]
  },
  {
   "cell_type": "code",
   "execution_count": 1,
   "id": "4ceadf24-4ea6-4919-8cfd-206c0d827b66",
   "metadata": {},
   "outputs": [],
   "source": [
    "# your code here:\n",
    "un_sc = ['China', 'Russia', 'France', 'UK', 'USA', 'Algeria', 'Ecuador', 'Guyana', 'Japan', 'Malta', 'Mozambique', 'South Korea', 'Sierra Leone', 'Slovenia', 'Switzerland']"
   ]
  },
  {
   "cell_type": "markdown",
   "id": "262507b8-4c6d-4e12-aeac-ecd12b427a11",
   "metadata": {},
   "source": [
    "2. What is the type of the variable un_sc?"
   ]
  },
  {
   "cell_type": "code",
   "execution_count": 3,
   "id": "3709eac4-d752-4666-acf5-9cf0aa417356",
   "metadata": {},
   "outputs": [
    {
     "name": "stdout",
     "output_type": "stream",
     "text": [
      "<class 'list'>\n"
     ]
    }
   ],
   "source": [
    "# your code here:\n",
    "print(type(un_sc))"
   ]
  },
  {
   "cell_type": "markdown",
   "id": "deb05db0-c7db-4de1-a660-dfef6cfbe02d",
   "metadata": {},
   "source": [
    "3. What is the length of the variable un_sc?"
   ]
  },
  {
   "cell_type": "code",
   "execution_count": 13,
   "id": "dd8e2ae0-521b-481c-8b3d-0c66c16a64e6",
   "metadata": {},
   "outputs": [
    {
     "data": {
      "text/plain": [
       "15"
      ]
     },
     "execution_count": 13,
     "metadata": {},
     "output_type": "execute_result"
    }
   ],
   "source": [
    "# your code here:\n",
    "un_sc = ['China', 'Russia', 'France', 'UK', 'USA', 'Algeria', 'Ecuador', 'Guyana', 'Japan', 'Malta', 'Mozambique', 'South Korea', 'Sierra Leone', 'Slovenia', 'Switzerland']\n",
    "len(un_sc)"
   ]
  },
  {
   "cell_type": "markdown",
   "id": "f052de4f-38dc-4988-90a9-e2cdae2a4528",
   "metadata": {},
   "source": [
    "## Another Way to Make a List. the list() method\n",
    "So, we saw that we can make a list using square brackets. We can also make a list using the list() function"
   ]
  },
  {
   "cell_type": "code",
   "execution_count": 15,
   "id": "f7017268-0f9d-4b63-950a-3abe6974d7c7",
   "metadata": {},
   "outputs": [
    {
     "name": "stdout",
     "output_type": "stream",
     "text": [
      "[1, 2, 3, 4]\n"
     ]
    }
   ],
   "source": [
    "#4. Run this please: \n",
    "nums = list((1,2,3,4))\n",
    "print(nums)"
   ]
  },
  {
   "cell_type": "markdown",
   "id": "3a953304-c174-489d-8292-469832745b25",
   "metadata": {},
   "source": [
    "That worked for numbers! Would it work the same for strings? Sure it does!"
   ]
  },
  {
   "cell_type": "code",
   "execution_count": 17,
   "id": "f9241148-3648-4aeb-8c5c-8b951a32bdbc",
   "metadata": {},
   "outputs": [
    {
     "name": "stdout",
     "output_type": "stream",
     "text": [
      "['Austin', 'Deven', 'Chris', 'Oliver', 'Nancy', 'Dana', 'Shreya']\n"
     ]
    }
   ],
   "source": [
    "#5. Run this please: \n",
    "students = list(('Austin', 'Deven', 'Chris', 'Oliver', 'Nancy', 'Dana', 'Shreya'))\n",
    "print(students)"
   ]
  },
  {
   "cell_type": "markdown",
   "id": "ad4b4c5d-5705-47c8-8a23-219e785db618",
   "metadata": {},
   "source": [
    "## Accessing Elements in a List\n",
    "\n",
    "As with strings, lists can be accessed by index. To access an element in a list, write the name of the list, followed by the index of an item in square brackets. \n"
   ]
  },
  {
   "cell_type": "code",
   "execution_count": 19,
   "id": "37cd1d95-71a5-4f1a-9947-642fe1eed7fd",
   "metadata": {},
   "outputs": [
    {
     "name": "stdout",
     "output_type": "stream",
     "text": [
      "dingos\n"
     ]
    }
   ],
   "source": [
    "#6 Example, run this please:\n",
    "aus_animals = [ 'wombats', 'dingos', 'kangaroos', 'wallabees', 'koala']\n",
    "print(aus_animals[1])"
   ]
  },
  {
   "cell_type": "markdown",
   "id": "00cd4ffc-f49c-47b6-81b7-0ea5a0e94ad7",
   "metadata": {},
   "source": [
    "Recall, Python indexing starts with 0. So it makes sense that the item in position 1 would be dingos.\n",
    "As we can see, Python returns the item without brackets of quotations. So what is the type of this object returned?"
   ]
  },
  {
   "cell_type": "code",
   "execution_count": 21,
   "id": "091cbd85-4729-49e2-8c9e-945469db2b49",
   "metadata": {},
   "outputs": [
    {
     "name": "stdout",
     "output_type": "stream",
     "text": [
      "dingos\n",
      "<class 'str'>\n"
     ]
    }
   ],
   "source": [
    "7.  #your answer here: It is a string.\n",
    "aus_animals = [ 'wombats', 'dingos', 'kangaroos', 'wallabees', 'koala']\n",
    "print(aus_animals[1])\n",
    "print(type(aus_animals[1]))"
   ]
  },
  {
   "cell_type": "markdown",
   "id": "888e812e-5c1c-4aef-a6ba-ad7a58b12fe3",
   "metadata": {},
   "source": [
    "Yes, a string! So we can call string methods on the item using it's index in a list"
   ]
  },
  {
   "cell_type": "code",
   "execution_count": 25,
   "id": "130b4f17-d2c3-42e4-9b86-da576f245042",
   "metadata": {},
   "outputs": [
    {
     "name": "stdout",
     "output_type": "stream",
     "text": [
      "Dingos\n",
      "Kangaroos\n"
     ]
    }
   ],
   "source": [
    "#8 Run this example please:\n",
    "print(aus_animals[1].capitalize())\n",
    "print(aus_animals[2].title())\n",
    "      "
   ]
  },
  {
   "cell_type": "markdown",
   "id": "8bc99cb9-b380-4ef2-880b-5ec08749822b",
   "metadata": {},
   "source": [
    "Let's say we wanted to make all of the countries in our un_sc variable all caps. One way to do it is like this:\n",
    "   \n",
    "un_sc = ['china', 'france', 'russia', 'united states of america','united kingdom']\n",
    "\n",
    "# Use indexing to convert each element to uppercase\n",
    "un_sc[0] = un_sc[0].upper()\n",
    "\n",
    "un_sc[1] = un_sc[1].upper()\n",
    "\n",
    "un_sc[2] = un_sc[2].upper()\n",
    "\n",
    "un_sc[3] = un_sc[3].upper(\n",
    "un_sc[4] = un_sc[4].upper()\n",
    "\n",
    "print(un_sc)\n"
   ]
  },
  {
   "cell_type": "markdown",
   "id": "626000af-545a-457f-80fd-659150f9aaf9",
   "metadata": {},
   "source": [
    "## For loop with lists\n",
    "This is where our for loop could come in handy. A faster way is to automate the uppercase method, taking each element in the list and applying the upper method to it (iterating through the list) and then saving the new uppercase country to a new list. "
   ]
  },
  {
   "cell_type": "code",
   "execution_count": null,
   "id": "0e758e1c-4271-4394-b2a6-aa78f3167ce6",
   "metadata": {},
   "outputs": [],
   "source": [
    "#Let's iterate through the list and print the results making each element uppercase"
   ]
  },
  {
   "cell_type": "code",
   "execution_count": 28,
   "id": "765d2f71-02e8-468e-9ab6-e8d3a580e8a1",
   "metadata": {},
   "outputs": [
    {
     "name": "stdout",
     "output_type": "stream",
     "text": [
      "CHINA\n",
      "FRANCE\n",
      "RUSSIA\n",
      "UNITED STATES OF AMERICA\n",
      "UNITED KINGDOM\n"
     ]
    }
   ],
   "source": [
    "#9. Run this please:\n",
    "un_sc = ['china', 'france', 'russia', 'united states of america','united kingdom']\n",
    "for country in un_sc:\n",
    "    print(country.upper())"
   ]
  },
  {
   "cell_type": "code",
   "execution_count": null,
   "id": "6239fb62-87fc-456c-a0f9-ea8927fc1931",
   "metadata": {},
   "outputs": [],
   "source": [
    "10. What would happen if I printed un_sc? Have you changed this list?"
   ]
  },
  {
   "cell_type": "code",
   "execution_count": 30,
   "id": "14425391-539c-47aa-b2a0-32f89e697205",
   "metadata": {},
   "outputs": [
    {
     "name": "stdout",
     "output_type": "stream",
     "text": [
      "CHINA\n",
      "FRANCE\n",
      "RUSSIA\n",
      "UNITED STATES OF AMERICA\n",
      "UNITED KINGDOM\n",
      "['china', 'france', 'russia', 'united states of america', 'united kingdom']\n"
     ]
    }
   ],
   "source": [
    "#Your answer here using sentences: No, you haven't changed this list. The variable \"un_sc\" is still assigned to the original list.\n",
    "un_sc = ['china', 'france', 'russia', 'united states of america','united kingdom']\n",
    "for country in un_sc:\n",
    "    print(country.upper())\n",
    "print(un_sc)"
   ]
  },
  {
   "cell_type": "markdown",
   "id": "44df7380-045a-401d-88cb-dc9d37a3751b",
   "metadata": {},
   "source": [
    "You may be wondering...can I just do it this way\n"
   ]
  },
  {
   "cell_type": "code",
   "execution_count": 32,
   "id": "2a26ffb6-e563-4a7c-8d4f-f2298195327c",
   "metadata": {},
   "outputs": [
    {
     "name": "stdout",
     "output_type": "stream",
     "text": [
      "['china', 'france', 'russia', 'united states of america', 'united kingdom']\n"
     ]
    }
   ],
   "source": [
    "un_sc = ['china', 'france', 'russia', 'united states of america','united kingdom']\n",
    "for country in un_sc:\n",
    "    country.upper()\n",
    "print(un_sc)"
   ]
  },
  {
   "cell_type": "markdown",
   "id": "df604858-5eab-406e-88bd-1faffe1acb17",
   "metadata": {},
   "source": [
    "11. What did the previous code produce? Why? Your answer here using sentences:\n",
    "As above, the variable is still assigned to the original list. So printing un_sc still produces the same list, NOT in all caps."
   ]
  },
  {
   "cell_type": "markdown",
   "id": "7ac4579f-8e91-4de9-881e-49e5c42c4eb6",
   "metadata": {},
   "source": [
    "How about this way (below)? Will this work?"
   ]
  },
  {
   "cell_type": "code",
   "execution_count": 34,
   "id": "f0fb6702-a32d-41b8-9d54-777e40d69e4e",
   "metadata": {},
   "outputs": [
    {
     "name": "stdout",
     "output_type": "stream",
     "text": [
      "UNITED KINGDOM\n"
     ]
    }
   ],
   "source": [
    "un_sc = ['china', 'france', 'russia', 'united states of america','united kingdom']\n",
    "for country in un_sc:\n",
    "    un_sc_upper = country.upper()\n",
    "print(un_sc_upper)"
   ]
  },
  {
   "cell_type": "markdown",
   "id": "907c046e-0277-486f-bbb0-8bde6557e4d8",
   "metadata": {},
   "source": [
    "12. What result does the previous cell return? Why didn't it make each element in un_sc uppercase? Your answer here:\n",
    "It only returns UNITED KINGDOM. It does this because this code only stores the last value, meaning the remaining countries are not saved."
   ]
  },
  {
   "cell_type": "markdown",
   "id": "d62a61c5-df13-4096-8889-22e610413cf2",
   "metadata": {},
   "source": [
    "## Correct Way to Iterate and Make a New List: Make an Empty List and \"Append\" to it! "
   ]
  },
  {
   "cell_type": "code",
   "execution_count": 36,
   "id": "9a399102-fabe-4e9c-a6f5-b4dbc3466862",
   "metadata": {},
   "outputs": [
    {
     "name": "stdout",
     "output_type": "stream",
     "text": [
      "['CHINA', 'FRANCE', 'RUSSIA', 'UNITED STATES OF AMERICA', 'UNITED KINGDOM']\n"
     ]
    }
   ],
   "source": [
    "# 13, Run this please\n",
    "#first initialize and empty list\n",
    "un_sc_upper = []\n",
    "\n",
    "#then iterate through the list, then make each element an uppercase and add it (append it) to the empty list.\n",
    "\n",
    "un_sc = ['china', 'france', 'russia', 'united states of america','united kingdom']\n",
    "for country in un_sc:\n",
    "    un_sc_upper.append(country.upper())\n",
    "\n",
    "print(un_sc_upper)\n"
   ]
  },
  {
   "cell_type": "markdown",
   "id": "3aa34855-29f3-49d2-959d-0ea3f0b460f1",
   "metadata": {},
   "source": [
    "## What if I wanted to only grab certain countries that stated with 'u'? We can use a conditional and the append method"
   ]
  },
  {
   "cell_type": "markdown",
   "id": "596eb5f1-9cf7-4891-a9c2-b5b758fbb579",
   "metadata": {},
   "source": [
    "#14. Create a for loop. Using an if, else construction in your for loop, append countries to a list called 'u_countries' and append the rest of the countries to a list called 'non_u_countries'."
   ]
  },
  {
   "cell_type": "code",
   "execution_count": 38,
   "id": "86fda968-8120-4646-8f26-b7087e8dbdf6",
   "metadata": {},
   "outputs": [
    {
     "name": "stdout",
     "output_type": "stream",
     "text": [
      "['united states of america', 'united kingdom']\n",
      "['china', 'france', 'russia']\n"
     ]
    }
   ],
   "source": [
    "#Your code here:\n",
    "u_countries = []\n",
    "non_u_countries = []\n",
    "un_sc = ['china', 'france', 'russia', 'united states of america', 'united kingdom']\n",
    "for country in un_sc:\n",
    "    if country.startswith(\"u\"):\n",
    "        u_countries.append(country)\n",
    "    else:\n",
    "        non_u_countries.append(country)\n",
    "print(u_countries)\n",
    "print(non_u_countries)"
   ]
  },
  {
   "cell_type": "markdown",
   "id": "47176073-aedd-45f8-8ca3-a41d7260fa34",
   "metadata": {},
   "source": [
    "## Adding to a list\n",
    "We can also use append to add an element to a list. For example, let's say we wanted to add Josh to our list of students.\n"
   ]
  },
  {
   "cell_type": "code",
   "execution_count": 40,
   "id": "9a5b6d4f-0651-4ba6-b3bc-25b4302129f9",
   "metadata": {},
   "outputs": [
    {
     "name": "stdout",
     "output_type": "stream",
     "text": [
      "['Austin', 'Deven', 'Chris', 'Oliver', 'Nancy', 'Dana', 'Shreya', 'Josh']\n"
     ]
    }
   ],
   "source": [
    "15. #Please run the following code:\n",
    "students = list(('Austin', 'Deven', 'Chris', 'Oliver', 'Nancy', 'Dana', 'Shreya'))\n",
    "students.append('Josh')\n",
    "print(students)"
   ]
  },
  {
   "cell_type": "markdown",
   "id": "5bdbe5cd-89af-45ad-b3a5-8b74d5dfa5d4",
   "metadata": {},
   "source": [
    "What if we wanted to add several students to our list? We use the extend method! "
   ]
  },
  {
   "cell_type": "code",
   "execution_count": 42,
   "id": "8613b4af-3064-44cb-bec9-866eb44343a6",
   "metadata": {},
   "outputs": [
    {
     "ename": "TypeError",
     "evalue": "list.append() takes exactly one argument (2 given)",
     "output_type": "error",
     "traceback": [
      "\u001b[1;31m---------------------------------------------------------------------------\u001b[0m",
      "\u001b[1;31mTypeError\u001b[0m                                 Traceback (most recent call last)",
      "Cell \u001b[1;32mIn[42], line 3\u001b[0m\n\u001b[0;32m      1\u001b[0m \u001b[38;5;66;03m#16. Will this work? Please run this code:\u001b[39;00m\n\u001b[0;32m      2\u001b[0m students \u001b[38;5;241m=\u001b[39m \u001b[38;5;28mlist\u001b[39m((\u001b[38;5;124m'\u001b[39m\u001b[38;5;124mAustin\u001b[39m\u001b[38;5;124m'\u001b[39m, \u001b[38;5;124m'\u001b[39m\u001b[38;5;124mDeven\u001b[39m\u001b[38;5;124m'\u001b[39m, \u001b[38;5;124m'\u001b[39m\u001b[38;5;124mChris\u001b[39m\u001b[38;5;124m'\u001b[39m, \u001b[38;5;124m'\u001b[39m\u001b[38;5;124mOliver\u001b[39m\u001b[38;5;124m'\u001b[39m, \u001b[38;5;124m'\u001b[39m\u001b[38;5;124mNancy\u001b[39m\u001b[38;5;124m'\u001b[39m, \u001b[38;5;124m'\u001b[39m\u001b[38;5;124mDana\u001b[39m\u001b[38;5;124m'\u001b[39m, \u001b[38;5;124m'\u001b[39m\u001b[38;5;124mShreya\u001b[39m\u001b[38;5;124m'\u001b[39m))\n\u001b[1;32m----> 3\u001b[0m students\u001b[38;5;241m.\u001b[39mappend(\u001b[38;5;124m'\u001b[39m\u001b[38;5;124mDidace\u001b[39m\u001b[38;5;124m'\u001b[39m, \u001b[38;5;124m'\u001b[39m\u001b[38;5;124mJennifer\u001b[39m\u001b[38;5;124m'\u001b[39m)\n\u001b[0;32m      4\u001b[0m \u001b[38;5;28mprint\u001b[39m(students)\n",
      "\u001b[1;31mTypeError\u001b[0m: list.append() takes exactly one argument (2 given)"
     ]
    }
   ],
   "source": [
    "#16. Will this work? Please run this code:\n",
    "students = list(('Austin', 'Deven', 'Chris', 'Oliver', 'Nancy', 'Dana', 'Shreya'))\n",
    "students.append('Didace', 'Jennifer')\n",
    "print(students)"
   ]
  },
  {
   "cell_type": "markdown",
   "id": "7f94cf22-824b-4af2-88ab-064fe7b2ba34",
   "metadata": {},
   "source": [
    "#What error did this return? How do interpret it? Your answer here:\n",
    "It says that list.append() only takes one argument, but we gave two ('Didace' and 'Jennifer'). We need a different function (not .append)."
   ]
  },
  {
   "cell_type": "code",
   "execution_count": 44,
   "id": "86914d45-eceb-4176-8610-699c49a36644",
   "metadata": {},
   "outputs": [
    {
     "name": "stdout",
     "output_type": "stream",
     "text": [
      "['Austin', 'Deven', 'Chris', 'Oliver', 'Nancy', 'Dana', 'Shreya', 'Didace', 'Jennifer']\n"
     ]
    }
   ],
   "source": [
    "#17. Extend works. But we must pass multiple elements to the extend function as a list.\n",
    "#Please run this code and make sure it works.\n",
    "students = list(('Austin', 'Deven', 'Chris', 'Oliver', 'Nancy', 'Dana', 'Shreya'))\n",
    "students.extend(['Didace', 'Jennifer'])\n",
    "print(students)"
   ]
  },
  {
   "cell_type": "code",
   "execution_count": 46,
   "id": "e8c3f9da-e3d1-4d94-86e9-7119f7b7e051",
   "metadata": {},
   "outputs": [
    {
     "name": "stdout",
     "output_type": "stream",
     "text": [
      "['Austin', 'Chris', 'Oliver', 'Nancy', 'Dana', 'Shreya', 'Anoushka', 'Aishwarya', 'E', 'v', 'e']\n"
     ]
    }
   ],
   "source": [
    "#18. Extend can be used to add a list of elelments, a tuple(tuple...we will get to it!) of elements and even a string.\n",
    "# Please read this code and run it.\n",
    "\n",
    "#Initial list of students\n",
    "students = ['Austin', 'Chris', 'Oliver', 'Nancy']\n",
    "\n",
    "# Extending the list with another list\n",
    "new_students_list = ['Dana', 'Shreya']\n",
    "students.extend(new_students_list)\n",
    "\n",
    "# Extending the list with a tuple\n",
    "new_students_tuple = ('Anoushka', 'Aishwarya')\n",
    "students.extend(new_students_tuple)\n",
    "\n",
    "# Extending the list with a string (each character will be added as a separate element)\n",
    "new_students_string = \"Eve\"\n",
    "students.extend(new_students_string)\n",
    "\n",
    "# Final list\n",
    "print(students)\n",
    "\n"
   ]
  },
  {
   "cell_type": "markdown",
   "id": "7af48828-32c8-40f8-abd6-0d94c15b406a",
   "metadata": {},
   "source": [
    "## What's a Tuple?\n",
    "\n",
    "A tuple in Python is an immutable, ordered collection of elements, similar to a list. However, unlike lists, tuples cannot be modified after they are created, meaning you cannot add, remove, or change elements once the tuple is defined.\n",
    "\n",
    "Key Characteristics of Tuples:\n",
    "\n",
    "Ordered: The elements in a tuple are ordered, and you can access them using an index (just like in lists).\n",
    "\n",
    "Immutable: Once a tuple is created, its contents cannot be changed (i.e., no adding, removing, or changing elements). But as we saw above, a tuple can be added to a list. \n",
    "\n",
    "Can contain mixed data types: A tuple can hold elements of different types, such as integers, strings, floats, and even other tuples or lists.\n",
    "\n",
    "Indexable and iterable: You can access elements using an index and iterate over the elements using a loop.\n",
    "\n",
    "Allows duplicates: Tuples can contain duplicate elements, just like lists"
   ]
  },
  {
   "cell_type": "markdown",
   "id": "8a7b3d9c-68ce-4fe0-bd72-b1517610cd1c",
   "metadata": {},
   "source": [
    "### Creating a Tuple:\n",
    "Tuples are created by enclosing the elements inside parentheses () and separating them by commas."
   ]
  },
  {
   "cell_type": "code",
   "execution_count": 48,
   "id": "0a225643-190e-4228-b20f-f42188e1c92f",
   "metadata": {},
   "outputs": [
    {
     "name": "stdout",
     "output_type": "stream",
     "text": [
      "(1, 'apple', 3.14, 'banana')\n",
      "apple\n"
     ]
    }
   ],
   "source": [
    "# Creating a tuple with mixed data types\n",
    "my_tuple = (1, 'apple', 3.14, 'banana')\n",
    "\n",
    "print(my_tuple)       # Output: (1, 'apple', 3.14, 'banana')\n",
    "print(my_tuple[1])    # Output: 'apple'\n"
   ]
  },
  {
   "cell_type": "code",
   "execution_count": 52,
   "id": "09c1f7a0-563f-42df-80e7-79b017183a25",
   "metadata": {},
   "outputs": [
    {
     "name": "stdout",
     "output_type": "stream",
     "text": [
      "['Bach', 'Joplin', 'Debussy', 'Isang', 'Rachmaninoff']\n"
     ]
    }
   ],
   "source": [
    "## Okay back to lists: other ways to add elements.\n",
    "#Please run this code\n",
    "\n",
    "composers = []\n",
    "composers.append('Bach')\n",
    "composers.append('Joplin')\n",
    "composers.append('Debussy')\n",
    "composers.append('Isang')\n",
    "composers.append('Rachmaninoff')\n",
    "print(composers)\n"
   ]
  },
  {
   "cell_type": "code",
   "execution_count": null,
   "id": "ebce7cd4-6f86-4dba-a3b5-f9f38166f02b",
   "metadata": {},
   "outputs": [],
   "source": [
    "#What if I wanted to add a composer to the list but not at the end? Insert takes two arguments, index position, and element.\n"
   ]
  },
  {
   "cell_type": "code",
   "execution_count": 54,
   "id": "72a88e42-de57-462e-9b9f-c357f3d66b7c",
   "metadata": {},
   "outputs": [
    {
     "name": "stdout",
     "output_type": "stream",
     "text": [
      "['Bach', 'Joplin', 'Bhoi', 'Debussy', 'Isang', 'Rachmaninoff']\n"
     ]
    }
   ],
   "source": [
    "#19. Please run this code\n",
    "\n",
    "composers.insert(2, 'Bhoi')\n",
    "print(composers)"
   ]
  },
  {
   "cell_type": "code",
   "execution_count": 64,
   "id": "b41cfbb6-f9d5-4639-9fdf-5a70044247c0",
   "metadata": {},
   "outputs": [
    {
     "name": "stdout",
     "output_type": "stream",
     "text": [
      "['Bach', 'Dikshitar', 'Joplin', 'Saz', 'Debussy', 'Isang', 'Rachmaninoff']\n"
     ]
    }
   ],
   "source": [
    "#20. Can you insert more than one element at a time?\n",
    "#Please insert Dikshitar in position 1 and Saz in position 3 to your composer list in position.\n",
    "# Your answer yes or no to the first question. And write code here: Yes you can!\n",
    "composers = []\n",
    "composers.append('Bach')\n",
    "composers.append('Joplin')\n",
    "composers.append('Debussy')\n",
    "composers.append('Isang')\n",
    "composers.append('Rachmaninoff')\n",
    "composers.insert(1, 'Dikshitar')\n",
    "composers.insert(3, 'Saz')\n",
    "print(composers)"
   ]
  },
  {
   "cell_type": "markdown",
   "id": "bb801ad1-574d-4560-a477-5930b3bf8d94",
   "metadata": {},
   "source": [
    "## Sort the previous list alphabetically: Sort and Sorted!\n",
    "The primary difference between the list sort() and the sorted () function is that the sort() function will modifu the list it is called on. The sorted() function will create a new list containing a sorted version of the list it is given. The sorted() function will not modify the list passed as a parameter. If you want to sort a list but still have the original unsorted version, then you would use the sorted() funciton. If maintaing the orifinal order of the lis tis unimportant, then you can call the sort () function on the list."
   ]
  },
  {
   "cell_type": "code",
   "execution_count": 66,
   "id": "da55bbb8-7288-4361-a322-00183db7b66d",
   "metadata": {},
   "outputs": [
    {
     "name": "stdout",
     "output_type": "stream",
     "text": [
      "['Bach', 'Debussy', 'Dikshitar', 'Isang', 'Joplin', 'Rachmaninoff', 'Saz']\n",
      "['Bach', 'Dikshitar', 'Joplin', 'Saz', 'Debussy', 'Isang', 'Rachmaninoff']\n"
     ]
    }
   ],
   "source": [
    "#21. Please run this code:\n",
    "sorted_composers = sorted(composers)\n",
    "print(sorted_composers)\n",
    "print(composers)\n",
    "#note we have done nothing to alter our first list."
   ]
  },
  {
   "cell_type": "code",
   "execution_count": 68,
   "id": "989b5f5f-be03-45c2-a5bd-f84557e4c95d",
   "metadata": {},
   "outputs": [
    {
     "name": "stdout",
     "output_type": "stream",
     "text": [
      "['Bach', 'Debussy', 'Dikshitar', 'Isang', 'Joplin', 'Rachmaninoff', 'Saz']\n"
     ]
    }
   ],
   "source": [
    "#22. Please run this code:\n",
    "composers.sort()\n",
    "#Will permanently alter the order of your list\n",
    "print(composers)"
   ]
  },
  {
   "cell_type": "code",
   "execution_count": 84,
   "id": "b11fd2b7-5dcf-470f-a8c0-ec6b8de29be2",
   "metadata": {},
   "outputs": [
    {
     "name": "stdout",
     "output_type": "stream",
     "text": [
      "[496, 665, 513, 603, 221, 497, 641, 406, 607, 175, 396, 28, 973, 940, 801, 26, 625, 418, 921, 159, 527, 211, 368, 838, 118, 571, 344, 591, 346, 229, 372, 70, 142, 108, 675, 230, 382, 777, 266, 18, 756, 380, 177, 238, 294, 19, 719, 224, 370, 465, 82, 892, 793, 293, 557, 130, 757, 94, 723, 464, 639, 202, 117, 237, 449, 972, 833, 316, 193, 190, 462, 702, 797, 50, 392, 930, 900, 958, 49, 952, 931, 179, 981, 920, 883, 785, 650, 912, 425, 715, 729, 588, 14, 220, 402, 319, 918, 504, 822, 996, 365, 966, 961, 528, 369, 288, 445, 572, 602, 256, 11, 102, 84, 274, 322, 301, 275, 436, 899, 672, 645, 44, 458, 613, 88, 123, 63, 552, 444, 234, 20, 79, 98, 732, 808, 747, 124, 632, 377, 601, 881, 203, 106, 661, 305, 375, 391, 481, 329, 488, 556, 731, 950, 534, 302, 737, 690, 636, 684, 181, 36, 597, 824, 258, 471, 810, 390, 760, 907, 977, 110, 709, 403, 439, 463, 895, 847, 820, 575, 309, 606, 398, 16, 541, 169, 567, 198, 209, 476, 935, 479, 178, 776, 93, 262, 154, 233, 48, 558, 848, 58, 167, 331, 303, 71, 580, 544, 297, 75, 312, 435, 759, 655, 376, 677, 774, 340, 315, 691, 432, 942, 608, 790, 386, 486, 450, 172, 662, 478, 15, 909, 733, 339, 609, 753, 268, 413, 798, 438, 46, 720, 279, 827, 357, 539, 495, 428, 389, 424, 273]\n",
      "[90, 6, 72, 54, 18, 32, 92, 51, 78, 10, 14, 7, 33, 61, 11, 48, 20, 77, 62, 82, 50, 64, 9, 60, 94, 84, 95, 44, 19, 65, 30, 26, 4, 49, 36, 85, 22]\n"
     ]
    }
   ],
   "source": [
    "#23. Please create a new list of numbers, but do not change the original list. Please first, \n",
    "#print the numbers to confirm the code to generate them worked.\n",
    "import random\n",
    "# this line of code allows me to create a 250 long list of random numbers between 10 and 1000.\n",
    "numbers = random.sample(range(10,1000), 250)\n",
    "print(numbers)\n",
    "#Your code here:\n",
    "import random\n",
    "my_numbers = random.sample(range(1,100), 37)\n",
    "print(my_numbers)"
   ]
  },
  {
   "cell_type": "code",
   "execution_count": 90,
   "id": "667ae8f2-2e90-430e-9305-2f3559cb0ef7",
   "metadata": {},
   "outputs": [
    {
     "data": {
      "text/plain": [
       "37"
      ]
     },
     "execution_count": 90,
     "metadata": {},
     "output_type": "execute_result"
    }
   ],
   "source": [
    "#24. How long is the list?\n",
    "#Your code here:\n",
    "len(my_numbers)"
   ]
  },
  {
   "cell_type": "code",
   "execution_count": 98,
   "id": "0190f9f7-6e46-45e7-b91d-c75369f8633f",
   "metadata": {},
   "outputs": [
    {
     "name": "stdout",
     "output_type": "stream",
     "text": [
      "[4, 6, 7, 9, 10, 11, 14, 18, 19, 20, 22, 26, 30, 32, 33, 36, 44, 48, 49, 50, 51, 54, 60, 61, 62, 64, 65, 72, 77, 78, 82, 84, 85, 90, 92, 94, 95]\n",
      "[95, 94, 92, 90, 85, 84, 82, 78, 77, 72, 65, 64, 62, 61, 60, 54, 51, 50, 49, 48, 44, 36, 33, 32, 30, 26, 22, 20, 19, 18, 14, 11, 10, 9, 7, 6, 4]\n"
     ]
    }
   ],
   "source": [
    "#25. Now reverse your list\n",
    "#Your code here:\n",
    "my_numbers.sort()\n",
    "print(my_numbers)\n",
    "my_numbers.reverse()\n",
    "print(my_numbers)"
   ]
  },
  {
   "cell_type": "markdown",
   "id": "87fbe068-21a8-4f11-8a95-35d8223ac65e",
   "metadata": {},
   "source": [
    "## We learned to add elements, let's talk about how to get rid of them. There are three ways.\n",
    "1. del (by index)\n",
    "\n",
    "2. pop(last item)\n",
    "\n",
    "3. remove(by item name)"
   ]
  },
  {
   "cell_type": "code",
   "execution_count": 106,
   "id": "1a86cb5b-b747-4690-a2e9-215350ddd711",
   "metadata": {},
   "outputs": [
    {
     "name": "stdout",
     "output_type": "stream",
     "text": [
      "['china', 'france', 'united states', 'united kingdom']\n",
      "['china', 'france', 'united states']\n",
      "['france', 'united states']\n"
     ]
    }
   ],
   "source": [
    "#26. Please give an example of each of these techniques.\n",
    "#Your code here:\n",
    "\n",
    "#del\n",
    "un_sc = ['china', 'russia', 'france', 'united states', 'united kingdom']\n",
    "del un_sc[1]\n",
    "print(un_sc)\n",
    "\n",
    "#pop\n",
    "un_sc.pop()\n",
    "print(un_sc)\n",
    "\n",
    "#remove\n",
    "un_sc.remove('china')\n",
    "print(un_sc)"
   ]
  },
  {
   "cell_type": "markdown",
   "id": "f6583e7c-488a-4ec4-8118-2198b03614fd",
   "metadata": {},
   "source": [
    "## Accessing and Changing elements:\n",
    "\n"
   ]
  },
  {
   "cell_type": "code",
   "execution_count": 108,
   "id": "28d79baf-14c2-42dc-82ad-77c94674708e",
   "metadata": {},
   "outputs": [
    {
     "name": "stdout",
     "output_type": "stream",
     "text": [
      "Austin\n"
     ]
    }
   ],
   "source": [
    "#Accessing the first element in the list:\n",
    "students = ['Austin', 'Chris', 'Oliver', 'Nancy']\n",
    "first_student = students[0]\n",
    "print(first_student)"
   ]
  },
  {
   "cell_type": "code",
   "execution_count": 7,
   "id": "246dcf07-3661-4831-b5e3-cc9d68625592",
   "metadata": {},
   "outputs": [
    {
     "name": "stdout",
     "output_type": "stream",
     "text": [
      "['Austin', 'Chris', 'Oliver', 'Dana']\n"
     ]
    }
   ],
   "source": [
    "students = ['Austin', 'Chris', 'Oliver', 'Nancy']\n",
    "#Please change Dana for Nancy. Before you go to ChatGPT, think about it. Nancy is in index position 3. \n",
    "#Can you just make index postion three of this variable equal to Dana, rather than Nancy?\n",
    "\n",
    "#Your code here:\n",
    "students.pop()\n",
    "students.insert(3, 'Dana')\n",
    "print(students)\n"
   ]
  },
  {
   "cell_type": "code",
   "execution_count": 11,
   "id": "13d98550-9b32-4ebd-bf24-43a06da6be63",
   "metadata": {},
   "outputs": [
    {
     "name": "stdout",
     "output_type": "stream",
     "text": [
      "['Austin', 'Chris', 'Oliver', 'Dana']\n"
     ]
    }
   ],
   "source": [
    "#Or this:\n",
    "students = ['Austin', 'Chris', 'Oliver', 'Nancy']\n",
    "students[3] = 'Dana'\n",
    "print(students)"
   ]
  },
  {
   "cell_type": "markdown",
   "id": "642400aa-97bc-4c6d-84c1-b3a885b99478",
   "metadata": {},
   "source": [
    " ## Slicing lists\n",
    "You can slice lists, just like you slice strings, by index.\n"
   ]
  },
  {
   "cell_type": "code",
   "execution_count": 17,
   "id": "f91a218e-24cc-478f-9d4f-004ebfd46061",
   "metadata": {},
   "outputs": [
    {
     "name": "stdout",
     "output_type": "stream",
     "text": [
      "['Bhoi', 'Debussy', 'Isang']\n"
     ]
    }
   ],
   "source": [
    "#28.\n",
    "composers =['Bach', 'Joplin', 'Bhoi', 'Debussy', 'Isang', 'Rachmaninoff']\n",
    "#please slice this list to get a sublist containing Bhoi, Debussy, and Isang and assign it to a variable called 'sublist'\n",
    "#Your code here:\n",
    "sublist = composers[2:5]\n",
    "print(sublist)\n"
   ]
  },
  {
   "cell_type": "code",
   "execution_count": 19,
   "id": "daf4f7ed-62cf-4f05-93fa-c8396c648d88",
   "metadata": {},
   "outputs": [
    {
     "name": "stdout",
     "output_type": "stream",
     "text": [
      "['Austin', 'Deven', 'Chris', 'Oliver', 'Nancy']\n"
     ]
    }
   ],
   "source": [
    "#29. Please give me everything from the beginning to the fourth item using slicing\n",
    "python_students = ['Austin', 'Deven', 'Chris', 'Oliver', 'Nancy', 'Dana', 'Shreya', 'Didace', 'Jennifer']\n",
    "#your code here:\n",
    "sublist = python_students[:5]\n",
    "print(sublist)"
   ]
  },
  {
   "cell_type": "code",
   "execution_count": 21,
   "id": "696215f5-cf95-4012-ac71-3dff02bad1ae",
   "metadata": {
    "jp-MarkdownHeadingCollapsed": true
   },
   "outputs": [
    {
     "name": "stdout",
     "output_type": "stream",
     "text": [
      "['Dana', 'Shreya', 'Didace', 'Jennifer']\n"
     ]
    }
   ],
   "source": [
    "#30.Please give me everything from the fifth item to the end:\n",
    "python_students = ['Austin', 'Deven', 'Chris', 'Oliver', 'Nancy', 'Dana', 'Shreya', 'Didace', 'Jennifer']\n",
    "#Your code here:\n",
    "sublist = python_students[5:]\n",
    "print(sublist)"
   ]
  },
  {
   "cell_type": "markdown",
   "id": "5bda7e5c-c113-45f7-a767-49e97d22cccc",
   "metadata": {},
   "source": [
    "31.## Hacking Problem\n",
    "The technique of trying every possible password to gain access to a password restricted website is called a brute-force attack. Loops, both for and while, make this very easy. This is part of the reason why a fairly unsophisticated hacker can still be successful.\n",
    "\n",
    "Naughty people buy lists of passwords on the dark web and then use brute-force attacks to try to gain access to places they shouldn't be wandering. They often pay for their illicit purchases in bitcoin.\n",
    "\n",
    "In order to fight wrongdoing, we must imagine the world from their perspective. Some never come back. Others are guided by strong core principles and understand right and wrong.\n",
    "\n",
    "You are a hacker and have a budget of 3,200 Cape Verde Escudo to buy user passwords. On the AlphaBay Market on the dark web each password sells for .0008 BTC . Write a script that converts Escudo (based on current exchange rate) to dollars, and then dollars to bitcoin. Then output the number of passwords that you are able to buy.\n"
   ]
  },
  {
   "cell_type": "code",
   "execution_count": 33,
   "id": "0c1af207-6e5b-4667-8ad9-84a3b0de306a",
   "metadata": {},
   "outputs": [
    {
     "name": "stdout",
     "output_type": "stream",
     "text": [
      "0.0\n"
     ]
    }
   ],
   "source": [
    "#31a.Your code here:\n",
    "escudo_total = 3200\n",
    "escudo_to_usd = 0.01009\n",
    "usd_to_btc = 0.00002\n",
    "password_price = 0.0008\n",
    "usd_amount = escudo_total * escudo_to_usd\n",
    "btc_amount = usd_amount * usd_to_btc\n",
    "password_amount = btc_amount // password_price\n",
    "print(password_amount)"
   ]
  },
  {
   "cell_type": "markdown",
   "id": "200f5c4f-b6d7-407b-a4f9-030473c310ba",
   "metadata": {},
   "source": [
    "Okay, you are off to a very naughty start.\n",
    "\n",
    "The vendor was generous and gave you more passwords than you could afford. Write a script that calculates how many passwords you got for free in Cape Verde Escudo.\n",
    "\n",
    "Passwords received: (please ignore italics as markdown interprets characters as commands. double click on markdown cell to access unaltered passwords)\n",
    "\n",
    "3asdad, letmein@!, qwerty, abc123, trustno1, Ilovesandy, !!@@###123, pl,mjytce!, p@s\n",
    "lf, 1q2w3e4r, letmein, iloveyou, password1, 1qaz2wsx, qazwsx, 12345, johnsp@ssw0rd, meandmymonkey, xboksrools, qwertyuiop, 77777, 888888, zaq1zaq1, 123qwe, excaliburr!, girlsrule!, @cce$$granted, iRulE!, pewdepieftw1, wtFstfUP, admin, master, sunshinesuzy, bobbyluvsdaBears!,qwertyuiop, w_uts_up, n0uger, aiden123, william123, sally123, pirsquareD, d0nutTreadonme, weedmn, MakeUSgr8, USA#1, FokiSiS, Footbahl, 2#22#1985, 11111, Dodgethis"
   ]
  },
  {
   "cell_type": "code",
   "execution_count": 45,
   "id": "c1bde4e7-52b7-475d-a830-02daeae23081",
   "metadata": {},
   "outputs": [
    {
     "name": "stdout",
     "output_type": "stream",
     "text": [
      "50\n"
     ]
    }
   ],
   "source": [
    "#31b. Your code here: Unless I got something wrong, I couldn't afford any passwords, so all of the above passwords I got for free.\n",
    "passwords_received = ['3asdad', 'letmein@!', 'qwerty', 'abc123', 'trustno1', 'Ilovesandy', '!!@@###123', 'pl,mjytce!', 'p@slf', '1q2w3e4r', 'letmein', 'iloveyou', 'password1', '1qaz2wsx', 'qazwsx', '12345', 'johnsp@ssw0rd', 'meandmymonkey', 'xboksrools', 'qwertyuiop', '77777', '888888', 'zaq1zaq1', '123qwe', 'excaliburr!', 'girlsrule!', '@cce$$granted', 'iRulE!', 'pewdepieftw1', 'wtFstfUP', 'admin', 'master', 'sunshinesuzy', 'bobbyluvsdaBears!', 'qwertyuiop', 'w_uts_up', 'n0uger', 'aiden123', 'william123', 'sally123', 'pirsquareD', 'd0nutTreadonme', 'weedmn', 'MakeUSgr8', 'USA#1', 'FokiSiS', 'Footbahl', '2#22#1985', '11111', 'Dodgethis']\n",
    "free_passwords = int(len(passwords_received)) - int(password_amount)\n",
    "print(free_passwords)"
   ]
  },
  {
   "cell_type": "markdown",
   "id": "880fc409-aec8-49d5-8500-8b55d8ce034b",
   "metadata": {},
   "source": [
    "Now you have some passwords that you can use to attempt a brute-force attack on a password protected account. Write a script that demonstrates how a brute force attack might work.\n",
    "\n",
    "For the sake of this exercise, assume the user's password is: 1qaz2wsx\n",
    "\n",
    "Your script should evaluate each one of the possible passwords. Output- \"No, try again\" when you hit a wrong password, and \"You're in!\" when you get it right. When you get it right, the script should stop running. This script should be automated so that it tries each password without you needing to enter it manually."
   ]
  },
  {
   "cell_type": "code",
   "execution_count": 51,
   "id": "07158754-4656-4894-841a-5c16137ac415",
   "metadata": {},
   "outputs": [
    {
     "name": "stdout",
     "output_type": "stream",
     "text": [
      "No, try again.\n",
      "No, try again.\n",
      "No, try again.\n",
      "No, try again.\n",
      "No, try again.\n",
      "No, try again.\n",
      "No, try again.\n",
      "No, try again.\n",
      "No, try again.\n",
      "No, try again.\n",
      "No, try again.\n",
      "No, try again.\n",
      "No, try again.\n",
      "You're in!\n"
     ]
    }
   ],
   "source": [
    "#31c. Your code here:\n",
    "my_passwords = ['3asdad', 'letmein@!', 'qwerty', 'abc123', 'trustno1', 'Ilovesandy', '!!@@###123', 'pl,mjytce!', 'p@slf', '1q2w3e4r', 'letmein', 'iloveyou', 'password1', '1qaz2wsx', 'qazwsx', '12345', 'johnsp@ssw0rd', 'meandmymonkey', 'xboksrools', 'qwertyuiop', '77777', '888888', 'zaq1zaq1', '123qwe', 'excaliburr!', 'girlsrule!', '@cce$$granted', 'iRulE!', 'pewdepieftw1', 'wtFstfUP', 'admin', 'master', 'sunshinesuzy', 'bobbyluvsdaBears!', 'qwertyuiop', 'w_uts_up', 'n0uger', 'aiden123', 'william123', 'sally123', 'pirsquareD', 'd0nutTreadonme', 'weedmn', 'MakeUSgr8', 'USA#1', 'FokiSiS', 'Footbahl', '2#22#1985', '11111', 'Dodgethis']\n",
    "for password in my_passwords:\n",
    "    if password.startswith(\"1qaz2wsx\"):\n",
    "        print(\"You're in!\")\n",
    "        break\n",
    "    else:\n",
    "        print(\"No, try again.\")"
   ]
  },
  {
   "cell_type": "code",
   "execution_count": 53,
   "id": "e10f3b98-8424-4ac9-817e-c311af42e686",
   "metadata": {},
   "outputs": [
    {
     "name": "stdout",
     "output_type": "stream",
     "text": [
      "No, try again.\n",
      "No, try again.\n",
      "No, try again.\n",
      "No, try again.\n",
      "No, try again.\n",
      "No, try again.\n",
      "No, try again.\n",
      "No, try again.\n",
      "No, try again.\n",
      "No, try again.\n",
      "No, try again.\n",
      "No, try again.\n",
      "No, try again.\n",
      "You're in!\n"
     ]
    }
   ],
   "source": [
    "# Just for my own edification, here's what ChatGPT gave me:\n",
    "correct_password = \"1qaz2wsx\"\n",
    "passwords_to_try = ['3asdad', 'letmein@!', 'qwerty', 'abc123', 'trustno1', 'Ilovesandy', '!!@@###123', 'pl,mjytce!', 'p@slf', '1q2w3e4r', 'letmein', 'iloveyou', 'password1', '1qaz2wsx', 'qazwsx', '12345', 'johnsp@ssw0rd', 'meandmymonkey', 'xboksrools', 'qwertyuiop', '77777', '888888', 'zaq1zaq1', '123qwe', 'excaliburr!', 'girlsrule!', '@cce$$granted', 'iRulE!', 'pewdepieftw1', 'wtFstfUP', 'admin', 'master', 'sunshinesuzy', 'bobbyluvsdaBears!', 'qwertyuiop', 'w_uts_up', 'n0uger', 'aiden123', 'william123', 'sally123', 'pirsquareD', 'd0nutTreadonme', 'weedmn', 'MakeUSgr8', 'USA#1', 'FokiSiS', 'Footbahl', '2#22#1985', '11111', 'Dodgethis']\n",
    "def brute_force_attack(passwords):\n",
    "    for password in passwords:\n",
    "        if password == correct_password:\n",
    "            print(\"You're in!\")\n",
    "            return\n",
    "        else:\n",
    "            print(\"No, try again.\")\n",
    "\n",
    "    print(\"Password not found in the list.\")\n",
    "brute_force_attack(passwords_to_try)\n"
   ]
  },
  {
   "cell_type": "code",
   "execution_count": null,
   "id": "a1fa7586-42f5-4ec6-b810-f74e75da49ce",
   "metadata": {},
   "outputs": [],
   "source": []
  }
 ],
 "metadata": {
  "kernelspec": {
   "display_name": "Python 3 (ipykernel)",
   "language": "python",
   "name": "python3"
  },
  "language_info": {
   "codemirror_mode": {
    "name": "ipython",
    "version": 3
   },
   "file_extension": ".py",
   "mimetype": "text/x-python",
   "name": "python",
   "nbconvert_exporter": "python",
   "pygments_lexer": "ipython3",
   "version": "3.12.4"
  }
 },
 "nbformat": 4,
 "nbformat_minor": 5
}
