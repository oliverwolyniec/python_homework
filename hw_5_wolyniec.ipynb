{
 "cells": [
  {
   "cell_type": "markdown",
   "id": "28d70cae-fedc-4dae-be43-c311a6498c95",
   "metadata": {},
   "source": [
    "## Writing to Files and Reading from Them\n",
    "\n",
    "So far, we have been working in \"console world\", a world where we print our output to our Jupyter notebeook cells, and we are happy to do it. But that has it's limitations. What makes these techniquest powerful, is our ability to save files to be accessed later, and to grab data and files from our computers or from data on the internet, or the world wide infonet as it was once called, albeit briefly.\n",
    "\n",
    "Let's go there! \n",
    "\n",
    "### Writing to a File:\n",
    "\n",
    "#### Some basics: \n",
    "Following the \"law of primacy\" ie; what you first learn you will remember most...here is the correct format for writing to a file:\n"
   ]
  },
  {
   "cell_type": "code",
   "execution_count": 7,
   "id": "b924d1d1-dc26-4e72-872b-c762694cb36b",
   "metadata": {},
   "outputs": [
    {
     "name": "stdout",
     "output_type": "stream",
     "text": [
      "Content written to first_lines_leader.txt successfully.\n"
     ]
    }
   ],
   "source": [
    "#Please assign 'first_lines_leader.txt'. \n",
    "#Please replace \"content\" with the first 3 lines of your favorite speech made by a world leader.\n",
    "#Then, run the code:\n",
    "\n",
    "filename = 'first_lines_leader.txt'\n",
    "content = 'Mr President, it is an honour and privilege for me to address this distinguished audience. I see many friends in the Hemicycle and I wish to thank them for their tremendous support for Georgia over the years. Despite the widening of the European Union, the Council of Europe still has a tremendous role to play in the border areas, as well as throughout the former Soviet states and eastern Europe.'\n",
    "with open(filename, 'w') as file:\n",
    "    file.write(content)\n",
    "print(f\"Content written to {filename} successfully.\")\n",
    "\n",
    "#Go to your finder. You should find your file in the same location as where you are working on this notebook.\n",
    "#Confirm you located your file. it."
   ]
  },
  {
   "cell_type": "markdown",
   "id": "57b69e21-b688-4a60-866a-a8dd365be620",
   "metadata": {},
   "source": [
    "### Let's break it down:\n",
    "\n",
    "1. Filename and content as variables:\n",
    "I assigned 'example.txt' to the filename variable and the string to the content variable. This is good practice because it makes the code more flexible and easier to modify.\n",
    "\n",
    "2. with open('filename', 'w') as file:\n",
    "This opens (or creates) a file named 'filename' in write mode ('w'), which will overwrite any existing content in the file.\n",
    "file is the file object you are working with. The file is automatically closed after the block.\n",
    "\n",
    "3. The content is then written to the file object you created. By the way you can call \"file\" anything. Lot's of times I'll write \"fo\" or even f\n",
    "\n",
    "4. A print statement confirms it worked.\n"
   ]
  },
  {
   "cell_type": "markdown",
   "id": "30786fe2-816d-4bc9-8bc1-ca6bec06a18c",
   "metadata": {},
   "source": [
    "### Oh....Did you find your file in your finder? Assuming the answer is \"yes\"...good job! Now let's grab that content and read it to the console\n"
   ]
  },
  {
   "cell_type": "code",
   "execution_count": 9,
   "id": "e5ce9319-c77d-4a29-bbd7-34538bd462b8",
   "metadata": {},
   "outputs": [
    {
     "name": "stdout",
     "output_type": "stream",
     "text": [
      "Mr President, it is an honour and privilege for me to address this distinguished audience. I see many friends in the Hemicycle and I wish to thank them for their tremendous support for Georgia over the years. Despite the widening of the European Union, the Council of Europe still has a tremendous role to play in the border areas, as well as throughout the former Soviet states and eastern Europe.\n"
     ]
    }
   ],
   "source": [
    "#Below:\n",
    "#filename is a string that holds the name of the file.\n",
    "#file is the file object created by open(filename, 'r').\n",
    "#The file.read() method reads the content of the file.\n",
    "#The print(content) prints out what was read from the file.\n",
    "\n",
    "with open(filename, 'r') as file:\n",
    "    content = file.read()\n",
    "print(content)"
   ]
  },
  {
   "cell_type": "markdown",
   "id": "a2e23c4b-ffb5-47d4-84a1-9e0ee467aa4e",
   "metadata": {},
   "source": [
    "### Read vs Readlines\n",
    "Above, we see that we can grab all the content of the fie using read(). This is a great way to go if we want to work with the file content as a whole, for example, searching for a word in the entire file, or processing word frequency distribution on a presidential speech.\n",
    "\n",
    "But what if the the file is very large? Teading the entire content into memory can be inefficient or even cause memory issues. \n",
    "\n",
    "Or what if we want to process the file line by line and pull out spaces, or other extraneous info that we don't want? \n",
    "\n",
    "Readlines to the rescue! \n",
    "Readlines reads the file line by line and returns a list of strings, where each string represents a line from the file.\n",
    "\n",
    "Use readlines() when you need to work with the file line by line, and you want to process or iterate over the lines.\n",
    "\n",
    "Here is an example:"
   ]
  },
  {
   "cell_type": "code",
   "execution_count": 11,
   "id": "d6242243-2ef8-4dbf-8458-22dd4a65d20a",
   "metadata": {},
   "outputs": [
    {
     "name": "stdout",
     "output_type": "stream",
     "text": [
      "Mr President, it is an honour and privilege for me to address this distinguished audience. I see many friends in the Hemicycle and I wish to thank them for their tremendous support for Georgia over the years. Despite the widening of the European Union, the Council of Europe still has a tremendous role to play in the border areas, as well as throughout the former Soviet states and eastern Europe.\n"
     ]
    }
   ],
   "source": [
    "with open('first_lines_leader.txt', 'r') as file:\n",
    "    lines = file.readlines()  # Reads the file and returns a list of lines\n",
    "for line in lines:\n",
    "    print(line.strip())  # Strip removes newline characters"
   ]
  },
  {
   "cell_type": "markdown",
   "id": "b4c6e907-cce7-44f5-838a-9bdc3257b0a4",
   "metadata": {},
   "source": [
    "### Alternative for very large files: \n",
    "I want to introduce you to this idea, because ChatGPT might suggest it, so I want you to be exposed and know what's going on.\n",
    "For very large files, neither read() nor readlines() may be efficient. Instead, you can read the file line by line without loading the whole file into memory using what is called a file object iterator:\n",
    "\n"
   ]
  },
  {
   "cell_type": "code",
   "execution_count": 13,
   "id": "87507f3a-a99a-4228-92da-91afd4e1a3f6",
   "metadata": {},
   "outputs": [
    {
     "name": "stdout",
     "output_type": "stream",
     "text": [
      "Mr President, it is an honour and privilege for me to address this distinguished audience. I see many friends in the Hemicycle and I wish to thank them for their tremendous support for Georgia over the years. Despite the widening of the European Union, the Council of Europe still has a tremendous role to play in the border areas, as well as throughout the former Soviet states and eastern Europe.\n"
     ]
    }
   ],
   "source": [
    "\n",
    "with open('first_lines_leader.txt', 'r') as file:\n",
    "    for line in file:\n",
    "        print(line.strip())"
   ]
  },
  {
   "cell_type": "markdown",
   "id": "48b1983a-5a7e-402e-8fd3-4b53c3db0f24",
   "metadata": {},
   "source": [
    "That said, you should use read() or readlines() in the majority of your cases as your file size will be moderately large at most."
   ]
  },
  {
   "cell_type": "markdown",
   "id": "ea4a1237-9306-494b-b69e-b9a0003bee44",
   "metadata": {},
   "source": [
    "### Some summary:\n",
    "\n",
    "Opening a File:\n",
    "\n",
    "Modes:\n",
    "'r' = read\n",
    "'w' = write (overwrites the file if it exists)\n",
    "'a' = append (adds to the end of the file)\n",
    "'b' = binary mode (for non-text files)\n",
    "\n"
   ]
  },
  {
   "cell_type": "markdown",
   "id": "29d646c1-07f1-4e6a-9077-4b96dc620a66",
   "metadata": {},
   "source": [
    "## All the President's Speeches \n",
    "20 pts\n",
    "\n",
    "As we learned on Thursday, word frequency distribution is an intuitive way of determining the major themes, topics, or even preoccupations of the speech giver.\n",
    "\n",
    "Pull texts from different US presidents and use FreqDist() to gain insights into the data. This is a fairly open assignment. The goal is to identify something interesting! Pull the text, tokenize, remove stopwords, and plot the frequency of the words. That's the technical part. But much of this assignment is your ability to use word frequency to gain insights comparatively, intra or inter presidents. Let the python notebook from our lecture be your guide! The more interesting and creative the analysis, the more points you will receive. We might pick one student's analysis to be displayed in lecture, and that person will receive bonus credit for the work.\n",
    "\n",
    "For full credit, please demonstrate the use of read(), readlines(), and write() to a file in this assignment. Where you do it? Up to you!"
   ]
  },
  {
   "cell_type": "code",
   "execution_count": null,
   "id": "3627fcae-fe53-4274-b15d-0096250020f1",
   "metadata": {},
   "outputs": [],
   "source": [
    "#Use as many cells as you need to. Your code here:"
   ]
  },
  {
   "cell_type": "code",
   "execution_count": 17,
   "id": "7ac96e3f-7df9-43ac-b44b-d633b1d1ac30",
   "metadata": {},
   "outputs": [],
   "source": [
    "import nltk"
   ]
  },
  {
   "cell_type": "code",
   "execution_count": 19,
   "id": "1f8d3c9a-eb68-4b9a-8bf6-2c479bda82c7",
   "metadata": {},
   "outputs": [
    {
     "name": "stdout",
     "output_type": "stream",
     "text": [
      "showing info https://raw.githubusercontent.com/nltk/nltk_data/gh-pages/index.xml\n"
     ]
    },
    {
     "data": {
      "text/plain": [
       "True"
      ]
     },
     "execution_count": 19,
     "metadata": {},
     "output_type": "execute_result"
    }
   ],
   "source": [
    "nltk.download()"
   ]
  },
  {
   "cell_type": "code",
   "execution_count": 20,
   "id": "7694bf85-d4da-4dc7-be0a-c3d66568df29",
   "metadata": {},
   "outputs": [
    {
     "name": "stdout",
     "output_type": "stream",
     "text": [
      "['1789-Washington.txt', '1793-Washington.txt', '1797-Adams.txt', '1801-Jefferson.txt', '1805-Jefferson.txt', '1809-Madison.txt', '1813-Madison.txt', '1817-Monroe.txt', '1821-Monroe.txt', '1825-Adams.txt', '1829-Jackson.txt', '1833-Jackson.txt', '1837-VanBuren.txt', '1841-Harrison.txt', '1845-Polk.txt', '1849-Taylor.txt', '1853-Pierce.txt', '1857-Buchanan.txt', '1861-Lincoln.txt', '1865-Lincoln.txt', '1869-Grant.txt', '1873-Grant.txt', '1877-Hayes.txt', '1881-Garfield.txt', '1885-Cleveland.txt', '1889-Harrison.txt', '1893-Cleveland.txt', '1897-McKinley.txt', '1901-McKinley.txt', '1905-Roosevelt.txt', '1909-Taft.txt', '1913-Wilson.txt', '1917-Wilson.txt', '1921-Harding.txt', '1925-Coolidge.txt', '1929-Hoover.txt', '1933-Roosevelt.txt', '1937-Roosevelt.txt', '1941-Roosevelt.txt', '1945-Roosevelt.txt', '1949-Truman.txt', '1953-Eisenhower.txt', '1957-Eisenhower.txt', '1961-Kennedy.txt', '1965-Johnson.txt', '1969-Nixon.txt', '1973-Nixon.txt', '1977-Carter.txt', '1981-Reagan.txt', '1985-Reagan.txt', '1989-Bush.txt', '1993-Clinton.txt', '1997-Clinton.txt', '2001-Bush.txt', '2005-Bush.txt', '2009-Obama.txt', '2013-Obama.txt', '2017-Trump.txt', '2021-Biden.txt']\n"
     ]
    }
   ],
   "source": [
    "from nltk import FreqDist\n",
    "from nltk.tokenize import word_tokenize\n",
    "from nltk.corpus import inaugural\n",
    "print(inaugural.fileids())"
   ]
  },
  {
   "cell_type": "code",
   "execution_count": 90,
   "id": "fe0811b9-4cd0-4c06-a1a5-61352802ad68",
   "metadata": {},
   "outputs": [
    {
     "name": "stdout",
     "output_type": "stream",
     "text": [
      "'1857-Buchanan.txt' has been created and the speech has been written to it.\n"
     ]
    }
   ],
   "source": [
    "buch_speech = \"\"\"\n",
    "Fellow citizens, I appear before you this day to take the solemn oath \"that I will faithfully execute the office of President of the United States and will to the best of my ability preserve, protect, and defend the Constitution of the United States.\"\n",
    "\n",
    "In entering upon this great office I must humbly invoke the God of our fathers for wisdom and firmness to execute its high and responsible duties in such a manner as to restore harmony and ancient friendship among the people of the several States and to preserve our free institutions throughout many generations. Convinced that I owe my election to the inherent love for the Constitution and the Union which still animates the hearts of the American people, let me earnestly ask their powerful support in sustaining all just measures calculated to perpetuate these, the richest political blessings which Heaven has ever bestowed upon any nation. Having determined not to become a candidate for reelection, I shall have no motive to influence my conduct in administering the Government except the desire ably and faithfull to serve my country and to live in grateful memory of my countrymen.\n",
    "\n",
    "We have recently passed through a Presidential contest in which the passions of our fellow-citizens were excited to the highest degree by questions of deep and vital importance; but when the people proclaimed their will the tempest at once subsided and all was calm.\n",
    "\n",
    "The voice of the majority, speaking in the manner prescribed by the Constitution, was heard, and instant submission followed. Our own country could alone have exhibited so grand and striking a spectacle of the capacity of man for self-government.\n",
    "\n",
    "What a happy conception, then, was it for Congress to apply this simple rule, that the will of the majority shall govern, to the settlement of the question of domestic slavery in the Territories. Congress is neither \"to legislate slavery into any Territory or State nor to exclude it therefrom, but to leave the people thereof perfectly free to form and regulate their domestic institutions in their own way, subject only to the Constitution of the United States.\"\n",
    "\n",
    "As a natural consequence, Congress has also prescribed that when the Territory of Kansas shall be admitted as a State it \"shall be received into the Union with or without slavery, as their constitution may prescribe at the time of their admission.\"\n",
    "\n",
    "A difference of opinion has arisen in regard to the point of time when the people of a Territory shall decide this question for themselves.\n",
    "\n",
    "This is, happily, a matter of but little practical importance. Besides, it is a judicial question, which legitimately belongs to the Supreme Court of the United States, before whom it is now pending, and will, it is understood, be speedily and finally settled. To their decision, in common with all good citizens, I shall cheerfully submit, whatever this may be, though it has ever been my individual opinion that under the Nebraska-Kansas act the appropriate period will be when the number of actual residents in the Territory shall justify the formation of a constitution with a view to its admission as a State into the Union. But be this as it may, it is the imperative and indispensable duty of the Government of the United States to secure to every resident inhabitant the free and independent expression of his opinion by his vote. This sacred right of each individual must be preserved. That being accomplished, nothing can be fairer than to leave the people of a Territory free from all foreign interference to decide their own destiny for themselves, subject only to the Constitution of the United States.\n",
    "\n",
    "The whole Territorial question being thus settled upon the principle of popular sovereignty -- a principle as ancient as free government itself--everything of a practical nature has been decided. No other question remains for adjustment, because all agree that under the Constitution slavery in the States is beyond the reach of any human power except that of the respective States themselves wherein it exists. May we not, then, hope that the long agitation on this subject is approaching its end, and that the geographical parties to which it has given birth, so much dreaded by the Father of his Country, will speedily become extinct? Most happy will it be for the country when the public mind shall be diverted from this question to others of more pressing and practical importance. Throughout the whole progress of this agitation, which has scarcely known any intermission for more than twenty years, whilst it has been productive of no positive good to any human being it has been the prolific source of great evils to the master, to the slave, and to the whole country. It has alienated and estranged the people of the sister States from each other, and has even seriously endangered the very existence of the Union. Nor has the danger yet entirely ceased. Under our system there is a remedy for all mere political evils in the sound sense and sober judgment of the people. Time is a great corrective. Political subjects which but a few years ago excited and exasperated the public mind have passed away and are now nearly forgotten. But this question of domestic slavery is of far graver importance than any mere political question, because should the agitation continue it may eventually endanger the personal safety of a large portion of our countrymen where the institution exists. In that event no form of government, however admirable in itself and however productive of material benefits, can compensate for the loss of peace and domestic security around the family altar. Let every Union-loving man, therefore, exert his best influence to suppress this agitation, which since the recent legislation of Congress is without any legitimate object.\n",
    "\n",
    "It is an evil omen of the times that men have undertaken to calculate the mere material value of the Union. Reasoned estimates have been presented of the pecuniary profits and local advantages which would result to different States and sections from its dissolution and of the comparative injuries which such an event would inflict on other States and sections. Even descending to this low and narrow view of the mighty question, all such calculations are at fault. The bare reference to a single consideration will be conclusive on this point. We at present enjoy a free trade throughout our extensive and expanding country such as the world has never witnessed. This trade is conducted on railroads and canals, on noble rivers and arms of the sea, which bind together the North and the South, the East and the West, of our Confederacy. Annihilate this trade, arrest its free progress by the geographical lines of jealous and hostile States, and you destroy the prosperity and onward march of the whole and every part and involve all in one common ruin. But such considerations, important as they are in themselves, sink into insignificance when we reflect on the terrific evils which would result from disunion to every portion of the Confederacy -- to the North, not more than to the South, to the East not more than to the West. These I shall not attempt to portray, because I feel an humble confidence that the kind Providence which inspired our fathers with wisdom to frame the most perfect form of government and union ever devised by man will not suffer it to perish until it shall have been peacefully instrumental by its example in the extension of civil and religious liberty throughout the world.\n",
    "\n",
    "Next in importance to the maintenance of the Constitution and the Union is the duty of preserving the Government free from the taint or even the suspicion of corruption. Public virtue is the vital spirit of republics, and history proves that when this has decayed and the love of money has usurped its place, although the forms of free government may remain for a season, the substance has departed forever.\n",
    "\n",
    "Our present financial condition is without a parallel in history. No nation has ever before been embarrassed from too large a surplus in its treasury. This almost necessarily gives birth to extravagant legislation. It produces wild schemes of expenditure and begets a race of speculators and jobbers, whose ingenuity is exerted in contriving and promoting expedients to obtain public money. The purity of official agents, whether rightfully or wrongfully, is suspected, and the character of the government suffers in the estimation of the people. This is in itself a very great evil.\n",
    "\n",
    "The natural mode of relief from this embarrassment is to appropriate the surplus in the Treasury to great national objects for which a clear warrant can be found in the Constitution. Among these I might mention the extinguishment of the public debt, a reasonable increase of the Navy, which is at present inadequate to the protection of our vast tonnage afloat, now greater than that of any other nation, as well as to the defense of our extended seacoast.\n",
    "\n",
    "It is beyond all question the true principle that no more revenue ought to be collected from the people than the amount necessary to defray the expenses of a wise, economical, and efficient administration of the Government. To reach this point it was necessary to resort to a modification of the tariff, and this has, I trust, been accomplished in such a manner as to do as little injury as may have been practicable to our domestic manufactures, especially those necessary for the defense of the country. Any discrimination against a particular branch for the purpose of benefiting favored corporations, individuals, or interests would have been unjust to the rest of the community and inconsistent with that spirit of fairness and equality which ought to govern in the adjustment of a revenue tariff.\n",
    "\n",
    "But the squandering of the public money sinks into comparative insignificance as a temptation to corruption when compared with the squandering of the public lands.\n",
    "\n",
    "No nation in the tide of time has ever been blessed with so rich and noble an inheritance as we enjoy in the public lands. In administering this important trust, whilst it may be wise to grant portions of them for the improvement of the remainder, yet we should never forget that it is our cardinal policy to reserve these lands, as much as may be, for actual settlers, and this at moderate prices. We shall thus not only best promote the prosperity of the new States and Territories, by furnishing them a hardy and independent race of honest and industrious citizens, but shall secure homes for our children and our children's children, as well as for those exiles from foreign shores who may seek in this country to improve their condition and to enjoy the blessings of civil and religious liberty. Such emigrants have done much to promote the growth and prosperity of the country. They have proved faithful both in peace and in war. After becoming citizens they are entitled, under the Constitution and laws, to be placed on a perfect equality with native-born citizens, and in this character they should ever be kindly recognized. The Federal Constitution is a grant from the States to Congress of certain specific powers, and the question whether this grant should be liberally or strictly construed has more or less divided political parties from the beginning. Without entering into the argument, I desire to state at the commencement of my Administration that long experience and observation have convinced me that a strict construction of the powers of the Government i the only true, as well as the only safe, theory of the Constitution. Whenever in our past history doubtful powers have been exercised by Congress, these have never failed to produce injurious and unhappy consequences. Many such instances might be adduced if this were the proper occasion. Neither is it necessary for the public service to strain the language of the Constitution, because all the great and useful powers required for a successful administration of the Government, both in peace and in war, have been granted, either in express terms or by the plainest implication.\n",
    "\n",
    "Whilst deeply convinced of these truths, I yet consider it clear that under the war-making power Congress may appropriate money toward the construction of a military road when this is absolutely necessary for the defense of any State or Territory of the Union against foreign invasion. Under the Constitution Congress has power \"to declare war,\" \"to raise and support armies,\" \"to provide and maintain a navy,\" and to call forth the militia to \"repel invasions.\" Thus endowed, in an ample manner, with the war-making power, the corresponding duty is required that \"the United States shall protect each of them [the States] against invasion.\" Now, how is it possible to afford this protection to California and our Pacific possessions except by means of a military road through the Territories of the United States, over which men and munitions of war may be speedily transported from the Atlantic States to meet and to repel the invader? In the event of a war with a naval power much stronger than our own we should then have no other available access to the Pacific Coast, because such a power would instantly close the route across the isthmus of Central America. It is impossible to conceive that whilst the Constitution has expressly required Congress to defend all the States it should yet deny to them, by any fair construction, the only possible means by which one of these States can be defended. Besides, the Government, ever since its origin, has been in the constant practice of constructing military roads. It might also be wise to consider whether the love for the Union which now animates our fellow-citizens on the Pacific Coast may not be impaired by our neglect or refusal to provide for them, in their remote and isolated condition, the only means by which the power of the States on this side of the Rocky Mountains can reach them in sufficient time to \"protect\" them \"against invasion.\" I forbear for the present from expressing an opinion as to the wisest and most economical mode in which the Government can lend its aid in accomplishing this great and necessary work. I believe that many of the difficulties in the way, which now appear formidable, will in a great degree vanish as soon as the nearest and best route shall have been satisfactorily ascertained.\n",
    "\n",
    "It may be proper that on this occasion I should make some brief remarks in regard to our rights and duties as a member of the great family of nations. In our intercourse with them there are some plain principles, approved by our own experience, from which we should never depart. We ought to cultivate peace, commerce, and friendship with all nations, and this not merely as the best means of promoting our own material interests, but in a spirit of Christian benevolence toward our fellow-men, wherever their lot may be cast. Our diplomacy should be direct and frank, neither seeking to obtain more nor accepting less than is our due. We ought to cherish a sacred regard for the independence of all nations, and never attempt to interfere in the domestic concerns of any unless this shall be imperatively required by the great law of self-preservation. To avoid entangling alliances has been a maxim of our policy ever since the days of Washington, and its wisdom's no one will attempt to dispute. In short, we ought to do justice in a kindly spirit to all nations and require justice from them in return.\n",
    "\n",
    "It is our glory that whilst other nations have extended their dominions by the sword we have never acquired any territory except by fair purchase or, as in the case of Texas, by the voluntary determination of a brave, kindred, and independent people to blend their destinies with our own. Even our acquisitions from Mexico form no exception. Unwilling to take advantage of the fortune of war against a sister republic, we purchased these possessions under the treaty of peace for a sum which was considered at the time a fair equivalent. Our past history forbids that we shall in the future acquire territory unless this be sanctioned by the laws of justice and honor. Acting on this principle, no nation will have a right to interfere or to complain if in the progress of events we shall still further extend our possessions. Hitherto in all our acquisitions the people, under the protection of the American flag, have enjoyed civil and religious liberty, as well as equal and just laws, and have been contented, prosperous, and happy. Their trade with the rest of the world has rapidly increased, and thus every commercial nation has shared largely in their successful progress.\n",
    "\n",
    "I shall now proceed to take the oath prescribed by the Constitution, whilst humbly invoking the blessing of Divine Providence on this great people.\n",
    "\"\"\"\n",
    "with open('1857-Buchanan.txt', 'w') as file:\n",
    "          file.write(buch_speech)\n",
    "print(\"'1857-Buchanan.txt' has been created and the speech has been written to it.\")\n"
   ]
  },
  {
   "cell_type": "code",
   "execution_count": 92,
   "id": "65b79d63-cdc9-48fc-80f2-a20875796646",
   "metadata": {},
   "outputs": [
    {
     "name": "stdout",
     "output_type": "stream",
     "text": [
      "Using read():\n",
      " \n",
      "Fellow citizens, I appear before you this day to take the solemn oath \"that I will faithfully execute the office of President of the United States and will to the best of my ability preserve, protect, and defend the Constitution of the United States.\"\n",
      "\n",
      "In entering upon this great office I must humbly invoke the God of our fathers for wisdom and firmness to execute its high and responsible duties in such a manner as to restore harmony and ancient friendship among the people of the several States \n",
      "\n"
     ]
    }
   ],
   "source": [
    "with open('1857-Buchanan.txt', 'r') as file:\n",
    "    full_speech = file.read()\n",
    "print(\"Using read():\\n\", full_speech[:500], \"\\n\") #Just showing the first 500 characters to demonstrate without overwhelming"
   ]
  },
  {
   "cell_type": "code",
   "execution_count": 96,
   "id": "680c3b1c-a933-45c5-8472-ca611be8884e",
   "metadata": {},
   "outputs": [
    {
     "name": "stdout",
     "output_type": "stream",
     "text": [
      "Using readlines():\n",
      "\n",
      "Fellow citizens, I appear before you this day to take the solemn oath \"that I will faithfully execute the office of President of the United States and will to the best of my ability preserve, protect, and defend the Constitution of the United States.\"\n",
      "\n"
     ]
    }
   ],
   "source": [
    "with open('1857-Buchanan.txt', 'r') as file:\n",
    "    lines = file.readlines()\n",
    "print(\"Using readlines():\")\n",
    "for line in lines[:3]:\n",
    "    print(line.strip())"
   ]
  },
  {
   "cell_type": "code",
   "execution_count": 98,
   "id": "3ac1a6ab-19f8-48d8-bfab-a832e995a3a6",
   "metadata": {},
   "outputs": [
    {
     "name": "stdout",
     "output_type": "stream",
     "text": [
      "\n",
      "The first 300 characters of the speech have been written to 'buch_excerpt.txt'.\n"
     ]
    }
   ],
   "source": [
    "with open('buch_excerpt.txt', 'w') as new_file:\n",
    "    new_file.write(full_speech[:300])\n",
    "print(\"\\nThe first 300 characters of the speech have been written to 'buch_excerpt.txt'.\")"
   ]
  },
  {
   "cell_type": "code",
   "execution_count": 37,
   "id": "3fefdaad-8477-4989-91b3-6f93e7c433c5",
   "metadata": {},
   "outputs": [
    {
     "name": "stdout",
     "output_type": "stream",
     "text": [
      "Fellow citizens, I appear before you this day to take the solemn oath \"that I will faithfully execute the office of President of the United States and will to the best of my ability preserve, protect, and defend the Constitution of the United States.\"\n",
      "\n",
      "In entering upon this great office I must humbly invoke the God of our fathers for wisdom and firmness to execute its high and responsible duties in such a manner as to restore harmony and ancient friendship among the people of the several States and to preserve our free institutions throughout many generations. Convinced that I owe my election to the inherent love for the Constitution and the Union which still animates the hearts of the American people, let me earnestly ask their powerful support in sustaining all just measures calculated to perpetuate these, the richest political blessings which Heaven has ever bestowed upon any nation. Having determined not to become a candidate for reelection, I shall have no motive to influence my conduct in administering the Government except the desire ably and faithfull to serve my country and to live in grateful memory of my countrymen.\n",
      "\n",
      "We have recently passed through a Presidential contest in which the passions of our fellow-citizens were excited to the highest degree by questions of deep and vital importance; but when the people proclaimed their will the tempest at once subsided and all was calm.\n",
      "\n",
      "The voice of the majority, speaking in the manner prescribed by the Constitution, was heard, and instant submission followed. Our own country could alone have exhibited so grand and striking a spectacle of the capacity of man for self-government.\n",
      "\n",
      "What a happy conception, then, was it for Congress to apply this simple rule, that the will of the majority shall govern, to the settlement of the question of domestic slavery in the Territories. Congress is neither \"to legislate slavery into any Territory or State nor to exclude it therefrom, but to leave the people thereof perfectly free to form and regulate their domestic institutions in their own way, subject only to the Constitution of the United States.\"\n",
      "\n",
      "As a natural consequence, Congress has also prescribed that when the Territory of Kansas shall be admitted as a State it \"shall be received into the Union with or without slavery, as their constitution may prescribe at the time of their admission.\"\n",
      "\n",
      "A difference of opinion has arisen in regard to the point of time when the people of a Territory shall decide this question for themselves.\n",
      "\n",
      "This is, happily, a matter of but little practical importance. Besides, it is a judicial question, which legitimately belongs to the Supreme Court of the United States, before whom it is now pending, and will, it is understood, be speedily and finally settled. To their decision, in common with all good citizens, I shall cheerfully submit, whatever this may be, though it has ever been my individual opinion that under the Nebraska-Kansas act the appropriate period will be when the number of actual residents in the Territory shall justify the formation of a constitution with a view to its admission as a State into the Union. But be this as it may, it is the imperative and indispensable duty of the Government of the United States to secure to every resident inhabitant the free and independent expression of his opinion by his vote. This sacred right of each individual must be preserved. That being accomplished, nothing can be fairer than to leave the people of a Territory free from all foreign interference to decide their own destiny for themselves, subject only to the Constitution of the United States.\n",
      "\n",
      "The whole Territorial question being thus settled upon the principle of popular sovereignty -- a principle as ancient as free government itself--everything of a practical nature has been decided. No other question remains for adjustment, because all agree that under the Constitution slavery in the States is beyond the reach of any human power except that of the respective States themselves wherein it exists. May we not, then, hope that the long agitation on this subject is approaching its end, and that the geographical parties to which it has given birth, so much dreaded by the Father of his Country, will speedily become extinct? Most happy will it be for the country when the public mind shall be diverted from this question to others of more pressing and practical importance. Throughout the whole progress of this agitation, which has scarcely known any intermission for more than twenty years, whilst it has been productive of no positive good to any human being it has been the prolific source of great evils to the master, to the slave, and to the whole country. It has alienated and estranged the people of the sister States from each other, and has even seriously endangered the very existence of the Union. Nor has the danger yet entirely ceased. Under our system there is a remedy for all mere political evils in the sound sense and sober judgment of the people. Time is a great corrective. Political subjects which but a few years ago excited and exasperated the public mind have passed away and are now nearly forgotten. But this question of domestic slavery is of far graver importance than any mere political question, because should the agitation continue it may eventually endanger the personal safety of a large portion of our countrymen where the institution exists. In that event no form of government, however admirable in itself and however productive of material benefits, can compensate for the loss of peace and domestic security around the family altar. Let every Union-loving man, therefore, exert his best influence to suppress this agitation, which since the recent legislation of Congress is without any legitimate object.\n",
      "\n",
      "It is an evil omen of the times that men have undertaken to calculate the mere material value of the Union. Reasoned estimates have been presented of the pecuniary profits and local advantages which would result to different States and sections from its dissolution and of the comparative injuries which such an event would inflict on other States and sections. Even descending to this low and narrow view of the mighty question, all such calculations are at fault. The bare reference to a single consideration will be conclusive on this point. We at present enjoy a free trade throughout our extensive and expanding country such as the world has never witnessed. This trade is conducted on railroads and canals, on noble rivers and arms of the sea, which bind together the North and the South, the East and the West, of our Confederacy. Annihilate this trade, arrest its free progress by the geographical lines of jealous and hostile States, and you destroy the prosperity and onward march of the whole and every part and involve all in one common ruin. But such considerations, important as they are in themselves, sink into insignificance when we reflect on the terrific evils which would result from disunion to every portion of the Confederacy -- to the North, not more than to the South, to the East not more than to the West. These I shall not attempt to portray, because I feel an humble confidence that the kind Providence which inspired our fathers with wisdom to frame the most perfect form of government and union ever devised by man will not suffer it to perish until it shall have been peacefully instrumental by its example in the extension of civil and religious liberty throughout the world.\n",
      "\n",
      "Next in importance to the maintenance of the Constitution and the Union is the duty of preserving the Government free from the taint or even the suspicion of corruption. Public virtue is the vital spirit of republics, and history proves that when this has decayed and the love of money has usurped its place, although the forms of free government may remain for a season, the substance has departed forever.\n",
      "\n",
      "Our present financial condition is without a parallel in history. No nation has ever before been embarrassed from too large a surplus in its treasury. This almost necessarily gives birth to extravagant legislation. It produces wild schemes of expenditure and begets a race of speculators and jobbers, whose ingenuity is exerted in contriving and promoting expedients to obtain public money. The purity of official agents, whether rightfully or wrongfully, is suspected, and the character of the government suffers in the estimation of the people. This is in itself a very great evil.\n",
      "\n",
      "The natural mode of relief from this embarrassment is to appropriate the surplus in the Treasury to great national objects for which a clear warrant can be found in the Constitution. Among these I might mention the extinguishment of the public debt, a reasonable increase of the Navy, which is at present inadequate to the protection of our vast tonnage afloat, now greater than that of any other nation, as well as to the defense of our extended seacoast.\n",
      "\n",
      "It is beyond all question the true principle that no more revenue ought to be collected from the people than the amount necessary to defray the expenses of a wise, economical, and efficient administration of the Government. To reach this point it was necessary to resort to a modification of the tariff, and this has, I trust, been accomplished in such a manner as to do as little injury as may have been practicable to our domestic manufactures, especially those necessary for the defense of the country. Any discrimination against a particular branch for the purpose of benefiting favored corporations, individuals, or interests would have been unjust to the rest of the community and inconsistent with that spirit of fairness and equality which ought to govern in the adjustment of a revenue tariff.\n",
      "\n",
      "But the squandering of the public money sinks into comparative insignificance as a temptation to corruption when compared with the squandering of the public lands.\n",
      "\n",
      "No nation in the tide of time has ever been blessed with so rich and noble an inheritance as we enjoy in the public lands. In administering this important trust, whilst it may be wise to grant portions of them for the improvement of the remainder, yet we should never forget that it is our cardinal policy to reserve these lands, as much as may be, for actual settlers, and this at moderate prices. We shall thus not only best promote the prosperity of the new States and Territories, by furnishing them a hardy and independent race of honest and industrious citizens, but shall secure homes for our children and our children's children, as well as for those exiles from foreign shores who may seek in this country to improve their condition and to enjoy the blessings of civil and religious liberty. Such emigrants have done much to promote the growth and prosperity of the country. They have proved faithful both in peace and in war. After becoming citizens they are entitled, under the Constitution and laws, to be placed on a perfect equality with native-born citizens, and in this character they should ever be kindly recognized. The Federal Constitution is a grant from the States to Congress of certain specific powers, and the question whether this grant should be liberally or strictly construed has more or less divided political parties from the beginning. Without entering into the argument, I desire to state at the commencement of my Administration that long experience and observation have convinced me that a strict construction of the powers of the Government i the only true, as well as the only safe, theory of the Constitution. Whenever in our past history doubtful powers have been exercised by Congress, these have never failed to produce injurious and unhappy consequences. Many such instances might be adduced if this were the proper occasion. Neither is it necessary for the public service to strain the language of the Constitution, because all the great and useful powers required for a successful administration of the Government, both in peace and in war, have been granted, either in express terms or by the plainest implication.\n",
      "\n",
      "Whilst deeply convinced of these truths, I yet consider it clear that under the war-making power Congress may appropriate money toward the construction of a military road when this is absolutely necessary for the defense of any State or Territory of the Union against foreign invasion. Under the Constitution Congress has power \"to declare war,\" \"to raise and support armies,\" \"to provide and maintain a navy,\" and to call forth the militia to \"repel invasions.\" Thus endowed, in an ample manner, with the war-making power, the corresponding duty is required that \"the United States shall protect each of them [the States] against invasion.\" Now, how is it possible to afford this protection to California and our Pacific possessions except by means of a military road through the Territories of the United States, over which men and munitions of war may be speedily transported from the Atlantic States to meet and to repel the invader? In the event of a war with a naval power much stronger than our own we should then have no other available access to the Pacific Coast, because such a power would instantly close the route across the isthmus of Central America. It is impossible to conceive that whilst the Constitution has expressly required Congress to defend all the States it should yet deny to them, by any fair construction, the only possible means by which one of these States can be defended. Besides, the Government, ever since its origin, has been in the constant practice of constructing military roads. It might also be wise to consider whether the love for the Union which now animates our fellow-citizens on the Pacific Coast may not be impaired by our neglect or refusal to provide for them, in their remote and isolated condition, the only means by which the power of the States on this side of the Rocky Mountains can reach them in sufficient time to \"protect\" them \"against invasion.\" I forbear for the present from expressing an opinion as to the wisest and most economical mode in which the Government can lend its aid in accomplishing this great and necessary work. I believe that many of the difficulties in the way, which now appear formidable, will in a great degree vanish as soon as the nearest and best route shall have been satisfactorily ascertained.\n",
      "\n",
      "It may be proper that on this occasion I should make some brief remarks in regard to our rights and duties as a member of the great family of nations. In our intercourse with them there are some plain principles, approved by our own experience, from which we should never depart. We ought to cultivate peace, commerce, and friendship with all nations, and this not merely as the best means of promoting our own material interests, but in a spirit of Christian benevolence toward our fellow-men, wherever their lot may be cast. Our diplomacy should be direct and frank, neither seeking to obtain more nor accepting less than is our due. We ought to cherish a sacred regard for the independence of all nations, and never attempt to interfere in the domestic concerns of any unless this shall be imperatively required by the great law of self-preservation. To avoid entangling alliances has been a maxim of our policy ever since the days of Washington, and its wisdom's no one will attempt to dispute. In short, we ought to do justice in a kindly spirit to all nations and require justice from them in return.\n",
      "\n",
      "It is our glory that whilst other nations have extended their dominions by the sword we have never acquired any territory except by fair purchase or, as in the case of Texas, by the voluntary determination of a brave, kindred, and independent people to blend their destinies with our own. Even our acquisitions from Mexico form no exception. Unwilling to take advantage of the fortune of war against a sister republic, we purchased these possessions under the treaty of peace for a sum which was considered at the time a fair equivalent. Our past history forbids that we shall in the future acquire territory unless this be sanctioned by the laws of justice and honor. Acting on this principle, no nation will have a right to interfere or to complain if in the progress of events we shall still further extend our possessions. Hitherto in all our acquisitions the people, under the protection of the American flag, have enjoyed civil and religious liberty, as well as equal and just laws, and have been contented, prosperous, and happy. Their trade with the rest of the world has rapidly increased, and thus every commercial nation has shared largely in their successful progress.\n",
      "\n",
      "I shall now proceed to take the oath prescribed by the Constitution, whilst humbly invoking the blessing of Divine Providence on this great people.\n",
      "\n",
      " \n",
      "\n"
     ]
    }
   ],
   "source": [
    "buch = inaugural.raw('1857-Buchanan.txt') #Interested to see the extent to which Buchanan alludes to the rising tensions that will eventually culminate in the Civil War\n",
    "print(buch)"
   ]
  },
  {
   "cell_type": "code",
   "execution_count": null,
   "id": "38851467-a13f-4dba-b27e-ccaf95faed41",
   "metadata": {},
   "outputs": [],
   "source": []
  },
  {
   "cell_type": "code",
   "execution_count": 27,
   "id": "db65d56a-0df8-4383-9219-0f1fd71eb70b",
   "metadata": {},
   "outputs": [
    {
     "name": "stdout",
     "output_type": "stream",
     "text": [
      "['Fellow', 'citizens', ',', 'I', 'appear', 'before', ...]\n"
     ]
    }
   ],
   "source": [
    "buch1 = inaugural.words('1857-Buchanan.txt')\n",
    "print(buch1)"
   ]
  },
  {
   "cell_type": "code",
   "execution_count": 29,
   "id": "61f94de0-8dcb-4c85-adbc-ea7d1d9a5668",
   "metadata": {},
   "outputs": [
    {
     "data": {
      "text/plain": [
       "3098"
      ]
     },
     "execution_count": 29,
     "metadata": {},
     "output_type": "execute_result"
    }
   ],
   "source": [
    "len(buch1)"
   ]
  },
  {
   "cell_type": "code",
   "execution_count": 31,
   "id": "9137f2c1-7c9e-4741-afb9-15b6b50385b7",
   "metadata": {},
   "outputs": [
    {
     "name": "stdout",
     "output_type": "stream",
     "text": [
      "[('the', 232), (',', 141), ('of', 139), ('to', 102), ('and', 97), ('.', 81), ('a', 57), ('in', 55), ('this', 34), ('is', 32), ('our', 31), ('as', 30), ('for', 28), ('be', 28), ('that', 26), ('has', 26), ('which', 24), ('it', 24), ('States', 22), ('have', 22)]\n"
     ]
    }
   ],
   "source": [
    "fdist = FreqDist(buch1)\n",
    "print(fdist.most_common(20))"
   ]
  },
  {
   "cell_type": "code",
   "execution_count": 33,
   "id": "14ef8800-a161-47b5-8d83-5fc3b93a855a",
   "metadata": {},
   "outputs": [
    {
     "name": "stdout",
     "output_type": "stream",
     "text": [
      "['i', 'me', 'my', 'myself', 'we', 'our', 'ours', 'ourselves', 'you', \"you're\", \"you've\", \"you'll\", \"you'd\", 'your', 'yours', 'yourself', 'yourselves', 'he', 'him', 'his', 'himself', 'she', \"she's\", 'her', 'hers', 'herself', 'it', \"it's\", 'its', 'itself', 'they', 'them', 'their', 'theirs', 'themselves', 'what', 'which', 'who', 'whom', 'this', 'that', \"that'll\", 'these', 'those', 'am', 'is', 'are', 'was', 'were', 'be', 'been', 'being', 'have', 'has', 'had', 'having', 'do', 'does', 'did', 'doing', 'a', 'an', 'the', 'and', 'but', 'if', 'or', 'because', 'as', 'until', 'while', 'of', 'at', 'by', 'for', 'with', 'about', 'against', 'between', 'into', 'through', 'during', 'before', 'after', 'above', 'below', 'to', 'from', 'up', 'down', 'in', 'out', 'on', 'off', 'over', 'under', 'again', 'further', 'then', 'once', 'here', 'there', 'when', 'where', 'why', 'how', 'all', 'any', 'both', 'each', 'few', 'more', 'most', 'other', 'some', 'such', 'no', 'nor', 'not', 'only', 'own', 'same', 'so', 'than', 'too', 'very', 's', 't', 'can', 'will', 'just', 'don', \"don't\", 'should', \"should've\", 'now', 'd', 'll', 'm', 'o', 're', 've', 'y', 'ain', 'aren', \"aren't\", 'couldn', \"couldn't\", 'didn', \"didn't\", 'doesn', \"doesn't\", 'hadn', \"hadn't\", 'hasn', \"hasn't\", 'haven', \"haven't\", 'isn', \"isn't\", 'ma', 'mightn', \"mightn't\", 'mustn', \"mustn't\", 'needn', \"needn't\", 'shan', \"shan't\", 'shouldn', \"shouldn't\", 'wasn', \"wasn't\", 'weren', \"weren't\", 'won', \"won't\", 'wouldn', \"wouldn't\"]\n"
     ]
    }
   ],
   "source": [
    "from nltk.corpus import stopwords\n",
    "stopwords = nltk.corpus.stopwords.words(\"english\")\n",
    "print(stopwords)"
   ]
  },
  {
   "cell_type": "code",
   "execution_count": 35,
   "id": "1f3aeb82-11e5-4450-a9a9-14bfe91ac894",
   "metadata": {},
   "outputs": [
    {
     "name": "stdout",
     "output_type": "stream",
     "text": [
      "[(',', 141), ('.', 81), ('States', 22), ('shall', 18), ('I', 16), ('Constitution', 15), ('may', 14), ('people', 13), ('\"', 11), ('great', 11), ('question', 11), ('-', 10), ('free', 9), ('Union', 9), ('Congress', 9), ('United', 8), ('ever', 8), ('Government', 8), ('country', 8), ('public', 8)]\n"
     ]
    }
   ],
   "source": [
    "clean_buch1 = []\n",
    "for word in buch1:\n",
    "    if not word in stopwords:\n",
    "        clean_buch1.append(word)\n",
    "fdist2 = FreqDist(clean_buch1)\n",
    "x = fdist2.most_common(20)\n",
    "print(x)"
   ]
  },
  {
   "cell_type": "code",
   "execution_count": 40,
   "id": "78ad7b01-8d25-4d53-88e1-0efb27200217",
   "metadata": {},
   "outputs": [
    {
     "data": {
      "image/png": "[encoded data removed]",
      "text/plain": [
       "<Figure size 640x480 with 1 Axes>"
      ]
     },
     "metadata": {},
     "output_type": "display_data"
    },
    {
     "name": "stdout",
     "output_type": "stream",
     "text": [
      "Axes(0.125,0.11;0.775x0.77)\n"
     ]
    }
   ],
   "source": [
    "print(fdist2.plot(20))"
   ]
  },
  {
   "cell_type": "code",
   "execution_count": 42,
   "id": "39d7bd79-ee27-4703-b900-c5940b189403",
   "metadata": {},
   "outputs": [
    {
     "name": "stdout",
     "output_type": "stream",
     "text": [
      "['i', 'me', 'my', 'myself', 'we', 'our', 'ours', 'ourselves', 'you', \"you're\", \"you've\", \"you'll\", \"you'd\", 'your', 'yours', 'yourself', 'yourselves', 'he', 'him', 'his', 'himself', 'she', \"she's\", 'her', 'hers', 'herself', 'it', \"it's\", 'its', 'itself', 'they', 'them', 'their', 'theirs', 'themselves', 'what', 'which', 'who', 'whom', 'this', 'that', \"that'll\", 'these', 'those', 'am', 'is', 'are', 'was', 'were', 'be', 'been', 'being', 'have', 'has', 'had', 'having', 'do', 'does', 'did', 'doing', 'a', 'an', 'the', 'and', 'but', 'if', 'or', 'because', 'as', 'until', 'while', 'of', 'at', 'by', 'for', 'with', 'about', 'against', 'between', 'into', 'through', 'during', 'before', 'after', 'above', 'below', 'to', 'from', 'up', 'down', 'in', 'out', 'on', 'off', 'over', 'under', 'again', 'further', 'then', 'once', 'here', 'there', 'when', 'where', 'why', 'how', 'all', 'any', 'both', 'each', 'few', 'more', 'most', 'other', 'some', 'such', 'no', 'nor', 'not', 'only', 'own', 'same', 'so', 'than', 'too', 'very', 's', 't', 'can', 'will', 'just', 'don', \"don't\", 'should', \"should've\", 'now', 'd', 'll', 'm', 'o', 're', 've', 'y', 'ain', 'aren', \"aren't\", 'couldn', \"couldn't\", 'didn', \"didn't\", 'doesn', \"doesn't\", 'hadn', \"hadn't\", 'hasn', \"hasn't\", 'haven', \"haven't\", 'isn', \"isn't\", 'ma', 'mightn', \"mightn't\", 'mustn', \"mustn't\", 'needn', \"needn't\", 'shan', \"shan't\", 'shouldn', \"shouldn't\", 'wasn', \"wasn't\", 'weren', \"weren't\", 'won', \"won't\", 'wouldn', \"wouldn't\", ',', 'I', '.', ';', '-', '\"', 'may', 'shall']\n"
     ]
    }
   ],
   "source": [
    "new_stops = [',', 'I', '.', ';', '-', '\"', 'may', 'shall']\n",
    "stopwords.extend(new_stops)\n",
    "print(stopwords)"
   ]
  },
  {
   "cell_type": "code",
   "execution_count": 44,
   "id": "9e76a5a4-f691-4638-b2e8-6a95c15df607",
   "metadata": {},
   "outputs": [
    {
     "name": "stdout",
     "output_type": "stream",
     "text": [
      "[('States', 22), ('Constitution', 15), ('people', 13), ('great', 11), ('question', 11), ('free', 9), ('Union', 9), ('Congress', 9), ('United', 8), ('ever', 8), ('Government', 8), ('country', 8), ('public', 8), ('It', 8), ('war', 8), ('citizens', 7), ('power', 7), ('.\"', 6), ('In', 6), ('nation', 6)]\n"
     ]
    },
    {
     "data": {
      "image/png": "[encoded data removed]",
      "text/plain": [
       "<Figure size 640x480 with 1 Axes>"
      ]
     },
     "metadata": {},
     "output_type": "display_data"
    },
    {
     "name": "stdout",
     "output_type": "stream",
     "text": [
      "Axes(0.125,0.11;0.775x0.77)\n"
     ]
    }
   ],
   "source": [
    "clean_buch2 = []\n",
    "for word in clean_buch1:\n",
    "    if not word in stopwords:\n",
    "        clean_buch2.append(word)\n",
    "fdist2 = FreqDist(clean_buch2)\n",
    "x = fdist2.most_common(20)\n",
    "print(x)\n",
    "print(fdist2.plot(20))"
   ]
  },
  {
   "cell_type": "code",
   "execution_count": 100,
   "id": "a23f2570-90ea-4b74-a4c2-248bfe290502",
   "metadata": {},
   "outputs": [
    {
     "data": {
      "text/plain": [
       "'\\nSo, after stripping stop words and adding those that appeared from the first run through the\\ntext, it looks like Buchanan does reference the Constitution, Union, a \"question\" (which perhaps refers\\nto the issue of slavery but isn\\'t yet clear, and war, which could be allusions to the\\nheightening tension in the country. But I\\'ll need to do a bit more work to get deeper insights\\ninto this. I\\'m also curious to see if Buchanan mentions \"slavery\" at all.\\n'"
      ]
     },
     "execution_count": 100,
     "metadata": {},
     "output_type": "execute_result"
    }
   ],
   "source": [
    "\"\"\"\n",
    "So, after stripping stop words and adding those that appeared from the first run through the\n",
    "text, it looks like Buchanan does reference the Constitution, Union, a \"question\" (which perhaps refers\n",
    "to the issue of slavery but isn't yet clear, and war, which could be allusions to the\n",
    "heightening tension in the country. But I'll need to do a bit more work to get deeper insights\n",
    "into this. I'm also curious to see if Buchanan mentions \"slavery\" at all.\n",
    "\"\"\""
   ]
  },
  {
   "cell_type": "code",
   "execution_count": 46,
   "id": "54f20fec-a8e3-4687-8796-ee58697b01bc",
   "metadata": {},
   "outputs": [
    {
     "name": "stdout",
     "output_type": "stream",
     "text": [
      "The word \"slavery\" is present in the speech.\n"
     ]
    }
   ],
   "source": [
    "if 'slavery' in clean_buch2:\n",
    "    print('The word \"slavery\" is present in the speech.')\n",
    "else:\n",
    "    print('The word \"slavery\" is not found in the speech.')"
   ]
  },
  {
   "cell_type": "code",
   "execution_count": 60,
   "id": "1c6a0f65-9b9c-48d3-9752-817470a7b3d4",
   "metadata": {},
   "outputs": [
    {
     "name": "stdout",
     "output_type": "stream",
     "text": [
      "The word \"slavery\" appears 5 times in the speech.\n"
     ]
    }
   ],
   "source": [
    "slavery_count = clean_buch2.count('slavery')\n",
    "print(f'The word \"slavery\" appears {slavery_count} times in the speech.')"
   ]
  },
  {
   "cell_type": "code",
   "execution_count": 72,
   "id": "d0bc7605-2129-4950-a61b-3e9d8e2baa09",
   "metadata": {},
   "outputs": [
    {
     "name": "stdout",
     "output_type": "stream",
     "text": [
      "What a happy conception , then , was it for Congress to apply this simple rule , that the will of the majority shall govern , to the settlement of the question of domestic slavery in the Territories .\n",
      "Congress is neither \" to legislate slavery into any Territory or State nor to exclude it therefrom , but to leave the people thereof perfectly free to form and regulate their domestic institutions in their own way , subject only to the Constitution of the United States .\"\n",
      "As a natural consequence , Congress has also prescribed that when the Territory of Kansas shall be admitted as a State it \" shall be received into the Union with or without slavery , as their constitution may prescribe at the time of their admission .\"\n",
      "No other question remains for adjustment , because all agree that under the Constitution slavery in the States is beyond the reach of any human power except that of the respective States themselves wherein it exists .\n",
      "But this question of domestic slavery is of far graver importance than any mere political question , because should the agitation continue it may eventually endanger the personal safety of a large portion of our countrymen where the institution exists .\n"
     ]
    }
   ],
   "source": [
    "speech_text = ' '.join(buch1)\n",
    "sentences = nltk.sent_tokenize(speech_text)\n",
    "for sentence in sentences:\n",
    "    if 'slavery' in sentence.lower():\n",
    "        print(sentence)"
   ]
  },
  {
   "cell_type": "code",
   "execution_count": null,
   "id": "03005fd2-151a-4437-9acc-0dc8fa8910c5",
   "metadata": {},
   "outputs": [],
   "source": [
    "\"\"\"\n",
    "So it's pretty clear from the sentences where \"slavery\" arises that Buchanan favored allowing\n",
    "each state to decide on the \"question\" of slavery - and here it's also clear that \"question\" is\n",
    "used to refer to the issue of slavery on several occasions. The last sentence also makes clear\n",
    "that Buchanan was concerned about the rising tensions around slavery. Now I want more context\n",
    "for the other words I thought might be connected to the tensions/slavery.\n",
    "\"\"\""
   ]
  },
  {
   "cell_type": "code",
   "execution_count": 74,
   "id": "37e7ca30-5eb3-4a30-a70d-f51e8ec0da83",
   "metadata": {},
   "outputs": [
    {
     "name": "stdout",
     "output_type": "stream",
     "text": [
      "Annihilate this trade , arrest its free progress by the geographical lines of jealous and hostile States , and you destroy the prosperity and onward march of the whole and every part and involve all in one common ruin .\n",
      "The natural mode of relief from this embarrassment is to appropriate the surplus in the Treasury to great national objects for which a clear warrant can be found in the Constitution .\n",
      "They have proved faithful both in peace and in war .\n",
      "Neither is it necessary for the public service to strain the language of the Constitution , because all the great and useful powers required for a successful administration of the Government , both in peace and in war , have been granted , either in express terms or by the plainest implication .\n",
      "Whilst deeply convinced of these truths , I yet consider it clear that under the war - making power Congress may appropriate money toward the construction of a military road when this is absolutely necessary for the defense of any State or Territory of the Union against foreign invasion .\n",
      "Under the Constitution Congress has power \" to declare war ,\" \" to raise and support armies ,\" \" to provide and maintain a navy ,\" and to call forth the militia to \" repel invasions .\"\n",
      "Thus endowed , in an ample manner , with the war - making power , the corresponding duty is required that \" the United States shall protect each of them [ the States ] against invasion .\"\n",
      "Now , how is it possible to afford this protection to California and our Pacific possessions except by means of a military road through the Territories of the United States , over which men and munitions of war may be speedily transported from the Atlantic States to meet and to repel the invader ?\n",
      "In the event of a war with a naval power much stronger than our own we should then have no other available access to the Pacific Coast , because such a power would instantly close the route across the isthmus of Central America .\n",
      "We ought to cultivate peace , commerce , and friendship with all nations , and this not merely as the best means of promoting our own material interests , but in a spirit of Christian benevolence toward our fellow - men , wherever their lot may be cast .\n",
      "Unwilling to take advantage of the fortune of war against a sister republic , we purchased these possessions under the treaty of peace for a sum which was considered at the time a fair equivalent .\n"
     ]
    }
   ],
   "source": [
    "speech_text = ' '.join(buch1)\n",
    "sentences = nltk.sent_tokenize(speech_text)\n",
    "for sentence in sentences:\n",
    "    if 'war' in sentence.lower():\n",
    "        print(sentence)"
   ]
  },
  {
   "cell_type": "code",
   "execution_count": null,
   "id": "19c375d2-5479-40f2-8c90-e383b7ac75ee",
   "metadata": {},
   "outputs": [],
   "source": [
    "\"\"\"\n",
    "Doesn't look like Buchanan explicitly mentions \"war\" in talking about the rising tensions\n",
    "around slavery. Gonna try \"Union\" and \"question\".\n",
    "\"\"\""
   ]
  },
  {
   "cell_type": "code",
   "execution_count": 76,
   "id": "8fb7028c-61fb-4a5b-a2bf-187c5abf2705",
   "metadata": {},
   "outputs": [
    {
     "name": "stdout",
     "output_type": "stream",
     "text": [
      "We have recently passed through a Presidential contest in which the passions of our fellow - citizens were excited to the highest degree by questions of deep and vital importance ; but when the people proclaimed their will the tempest at once subsided and all was calm .\n",
      "What a happy conception , then , was it for Congress to apply this simple rule , that the will of the majority shall govern , to the settlement of the question of domestic slavery in the Territories .\n",
      "A difference of opinion has arisen in regard to the point of time when the people of a Territory shall decide this question for themselves .\n",
      "Besides , it is a judicial question , which legitimately belongs to the Supreme Court of the United States , before whom it is now pending , and will , it is understood , be speedily and finally settled .\n",
      "The whole Territorial question being thus settled upon the principle of popular sovereignty -- a principle as ancient as free government itself -- everything of a practical nature has been decided .\n",
      "No other question remains for adjustment , because all agree that under the Constitution slavery in the States is beyond the reach of any human power except that of the respective States themselves wherein it exists .\n",
      "Most happy will it be for the country when the public mind shall be diverted from this question to others of more pressing and practical importance .\n",
      "But this question of domestic slavery is of far graver importance than any mere political question , because should the agitation continue it may eventually endanger the personal safety of a large portion of our countrymen where the institution exists .\n",
      "Even descending to this low and narrow view of the mighty question , all such calculations are at fault .\n",
      "It is beyond all question the true principle that no more revenue ought to be collected from the people than the amount necessary to defray the expenses of a wise , economical , and efficient administration of the Government .\n",
      "The Federal Constitution is a grant from the States to Congress of certain specific powers , and the question whether this grant should be liberally or strictly construed has more or less divided political parties from the beginning .\n"
     ]
    }
   ],
   "source": [
    "speech_text = ' '.join(buch1)\n",
    "sentences = nltk.sent_tokenize(speech_text)\n",
    "for sentence in sentences:\n",
    "    if 'question' in sentence.lower():\n",
    "        print(sentence)"
   ]
  },
  {
   "cell_type": "code",
   "execution_count": null,
   "id": "6a0093d2-a1c5-49ea-aeb2-82ec341c05df",
   "metadata": {},
   "outputs": [],
   "source": [
    "#Sometimes \"question\" does refer to slavery, but not every time."
   ]
  },
  {
   "cell_type": "code",
   "execution_count": 78,
   "id": "551fde28-b416-482b-99b7-db8af2a787a9",
   "metadata": {},
   "outputs": [
    {
     "name": "stdout",
     "output_type": "stream",
     "text": [
      "Convinced that I owe my election to the inherent love for the Constitution and the Union which still animates the hearts of the American people , let me earnestly ask their powerful support in sustaining all just measures calculated to perpetuate these , the richest political blessings which Heaven has ever bestowed upon any nation .\n",
      "As a natural consequence , Congress has also prescribed that when the Territory of Kansas shall be admitted as a State it \" shall be received into the Union with or without slavery , as their constitution may prescribe at the time of their admission .\"\n",
      "To their decision , in common with all good citizens , I shall cheerfully submit , whatever this may be , though it has ever been my individual opinion that under the Nebraska - Kansas act the appropriate period will be when the number of actual residents in the Territory shall justify the formation of a constitution with a view to its admission as a State into the Union .\n",
      "It has alienated and estranged the people of the sister States from each other , and has even seriously endangered the very existence of the Union .\n",
      "Let every Union - loving man , therefore , exert his best influence to suppress this agitation , which since the recent legislation of Congress is without any legitimate object .\n",
      "It is an evil omen of the times that men have undertaken to calculate the mere material value of the Union .\n",
      "But such considerations , important as they are in themselves , sink into insignificance when we reflect on the terrific evils which would result from disunion to every portion of the Confederacy -- to the North , not more than to the South , to the East not more than to the West .\n",
      "These I shall not attempt to portray , because I feel an humble confidence that the kind Providence which inspired our fathers with wisdom to frame the most perfect form of government and union ever devised by man will not suffer it to perish until it shall have been peacefully instrumental by its example in the extension of civil and religious liberty throughout the world .\n",
      "Next in importance to the maintenance of the Constitution and the Union is the duty of preserving the Government free from the taint or even the suspicion of corruption .\n",
      "Whilst deeply convinced of these truths , I yet consider it clear that under the war - making power Congress may appropriate money toward the construction of a military road when this is absolutely necessary for the defense of any State or Territory of the Union against foreign invasion .\n",
      "It might also be wise to consider whether the love for the Union which now animates our fellow - citizens on the Pacific Coast may not be impaired by our neglect or refusal to provide for them , in their remote and isolated condition , the only means by which the power of the States on this side of the Rocky Mountains can reach them in sufficient time to \" protect \" them \" against invasion .\"\n"
     ]
    }
   ],
   "source": [
    "speech_text = ' '.join(buch1)\n",
    "sentences = nltk.sent_tokenize(speech_text)\n",
    "for sentence in sentences:\n",
    "    if 'union' in sentence.lower():\n",
    "        print(sentence)"
   ]
  },
  {
   "cell_type": "code",
   "execution_count": null,
   "id": "0bb8b85b-d2a4-4a09-a937-78862097d52b",
   "metadata": {},
   "outputs": [],
   "source": [
    "\"\"\"\n",
    "The middle sentences above do appear to refer to the threat to the Union that tensions over\n",
    "slavery pose. Taken together, all of this tells me that Buchanan was concerned about the rising\n",
    "tensions to some extent as he references them multiple times in various ways, but he remained\n",
    "committed to leaving it up to the states to the decide (a clearly flawed/indecisive approach that\n",
    "would do little to mitigate tensions). Given my understanding of Buchanan as\n",
    "one of our weakest presidents (he's near the bottom of most presidential rankings), this tracks.\n",
    "In fact, when I asked ChatGPT \"Which US presidents consistently rank towards the bottom of most\n",
    "presidential rankings, Buchanan was the first president listed. Rather fitting description given by\n",
    "ChatGPT: Buchanan is widely criticized for his failure to address or mitigate the rising tensions\n",
    "over slavery, which culminated in the secession of Southern states and the onset of the Civil War.\n",
    "His indecisiveness and inability to unify the nation during a critical period have led many\n",
    "historians to view his presidency as a failure.\n",
    "\"\"\""
   ]
  },
  {
   "cell_type": "code",
   "execution_count": 15,
   "id": "d23192ed-3e43-4536-9177-92d4bc81c315",
   "metadata": {},
   "outputs": [
    {
     "name": "stdout",
     "output_type": "stream",
     "text": [
      "Requirement already satisfied: beautifulsoup4 in c:\\users\\wolyn\\anaconda3\\lib\\site-packages (4.12.3)\n",
      "Requirement already satisfied: soupsieve>1.2 in c:\\users\\wolyn\\anaconda3\\lib\\site-packages (from beautifulsoup4) (2.5)\n"
     ]
    }
   ],
   "source": [
    "!pip install beautifulsoup4"
   ]
  },
  {
   "cell_type": "code",
   "execution_count": null,
   "id": "63b36a0a-5ce9-49d7-beae-5fa64bcc4ac6",
   "metadata": {},
   "outputs": [],
   "source": []
  },
  {
   "cell_type": "code",
   "execution_count": null,
   "id": "688f47f6-9a10-46eb-9292-9e9ed3f3e0a5",
   "metadata": {},
   "outputs": [],
   "source": []
  },
  {
   "cell_type": "code",
   "execution_count": null,
   "id": "bb943dcc-634b-40a4-8e46-be0816b929eb",
   "metadata": {},
   "outputs": [],
   "source": []
  },
  {
   "cell_type": "markdown",
   "id": "66c3cd73-d4bc-4df3-a7d5-6ff8cd598ab9",
   "metadata": {},
   "source": [
    "### Scraping\n",
    "That's great that we can analyze text that is pre-processed in the NLTK package. But what if NLTK doesn't have the text we want? I mean as awesome as Jane Austen and inaugural texts are.... \n",
    "\n",
    "Text scraping, also known as web scraping or data scraping, refers to the process of automatically extracting text data from websites or other online sources. Over my 14 years, I have seen companies and websites realize that they should not just easily give away their text data. Scraping used to be easy. Data used to be easy to grab from the internet. It's gotten harder for some sites, but others allow access, or simply haven't gotten around to restricting it. **WHEN SCRAPING, PLEASE MAKE SURE YOU ARE NOT VIOLATING TERMS OF USE**. Usually, these apply to commercial use, and for research or academic purposes, there are fewer restrictions. \n",
    "\n",
    "Below is some code for you to scrape a website. The package is called \"Beautiful Soup\" I have given you code below to use.\n",
    "\n",
    "I have given you TWO websites to scrape. PLEASE PICK ONE of TWO. Either:\n",
    "\n",
    "A speech from Christine LaGrande on Sustainable Development Goal: Here is the url: https://www.imf.org/en/News/Articles/2018/09/17/sp09172018-the-case-for-the-sustainable-development-goals' OR\n",
    "\n",
    "\"Joint Statement of the Russian Federation and the People’s Republic of China on the International Relations Entering a New Era and the Global Sustainable Development\" Feb, 2022. Here is the url: http://www.en.kremlin.ru/supplement/5770"
   ]
  },
  {
   "cell_type": "code",
   "execution_count": 102,
   "id": "07f523e7-2ffc-437d-9c49-4fbcb51293cd",
   "metadata": {},
   "outputs": [
    {
     "name": "stdout",
     "output_type": "stream",
     "text": [
      "All content on this site is licensed under\n",
      "Creative Commons Attribution 4.0 International\n",
      "At the invitation of President of the People’s\n",
      "Republic of China Xi Jinping, President of the Russian Federation Vladimir V.\n",
      "Putin visited China on 4 February 2022. The Heads of State held talks\n",
      "in Beijing and took part in the opening ceremony of the XXIV Olympic Winter\n",
      "Games.\n",
      "The Russian Federation and the People's Republic of China, hereinafter referred to as the sides, state as follows.\n",
      "Today, the world is going through momentous changes,\n",
      "and humanity is entering a new era of rapid development and profound\n",
      "transformation. It sees the development of such processes and phenomena as multipolarity, economic globalization, the advent of information society,\n",
      "cultural diversity, transformation of the global governance architecture and world order; there is increasing interrelation and interdependence between the States;\n",
      "a trend has emerged towards redistribution of power in the world; and the international community is showing a growing demand for the leadership aiming\n",
      "at peaceful and gradual development. At the same time, as the pandemic of the new coronavirus infection continues, the international and regional security\n",
      "situation is complicating and the number of global challenges and threats is\n",
      "growing from day to day. Some actors representing but the minority on the international scale continue to advocate unilateral approaches to addressing\n",
      "international issues and resort to force; they interfere in the internal\n",
      "affairs of other states, infringing their legitimate rights and interests, and incite contradictions, differences and confrontation, thus hampering the development and progress of mankind, against the opposition from the international community.\n",
      "The sides call on all States to pursue well-being for all and, with these ends, to build dialogue and mutual trust, strengthen mutual\n",
      "understanding, champion such universal human values as peace, development,\n",
      "equality, justice, democracy and freedom, respect the rights of peoples to independently determine the development paths of their countries and the sovereignty and the security and development interests of States, to protect\n",
      "the United Nations-driven international architecture and the international\n",
      "law-based world order, seek genuine multipolarity with the United Nations and its Security Council playing a central and coordinating role, promote more\n",
      "democratic international relations, and ensure peace, stability and sustainable\n",
      "development across the world. \n",
      "I\n",
      "The sides share the understanding that democracy is a universal human value, rather than a privilege of a limited number of States,\n",
      "and that its promotion and protection is a common responsibility of the entire world\n",
      "community.\n",
      "The sides believe that democracy is a means of citizens' participation in the government of their country with the view to improving the well-being of population and implementing the principle of popular government. Democracy is exercised in all spheres of public life as part of a nation-wide process and reflects the interests of all the people, its\n",
      "will, guarantees its rights, meets its needs and protects its interests. There\n",
      "is no one-size-fits-all template to guide countries in establishing democracy.\n",
      "A nation can choose such forms and methods of implementing democracy that would\n",
      "best suit its particular state, based on its social and political system, its\n",
      "historical background, traditions and unique cultural characteristics. It is\n",
      "only up to the people of the country to decide whether their State is a democratic one. \n",
      "The sides note that Russia and China as world powers\n",
      "with rich cultural and historical heritage have long-standing traditions of democracy, which rely on thousand-years of experience of development, broad\n",
      "popular support and consideration of the needs and interests of citizens. Russia\n",
      "and China guarantee their people the right to take part through various means\n",
      "and in various forms in the administration of the State and public life in accordance with the law. The people of both countries are certain of the way\n",
      "they have chosen and respect the democratic systems and traditions of other States.\n",
      "The sides note that democratic principles are\n",
      "implemented at the global level, as well as in administration of State. Certain\n",
      "States' attempts to impose their own ”democratic standards“ on other\n",
      "countries, to monopolize the right to assess the level of compliance with\n",
      "democratic criteria, to draw dividing lines based on the grounds of ideology,\n",
      "including by establishing exclusive blocs and alliances of convenience, prove\n",
      "to be nothing but flouting of democracy and go against the spirit and true\n",
      "values of democracy. Such attempts at hegemony pose serious threats to global\n",
      "and regional peace and stability and undermine the stability of the world\n",
      "order.\n",
      "The sides believe that the advocacy of democracy and human rights must not be used to put pressure on other countries. They oppose\n",
      "the abuse of democratic values and interference in the internal affairs of sovereign states under the pretext of protecting democracy and human rights,\n",
      "and any attempts to incite divisions and confrontation in the world. The sides call\n",
      "on the international community to respect cultural and civilizational diversity\n",
      "and the rights of peoples of different countries to self-determination. They\n",
      "stand ready to work together with all the interested partners to promote\n",
      "genuine democracy.\n",
      "The sides note that the Charter of the United Nations\n",
      "and the Universal Declaration of Human Rights set noble goals in the area of universal human rights, set forth fundamental principles, which all the States\n",
      "must comply with and observe in deeds. At the same time, as every nation has\n",
      "its own unique national features, history, culture, social system and level of social and economic development, universal nature of human rights should be\n",
      "seen through the prism of the real situation in every particular country, and human rights should be protected in accordance with the specific situation in each country and the needs of its population. Promotion and protection of human\n",
      "rights is a shared responsibility of the international community. The states\n",
      "should equally prioritize all categories of human rights and promote them in a systemic manner. The international human rights cooperation should be carried\n",
      "out as a dialogue between the equals involving all countries. All States must\n",
      "have equal access to the right to development. Interaction and cooperation on human rights matters should be based on the principle of equality of all\n",
      "countries and mutual respect for the sake of strengthening the international\n",
      "human rights architecture.\n",
      "II\n",
      "The sides believe that peace, development and cooperation lie at the core of the modern international system. Development is\n",
      "a key driver in ensuring the prosperity of the nations. The ongoing pandemic of the new coronavirus infection poses a serious challenge to the fulfilment of the UN 2030 Agenda for Sustainable Development. It is vital to enhance\n",
      "partnership relations for the sake of global development and make sure that the new stage of global development is defined by balance, harmony and inclusiveness.\n",
      "The sides are seeking to advance their work to link\n",
      "the development plans for the Eurasian Economic Union and the Belt and Road\n",
      "Initiative with a view to intensifying practical cooperation between the EAEU\n",
      "and China in various areas and promoting greater interconnectedness between the Asia Pacific and Eurasian regions. The sides reaffirm their focus on building\n",
      "the Greater Eurasian Partnership in parallel and in coordination with the Belt\n",
      "and Road construction to foster the development of regional associations as well as bilateral and multilateral integration processes for the benefit of the peoples on the Eurasian continent.\n",
      "The sides agreed to continue consistently intensifying\n",
      "practical cooperation for the sustainable development of the Arctic. \n",
      "The sides will strengthen cooperation within\n",
      "multilateral mechanisms, including the United Nations, and encourage the international community to prioritize development issues in the global\n",
      "macro-policy coordination. They call on the developed countries to implement in good faith their formal commitments on development assistance, provide more\n",
      "resources to developing countries, address the uneven development of States,\n",
      "work to offset such imbalances within States, and advance global and international development cooperation. The Russian side\n",
      "confirms its readiness to continue working on the China-proposed Global\n",
      "Development Initiative, including participation in the activities of the Group\n",
      "of Friends of the Global Development Initiative under the UN auspices. In order\n",
      "to accelerate the implementation of the UN 2030 Agenda for Sustainable\n",
      "Development, the sides call on the international community to take practical\n",
      "steps in key areas of cooperation such as poverty reduction, food security,\n",
      "vaccines and epidemics control, financing for development, climate change,\n",
      "sustainable development, including green development, industrialization,\n",
      "digital economy, and infrastructure connectivity.\n",
      "The sides call on the international community to create open, equal,\n",
      "fair and non-discriminatory conditions for scientific and technological\n",
      "development, to step up practical implementation of scientific and technological advances in order to identify new drivers of economic growth.\n",
      "The sides call upon all countries to strengthen\n",
      "cooperation in sustainable transport, actively build contacts and share\n",
      "knowledge in the construction of transport facilities, including smart\n",
      "transport and sustainable transport, development and use of Arctic routes, as well as to develop other areas to support global post-epidemic recovery. \n",
      "The sides are taking serious action and making an important contribution to the fight against climate change. Jointly celebrating\n",
      "the 30th anniversary of the adoption of the UN Framework Convention on Climate\n",
      "Change, they reaffirm their commitment to this Convention as well as to the goals, principles and provisions of the Paris Agreement, including the principle of common but differentiated responsibilities. The sides work\n",
      "together to ensure the full and effective implementation of the Paris\n",
      "Agreement, remain committed to fulfilling the obligations they have undertaken\n",
      "and expect that developed countries will actually ensure the annual provision\n",
      "of $100 billion of climate finance to developing states. The sides oppose\n",
      "setting up new barriers in international trade under the pretext of fighting\n",
      "climate change.\n",
      "The sides strongly support the development of international cooperation\n",
      "and exchanges in the field of biological diversity, actively participating in the relevant global governance process, and intend to jointly promote the harmonious development of humankind and nature as well as green transformation\n",
      "to ensure sustainable global development.\n",
      "The Heads of State positively assess the effective interaction between\n",
      "Russia and China in the bilateral and multilateral formats focusing on the fight against the COVID-19 pandemic, protection of life and health of the population of the two countries and the peoples of the world. They will further\n",
      "increase cooperation in the development and manufacture of vaccines against the new coronavirus infection, as well as medical drugs for its treatment, and enhance collaboration in public health and modern medicine. The sides plan to strengthen coordination on epidemiological measures to ensure strong protection\n",
      "of health, safety and order in contacts between citizens of the two countries.\n",
      "The sides have commended the work of the competent authorities and regions of the two countries on implementing quarantine measures in the border areas and ensuring the stable operation of the border crossing points, and intend to consider establishing a joint mechanism for epidemic control and prevention in the border areas to jointly plan anti-epidemic measures to be taken at the border checkpoints, share information, build infrastructure and improve the efficiency of customs clearance of goods.\n",
      "The sides emphasize that ascertaining the origin of the new coronavirus\n",
      "infection is a matter of science. Research on this topic must be based on global knowledge, and that requires cooperation among scientists from all over\n",
      "the world. The sides oppose politicization of this issue. The Russian side\n",
      "welcomes the work carried out jointly by China and WHO to identify the source\n",
      "of the new coronavirus infection and supports the China – WHO joint report\n",
      "on the matter. The sides call on the global community to jointly promote a serious scientific approach to the study of the coronavirus origin.\n",
      "The Russian side supports a successful hosting by the Chinese side of the Winter Olympic and Paralympic Games in Beijing in 2022.\n",
      "The sides highly appreciate the level of bilateral\n",
      "cooperation in sports and the Olympic movement and express their readiness to contribute to its further progressive development.\n",
      "III\n",
      "The sides are gravely concerned about serious international security\n",
      "challenges and believe that the fates of all nations are interconnected. No State\n",
      "can or should ensure its own security separately from the security of the rest\n",
      "of the world and at the expense of the security of other States. The international community should actively engage in global governance to ensure\n",
      "universal, comprehensive, indivisible and lasting security.\n",
      "The sides reaffirm their strong mutual support for the protection of their core interests, state sovereignty and territorial integrity, and oppose\n",
      "interference by external forces in their internal affairs.\n",
      "The Russian side reaffirms its support for the One-China principle,\n",
      "confirms that Taiwan is an inalienable part of China, and opposes any forms of independence of Taiwan. \n",
      "Russia and China stand against attempts by external forces to undermine\n",
      "security and stability in their common adjacent regions, intend to counter\n",
      "interference by outside forces in the internal affairs of sovereign countries\n",
      "under any pretext, oppose colour revolutions, and will increase cooperation in the aforementioned areas.\n",
      "The sides condemn terrorism in all its manifestations, promote the idea\n",
      "of creating a single global anti-terrorism front, with the United Nations\n",
      "playing a central role, advocate stronger political coordination and constructive engagement in multilateral counterterrorism efforts. The sides\n",
      "oppose politicization of the issues of combating terrorism and their use as instruments of policy of double standards, condemn the practice of interference\n",
      "in the internal affairs of other States for geopolitical purposes through the use of terrorist and extremist groups as well as under the guise of combating\n",
      "international terrorism and extremism. \n",
      "The sides believe that certain States, military and political alliances\n",
      "and coalitions seek to obtain, directly or indirectly, unilateral military\n",
      "advantages to the detriment of the security of others, including by employing\n",
      "unfair competition practices, intensify geopolitical rivalry, fuel antagonism\n",
      "and confrontation, and seriously undermine the international security order and global strategic stability. The sides oppose further enlargement of NATO and call on the North Atlantic Alliance to abandon its ideologized cold war\n",
      "approaches, to respect the sovereignty, security and interests of other\n",
      "countries, the diversity of their civilizational, cultural and historical\n",
      "backgrounds, and to exercise a fair and objective attitude towards the peaceful\n",
      "development of other States. The sides stand against the formation of closed\n",
      "bloc structures and opposing camps in the Asia-Pacific region and remain highly\n",
      "vigilant about the negative impact of the United States' Indo-Pacific strategy\n",
      "on peace and stability in the region. Russia and China have made consistent\n",
      "efforts to build an equitable, open and inclusive security system in the Asia-Pacific Region (APR) that is not directed against third countries and that\n",
      "promotes peace, stability and prosperity.\n",
      "The sides welcome the Joint Statement of the Leaders\n",
      "of the Five Nuclear-Weapons States on Preventing Nuclear War and Avoiding Arms\n",
      "Races and believe that all nuclear-weapons States should abandon the cold war\n",
      "mentality and zero-sum games, reduce the role of nuclear weapons in their\n",
      "national security policies, withdraw nuclear weapons deployed abroad, eliminate\n",
      "the unrestricted development of global anti-ballistic missile defense (ABM)\n",
      "system, and take effective steps to reduce the risks of nuclear wars and any\n",
      "armed conflicts between countries with military nuclear capabilities.\n",
      "The sides reaffirm that the Treaty on the Non-Proliferation of Nuclear Weapons is the cornerstone of the international\n",
      "disarmament and nuclear non-proliferation system, an important part of the post-war international security system, and plays an indispensable role in world peace and development. The international community should promote the balanced implementation of the three pillars of the Treaty and work together to protect the credibility, effectiveness and the universal nature of the instrument. \n",
      "The sides are seriously concerned about the trilateral\n",
      "security partnership between Australia, the United States, and the United\n",
      "Kingdom (AUKUS), which provides for deeper cooperation between its members in areas involving strategic stability, in particular their decision to initiate\n",
      "cooperation in the field of nuclear-powered submarines. Russia and China\n",
      "believe that such actions are contrary to the objectives of security and sustainable development of the Asia-Pacific region, increase the danger of an arms race in the region, and pose serious risks of nuclear proliferation. The sides strongly condemn such moves and call on AUKUS participants to fulfil\n",
      "their nuclear and missile non-proliferation commitments in good faith and to work together to safeguard peace, stability, and development in the region.\n",
      "Japan's plans to release nuclear contaminated water\n",
      "from the destroyed Fukushima nuclear plant into the ocean and the potential\n",
      "environmental impact of such actions are of deep concern to the sides. The sides emphasize that the disposal of nuclear contaminated water should be\n",
      "handled with responsibility and carried out in a proper manner based on arrangements between the Japanese side and neighbouring States, other\n",
      "interested parties, and relevant international agencies while ensuring\n",
      "transparency, scientific reasoning, and in accordance with international law.\n",
      "The sides believe that the U.S. withdrawal from the Treaty on the Elimination of Intermediate-Range and Shorter-Range Missiles, the acceleration of research and the development of intermediate-range and shorter-range ground-based missiles and the desire to deploy them in the Asia-Pacific and European regions, as well as their transfer to the allies,\n",
      "entail an increase in tension and distrust, increase risks to international and regional security, lead to the weakening of international non-proliferation and arms control system, undermining global strategic stability. The sided call on the United States to respond positively to the Russian initiative and abandon\n",
      "its plans to deploy intermediate-range and shorter-range ground-based missiles\n",
      "in the Asia-Pacific region and Europe. The sides will continue to maintain\n",
      "contacts and strengthen coordination on this issue.\n",
      "The Chinese side is sympathetic to and supports the proposals put forward by the Russian Federation to create long-term legally\n",
      "binding security guarantees in Europe.\n",
      "The sides note that the denunciation by the United\n",
      "States of a number of important international arms control agreements has an extremely negative impact on international and regional security and stability.\n",
      "The sides express concern over the advancement of U.S. plans to develop global\n",
      "missile defence and deploy its elements in various regions of the world,\n",
      "combined with capacity building of high-precision non-nuclear weapons for disarming strikes and other strategic objectives. The sides stress the importance\n",
      "of the peaceful uses of outer space, strongly support the central role of the UN Committee on the Peaceful Uses of Outer Space in promoting international\n",
      "cooperation, maintaining and developing international space law and regulation\n",
      "in the field of space activities. Russia and China will continue to increase\n",
      "cooperation on such matters of mutual interest as the long-term sustainability\n",
      "of space activities and the development and use of space resources. The sides\n",
      "oppose attempts by some States to turn outer space into an arena of armed\n",
      "confrontation and reiterate their intention to make all necessary efforts to prevent the weaponization of space and an arms race in outer space. They will\n",
      "counteract activities aimed at achieving military superiority in space and using it for combat operations. The sides affirm the need for the early launch\n",
      "of negotiations to conclude a legally binding multilateral instrument based on the Russian-Chinese draft treaty on the prevention of placement of weapons in outer space and the use or threat of force against space objects that would\n",
      "provide fundamental and reliable guarantees against an arms race and the weaponization of outer space.\n",
      "Russia and China emphasize that appropriate\n",
      "transparency and confidence-building measures, including an international\n",
      "initiative/political commitment not to be the first to place weapons in space,\n",
      "can also contribute to the goal of preventing an arms race in outer space, but\n",
      "such measures should complement and not substitute the effective legally\n",
      "binding regime governing space activities.\n",
      "The sides reaffirm their belief that the Convention on the Prohibition of the Development, Production and Stockpiling of Bacteriological (Biological) and Toxin Weapons and on their Destruction (BWC)\n",
      "is an essential pillar of international peace and security. Russia and China\n",
      "underscore their determination to preserve the credibility and effectiveness of the Convention.\n",
      "The sides affirm the need to fully respect and further\n",
      "strengthen the BWC, including by institutionalizing it, strengthening its\n",
      "mechanisms, and adopting a legally binding Protocol to the Convention with an effective verification mechanism, as well as through regular consultation and cooperation in addressing any issues related to the implementation of the Convention. \n",
      "The sides emphasize that domestic and foreign\n",
      "bioweapons activities by the United States and its allies raise serious\n",
      "concerns and questions for the international community regarding their\n",
      "compliance with the BWC. The sides share the view that such activities pose a serious threat to the national security of the Russian Federation and China and are detrimental to the security of the respective regions. The sides call on the U.S. and its allies to act in an open, transparent, and responsible manner\n",
      "by properly reporting on their military biological activities conducted\n",
      "overseas and on their national territory, and by supporting the resumption of negotiations on a legally binding BWC Protocol with an effective verification\n",
      "mechanism.\n",
      "The sides, reaffirming their commitment to the goal of a world free of chemical weapons, call upon all parties to the Chemical Weapons\n",
      "Convention to work together to uphold its credibility and effectiveness. Russia\n",
      "and China are deeply concerned about the politicization of the Organization for the Prohibition of Chemical Weapons and call on all of its members to strengthen solidarity and cooperation and protect the tradition of consensual\n",
      "decision-making. Russia and China insist that the United States, as the sole State\n",
      "Party to the Convention that has not yet completed the process of eliminating\n",
      "chemical weapons, accelerate the elimination of its stockpiles of chemical\n",
      "weapons. The sides emphasize the importance of balancing the non-proliferation\n",
      "obligations of states with the interests of legitimate international\n",
      "cooperation in the use of advanced technology and related materials and equipment for peaceful purposes. The sides note the resolution entitled\n",
      "”Promoting international Cooperation on Peaceful Uses in the Context of International Security“ adopted at the 76th session of the UN General\n",
      "Assembly on the initiative of China and co‑sponsored by Russia, and look\n",
      "forward to its consistent implementation in accordance with the goals set forth\n",
      "therein.\n",
      "The sides attach great importance to the issues of governance in the field of artificial intelligence. The sides are ready to strengthen dialogue and contacts on artificial intelligence.\n",
      "The sides reiterate their readiness to deepen\n",
      "cooperation in the field of international information security and to contribute to building an open, secure, sustainable and accessible ICT\n",
      "environment. The sides emphasize that the principles of the non-use of force,\n",
      "respect for national sovereignty and fundamental human rights and freedoms, and non-interference in the internal affairs of other States, as enshrined in the UN Charter, are applicable to the information space. Russia and China reaffirm\n",
      "the key role of the UN in responding to threats to international information\n",
      "security and express their support for the Organization in developing new norms\n",
      "of conduct of states in this area.\n",
      "The sides welcome the implementation of the global\n",
      "negotiation process on international information security within a single\n",
      "mechanism and support in this context the work of the UN Open-ended Working\n",
      "Group on security of and in the use of information and communication\n",
      "technologies (ICTs) 2021–2025 (OEWG) and express their willingness to speak\n",
      "with one voice within it. The sides consider it necessary to consolidate the efforts of the international community to develop new norms of responsible behaviour\n",
      "of States, including legal ones, as well as a universal international legal\n",
      "instrument regulating the activities of States in the field of ICT. The sides\n",
      "believe that the Global Initiative on Data Security, proposed by the Chinese\n",
      "side and supported, in principle, by the Russian side, provides a basis for the Working Group to discuss and elaborate responses to data security threats and other threats to international information security.\n",
      "The sides reiterate their support of United Nations\n",
      "General Assembly resolutions 74/247 and 75/282, support the work of the relevant Ad Hoc Committee of Governmental Experts, facilitate the negotiations\n",
      "within the United Nations for the elaboration of an international convention on countering the use of ICTs for criminal purposes. The sides encourage constructive\n",
      "participation of all sides in the negotiations in order to agree as soon as possible on a credible, universal, and comprehensive convention and provide it\n",
      "to the United Nations General Assembly at its 78th session in strict\n",
      "compliance with resolution 75/282. For these purposes, Russia and China have\n",
      "presented a joint draft convention as a basis for negotiations.\n",
      "The sides support the internationalization of Internet\n",
      "governance, advocate equal rights to its governance, believe that any attempts\n",
      "to limit their sovereign right to regulate national segments of the Internet\n",
      "and ensure their security are unacceptable, are interested in greater\n",
      "participation of the International Telecommunication Union in addressing these\n",
      "issues.\n",
      "The sides intend to deepen bilateral cooperation in international information security on the basis of the relevant 2015\n",
      "intergovernmental agreement. To this end, the sides have agreed to adopt in the near future a plan for cooperation between Russia and China in this area.\n",
      "IV\n",
      "The sides underline that Russia and China, as world\n",
      "powers and permanent members of the United Nations Security Council, intend to firmly adhere to moral principles and accept their responsibility, strongly\n",
      "advocate the international system with the central coordinating role of the United Nations in international affairs, defend the world order based on international law, including the purposes and principles of the Charter of the United Nations, advance multipolarity and promote the democratization of international relations, together create an even more prospering, stable, and just world, jointly build international relations of a new type.\n",
      "The Russian side notes the significance of the concept\n",
      "of constructing a ”community of common destiny for mankind“ proposed\n",
      "by the Chinese side to ensure greater solidarity of the international community\n",
      "and consolidation of efforts in responding to common challenges. The Chinese\n",
      "side notes the significance of the efforts taken by the Russian side to establish a just multipolar system of international relations. \n",
      "The sides intend to strongly uphold the outcomes of the Second World War and the existing post-war world order, defend the authority of the United Nations and justice in international relations, resist\n",
      "attempts to deny, distort, and falsify the history of the Second World War.\n",
      "In order to prevent the recurrence of the tragedy of the world war, the sides will strongly condemn actions aimed at denying the responsibility for atrocities of Nazi aggressors, militarist invaders, and their accomplices, besmirch and tarnish the honour of the victorious countries.\n",
      "The sides call for the establishment of a new kind of relationships between world powers on the basis of mutual respect, peaceful\n",
      "coexistence and mutually beneficial cooperation. They reaffirm that the new\n",
      "inter-State relations between Russia and China are superior to political and military alliances of the Cold War era. Friendship between the two States has\n",
      "no limits, there are no ”forbidden“ areas of cooperation,\n",
      "strengthening of bilateral strategic cooperation is neither aimed against third\n",
      "countries nor affected by the changing international environment and circumstantial changes in third countries.\n",
      "The sides reiterate the need for consolidation, not\n",
      "division of the international community, the need for cooperation, not\n",
      "confrontation. The sides oppose the return of international relations to the state of confrontation between major powers, when the weak fall prey to the strong. The sides intend to resist attempts to substitute universally\n",
      "recognized formats and mechanisms that are consistent with international law\n",
      "for rules elaborated in private by certain nations or blocs of nations, and are\n",
      "against addressing international problems indirectly and without consensus,\n",
      "oppose power politics, bullying, unilateral sanctions, and extraterritorial\n",
      "application of jurisdiction, as well as the abuse of export control policies,\n",
      "and support trade facilitation in line with the rules of the World Trade\n",
      "Organization (WTO).\n",
      "The sides reaffirmed their intention to strengthen\n",
      "foreign policy coordination, pursue true multilateralism, strengthen\n",
      "cooperation on multilateral platforms, defend common interests, support the international and regional balance of power, and improve global governance.\n",
      "The sides support and defend the multilateral trade system based on the central role of the World Trade Organization (WTO), take an active part in the WTO reform, opposing unilateral approaches and protectionism. The sides are\n",
      "ready to strengthen dialogue between partners and coordinate positions on trade\n",
      "and economic issues of common concern, contribute to ensuring the sustainable\n",
      "and stable operation of global and regional value chains, promote a more open,\n",
      "inclusive, transparent, non-discriminatory system of international trade and economic rules.\n",
      "The sides support the G20 format as an important forum for discussing\n",
      "international economic cooperation issues and anti-crisis response measures,\n",
      "jointly promote the invigorated spirit of solidarity and cooperation within the G20, support the leading role of the association in such areas as the international fight against epidemics, world economic recovery, inclusive\n",
      "sustainable development, improving the global economic governance system in a fair and rational manner to collectively address global challenges.\n",
      "The sides support the deepened strategic partnership within BRICS,\n",
      "promote the expanded cooperation in three main areas: politics and security,\n",
      "economy and finance, and humanitarian exchanges. In particular, Russia and China intend to encourage interaction in the fields of public health, digital\n",
      "economy, science, innovation and technology, including artificial intelligence\n",
      "technologies, as well as the increased coordination between BRICS countries on international platforms. The sides strive to further strengthen the BRICS\n",
      "Plus/Outreach format as an effective mechanism of dialogue with regional\n",
      "integration associations and organizations of developing countries and States\n",
      "with emerging markets.\n",
      "The Russian side will fully support the Chinese side chairing the association in 2022, and assist in the fruitful holding of the XIV BRICS\n",
      "summit.\n",
      "Russia and China aim to comprehensively strengthen the Shanghai Cooperation\n",
      "Organization (SCO) and further enhance its role in shaping a polycentric world\n",
      "order based on the universally recognized principles of international law,\n",
      "multilateralism, equal, joint, indivisible, comprehensive and sustainable\n",
      "security.\n",
      "They consider it important to consistently implement the agreements on improved mechanisms to counter challenges and threats to the security of SCO\n",
      "member states and, in the context of addressing this task, advocate expanded functionality\n",
      "of the SCO Regional Anti-Terrorist Structure.\n",
      "The sides will contribute to imparting a new quality and dynamics to the economic interaction between the SCO member States in the fields of trade,\n",
      "manufacturing, transport, energy, finance, investment, agriculture, customs, telecommunications,\n",
      "innovation and other areas of mutual interest, including through the use of advanced, resource-saving, energy efficient and ”green“ technologies.\n",
      "The sides note the fruitful interaction within the SCO under the 2009\n",
      "Agreement between the Governments of the Shanghai Cooperation Organization member\n",
      "States on cooperation in the field of international information security, as well as within the specialized Group of Experts. In this context, they welcome\n",
      "the adoption of the SCO Joint Action Plan on Ensuring International Information\n",
      "Security for 2022–2023 by the Council of Heads of State of SCO Member States on September 17, 2021 in Dushanbe.\n",
      "Russia and China proceed from the ever-increasing importance of cultural\n",
      "and humanitarian cooperation for the progressive development of the SCO. In order to strengthen mutual understanding between the people of the SCO member States,\n",
      "they will continue to effectively foster interaction in such areas as cultural\n",
      "ties, education, science and technology, healthcare, environmental protection,\n",
      "tourism, people-to-people contacts, sports.\n",
      "Russia and China will continue to work to strengthen the role of APEC as the leading platform for multilateral dialogue on economic issues in the Asia-Pacific region. The sides intend to step up coordinated action to successfully implement the ”Putrajaya guidelines for the development of APEC until 2040“ with a focus on creating a free, open, fair,\n",
      "non-discriminatory, transparent and predictable trade and investment\n",
      "environment in the region. Particular emphasis will be placed on the fight\n",
      "against the novel coronavirus infection pandemic and economic recovery,\n",
      "digitalization of a wide range of different spheres of life, economic growth in remote territories and the establishment of interaction between APEC and other\n",
      "regional multilateral associations with a similar agenda.\n",
      "The sides intend to develop cooperation within the ”Russia-India-China“ format, as well as to strengthen interaction on such\n",
      "venues as the East Asia Summit, ASEAN Regional Forum on Security, Meeting of Defense Ministers of the ASEAN Member States and Dialogue Partners. Russia and China support ASEAN's central role in developing cooperation in East Asia,\n",
      "continue to increase coordination on deepened cooperation with ASEAN, and jointly promote cooperation in the areas of public health, sustainable\n",
      "development, combating terrorism and countering transnational crime. The sides\n",
      "intend to continue to work in the interest of a strengthened role of ASEAN as a key element of the regional architecture.\n",
      "\n",
      "Official Website of the President of Russia:\n",
      "Joint Statement of the Russian Federation and the People’s Republic of China on the International Relations Entering a New Era and the Global Sustainable Development\n",
      "http://en.kremlin.ru/supplement/5770\n",
      "Presidential Executive Office2024\n"
     ]
    }
   ],
   "source": [
    "import requests\n",
    "from bs4 import BeautifulSoup\n",
    " \n",
    "base_url = \"http://www.en.kremlin.ru/supplement/5770\"\n",
    "r = requests.get(base_url)\n",
    "soup = BeautifulSoup(r.text)\n",
    "paragraphs = soup.find_all('p')\n",
    "\n",
    "for p in paragraphs:\n",
    "    print(p.get_text())"
   ]
  },
  {
   "cell_type": "markdown",
   "id": "c053edd6-7900-40cf-9bdb-b1c5b191f358",
   "metadata": {},
   "source": [
    "5 pts Modify the text above to write the text to a list called \"document\"\n"
   ]
  },
  {
   "cell_type": "code",
   "execution_count": 104,
   "id": "ccd516db-0d54-434a-be1e-be0f06a3cf2e",
   "metadata": {},
   "outputs": [
    {
     "name": "stdout",
     "output_type": "stream",
     "text": [
      "All content on this site is licensed under\n",
      "Creative Commons Attribution 4.0 International\n",
      "At the invitation of President of the People’s\n",
      "Republic of China Xi Jinping, President of the Russian Federation Vladimir V.\n",
      "Putin visited China on 4 February 2022. The Heads of State held talks\n",
      "in Beijing and took part in the opening ceremony of the XXIV Olympic Winter\n",
      "Games.\n",
      "The Russian Federation and the People's Republic of China, hereinafter referred to as the sides, state as follows.\n",
      "Today, the world is going through momentous changes,\n",
      "and humanity is entering a new era of rapid development and profound\n",
      "transformation. It sees the development of such processes and phenomena as multipolarity, economic globalization, the advent of information society,\n",
      "cultural diversity, transformation of the global governance architecture and world order; there is increasing interrelation and interdependence between the States;\n",
      "a trend has emerged towards redistribution of power in the world; and the international community is showing a growing demand for the leadership aiming\n",
      "at peaceful and gradual development. At the same time, as the pandemic of the new coronavirus infection continues, the international and regional security\n",
      "situation is complicating and the number of global challenges and threats is\n",
      "growing from day to day. Some actors representing but the minority on the international scale continue to advocate unilateral approaches to addressing\n",
      "international issues and resort to force; they interfere in the internal\n",
      "affairs of other states, infringing their legitimate rights and interests, and incite contradictions, differences and confrontation, thus hampering the development and progress of mankind, against the opposition from the international community.\n",
      "The sides call on all States to pursue well-being for all and, with these ends, to build dialogue and mutual trust, strengthen mutual\n",
      "understanding, champion such universal human values as peace, development,\n",
      "equality, justice, democracy and freedom, respect the rights of peoples to independently determine the development paths of their countries and the sovereignty and the security and development interests of States, to protect\n",
      "the United Nations-driven international architecture and the international\n",
      "law-based world order, seek genuine multipolarity with the United Nations and its Security Council playing a central and coordinating role, promote more\n",
      "democratic international relations, and ensure peace, stability and sustainable\n",
      "development across the world. \n",
      "I\n",
      "The sides share the understanding that democracy is a universal human value, rather than a privilege of a limited number of States,\n",
      "and that its promotion and protection is a common responsibility of the entire world\n",
      "community.\n",
      "The sides believe that democracy is a means of citizens' participation in the government of their country with the view to improving the well-being of population and implementing the principle of popular government. Democracy is exercised in all spheres of public life as part of a nation-wide process and reflects the interests of all the people, its\n",
      "will, guarantees its rights, meets its needs and protects its interests. There\n",
      "is no one-size-fits-all template to guide countries in establishing democracy.\n",
      "A nation can choose such forms and methods of implementing democracy that would\n",
      "best suit its particular state, based on its social and political system, its\n",
      "historical background, traditions and unique cultural characteristics. It is\n",
      "only up to the people of the country to decide whether their State is a democratic one. \n",
      "The sides note that Russia and China as world powers\n",
      "with rich cultural and historical heritage have long-standing traditions of democracy, which rely on thousand-years of experience of development, broad\n",
      "popular support and consideration of the needs and interests of citizens. Russia\n",
      "and China guarantee their people the right to take part through various means\n",
      "and in various forms in the administration of the State and public life in accordance with the law. The people of both countries are certain of the way\n",
      "they have chosen and respect the democratic systems and traditions of other States.\n",
      "The sides note that democratic principles are\n",
      "implemented at the global level, as well as in administration of State. Certain\n",
      "States' attempts to impose their own ”democratic standards“ on other\n",
      "countries, to monopolize the right to assess the level of compliance with\n",
      "democratic criteria, to draw dividing lines based on the grounds of ideology,\n",
      "including by establishing exclusive blocs and alliances of convenience, prove\n",
      "to be nothing but flouting of democracy and go against the spirit and true\n",
      "values of democracy. Such attempts at hegemony pose serious threats to global\n",
      "and regional peace and stability and undermine the stability of the world\n",
      "order.\n",
      "The sides believe that the advocacy of democracy and human rights must not be used to put pressure on other countries. They oppose\n",
      "the abuse of democratic values and interference in the internal affairs of sovereign states under the pretext of protecting democracy and human rights,\n",
      "and any attempts to incite divisions and confrontation in the world. The sides call\n",
      "on the international community to respect cultural and civilizational diversity\n",
      "and the rights of peoples of different countries to self-determination. They\n",
      "stand ready to work together with all the interested partners to promote\n",
      "genuine democracy.\n",
      "The sides note that the Charter of the United Nations\n",
      "and the Universal Declaration of Human Rights set noble goals in the area of universal human rights, set forth fundamental principles, which all the States\n",
      "must comply with and observe in deeds. At the same time, as every nation has\n",
      "its own unique national features, history, culture, social system and level of social and economic development, universal nature of human rights should be\n",
      "seen through the prism of the real situation in every particular country, and human rights should be protected in accordance with the specific situation in each country and the needs of its population. Promotion and protection of human\n",
      "rights is a shared responsibility of the international community. The states\n",
      "should equally prioritize all categories of human rights and promote them in a systemic manner. The international human rights cooperation should be carried\n",
      "out as a dialogue between the equals involving all countries. All States must\n",
      "have equal access to the right to development. Interaction and cooperation on human rights matters should be based on the principle of equality of all\n",
      "countries and mutual respect for the sake of strengthening the international\n",
      "human rights architecture.\n",
      "II\n",
      "The sides believe that peace, development and cooperation lie at the core of the modern international system. Development is\n",
      "a key driver in ensuring the prosperity of the nations. The ongoing pandemic of the new coronavirus infection poses a serious challenge to the fulfilment of the UN 2030 Agenda for Sustainable Development. It is vital to enhance\n",
      "partnership relations for the sake of global development and make sure that the new stage of global development is defined by balance, harmony and inclusiveness.\n",
      "The sides are seeking to advance their work to link\n",
      "the development plans for the Eurasian Economic Union and the Belt and Road\n",
      "Initiative with a view to intensifying practical cooperation between the EAEU\n",
      "and China in various areas and promoting greater interconnectedness between the Asia Pacific and Eurasian regions. The sides reaffirm their focus on building\n",
      "the Greater Eurasian Partnership in parallel and in coordination with the Belt\n",
      "and Road construction to foster the development of regional associations as well as bilateral and multilateral integration processes for the benefit of the peoples on the Eurasian continent.\n",
      "The sides agreed to continue consistently intensifying\n",
      "practical cooperation for the sustainable development of the Arctic. \n",
      "The sides will strengthen cooperation within\n",
      "multilateral mechanisms, including the United Nations, and encourage the international community to prioritize development issues in the global\n",
      "macro-policy coordination. They call on the developed countries to implement in good faith their formal commitments on development assistance, provide more\n",
      "resources to developing countries, address the uneven development of States,\n",
      "work to offset such imbalances within States, and advance global and international development cooperation. The Russian side\n",
      "confirms its readiness to continue working on the China-proposed Global\n",
      "Development Initiative, including participation in the activities of the Group\n",
      "of Friends of the Global Development Initiative under the UN auspices. In order\n",
      "to accelerate the implementation of the UN 2030 Agenda for Sustainable\n",
      "Development, the sides call on the international community to take practical\n",
      "steps in key areas of cooperation such as poverty reduction, food security,\n",
      "vaccines and epidemics control, financing for development, climate change,\n",
      "sustainable development, including green development, industrialization,\n",
      "digital economy, and infrastructure connectivity.\n",
      "The sides call on the international community to create open, equal,\n",
      "fair and non-discriminatory conditions for scientific and technological\n",
      "development, to step up practical implementation of scientific and technological advances in order to identify new drivers of economic growth.\n",
      "The sides call upon all countries to strengthen\n",
      "cooperation in sustainable transport, actively build contacts and share\n",
      "knowledge in the construction of transport facilities, including smart\n",
      "transport and sustainable transport, development and use of Arctic routes, as well as to develop other areas to support global post-epidemic recovery. \n",
      "The sides are taking serious action and making an important contribution to the fight against climate change. Jointly celebrating\n",
      "the 30th anniversary of the adoption of the UN Framework Convention on Climate\n",
      "Change, they reaffirm their commitment to this Convention as well as to the goals, principles and provisions of the Paris Agreement, including the principle of common but differentiated responsibilities. The sides work\n",
      "together to ensure the full and effective implementation of the Paris\n",
      "Agreement, remain committed to fulfilling the obligations they have undertaken\n",
      "and expect that developed countries will actually ensure the annual provision\n",
      "of $100 billion of climate finance to developing states. The sides oppose\n",
      "setting up new barriers in international trade under the pretext of fighting\n",
      "climate change.\n",
      "The sides strongly support the development of international cooperation\n",
      "and exchanges in the field of biological diversity, actively participating in the relevant global governance process, and intend to jointly promote the harmonious development of humankind and nature as well as green transformation\n",
      "to ensure sustainable global development.\n",
      "The Heads of State positively assess the effective interaction between\n",
      "Russia and China in the bilateral and multilateral formats focusing on the fight against the COVID-19 pandemic, protection of life and health of the population of the two countries and the peoples of the world. They will further\n",
      "increase cooperation in the development and manufacture of vaccines against the new coronavirus infection, as well as medical drugs for its treatment, and enhance collaboration in public health and modern medicine. The sides plan to strengthen coordination on epidemiological measures to ensure strong protection\n",
      "of health, safety and order in contacts between citizens of the two countries.\n",
      "The sides have commended the work of the competent authorities and regions of the two countries on implementing quarantine measures in the border areas and ensuring the stable operation of the border crossing points, and intend to consider establishing a joint mechanism for epidemic control and prevention in the border areas to jointly plan anti-epidemic measures to be taken at the border checkpoints, share information, build infrastructure and improve the efficiency of customs clearance of goods.\n",
      "The sides emphasize that ascertaining the origin of the new coronavirus\n",
      "infection is a matter of science. Research on this topic must be based on global knowledge, and that requires cooperation among scientists from all over\n",
      "the world. The sides oppose politicization of this issue. The Russian side\n",
      "welcomes the work carried out jointly by China and WHO to identify the source\n",
      "of the new coronavirus infection and supports the China – WHO joint report\n",
      "on the matter. The sides call on the global community to jointly promote a serious scientific approach to the study of the coronavirus origin.\n",
      "The Russian side supports a successful hosting by the Chinese side of the Winter Olympic and Paralympic Games in Beijing in 2022.\n",
      "The sides highly appreciate the level of bilateral\n",
      "cooperation in sports and the Olympic movement and express their readiness to contribute to its further progressive development.\n",
      "III\n",
      "The sides are gravely concerned about serious international security\n",
      "challenges and believe that the fates of all nations are interconnected. No State\n",
      "can or should ensure its own security separately from the security of the rest\n",
      "of the world and at the expense of the security of other States. The international community should actively engage in global governance to ensure\n",
      "universal, comprehensive, indivisible and lasting security.\n",
      "The sides reaffirm their strong mutual support for the protection of their core interests, state sovereignty and territorial integrity, and oppose\n",
      "interference by external forces in their internal affairs.\n",
      "The Russian side reaffirms its support for the One-China principle,\n",
      "confirms that Taiwan is an inalienable part of China, and opposes any forms of independence of Taiwan. \n",
      "Russia and China stand against attempts by external forces to undermine\n",
      "security and stability in their common adjacent regions, intend to counter\n",
      "interference by outside forces in the internal affairs of sovereign countries\n",
      "under any pretext, oppose colour revolutions, and will increase cooperation in the aforementioned areas.\n",
      "The sides condemn terrorism in all its manifestations, promote the idea\n",
      "of creating a single global anti-terrorism front, with the United Nations\n",
      "playing a central role, advocate stronger political coordination and constructive engagement in multilateral counterterrorism efforts. The sides\n",
      "oppose politicization of the issues of combating terrorism and their use as instruments of policy of double standards, condemn the practice of interference\n",
      "in the internal affairs of other States for geopolitical purposes through the use of terrorist and extremist groups as well as under the guise of combating\n",
      "international terrorism and extremism. \n",
      "The sides believe that certain States, military and political alliances\n",
      "and coalitions seek to obtain, directly or indirectly, unilateral military\n",
      "advantages to the detriment of the security of others, including by employing\n",
      "unfair competition practices, intensify geopolitical rivalry, fuel antagonism\n",
      "and confrontation, and seriously undermine the international security order and global strategic stability. The sides oppose further enlargement of NATO and call on the North Atlantic Alliance to abandon its ideologized cold war\n",
      "approaches, to respect the sovereignty, security and interests of other\n",
      "countries, the diversity of their civilizational, cultural and historical\n",
      "backgrounds, and to exercise a fair and objective attitude towards the peaceful\n",
      "development of other States. The sides stand against the formation of closed\n",
      "bloc structures and opposing camps in the Asia-Pacific region and remain highly\n",
      "vigilant about the negative impact of the United States' Indo-Pacific strategy\n",
      "on peace and stability in the region. Russia and China have made consistent\n",
      "efforts to build an equitable, open and inclusive security system in the Asia-Pacific Region (APR) that is not directed against third countries and that\n",
      "promotes peace, stability and prosperity.\n",
      "The sides welcome the Joint Statement of the Leaders\n",
      "of the Five Nuclear-Weapons States on Preventing Nuclear War and Avoiding Arms\n",
      "Races and believe that all nuclear-weapons States should abandon the cold war\n",
      "mentality and zero-sum games, reduce the role of nuclear weapons in their\n",
      "national security policies, withdraw nuclear weapons deployed abroad, eliminate\n",
      "the unrestricted development of global anti-ballistic missile defense (ABM)\n",
      "system, and take effective steps to reduce the risks of nuclear wars and any\n",
      "armed conflicts between countries with military nuclear capabilities.\n",
      "The sides reaffirm that the Treaty on the Non-Proliferation of Nuclear Weapons is the cornerstone of the international\n",
      "disarmament and nuclear non-proliferation system, an important part of the post-war international security system, and plays an indispensable role in world peace and development. The international community should promote the balanced implementation of the three pillars of the Treaty and work together to protect the credibility, effectiveness and the universal nature of the instrument. \n",
      "The sides are seriously concerned about the trilateral\n",
      "security partnership between Australia, the United States, and the United\n",
      "Kingdom (AUKUS), which provides for deeper cooperation between its members in areas involving strategic stability, in particular their decision to initiate\n",
      "cooperation in the field of nuclear-powered submarines. Russia and China\n",
      "believe that such actions are contrary to the objectives of security and sustainable development of the Asia-Pacific region, increase the danger of an arms race in the region, and pose serious risks of nuclear proliferation. The sides strongly condemn such moves and call on AUKUS participants to fulfil\n",
      "their nuclear and missile non-proliferation commitments in good faith and to work together to safeguard peace, stability, and development in the region.\n",
      "Japan's plans to release nuclear contaminated water\n",
      "from the destroyed Fukushima nuclear plant into the ocean and the potential\n",
      "environmental impact of such actions are of deep concern to the sides. The sides emphasize that the disposal of nuclear contaminated water should be\n",
      "handled with responsibility and carried out in a proper manner based on arrangements between the Japanese side and neighbouring States, other\n",
      "interested parties, and relevant international agencies while ensuring\n",
      "transparency, scientific reasoning, and in accordance with international law.\n",
      "The sides believe that the U.S. withdrawal from the Treaty on the Elimination of Intermediate-Range and Shorter-Range Missiles, the acceleration of research and the development of intermediate-range and shorter-range ground-based missiles and the desire to deploy them in the Asia-Pacific and European regions, as well as their transfer to the allies,\n",
      "entail an increase in tension and distrust, increase risks to international and regional security, lead to the weakening of international non-proliferation and arms control system, undermining global strategic stability. The sided call on the United States to respond positively to the Russian initiative and abandon\n",
      "its plans to deploy intermediate-range and shorter-range ground-based missiles\n",
      "in the Asia-Pacific region and Europe. The sides will continue to maintain\n",
      "contacts and strengthen coordination on this issue.\n",
      "The Chinese side is sympathetic to and supports the proposals put forward by the Russian Federation to create long-term legally\n",
      "binding security guarantees in Europe.\n",
      "The sides note that the denunciation by the United\n",
      "States of a number of important international arms control agreements has an extremely negative impact on international and regional security and stability.\n",
      "The sides express concern over the advancement of U.S. plans to develop global\n",
      "missile defence and deploy its elements in various regions of the world,\n",
      "combined with capacity building of high-precision non-nuclear weapons for disarming strikes and other strategic objectives. The sides stress the importance\n",
      "of the peaceful uses of outer space, strongly support the central role of the UN Committee on the Peaceful Uses of Outer Space in promoting international\n",
      "cooperation, maintaining and developing international space law and regulation\n",
      "in the field of space activities. Russia and China will continue to increase\n",
      "cooperation on such matters of mutual interest as the long-term sustainability\n",
      "of space activities and the development and use of space resources. The sides\n",
      "oppose attempts by some States to turn outer space into an arena of armed\n",
      "confrontation and reiterate their intention to make all necessary efforts to prevent the weaponization of space and an arms race in outer space. They will\n",
      "counteract activities aimed at achieving military superiority in space and using it for combat operations. The sides affirm the need for the early launch\n",
      "of negotiations to conclude a legally binding multilateral instrument based on the Russian-Chinese draft treaty on the prevention of placement of weapons in outer space and the use or threat of force against space objects that would\n",
      "provide fundamental and reliable guarantees against an arms race and the weaponization of outer space.\n",
      "Russia and China emphasize that appropriate\n",
      "transparency and confidence-building measures, including an international\n",
      "initiative/political commitment not to be the first to place weapons in space,\n",
      "can also contribute to the goal of preventing an arms race in outer space, but\n",
      "such measures should complement and not substitute the effective legally\n",
      "binding regime governing space activities.\n",
      "The sides reaffirm their belief that the Convention on the Prohibition of the Development, Production and Stockpiling of Bacteriological (Biological) and Toxin Weapons and on their Destruction (BWC)\n",
      "is an essential pillar of international peace and security. Russia and China\n",
      "underscore their determination to preserve the credibility and effectiveness of the Convention.\n",
      "The sides affirm the need to fully respect and further\n",
      "strengthen the BWC, including by institutionalizing it, strengthening its\n",
      "mechanisms, and adopting a legally binding Protocol to the Convention with an effective verification mechanism, as well as through regular consultation and cooperation in addressing any issues related to the implementation of the Convention. \n",
      "The sides emphasize that domestic and foreign\n",
      "bioweapons activities by the United States and its allies raise serious\n",
      "concerns and questions for the international community regarding their\n",
      "compliance with the BWC. The sides share the view that such activities pose a serious threat to the national security of the Russian Federation and China and are detrimental to the security of the respective regions. The sides call on the U.S. and its allies to act in an open, transparent, and responsible manner\n",
      "by properly reporting on their military biological activities conducted\n",
      "overseas and on their national territory, and by supporting the resumption of negotiations on a legally binding BWC Protocol with an effective verification\n",
      "mechanism.\n",
      "The sides, reaffirming their commitment to the goal of a world free of chemical weapons, call upon all parties to the Chemical Weapons\n",
      "Convention to work together to uphold its credibility and effectiveness. Russia\n",
      "and China are deeply concerned about the politicization of the Organization for the Prohibition of Chemical Weapons and call on all of its members to strengthen solidarity and cooperation and protect the tradition of consensual\n",
      "decision-making. Russia and China insist that the United States, as the sole State\n",
      "Party to the Convention that has not yet completed the process of eliminating\n",
      "chemical weapons, accelerate the elimination of its stockpiles of chemical\n",
      "weapons. The sides emphasize the importance of balancing the non-proliferation\n",
      "obligations of states with the interests of legitimate international\n",
      "cooperation in the use of advanced technology and related materials and equipment for peaceful purposes. The sides note the resolution entitled\n",
      "”Promoting international Cooperation on Peaceful Uses in the Context of International Security“ adopted at the 76th session of the UN General\n",
      "Assembly on the initiative of China and co‑sponsored by Russia, and look\n",
      "forward to its consistent implementation in accordance with the goals set forth\n",
      "therein.\n",
      "The sides attach great importance to the issues of governance in the field of artificial intelligence. The sides are ready to strengthen dialogue and contacts on artificial intelligence.\n",
      "The sides reiterate their readiness to deepen\n",
      "cooperation in the field of international information security and to contribute to building an open, secure, sustainable and accessible ICT\n",
      "environment. The sides emphasize that the principles of the non-use of force,\n",
      "respect for national sovereignty and fundamental human rights and freedoms, and non-interference in the internal affairs of other States, as enshrined in the UN Charter, are applicable to the information space. Russia and China reaffirm\n",
      "the key role of the UN in responding to threats to international information\n",
      "security and express their support for the Organization in developing new norms\n",
      "of conduct of states in this area.\n",
      "The sides welcome the implementation of the global\n",
      "negotiation process on international information security within a single\n",
      "mechanism and support in this context the work of the UN Open-ended Working\n",
      "Group on security of and in the use of information and communication\n",
      "technologies (ICTs) 2021–2025 (OEWG) and express their willingness to speak\n",
      "with one voice within it. The sides consider it necessary to consolidate the efforts of the international community to develop new norms of responsible behaviour\n",
      "of States, including legal ones, as well as a universal international legal\n",
      "instrument regulating the activities of States in the field of ICT. The sides\n",
      "believe that the Global Initiative on Data Security, proposed by the Chinese\n",
      "side and supported, in principle, by the Russian side, provides a basis for the Working Group to discuss and elaborate responses to data security threats and other threats to international information security.\n",
      "The sides reiterate their support of United Nations\n",
      "General Assembly resolutions 74/247 and 75/282, support the work of the relevant Ad Hoc Committee of Governmental Experts, facilitate the negotiations\n",
      "within the United Nations for the elaboration of an international convention on countering the use of ICTs for criminal purposes. The sides encourage constructive\n",
      "participation of all sides in the negotiations in order to agree as soon as possible on a credible, universal, and comprehensive convention and provide it\n",
      "to the United Nations General Assembly at its 78th session in strict\n",
      "compliance with resolution 75/282. For these purposes, Russia and China have\n",
      "presented a joint draft convention as a basis for negotiations.\n",
      "The sides support the internationalization of Internet\n",
      "governance, advocate equal rights to its governance, believe that any attempts\n",
      "to limit their sovereign right to regulate national segments of the Internet\n",
      "and ensure their security are unacceptable, are interested in greater\n",
      "participation of the International Telecommunication Union in addressing these\n",
      "issues.\n",
      "The sides intend to deepen bilateral cooperation in international information security on the basis of the relevant 2015\n",
      "intergovernmental agreement. To this end, the sides have agreed to adopt in the near future a plan for cooperation between Russia and China in this area.\n",
      "IV\n",
      "The sides underline that Russia and China, as world\n",
      "powers and permanent members of the United Nations Security Council, intend to firmly adhere to moral principles and accept their responsibility, strongly\n",
      "advocate the international system with the central coordinating role of the United Nations in international affairs, defend the world order based on international law, including the purposes and principles of the Charter of the United Nations, advance multipolarity and promote the democratization of international relations, together create an even more prospering, stable, and just world, jointly build international relations of a new type.\n",
      "The Russian side notes the significance of the concept\n",
      "of constructing a ”community of common destiny for mankind“ proposed\n",
      "by the Chinese side to ensure greater solidarity of the international community\n",
      "and consolidation of efforts in responding to common challenges. The Chinese\n",
      "side notes the significance of the efforts taken by the Russian side to establish a just multipolar system of international relations. \n",
      "The sides intend to strongly uphold the outcomes of the Second World War and the existing post-war world order, defend the authority of the United Nations and justice in international relations, resist\n",
      "attempts to deny, distort, and falsify the history of the Second World War.\n",
      "In order to prevent the recurrence of the tragedy of the world war, the sides will strongly condemn actions aimed at denying the responsibility for atrocities of Nazi aggressors, militarist invaders, and their accomplices, besmirch and tarnish the honour of the victorious countries.\n",
      "The sides call for the establishment of a new kind of relationships between world powers on the basis of mutual respect, peaceful\n",
      "coexistence and mutually beneficial cooperation. They reaffirm that the new\n",
      "inter-State relations between Russia and China are superior to political and military alliances of the Cold War era. Friendship between the two States has\n",
      "no limits, there are no ”forbidden“ areas of cooperation,\n",
      "strengthening of bilateral strategic cooperation is neither aimed against third\n",
      "countries nor affected by the changing international environment and circumstantial changes in third countries.\n",
      "The sides reiterate the need for consolidation, not\n",
      "division of the international community, the need for cooperation, not\n",
      "confrontation. The sides oppose the return of international relations to the state of confrontation between major powers, when the weak fall prey to the strong. The sides intend to resist attempts to substitute universally\n",
      "recognized formats and mechanisms that are consistent with international law\n",
      "for rules elaborated in private by certain nations or blocs of nations, and are\n",
      "against addressing international problems indirectly and without consensus,\n",
      "oppose power politics, bullying, unilateral sanctions, and extraterritorial\n",
      "application of jurisdiction, as well as the abuse of export control policies,\n",
      "and support trade facilitation in line with the rules of the World Trade\n",
      "Organization (WTO).\n",
      "The sides reaffirmed their intention to strengthen\n",
      "foreign policy coordination, pursue true multilateralism, strengthen\n",
      "cooperation on multilateral platforms, defend common interests, support the international and regional balance of power, and improve global governance.\n",
      "The sides support and defend the multilateral trade system based on the central role of the World Trade Organization (WTO), take an active part in the WTO reform, opposing unilateral approaches and protectionism. The sides are\n",
      "ready to strengthen dialogue between partners and coordinate positions on trade\n",
      "and economic issues of common concern, contribute to ensuring the sustainable\n",
      "and stable operation of global and regional value chains, promote a more open,\n",
      "inclusive, transparent, non-discriminatory system of international trade and economic rules.\n",
      "The sides support the G20 format as an important forum for discussing\n",
      "international economic cooperation issues and anti-crisis response measures,\n",
      "jointly promote the invigorated spirit of solidarity and cooperation within the G20, support the leading role of the association in such areas as the international fight against epidemics, world economic recovery, inclusive\n",
      "sustainable development, improving the global economic governance system in a fair and rational manner to collectively address global challenges.\n",
      "The sides support the deepened strategic partnership within BRICS,\n",
      "promote the expanded cooperation in three main areas: politics and security,\n",
      "economy and finance, and humanitarian exchanges. In particular, Russia and China intend to encourage interaction in the fields of public health, digital\n",
      "economy, science, innovation and technology, including artificial intelligence\n",
      "technologies, as well as the increased coordination between BRICS countries on international platforms. The sides strive to further strengthen the BRICS\n",
      "Plus/Outreach format as an effective mechanism of dialogue with regional\n",
      "integration associations and organizations of developing countries and States\n",
      "with emerging markets.\n",
      "The Russian side will fully support the Chinese side chairing the association in 2022, and assist in the fruitful holding of the XIV BRICS\n",
      "summit.\n",
      "Russia and China aim to comprehensively strengthen the Shanghai Cooperation\n",
      "Organization (SCO) and further enhance its role in shaping a polycentric world\n",
      "order based on the universally recognized principles of international law,\n",
      "multilateralism, equal, joint, indivisible, comprehensive and sustainable\n",
      "security.\n",
      "They consider it important to consistently implement the agreements on improved mechanisms to counter challenges and threats to the security of SCO\n",
      "member states and, in the context of addressing this task, advocate expanded functionality\n",
      "of the SCO Regional Anti-Terrorist Structure.\n",
      "The sides will contribute to imparting a new quality and dynamics to the economic interaction between the SCO member States in the fields of trade,\n",
      "manufacturing, transport, energy, finance, investment, agriculture, customs, telecommunications,\n",
      "innovation and other areas of mutual interest, including through the use of advanced, resource-saving, energy efficient and ”green“ technologies.\n",
      "The sides note the fruitful interaction within the SCO under the 2009\n",
      "Agreement between the Governments of the Shanghai Cooperation Organization member\n",
      "States on cooperation in the field of international information security, as well as within the specialized Group of Experts. In this context, they welcome\n",
      "the adoption of the SCO Joint Action Plan on Ensuring International Information\n",
      "Security for 2022–2023 by the Council of Heads of State of SCO Member States on September 17, 2021 in Dushanbe.\n",
      "Russia and China proceed from the ever-increasing importance of cultural\n",
      "and humanitarian cooperation for the progressive development of the SCO. In order to strengthen mutual understanding between the people of the SCO member States,\n",
      "they will continue to effectively foster interaction in such areas as cultural\n",
      "ties, education, science and technology, healthcare, environmental protection,\n",
      "tourism, people-to-people contacts, sports.\n",
      "Russia and China will continue to work to strengthen the role of APEC as the leading platform for multilateral dialogue on economic issues in the Asia-Pacific region. The sides intend to step up coordinated action to successfully implement the ”Putrajaya guidelines for the development of APEC until 2040“ with a focus on creating a free, open, fair,\n",
      "non-discriminatory, transparent and predictable trade and investment\n",
      "environment in the region. Particular emphasis will be placed on the fight\n",
      "against the novel coronavirus infection pandemic and economic recovery,\n",
      "digitalization of a wide range of different spheres of life, economic growth in remote territories and the establishment of interaction between APEC and other\n",
      "regional multilateral associations with a similar agenda.\n",
      "The sides intend to develop cooperation within the ”Russia-India-China“ format, as well as to strengthen interaction on such\n",
      "venues as the East Asia Summit, ASEAN Regional Forum on Security, Meeting of Defense Ministers of the ASEAN Member States and Dialogue Partners. Russia and China support ASEAN's central role in developing cooperation in East Asia,\n",
      "continue to increase coordination on deepened cooperation with ASEAN, and jointly promote cooperation in the areas of public health, sustainable\n",
      "development, combating terrorism and countering transnational crime. The sides\n",
      "intend to continue to work in the interest of a strengthened role of ASEAN as a key element of the regional architecture.\n",
      "\n",
      "Official Website of the President of Russia:\n",
      "Joint Statement of the Russian Federation and the People’s Republic of China on the International Relations Entering a New Era and the Global Sustainable Development\n",
      "http://en.kremlin.ru/supplement/5770\n",
      "Presidential Executive Office2024\n"
     ]
    }
   ],
   "source": [
    "# Your code here:\n",
    "base_url = \"http://www.en.kremlin.ru/supplement/5770\"\n",
    "r = requests.get(base_url)\n",
    "soup = BeautifulSoup(r.text)\n",
    "document = []\n",
    "paragraphs = soup.find_all('p') #This is a way ChatGPT gave me to find all paragraphs on the page\n",
    "for p in paragraphs:\n",
    "    document.append(p.get_text()) #This extracts the text found inside the paragraphs\n",
    "for paragraph in document:\n",
    "    print(paragraph)"
   ]
  },
  {
   "cell_type": "code",
   "execution_count": null,
   "id": "7fdb9fd0-ae4b-4608-82f7-9f34d216d86c",
   "metadata": {},
   "outputs": [],
   "source": [
    "5 pts Write the code to a file called \"document.txt\""
   ]
  },
  {
   "cell_type": "code",
   "execution_count": 110,
   "id": "1cb238d1-a64a-4a96-88d9-7d15569dc59d",
   "metadata": {},
   "outputs": [
    {
     "name": "stdout",
     "output_type": "stream",
     "text": [
      "The text has been written to 'document.txt'.\n"
     ]
    }
   ],
   "source": [
    "# Your code here:\n",
    "base_url = \"http://www.en.kremlin.ru/supplement/5770\"\n",
    "r = requests.get(base_url)\n",
    "soup = BeautifulSoup(r.text)\n",
    "document = []\n",
    "paragraphs = soup.find_all('p')\n",
    "for p in paragraphs:\n",
    "    document.append(p.get_text()) #Same code to begin as above\n",
    "with open('document.txt', 'w', encoding='utf-8') as file: #I had to add the encoding bit because I got an error message about special characters, and ChatGPT suggested this solution\n",
    "    for paragraph in document:\n",
    "        file.write(paragraph + '\\n') #This writes each paragraph to the file and goes to a new line\n",
    "print(\"The text has been written to 'document.txt'.\")"
   ]
  },
  {
   "cell_type": "markdown",
   "id": "8fa5d878-807a-42be-89e2-0eeabbe47c74",
   "metadata": {},
   "source": [
    "20 pts Clean the document of any extraneous elements, remove stopwords and perform a word frequency distribution analysis on your document, showing and then plotting the top 20 words"
   ]
  },
  {
   "cell_type": "code",
   "execution_count": 122,
   "id": "060d7c8f-c9e4-4f20-9937-49875f2d3826",
   "metadata": {},
   "outputs": [
    {
     "name": "stdout",
     "output_type": "stream",
     "text": [
      "All content on this site is licensed under\n",
      "Creative Commons Attribution 4.0 International\n",
      "At the invitation of President of the People’s\n",
      "Republic of China Xi Jinping, President of the Russian Federation Vladimir V.\n",
      "Putin visited China on 4 February 2022. The Heads of State held talks\n",
      "in Beijing and took part in the opening ceremony of the XXIV Olympic Winter\n",
      "Games.\n",
      "The Russian Federation and the People's Republic of China, hereinafter referred to as the sides, state as follows.\n",
      "Today, the world is going through momentous changes,\n",
      "and humanity is entering a new era of rapid development and profound\n",
      "transformation. It sees the development of such processes and phenomena as multipolarity, economic globalization, the advent of information society,\n",
      "cultural diversity, transformation of the global governance architecture and world order; there is increasing interrelation and interdependence between the States;\n",
      "a trend has emerged towards redistribution of power in the world; and the international community is showing a growing demand for the leadership aiming\n",
      "at peaceful and gradual development. At the same time, as the pandemic of the new coronavirus infection continues, the international and regional security\n",
      "situation is complicating and the number of global challenges and threats is\n",
      "growing from day to day. Some actors representing but the minority on the international scale continue to advocate unilateral approaches to addressing\n",
      "international issues and resort to force; they interfere in the internal\n",
      "affairs of other states, infringing their legitimate rights and interests, and incite contradictions, differences and confrontation, thus hampering the development and progress of mankind, against the opposition from the international community.\n",
      "The sides call on all States to pursue well-being for all and, with these ends, to build dialogue and mutual trust, strengthen mutual\n",
      "understanding, champion such universal human values as peace, development,\n",
      "equality, justice, democracy and freedom, respect the rights of peoples to independently determine the development paths of their countries and the sovereignty and the security and development interests of States, to protect\n",
      "the United Nations-driven international architecture and the international\n",
      "law-based world order, seek genuine multipolarity with the United Nations and its Security Council playing a central and coordinating role, promote more\n",
      "democratic international relations, and ensure peace, stability and sustainable\n",
      "development across the world. \n",
      "I\n",
      "The sides share the understanding that democracy is a universal human value, rather than a privilege of a limited number of States,\n",
      "and that its promotion and protection is a common responsibility of the entire world\n",
      "community.\n",
      "The sides believe that democracy is a means of citizens' participation in the government of their country with the view to improving the well-being of population and implementing the principle of popular government. Democracy is exercised in all spheres of public life as part of a nation-wide process and reflects the interests of all the people, its\n",
      "will, guarantees its rights, meets its needs and protects its interests. There\n",
      "is no one-size-fits-all template to guide countries in establishing democracy.\n",
      "A nation can choose such forms and methods of implementing democracy that would\n",
      "best suit its particular state, based on its social and political system, its\n",
      "historical background, traditions and unique cultural characteristics. It is\n",
      "only up to the people of the country to decide whether their State is a democratic one. \n",
      "The sides note that Russia and China as world powers\n",
      "with rich cultural and historical heritage have long-standing traditions of democracy, which rely on thousand-years of experience of development, broad\n",
      "popular support and consideration of the needs and interests of citizens. Russia\n",
      "and China guarantee their people the right to take part through various means\n",
      "and in various forms in the administration of the State and public life in accordance with the law. The people of both countries are certain of the way\n",
      "they have chosen and respect the democratic systems and traditions of other States.\n",
      "The sides note that democratic principles are\n",
      "implemented at the global level, as well as in administration of State. Certain\n",
      "States' attempts to impose their own ”democratic standards“ on other\n",
      "countries, to monopolize the right to assess the level of compliance with\n",
      "democratic criteria, to draw dividing lines based on the grounds of ideology,\n",
      "including by establishing exclusive blocs and alliances of convenience, prove\n",
      "to be nothing but flouting of democracy and go against the spirit and true\n",
      "values of democracy. Such attempts at hegemony pose serious threats to global\n",
      "and regional peace and stability and undermine the stability of the world\n",
      "order.\n",
      "The sides believe that the advocacy of democracy and human rights must not be used to put pressure on other countries. They oppose\n",
      "the abuse of democratic values and interference in the internal affairs of sovereign states under the pretext of protecting democracy and human rights,\n",
      "and any attempts to incite divisions and confrontation in the world. The sides call\n",
      "on the international community to respect cultural and civilizational diversity\n",
      "and the rights of peoples of different countries to self-determination. They\n",
      "stand ready to work together with all the interested partners to promote\n",
      "genuine democracy.\n",
      "The sides note that the Charter of the United Nations\n",
      "and the Universal Declaration of Human Rights set noble goals in the area of universal human rights, set forth fundamental principles, which all the States\n",
      "must comply with and observe in deeds. At the same time, as every nation has\n",
      "its own unique national features, history, culture, social system and level of social and economic development, universal nature of human rights should be\n",
      "seen through the prism of the real situation in every particular country, and human rights should be protected in accordance with the specific situation in each country and the needs of its population. Promotion and protection of human\n",
      "rights is a shared responsibility of the international community. The states\n",
      "should equally prioritize all categories of human rights and promote them in a systemic manner. The international human rights cooperation should be carried\n",
      "out as a dialogue between the equals involving all countries. All States must\n",
      "have equal access to the right to development. Interaction and cooperation on human rights matters should be based on the principle of equality of all\n",
      "countries and mutual respect for the sake of strengthening the international\n",
      "human rights architecture.\n",
      "II\n",
      "The sides believe that peace, development and cooperation lie at the core of the modern international system. Development is\n",
      "a key driver in ensuring the prosperity of the nations. The ongoing pandemic of the new coronavirus infection poses a serious challenge to the fulfilment of the UN 2030 Agenda for Sustainable Development. It is vital to enhance\n",
      "partnership relations for the sake of global development and make sure that the new stage of global development is defined by balance, harmony and inclusiveness.\n",
      "The sides are seeking to advance their work to link\n",
      "the development plans for the Eurasian Economic Union and the Belt and Road\n",
      "Initiative with a view to intensifying practical cooperation between the EAEU\n",
      "and China in various areas and promoting greater interconnectedness between the Asia Pacific and Eurasian regions. The sides reaffirm their focus on building\n",
      "the Greater Eurasian Partnership in parallel and in coordination with the Belt\n",
      "and Road construction to foster the development of regional associations as well as bilateral and multilateral integration processes for the benefit of the peoples on the Eurasian continent.\n",
      "The sides agreed to continue consistently intensifying\n",
      "practical cooperation for the sustainable development of the Arctic. \n",
      "The sides will strengthen cooperation within\n",
      "multilateral mechanisms, including the United Nations, and encourage the international community to prioritize development issues in the global\n",
      "macro-policy coordination. They call on the developed countries to implement in good faith their formal commitments on development assistance, provide more\n",
      "resources to developing countries, address the uneven development of States,\n",
      "work to offset such imbalances within States, and advance global and international development cooperation. The Russian side\n",
      "confirms its readiness to continue working on the China-proposed Global\n",
      "Development Initiative, including participation in the activities of the Group\n",
      "of Friends of the Global Development Initiative under the UN auspices. In order\n",
      "to accelerate the implementation of the UN 2030 Agenda for Sustainable\n",
      "Development, the sides call on the international community to take practical\n",
      "steps in key areas of cooperation such as poverty reduction, food security,\n",
      "vaccines and epidemics control, financing for development, climate change,\n",
      "sustainable development, including green development, industrialization,\n",
      "digital economy, and infrastructure connectivity.\n",
      "The sides call on the international community to create open, equal,\n",
      "fair and non-discriminatory conditions for scientific and technological\n",
      "development, to step up practical implementation of scientific and technological advances in order to identify new drivers of economic growth.\n",
      "The sides call upon all countries to strengthen\n",
      "cooperation in sustainable transport, actively build contacts and share\n",
      "knowledge in the construction of transport facilities, including smart\n",
      "transport and sustainable transport, development and use of Arctic routes, as well as to develop other areas to support global post-epidemic recovery. \n",
      "The sides are taking serious action and making an important contribution to the fight against climate change. Jointly celebrating\n",
      "the 30th anniversary of the adoption of the UN Framework Convention on Climate\n",
      "Change, they reaffirm their commitment to this Convention as well as to the goals, principles and provisions of the Paris Agreement, including the principle of common but differentiated responsibilities. The sides work\n",
      "together to ensure the full and effective implementation of the Paris\n",
      "Agreement, remain committed to fulfilling the obligations they have undertaken\n",
      "and expect that developed countries will actually ensure the annual provision\n",
      "of $100 billion of climate finance to developing states. The sides oppose\n",
      "setting up new barriers in international trade under the pretext of fighting\n",
      "climate change.\n",
      "The sides strongly support the development of international cooperation\n",
      "and exchanges in the field of biological diversity, actively participating in the relevant global governance process, and intend to jointly promote the harmonious development of humankind and nature as well as green transformation\n",
      "to ensure sustainable global development.\n",
      "The Heads of State positively assess the effective interaction between\n",
      "Russia and China in the bilateral and multilateral formats focusing on the fight against the COVID-19 pandemic, protection of life and health of the population of the two countries and the peoples of the world. They will further\n",
      "increase cooperation in the development and manufacture of vaccines against the new coronavirus infection, as well as medical drugs for its treatment, and enhance collaboration in public health and modern medicine. The sides plan to strengthen coordination on epidemiological measures to ensure strong protection\n",
      "of health, safety and order in contacts between citizens of the two countries.\n",
      "The sides have commended the work of the competent authorities and regions of the two countries on implementing quarantine measures in the border areas and ensuring the stable operation of the border crossing points, and intend to consider establishing a joint mechanism for epidemic control and prevention in the border areas to jointly plan anti-epidemic measures to be taken at the border checkpoints, share information, build infrastructure and improve the efficiency of customs clearance of goods.\n",
      "The sides emphasize that ascertaining the origin of the new coronavirus\n",
      "infection is a matter of science. Research on this topic must be based on global knowledge, and that requires cooperation among scientists from all over\n",
      "the world. The sides oppose politicization of this issue. The Russian side\n",
      "welcomes the work carried out jointly by China and WHO to identify the source\n",
      "of the new coronavirus infection and supports the China – WHO joint report\n",
      "on the matter. The sides call on the global community to jointly promote a serious scientific approach to the study of the coronavirus origin.\n",
      "The Russian side supports a successful hosting by the Chinese side of the Winter Olympic and Paralympic Games in Beijing in 2022.\n",
      "The sides highly appreciate the level of bilateral\n",
      "cooperation in sports and the Olympic movement and express their readiness to contribute to its further progressive development.\n",
      "III\n",
      "The sides are gravely concerned about serious international security\n",
      "challenges and believe that the fates of all nations are interconnected. No State\n",
      "can or should ensure its own security separately from the security of the rest\n",
      "of the world and at the expense of the security of other States. The international community should actively engage in global governance to ensure\n",
      "universal, comprehensive, indivisible and lasting security.\n",
      "The sides reaffirm their strong mutual support for the protection of their core interests, state sovereignty and territorial integrity, and oppose\n",
      "interference by external forces in their internal affairs.\n",
      "The Russian side reaffirms its support for the One-China principle,\n",
      "confirms that Taiwan is an inalienable part of China, and opposes any forms of independence of Taiwan. \n",
      "Russia and China stand against attempts by external forces to undermine\n",
      "security and stability in their common adjacent regions, intend to counter\n",
      "interference by outside forces in the internal affairs of sovereign countries\n",
      "under any pretext, oppose colour revolutions, and will increase cooperation in the aforementioned areas.\n",
      "The sides condemn terrorism in all its manifestations, promote the idea\n",
      "of creating a single global anti-terrorism front, with the United Nations\n",
      "playing a central role, advocate stronger political coordination and constructive engagement in multilateral counterterrorism efforts. The sides\n",
      "oppose politicization of the issues of combating terrorism and their use as instruments of policy of double standards, condemn the practice of interference\n",
      "in the internal affairs of other States for geopolitical purposes through the use of terrorist and extremist groups as well as under the guise of combating\n",
      "international terrorism and extremism. \n",
      "The sides believe that certain States, military and political alliances\n",
      "and coalitions seek to obtain, directly or indirectly, unilateral military\n",
      "advantages to the detriment of the security of others, including by employing\n",
      "unfair competition practices, intensify geopolitical rivalry, fuel antagonism\n",
      "and confrontation, and seriously undermine the international security order and global strategic stability. The sides oppose further enlargement of NATO and call on the North Atlantic Alliance to abandon its ideologized cold war\n",
      "approaches, to respect the sovereignty, security and interests of other\n",
      "countries, the diversity of their civilizational, cultural and historical\n",
      "backgrounds, and to exercise a fair and objective attitude towards the peaceful\n",
      "development of other States. The sides stand against the formation of closed\n",
      "bloc structures and opposing camps in the Asia-Pacific region and remain highly\n",
      "vigilant about the negative impact of the United States' Indo-Pacific strategy\n",
      "on peace and stability in the region. Russia and China have made consistent\n",
      "efforts to build an equitable, open and inclusive security system in the Asia-Pacific Region (APR) that is not directed against third countries and that\n",
      "promotes peace, stability and prosperity.\n",
      "The sides welcome the Joint Statement of the Leaders\n",
      "of the Five Nuclear-Weapons States on Preventing Nuclear War and Avoiding Arms\n",
      "Races and believe that all nuclear-weapons States should abandon the cold war\n",
      "mentality and zero-sum games, reduce the role of nuclear weapons in their\n",
      "national security policies, withdraw nuclear weapons deployed abroad, eliminate\n",
      "the unrestricted development of global anti-ballistic missile defense (ABM)\n",
      "system, and take effective steps to reduce the risks of nuclear wars and any\n",
      "armed conflicts between countries with military nuclear capabilities.\n",
      "The sides reaffirm that the Treaty on the Non-Proliferation of Nuclear Weapons is the cornerstone of the international\n",
      "disarmament and nuclear non-proliferation system, an important part of the post-war international security system, and plays an indispensable role in world peace and development. The international community should promote the balanced implementation of the three pillars of the Treaty and work together to protect the credibility, effectiveness and the universal nature of the instrument. \n",
      "The sides are seriously concerned about the trilateral\n",
      "security partnership between Australia, the United States, and the United\n",
      "Kingdom (AUKUS), which provides for deeper cooperation between its members in areas involving strategic stability, in particular their decision to initiate\n",
      "cooperation in the field of nuclear-powered submarines. Russia and China\n",
      "believe that such actions are contrary to the objectives of security and sustainable development of the Asia-Pacific region, increase the danger of an arms race in the region, and pose serious risks of nuclear proliferation. The sides strongly condemn such moves and call on AUKUS participants to fulfil\n",
      "their nuclear and missile non-proliferation commitments in good faith and to work together to safeguard peace, stability, and development in the region.\n",
      "Japan's plans to release nuclear contaminated water\n",
      "from the destroyed Fukushima nuclear plant into the ocean and the potential\n",
      "environmental impact of such actions are of deep concern to the sides. The sides emphasize that the disposal of nuclear contaminated water should be\n",
      "handled with responsibility and carried out in a proper manner based on arrangements between the Japanese side and neighbouring States, other\n",
      "interested parties, and relevant international agencies while ensuring\n",
      "transparency, scientific reasoning, and in accordance with international law.\n",
      "The sides believe that the U.S. withdrawal from the Treaty on the Elimination of Intermediate-Range and Shorter-Range Missiles, the acceleration of research and the development of intermediate-range and shorter-range ground-based missiles and the desire to deploy them in the Asia-Pacific and European regions, as well as their transfer to the allies,\n",
      "entail an increase in tension and distrust, increase risks to international and regional security, lead to the weakening of international non-proliferation and arms control system, undermining global strategic stability. The sided call on the United States to respond positively to the Russian initiative and abandon\n",
      "its plans to deploy intermediate-range and shorter-range ground-based missiles\n",
      "in the Asia-Pacific region and Europe. The sides will continue to maintain\n",
      "contacts and strengthen coordination on this issue.\n",
      "The Chinese side is sympathetic to and supports the proposals put forward by the Russian Federation to create long-term legally\n",
      "binding security guarantees in Europe.\n",
      "The sides note that the denunciation by the United\n",
      "States of a number of important international arms control agreements has an extremely negative impact on international and regional security and stability.\n",
      "The sides express concern over the advancement of U.S. plans to develop global\n",
      "missile defence and deploy its elements in various regions of the world,\n",
      "combined with capacity building of high-precision non-nuclear weapons for disarming strikes and other strategic objectives. The sides stress the importance\n",
      "of the peaceful uses of outer space, strongly support the central role of the UN Committee on the Peaceful Uses of Outer Space in promoting international\n",
      "cooperation, maintaining and developing international space law and regulation\n",
      "in the field of space activities. Russia and China will continue to increase\n",
      "cooperation on such matters of mutual interest as the long-term sustainability\n",
      "of space activities and the development and use of space resources. The sides\n",
      "oppose attempts by some States to turn outer space into an arena of armed\n",
      "confrontation and reiterate their intention to make all necessary efforts to prevent the weaponization of space and an arms race in outer space. They will\n",
      "counteract activities aimed at achieving military superiority in space and using it for combat operations. The sides affirm the need for the early launch\n",
      "of negotiations to conclude a legally binding multilateral instrument based on the Russian-Chinese draft treaty on the prevention of placement of weapons in outer space and the use or threat of force against space objects that would\n",
      "provide fundamental and reliable guarantees against an arms race and the weaponization of outer space.\n",
      "Russia and China emphasize that appropriate\n",
      "transparency and confidence-building measures, including an international\n",
      "initiative/political commitment not to be the first to place weapons in space,\n",
      "can also contribute to the goal of preventing an arms race in outer space, but\n",
      "such measures should complement and not substitute the effective legally\n",
      "binding regime governing space activities.\n",
      "The sides reaffirm their belief that the Convention on the Prohibition of the Development, Production and Stockpiling of Bacteriological (Biological) and Toxin Weapons and on their Destruction (BWC)\n",
      "is an essential pillar of international peace and security. Russia and China\n",
      "underscore their determination to preserve the credibility and effectiveness of the Convention.\n",
      "The sides affirm the need to fully respect and further\n",
      "strengthen the BWC, including by institutionalizing it, strengthening its\n",
      "mechanisms, and adopting a legally binding Protocol to the Convention with an effective verification mechanism, as well as through regular consultation and cooperation in addressing any issues related to the implementation of the Convention. \n",
      "The sides emphasize that domestic and foreign\n",
      "bioweapons activities by the United States and its allies raise serious\n",
      "concerns and questions for the international community regarding their\n",
      "compliance with the BWC. The sides share the view that such activities pose a serious threat to the national security of the Russian Federation and China and are detrimental to the security of the respective regions. The sides call on the U.S. and its allies to act in an open, transparent, and responsible manner\n",
      "by properly reporting on their military biological activities conducted\n",
      "overseas and on their national territory, and by supporting the resumption of negotiations on a legally binding BWC Protocol with an effective verification\n",
      "mechanism.\n",
      "The sides, reaffirming their commitment to the goal of a world free of chemical weapons, call upon all parties to the Chemical Weapons\n",
      "Convention to work together to uphold its credibility and effectiveness. Russia\n",
      "and China are deeply concerned about the politicization of the Organization for the Prohibition of Chemical Weapons and call on all of its members to strengthen solidarity and cooperation and protect the tradition of consensual\n",
      "decision-making. Russia and China insist that the United States, as the sole State\n",
      "Party to the Convention that has not yet completed the process of eliminating\n",
      "chemical weapons, accelerate the elimination of its stockpiles of chemical\n",
      "weapons. The sides emphasize the importance of balancing the non-proliferation\n",
      "obligations of states with the interests of legitimate international\n",
      "cooperation in the use of advanced technology and related materials and equipment for peaceful purposes. The sides note the resolution entitled\n",
      "”Promoting international Cooperation on Peaceful Uses in the Context of International Security“ adopted at the 76th session of the UN General\n",
      "Assembly on the initiative of China and co‑sponsored by Russia, and look\n",
      "forward to its consistent implementation in accordance with the goals set forth\n",
      "therein.\n",
      "The sides attach great importance to the issues of governance in the field of artificial intelligence. The sides are ready to strengthen dialogue and contacts on artificial intelligence.\n",
      "The sides reiterate their readiness to deepen\n",
      "cooperation in the field of international information security and to contribute to building an open, secure, sustainable and accessible ICT\n",
      "environment. The sides emphasize that the principles of the non-use of force,\n",
      "respect for national sovereignty and fundamental human rights and freedoms, and non-interference in the internal affairs of other States, as enshrined in the UN Charter, are applicable to the information space. Russia and China reaffirm\n",
      "the key role of the UN in responding to threats to international information\n",
      "security and express their support for the Organization in developing new norms\n",
      "of conduct of states in this area.\n",
      "The sides welcome the implementation of the global\n",
      "negotiation process on international information security within a single\n",
      "mechanism and support in this context the work of the UN Open-ended Working\n",
      "Group on security of and in the use of information and communication\n",
      "technologies (ICTs) 2021–2025 (OEWG) and express their willingness to speak\n",
      "with one voice within it. The sides consider it necessary to consolidate the efforts of the international community to develop new norms of responsible behaviour\n",
      "of States, including legal ones, as well as a universal international legal\n",
      "instrument regulating the activities of States in the field of ICT. The sides\n",
      "believe that the Global Initiative on Data Security, proposed by the Chinese\n",
      "side and supported, in principle, by the Russian side, provides a basis for the Working Group to discuss and elaborate responses to data security threats and other threats to international information security.\n",
      "The sides reiterate their support of United Nations\n",
      "General Assembly resolutions 74/247 and 75/282, support the work of the relevant Ad Hoc Committee of Governmental Experts, facilitate the negotiations\n",
      "within the United Nations for the elaboration of an international convention on countering the use of ICTs for criminal purposes. The sides encourage constructive\n",
      "participation of all sides in the negotiations in order to agree as soon as possible on a credible, universal, and comprehensive convention and provide it\n",
      "to the United Nations General Assembly at its 78th session in strict\n",
      "compliance with resolution 75/282. For these purposes, Russia and China have\n",
      "presented a joint draft convention as a basis for negotiations.\n",
      "The sides support the internationalization of Internet\n",
      "governance, advocate equal rights to its governance, believe that any attempts\n",
      "to limit their sovereign right to regulate national segments of the Internet\n",
      "and ensure their security are unacceptable, are interested in greater\n",
      "participation of the International Telecommunication Union in addressing these\n",
      "issues.\n",
      "The sides intend to deepen bilateral cooperation in international information security on the basis of the relevant 2015\n",
      "intergovernmental agreement. To this end, the sides have agreed to adopt in the near future a plan for cooperation between Russia and China in this area.\n",
      "IV\n",
      "The sides underline that Russia and China, as world\n",
      "powers and permanent members of the United Nations Security Council, intend to firmly adhere to moral principles and accept their responsibility, strongly\n",
      "advocate the international system with the central coordinating role of the United Nations in international affairs, defend the world order based on international law, including the purposes and principles of the Charter of the United Nations, advance multipolarity and promote the democratization of international relations, together create an even more prospering, stable, and just world, jointly build international relations of a new type.\n",
      "The Russian side notes the significance of the concept\n",
      "of constructing a ”community of common destiny for mankind“ proposed\n",
      "by the Chinese side to ensure greater solidarity of the international community\n",
      "and consolidation of efforts in responding to common challenges. The Chinese\n",
      "side notes the significance of the efforts taken by the Russian side to establish a just multipolar system of international relations. \n",
      "The sides intend to strongly uphold the outcomes of the Second World War and the existing post-war world order, defend the authority of the United Nations and justice in international relations, resist\n",
      "attempts to deny, distort, and falsify the history of the Second World War.\n",
      "In order to prevent the recurrence of the tragedy of the world war, the sides will strongly condemn actions aimed at denying the responsibility for atrocities of Nazi aggressors, militarist invaders, and their accomplices, besmirch and tarnish the honour of the victorious countries.\n",
      "The sides call for the establishment of a new kind of relationships between world powers on the basis of mutual respect, peaceful\n",
      "coexistence and mutually beneficial cooperation. They reaffirm that the new\n",
      "inter-State relations between Russia and China are superior to political and military alliances of the Cold War era. Friendship between the two States has\n",
      "no limits, there are no ”forbidden“ areas of cooperation,\n",
      "strengthening of bilateral strategic cooperation is neither aimed against third\n",
      "countries nor affected by the changing international environment and circumstantial changes in third countries.\n",
      "The sides reiterate the need for consolidation, not\n",
      "division of the international community, the need for cooperation, not\n",
      "confrontation. The sides oppose the return of international relations to the state of confrontation between major powers, when the weak fall prey to the strong. The sides intend to resist attempts to substitute universally\n",
      "recognized formats and mechanisms that are consistent with international law\n",
      "for rules elaborated in private by certain nations or blocs of nations, and are\n",
      "against addressing international problems indirectly and without consensus,\n",
      "oppose power politics, bullying, unilateral sanctions, and extraterritorial\n",
      "application of jurisdiction, as well as the abuse of export control policies,\n",
      "and support trade facilitation in line with the rules of the World Trade\n",
      "Organization (WTO).\n",
      "The sides reaffirmed their intention to strengthen\n",
      "foreign policy coordination, pursue true multilateralism, strengthen\n",
      "cooperation on multilateral platforms, defend common interests, support the international and regional balance of power, and improve global governance.\n",
      "The sides support and defend the multilateral trade system based on the central role of the World Trade Organization (WTO), take an active part in the WTO reform, opposing unilateral approaches and protectionism. The sides are\n",
      "ready to strengthen dialogue between partners and coordinate positions on trade\n",
      "and economic issues of common concern, contribute to ensuring the sustainable\n",
      "and stable operation of global and regional value chains, promote a more open,\n",
      "inclusive, transparent, non-discriminatory system of international trade and economic rules.\n",
      "The sides support the G20 format as an important forum for discussing\n",
      "international economic cooperation issues and anti-crisis response measures,\n",
      "jointly promote the invigorated spirit of solidarity and cooperation within the G20, support the leading role of the association in such areas as the international fight against epidemics, world economic recovery, inclusive\n",
      "sustainable development, improving the global economic governance system in a fair and rational manner to collectively address global challenges.\n",
      "The sides support the deepened strategic partnership within BRICS,\n",
      "promote the expanded cooperation in three main areas: politics and security,\n",
      "economy and finance, and humanitarian exchanges. In particular, Russia and China intend to encourage interaction in the fields of public health, digital\n",
      "economy, science, innovation and technology, including artificial intelligence\n",
      "technologies, as well as the increased coordination between BRICS countries on international platforms. The sides strive to further strengthen the BRICS\n",
      "Plus/Outreach format as an effective mechanism of dialogue with regional\n",
      "integration associations and organizations of developing countries and States\n",
      "with emerging markets.\n",
      "The Russian side will fully support the Chinese side chairing the association in 2022, and assist in the fruitful holding of the XIV BRICS\n",
      "summit.\n",
      "Russia and China aim to comprehensively strengthen the Shanghai Cooperation\n",
      "Organization (SCO) and further enhance its role in shaping a polycentric world\n",
      "order based on the universally recognized principles of international law,\n",
      "multilateralism, equal, joint, indivisible, comprehensive and sustainable\n",
      "security.\n",
      "They consider it important to consistently implement the agreements on improved mechanisms to counter challenges and threats to the security of SCO\n",
      "member states and, in the context of addressing this task, advocate expanded functionality\n",
      "of the SCO Regional Anti-Terrorist Structure.\n",
      "The sides will contribute to imparting a new quality and dynamics to the economic interaction between the SCO member States in the fields of trade,\n",
      "manufacturing, transport, energy, finance, investment, agriculture, customs, telecommunications,\n",
      "innovation and other areas of mutual interest, including through the use of advanced, resource-saving, energy efficient and ”green“ technologies.\n",
      "The sides note the fruitful interaction within the SCO under the 2009\n",
      "Agreement between the Governments of the Shanghai Cooperation Organization member\n",
      "States on cooperation in the field of international information security, as well as within the specialized Group of Experts. In this context, they welcome\n",
      "the adoption of the SCO Joint Action Plan on Ensuring International Information\n",
      "Security for 2022–2023 by the Council of Heads of State of SCO Member States on September 17, 2021 in Dushanbe.\n",
      "Russia and China proceed from the ever-increasing importance of cultural\n",
      "and humanitarian cooperation for the progressive development of the SCO. In order to strengthen mutual understanding between the people of the SCO member States,\n",
      "they will continue to effectively foster interaction in such areas as cultural\n",
      "ties, education, science and technology, healthcare, environmental protection,\n",
      "tourism, people-to-people contacts, sports.\n",
      "Russia and China will continue to work to strengthen the role of APEC as the leading platform for multilateral dialogue on economic issues in the Asia-Pacific region. The sides intend to step up coordinated action to successfully implement the ”Putrajaya guidelines for the development of APEC until 2040“ with a focus on creating a free, open, fair,\n",
      "non-discriminatory, transparent and predictable trade and investment\n",
      "environment in the region. Particular emphasis will be placed on the fight\n",
      "against the novel coronavirus infection pandemic and economic recovery,\n",
      "digitalization of a wide range of different spheres of life, economic growth in remote territories and the establishment of interaction between APEC and other\n",
      "regional multilateral associations with a similar agenda.\n",
      "The sides intend to develop cooperation within the ”Russia-India-China“ format, as well as to strengthen interaction on such\n",
      "venues as the East Asia Summit, ASEAN Regional Forum on Security, Meeting of Defense Ministers of the ASEAN Member States and Dialogue Partners. Russia and China support ASEAN's central role in developing cooperation in East Asia,\n",
      "continue to increase coordination on deepened cooperation with ASEAN, and jointly promote cooperation in the areas of public health, sustainable\n",
      "development, combating terrorism and countering transnational crime. The sides\n",
      "intend to continue to work in the interest of a strengthened role of ASEAN as a key element of the regional architecture.\n",
      "\n",
      "Official Website of the President of Russia:\n",
      "Joint Statement of the Russian Federation and the People’s Republic of China on the International Relations Entering a New Era and the Global Sustainable Development\n",
      "http://en.kremlin.ru/supplement/5770\n",
      "Presidential Executive Office2024\n",
      "\n"
     ]
    }
   ],
   "source": [
    "# Your code here:\n",
    "with open('document.txt', 'r', encoding='utf-8') as file:\n",
    "    content = file.read()\n",
    "print(content)"
   ]
  },
  {
   "cell_type": "code",
   "execution_count": 126,
   "id": "7106dd1e-4b47-4614-8eda-91b8de1d1475",
   "metadata": {},
   "outputs": [
    {
     "name": "stdout",
     "output_type": "stream",
     "text": [
      "['All', 'content', 'on', 'this', 'site', 'is', 'licensed', 'under', 'Creative', 'Commons', 'Attribution', '4.0', 'International', 'At', 'the', 'invitation', 'of', 'President', 'of', 'the', 'People’s', 'Republic', 'of', 'China', 'Xi', 'Jinping,', 'President', 'of', 'the', 'Russian', 'Federation', 'Vladimir', 'V.', 'Putin', 'visited', 'China', 'on', '4', 'February', '2022.', 'The', 'Heads', 'of', 'State', 'held', 'talks', 'in', 'Beijing', 'and', 'took', 'part', 'in', 'the', 'opening', 'ceremony', 'of', 'the', 'XXIV', 'Olympic', 'Winter', 'Games.', 'The', 'Russian', 'Federation', 'and', 'the', \"People's\", 'Republic', 'of', 'China,', 'hereinafter', 'referred', 'to', 'as', 'the', 'sides,', 'state', 'as', 'follows.', 'Today,', 'the', 'world', 'is', 'going', 'through', 'momentous', 'changes,', 'and', 'humanity', 'is', 'entering', 'a', 'new', 'era', 'of', 'rapid', 'development', 'and', 'profound', 'transformation.', 'It', 'sees', 'the', 'development', 'of', 'such', 'processes', 'and', 'phenomena', 'as', 'multipolarity,', 'economic', 'globalization,', 'the', 'advent', 'of', 'information', 'society,', 'cultural', 'diversity,', 'transformation', 'of', 'the', 'global', 'governance', 'architecture', 'and', 'world', 'order;', 'there', 'is', 'increasing', 'interrelation', 'and', 'interdependence', 'between', 'the', 'States;', 'a', 'trend', 'has', 'emerged', 'towards', 'redistribution', 'of', 'power', 'in', 'the', 'world;', 'and', 'the', 'international', 'community', 'is', 'showing', 'a', 'growing', 'demand', 'for', 'the', 'leadership', 'aiming', 'at', 'peaceful', 'and', 'gradual', 'development.', 'At', 'the', 'same', 'time,', 'as', 'the', 'pandemic', 'of', 'the', 'new', 'coronavirus', 'infection', 'continues,', 'the', 'international', 'and', 'regional', 'security', 'situation', 'is', 'complicating', 'and', 'the', 'number', 'of', 'global', 'challenges', 'and', 'threats', 'is', 'growing', 'from', 'day', 'to', 'day.', 'Some', 'actors', 'representing', 'but', 'the', 'minority', 'on', 'the', 'international', 'scale', 'continue', 'to', 'advocate', 'unilateral', 'approaches', 'to', 'addressing', 'international', 'issues', 'and', 'resort', 'to', 'force;', 'they', 'interfere', 'in', 'the', 'internal', 'affairs', 'of', 'other', 'states,', 'infringing', 'their', 'legitimate', 'rights', 'and', 'interests,', 'and', 'incite', 'contradictions,', 'differences', 'and', 'confrontation,', 'thus', 'hampering', 'the', 'development', 'and', 'progress', 'of', 'mankind,', 'against', 'the', 'opposition', 'from', 'the', 'international', 'community.', 'The', 'sides', 'call', 'on', 'all', 'States', 'to', 'pursue', 'well-being', 'for', 'all', 'and,', 'with', 'these', 'ends,', 'to', 'build', 'dialogue', 'and', 'mutual', 'trust,', 'strengthen', 'mutual', 'understanding,', 'champion', 'such', 'universal', 'human', 'values', 'as', 'peace,', 'development,', 'equality,', 'justice,', 'democracy', 'and', 'freedom,', 'respect', 'the', 'rights', 'of', 'peoples', 'to', 'independently', 'determine', 'the', 'development', 'paths', 'of', 'their', 'countries', 'and', 'the', 'sovereignty', 'and', 'the', 'security', 'and', 'development', 'interests', 'of', 'States,', 'to', 'protect', 'the', 'United', 'Nations-driven', 'international', 'architecture', 'and', 'the', 'international', 'law-based', 'world', 'order,', 'seek', 'genuine', 'multipolarity', 'with', 'the', 'United', 'Nations', 'and', 'its', 'Security', 'Council', 'playing', 'a', 'central', 'and', 'coordinating', 'role,', 'promote', 'more', 'democratic', 'international', 'relations,', 'and', 'ensure', 'peace,', 'stability', 'and', 'sustainable', 'development', 'across', 'the', 'world.', 'I', 'The', 'sides', 'share', 'the', 'understanding', 'that', 'democracy', 'is', 'a', 'universal', 'human', 'value,', 'rather', 'than', 'a', 'privilege', 'of', 'a', 'limited', 'number', 'of', 'States,', 'and', 'that', 'its', 'promotion', 'and', 'protection', 'is', 'a', 'common', 'responsibility', 'of', 'the', 'entire', 'world', 'community.', 'The', 'sides', 'believe', 'that', 'democracy', 'is', 'a', 'means', 'of', \"citizens'\", 'participation', 'in', 'the', 'government', 'of', 'their', 'country', 'with', 'the', 'view', 'to', 'improving', 'the', 'well-being', 'of', 'population', 'and', 'implementing', 'the', 'principle', 'of', 'popular', 'government.', 'Democracy', 'is', 'exercised', 'in', 'all', 'spheres', 'of', 'public', 'life', 'as', 'part', 'of', 'a', 'nation-wide', 'process', 'and', 'reflects', 'the', 'interests', 'of', 'all', 'the', 'people,', 'its', 'will,', 'guarantees', 'its', 'rights,', 'meets', 'its', 'needs', 'and', 'protects', 'its', 'interests.', 'There', 'is', 'no', 'one-size-fits-all', 'template', 'to', 'guide', 'countries', 'in', 'establishing', 'democracy.', 'A', 'nation', 'can', 'choose', 'such', 'forms', 'and', 'methods', 'of', 'implementing', 'democracy', 'that', 'would', 'best', 'suit', 'its', 'particular', 'state,', 'based', 'on', 'its', 'social', 'and', 'political', 'system,', 'its', 'historical', 'background,', 'traditions', 'and', 'unique', 'cultural', 'characteristics.', 'It', 'is', 'only', 'up', 'to', 'the', 'people', 'of', 'the', 'country', 'to', 'decide', 'whether', 'their', 'State', 'is', 'a', 'democratic', 'one.', 'The', 'sides', 'note', 'that', 'Russia', 'and', 'China', 'as', 'world', 'powers', 'with', 'rich', 'cultural', 'and', 'historical', 'heritage', 'have', 'long-standing', 'traditions', 'of', 'democracy,', 'which', 'rely', 'on', 'thousand-years', 'of', 'experience', 'of', 'development,', 'broad', 'popular', 'support', 'and', 'consideration', 'of', 'the', 'needs', 'and', 'interests', 'of', 'citizens.', 'Russia', 'and', 'China', 'guarantee', 'their', 'people', 'the', 'right', 'to', 'take', 'part', 'through', 'various', 'means', 'and', 'in', 'various', 'forms', 'in', 'the', 'administration', 'of', 'the', 'State', 'and', 'public', 'life', 'in', 'accordance', 'with', 'the', 'law.', 'The', 'people', 'of', 'both', 'countries', 'are', 'certain', 'of', 'the', 'way', 'they', 'have', 'chosen', 'and', 'respect', 'the', 'democratic', 'systems', 'and', 'traditions', 'of', 'other', 'States.', 'The', 'sides', 'note', 'that', 'democratic', 'principles', 'are', 'implemented', 'at', 'the', 'global', 'level,', 'as', 'well', 'as', 'in', 'administration', 'of', 'State.', 'Certain', \"States'\", 'attempts', 'to', 'impose', 'their', 'own', '”democratic', 'standards“', 'on', 'other', 'countries,', 'to', 'monopolize', 'the', 'right', 'to', 'assess', 'the', 'level', 'of', 'compliance', 'with', 'democratic', 'criteria,', 'to', 'draw', 'dividing', 'lines', 'based', 'on', 'the', 'grounds', 'of', 'ideology,', 'including', 'by', 'establishing', 'exclusive', 'blocs', 'and', 'alliances', 'of', 'convenience,', 'prove', 'to', 'be', 'nothing', 'but', 'flouting', 'of', 'democracy', 'and', 'go', 'against', 'the', 'spirit', 'and', 'true', 'values', 'of', 'democracy.', 'Such', 'attempts', 'at', 'hegemony', 'pose', 'serious', 'threats', 'to', 'global', 'and', 'regional', 'peace', 'and', 'stability', 'and', 'undermine', 'the', 'stability', 'of', 'the', 'world', 'order.', 'The', 'sides', 'believe', 'that', 'the', 'advocacy', 'of', 'democracy', 'and', 'human', 'rights', 'must', 'not', 'be', 'used', 'to', 'put', 'pressure', 'on', 'other', 'countries.', 'They', 'oppose', 'the', 'abuse', 'of', 'democratic', 'values', 'and', 'interference', 'in', 'the', 'internal', 'affairs', 'of', 'sovereign', 'states', 'under', 'the', 'pretext', 'of', 'protecting', 'democracy', 'and', 'human', 'rights,', 'and', 'any', 'attempts', 'to', 'incite', 'divisions', 'and', 'confrontation', 'in', 'the', 'world.', 'The', 'sides', 'call', 'on', 'the', 'international', 'community', 'to', 'respect', 'cultural', 'and', 'civilizational', 'diversity', 'and', 'the', 'rights', 'of', 'peoples', 'of', 'different', 'countries', 'to', 'self-determination.', 'They', 'stand', 'ready', 'to', 'work', 'together', 'with', 'all', 'the', 'interested', 'partners', 'to', 'promote', 'genuine', 'democracy.', 'The', 'sides', 'note', 'that', 'the', 'Charter', 'of', 'the', 'United', 'Nations', 'and', 'the', 'Universal', 'Declaration', 'of', 'Human', 'Rights', 'set', 'noble', 'goals', 'in', 'the', 'area', 'of', 'universal', 'human', 'rights,', 'set', 'forth', 'fundamental', 'principles,', 'which', 'all', 'the', 'States', 'must', 'comply', 'with', 'and', 'observe', 'in', 'deeds.', 'At', 'the', 'same', 'time,', 'as', 'every', 'nation', 'has', 'its', 'own', 'unique', 'national', 'features,', 'history,', 'culture,', 'social', 'system', 'and', 'level', 'of', 'social', 'and', 'economic', 'development,', 'universal', 'nature', 'of', 'human', 'rights', 'should', 'be', 'seen', 'through', 'the', 'prism', 'of', 'the', 'real', 'situation', 'in', 'every', 'particular', 'country,', 'and', 'human', 'rights', 'should', 'be', 'protected', 'in', 'accordance', 'with', 'the', 'specific', 'situation', 'in', 'each', 'country', 'and', 'the', 'needs', 'of', 'its', 'population.', 'Promotion', 'and', 'protection', 'of', 'human', 'rights', 'is', 'a', 'shared', 'responsibility', 'of', 'the', 'international', 'community.', 'The', 'states', 'should', 'equally', 'prioritize', 'all', 'categories', 'of', 'human', 'rights', 'and', 'promote', 'them', 'in', 'a', 'systemic', 'manner.', 'The', 'international', 'human', 'rights', 'cooperation', 'should', 'be', 'carried', 'out', 'as', 'a', 'dialogue', 'between', 'the', 'equals', 'involving', 'all', 'countries.', 'All', 'States', 'must', 'have', 'equal', 'access', 'to', 'the', 'right', 'to', 'development.', 'Interaction', 'and', 'cooperation', 'on', 'human', 'rights', 'matters', 'should', 'be', 'based', 'on', 'the', 'principle', 'of', 'equality', 'of', 'all', 'countries', 'and', 'mutual', 'respect', 'for', 'the', 'sake', 'of', 'strengthening', 'the', 'international', 'human', 'rights', 'architecture.', 'II', 'The', 'sides', 'believe', 'that', 'peace,', 'development', 'and', 'cooperation', 'lie', 'at', 'the', 'core', 'of', 'the', 'modern', 'international', 'system.', 'Development', 'is', 'a', 'key', 'driver', 'in', 'ensuring', 'the', 'prosperity', 'of', 'the', 'nations.', 'The', 'ongoing', 'pandemic', 'of', 'the', 'new', 'coronavirus', 'infection', 'poses', 'a', 'serious', 'challenge', 'to', 'the', 'fulfilment', 'of', 'the', 'UN', '2030', 'Agenda', 'for', 'Sustainable', 'Development.', 'It', 'is', 'vital', 'to', 'enhance', 'partnership', 'relations', 'for', 'the', 'sake', 'of', 'global', 'development', 'and', 'make', 'sure', 'that', 'the', 'new', 'stage', 'of', 'global', 'development', 'is', 'defined', 'by', 'balance,', 'harmony', 'and', 'inclusiveness.', 'The', 'sides', 'are', 'seeking', 'to', 'advance', 'their', 'work', 'to', 'link', 'the', 'development', 'plans', 'for', 'the', 'Eurasian', 'Economic', 'Union', 'and', 'the', 'Belt', 'and', 'Road', 'Initiative', 'with', 'a', 'view', 'to', 'intensifying', 'practical', 'cooperation', 'between', 'the', 'EAEU', 'and', 'China', 'in', 'various', 'areas', 'and', 'promoting', 'greater', 'interconnectedness', 'between', 'the', 'Asia', 'Pacific', 'and', 'Eurasian', 'regions.', 'The', 'sides', 'reaffirm', 'their', 'focus', 'on', 'building', 'the', 'Greater', 'Eurasian', 'Partnership', 'in', 'parallel', 'and', 'in', 'coordination', 'with', 'the', 'Belt', 'and', 'Road', 'construction', 'to', 'foster', 'the', 'development', 'of', 'regional', 'associations', 'as', 'well', 'as', 'bilateral', 'and', 'multilateral', 'integration', 'processes', 'for', 'the', 'benefit', 'of', 'the', 'peoples', 'on', 'the', 'Eurasian', 'continent.', 'The', 'sides', 'agreed', 'to', 'continue', 'consistently', 'intensifying', 'practical', 'cooperation', 'for', 'the', 'sustainable', 'development', 'of', 'the', 'Arctic.', 'The', 'sides', 'will', 'strengthen', 'cooperation', 'within', 'multilateral', 'mechanisms,', 'including', 'the', 'United', 'Nations,', 'and', 'encourage', 'the', 'international', 'community', 'to', 'prioritize', 'development', 'issues', 'in', 'the', 'global', 'macro-policy', 'coordination.', 'They', 'call', 'on', 'the', 'developed', 'countries', 'to', 'implement', 'in', 'good', 'faith', 'their', 'formal', 'commitments', 'on', 'development', 'assistance,', 'provide', 'more', 'resources', 'to', 'developing', 'countries,', 'address', 'the', 'uneven', 'development', 'of', 'States,', 'work', 'to', 'offset', 'such', 'imbalances', 'within', 'States,', 'and', 'advance', 'global', 'and', 'international', 'development', 'cooperation.', 'The', 'Russian', 'side', 'confirms', 'its', 'readiness', 'to', 'continue', 'working', 'on', 'the', 'China-proposed', 'Global', 'Development', 'Initiative,', 'including', 'participation', 'in', 'the', 'activities', 'of', 'the', 'Group', 'of', 'Friends', 'of', 'the', 'Global', 'Development', 'Initiative', 'under', 'the', 'UN', 'auspices.', 'In', 'order', 'to', 'accelerate', 'the', 'implementation', 'of', 'the', 'UN', '2030', 'Agenda', 'for', 'Sustainable', 'Development,', 'the', 'sides', 'call', 'on', 'the', 'international', 'community', 'to', 'take', 'practical', 'steps', 'in', 'key', 'areas', 'of', 'cooperation', 'such', 'as', 'poverty', 'reduction,', 'food', 'security,', 'vaccines', 'and', 'epidemics', 'control,', 'financing', 'for', 'development,', 'climate', 'change,', 'sustainable', 'development,', 'including', 'green', 'development,', 'industrialization,', 'digital', 'economy,', 'and', 'infrastructure', 'connectivity.', 'The', 'sides', 'call', 'on', 'the', 'international', 'community', 'to', 'create', 'open,', 'equal,', 'fair', 'and', 'non-discriminatory', 'conditions', 'for', 'scientific', 'and', 'technological', 'development,', 'to', 'step', 'up', 'practical', 'implementation', 'of', 'scientific', 'and', 'technological', 'advances', 'in', 'order', 'to', 'identify', 'new', 'drivers', 'of', 'economic', 'growth.', 'The', 'sides', 'call', 'upon', 'all', 'countries', 'to', 'strengthen', 'cooperation', 'in', 'sustainable', 'transport,', 'actively', 'build', 'contacts', 'and', 'share', 'knowledge', 'in', 'the', 'construction', 'of', 'transport', 'facilities,', 'including', 'smart', 'transport', 'and', 'sustainable', 'transport,', 'development', 'and', 'use', 'of', 'Arctic', 'routes,', 'as', 'well', 'as', 'to', 'develop', 'other', 'areas', 'to', 'support', 'global', 'post-epidemic', 'recovery.', 'The', 'sides', 'are', 'taking', 'serious', 'action', 'and', 'making', 'an', 'important', 'contribution', 'to', 'the', 'fight', 'against', 'climate', 'change.', 'Jointly', 'celebrating', 'the', '30th', 'anniversary', 'of', 'the', 'adoption', 'of', 'the', 'UN', 'Framework', 'Convention', 'on', 'Climate', 'Change,', 'they', 'reaffirm', 'their', 'commitment', 'to', 'this', 'Convention', 'as', 'well', 'as', 'to', 'the', 'goals,', 'principles', 'and', 'provisions', 'of', 'the', 'Paris', 'Agreement,', 'including', 'the', 'principle', 'of', 'common', 'but', 'differentiated', 'responsibilities.', 'The', 'sides', 'work', 'together', 'to', 'ensure', 'the', 'full', 'and', 'effective', 'implementation', 'of', 'the', 'Paris', 'Agreement,', 'remain', 'committed', 'to', 'fulfilling', 'the', 'obligations', 'they', 'have', 'undertaken', 'and', 'expect', 'that', 'developed', 'countries', 'will', 'actually', 'ensure', 'the', 'annual', 'provision', 'of', '$100', 'billion', 'of', 'climate', 'finance', 'to', 'developing', 'states.', 'The', 'sides', 'oppose', 'setting', 'up', 'new', 'barriers', 'in', 'international', 'trade', 'under', 'the', 'pretext', 'of', 'fighting', 'climate', 'change.', 'The', 'sides', 'strongly', 'support', 'the', 'development', 'of', 'international', 'cooperation', 'and', 'exchanges', 'in', 'the', 'field', 'of', 'biological', 'diversity,', 'actively', 'participating', 'in', 'the', 'relevant', 'global', 'governance', 'process,', 'and', 'intend', 'to', 'jointly', 'promote', 'the', 'harmonious', 'development', 'of', 'humankind', 'and', 'nature', 'as', 'well', 'as', 'green', 'transformation', 'to', 'ensure', 'sustainable', 'global', 'development.', 'The', 'Heads', 'of', 'State', 'positively', 'assess', 'the', 'effective', 'interaction', 'between', 'Russia', 'and', 'China', 'in', 'the', 'bilateral', 'and', 'multilateral', 'formats', 'focusing', 'on', 'the', 'fight', 'against', 'the', 'COVID-19', 'pandemic,', 'protection', 'of', 'life', 'and', 'health', 'of', 'the', 'population', 'of', 'the', 'two', 'countries', 'and', 'the', 'peoples', 'of', 'the', 'world.', 'They', 'will', 'further', 'increase', 'cooperation', 'in', 'the', 'development', 'and', 'manufacture', 'of', 'vaccines', 'against', 'the', 'new', 'coronavirus', 'infection,', 'as', 'well', 'as', 'medical', 'drugs', 'for', 'its', 'treatment,', 'and', 'enhance', 'collaboration', 'in', 'public', 'health', 'and', 'modern', 'medicine.', 'The', 'sides', 'plan', 'to', 'strengthen', 'coordination', 'on', 'epidemiological', 'measures', 'to', 'ensure', 'strong', 'protection', 'of', 'health,', 'safety', 'and', 'order', 'in', 'contacts', 'between', 'citizens', 'of', 'the', 'two', 'countries.', 'The', 'sides', 'have', 'commended', 'the', 'work', 'of', 'the', 'competent', 'authorities', 'and', 'regions', 'of', 'the', 'two', 'countries', 'on', 'implementing', 'quarantine', 'measures', 'in', 'the', 'border', 'areas', 'and', 'ensuring', 'the', 'stable', 'operation', 'of', 'the', 'border', 'crossing', 'points,', 'and', 'intend', 'to', 'consider', 'establishing', 'a', 'joint', 'mechanism', 'for', 'epidemic', 'control', 'and', 'prevention', 'in', 'the', 'border', 'areas', 'to', 'jointly', 'plan', 'anti-epidemic', 'measures', 'to', 'be', 'taken', 'at', 'the', 'border', 'checkpoints,', 'share', 'information,', 'build', 'infrastructure', 'and', 'improve', 'the', 'efficiency', 'of', 'customs', 'clearance', 'of', 'goods.', 'The', 'sides', 'emphasize', 'that', 'ascertaining', 'the', 'origin', 'of', 'the', 'new', 'coronavirus', 'infection', 'is', 'a', 'matter', 'of', 'science.', 'Research', 'on', 'this', 'topic', 'must', 'be', 'based', 'on', 'global', 'knowledge,', 'and', 'that', 'requires', 'cooperation', 'among', 'scientists', 'from', 'all', 'over', 'the', 'world.', 'The', 'sides', 'oppose', 'politicization', 'of', 'this', 'issue.', 'The', 'Russian', 'side', 'welcomes', 'the', 'work', 'carried', 'out', 'jointly', 'by', 'China', 'and', 'WHO', 'to', 'identify', 'the', 'source', 'of', 'the', 'new', 'coronavirus', 'infection', 'and', 'supports', 'the', 'China', '–', 'WHO', 'joint', 'report', 'on', 'the', 'matter.', 'The', 'sides', 'call', 'on', 'the', 'global', 'community', 'to', 'jointly', 'promote', 'a', 'serious', 'scientific', 'approach', 'to', 'the', 'study', 'of', 'the', 'coronavirus', 'origin.', 'The', 'Russian', 'side', 'supports', 'a', 'successful', 'hosting', 'by', 'the', 'Chinese', 'side', 'of', 'the', 'Winter', 'Olympic', 'and', 'Paralympic', 'Games', 'in', 'Beijing', 'in', '2022.', 'The', 'sides', 'highly', 'appreciate', 'the', 'level', 'of', 'bilateral', 'cooperation', 'in', 'sports', 'and', 'the', 'Olympic', 'movement', 'and', 'express', 'their', 'readiness', 'to', 'contribute', 'to', 'its', 'further', 'progressive', 'development.', 'III', 'The', 'sides', 'are', 'gravely', 'concerned', 'about', 'serious', 'international', 'security', 'challenges', 'and', 'believe', 'that', 'the', 'fates', 'of', 'all', 'nations', 'are', 'interconnected.', 'No', 'State', 'can', 'or', 'should', 'ensure', 'its', 'own', 'security', 'separately', 'from', 'the', 'security', 'of', 'the', 'rest', 'of', 'the', 'world', 'and', 'at', 'the', 'expense', 'of', 'the', 'security', 'of', 'other', 'States.', 'The', 'international', 'community', 'should', 'actively', 'engage', 'in', 'global', 'governance', 'to', 'ensure', 'universal,', 'comprehensive,', 'indivisible', 'and', 'lasting', 'security.', 'The', 'sides', 'reaffirm', 'their', 'strong', 'mutual', 'support', 'for', 'the', 'protection', 'of', 'their', 'core', 'interests,', 'state', 'sovereignty', 'and', 'territorial', 'integrity,', 'and', 'oppose', 'interference', 'by', 'external', 'forces', 'in', 'their', 'internal', 'affairs.', 'The', 'Russian', 'side', 'reaffirms', 'its', 'support', 'for', 'the', 'One-China', 'principle,', 'confirms', 'that', 'Taiwan', 'is', 'an', 'inalienable', 'part', 'of', 'China,', 'and', 'opposes', 'any', 'forms', 'of', 'independence', 'of', 'Taiwan.', 'Russia', 'and', 'China', 'stand', 'against', 'attempts', 'by', 'external', 'forces', 'to', 'undermine', 'security', 'and', 'stability', 'in', 'their', 'common', 'adjacent', 'regions,', 'intend', 'to', 'counter', 'interference', 'by', 'outside', 'forces', 'in', 'the', 'internal', 'affairs', 'of', 'sovereign', 'countries', 'under', 'any', 'pretext,', 'oppose', 'colour', 'revolutions,', 'and', 'will', 'increase', 'cooperation', 'in', 'the', 'aforementioned', 'areas.', 'The', 'sides', 'condemn', 'terrorism', 'in', 'all', 'its', 'manifestations,', 'promote', 'the', 'idea', 'of', 'creating', 'a', 'single', 'global', 'anti-terrorism', 'front,', 'with', 'the', 'United', 'Nations', 'playing', 'a', 'central', 'role,', 'advocate', 'stronger', 'political', 'coordination', 'and', 'constructive', 'engagement', 'in', 'multilateral', 'counterterrorism', 'efforts.', 'The', 'sides', 'oppose', 'politicization', 'of', 'the', 'issues', 'of', 'combating', 'terrorism', 'and', 'their', 'use', 'as', 'instruments', 'of', 'policy', 'of', 'double', 'standards,', 'condemn', 'the', 'practice', 'of', 'interference', 'in', 'the', 'internal', 'affairs', 'of', 'other', 'States', 'for', 'geopolitical', 'purposes', 'through', 'the', 'use', 'of', 'terrorist', 'and', 'extremist', 'groups', 'as', 'well', 'as', 'under', 'the', 'guise', 'of', 'combating', 'international', 'terrorism', 'and', 'extremism.', 'The', 'sides', 'believe', 'that', 'certain', 'States,', 'military', 'and', 'political', 'alliances', 'and', 'coalitions', 'seek', 'to', 'obtain,', 'directly', 'or', 'indirectly,', 'unilateral', 'military', 'advantages', 'to', 'the', 'detriment', 'of', 'the', 'security', 'of', 'others,', 'including', 'by', 'employing', 'unfair', 'competition', 'practices,', 'intensify', 'geopolitical', 'rivalry,', 'fuel', 'antagonism', 'and', 'confrontation,', 'and', 'seriously', 'undermine', 'the', 'international', 'security', 'order', 'and', 'global', 'strategic', 'stability.', 'The', 'sides', 'oppose', 'further', 'enlargement', 'of', 'NATO', 'and', 'call', 'on', 'the', 'North', 'Atlantic', 'Alliance', 'to', 'abandon', 'its', 'ideologized', 'cold', 'war', 'approaches,', 'to', 'respect', 'the', 'sovereignty,', 'security', 'and', 'interests', 'of', 'other', 'countries,', 'the', 'diversity', 'of', 'their', 'civilizational,', 'cultural', 'and', 'historical', 'backgrounds,', 'and', 'to', 'exercise', 'a', 'fair', 'and', 'objective', 'attitude', 'towards', 'the', 'peaceful', 'development', 'of', 'other', 'States.', 'The', 'sides', 'stand', 'against', 'the', 'formation', 'of', 'closed', 'bloc', 'structures', 'and', 'opposing', 'camps', 'in', 'the', 'Asia-Pacific', 'region', 'and', 'remain', 'highly', 'vigilant', 'about', 'the', 'negative', 'impact', 'of', 'the', 'United', \"States'\", 'Indo-Pacific', 'strategy', 'on', 'peace', 'and', 'stability', 'in', 'the', 'region.', 'Russia', 'and', 'China', 'have', 'made', 'consistent', 'efforts', 'to', 'build', 'an', 'equitable,', 'open', 'and', 'inclusive', 'security', 'system', 'in', 'the', 'Asia-Pacific', 'Region', '(APR)', 'that', 'is', 'not', 'directed', 'against', 'third', 'countries', 'and', 'that', 'promotes', 'peace,', 'stability', 'and', 'prosperity.', 'The', 'sides', 'welcome', 'the', 'Joint', 'Statement', 'of', 'the', 'Leaders', 'of', 'the', 'Five', 'Nuclear-Weapons', 'States', 'on', 'Preventing', 'Nuclear', 'War', 'and', 'Avoiding', 'Arms', 'Races', 'and', 'believe', 'that', 'all', 'nuclear-weapons', 'States', 'should', 'abandon', 'the', 'cold', 'war', 'mentality', 'and', 'zero-sum', 'games,', 'reduce', 'the', 'role', 'of', 'nuclear', 'weapons', 'in', 'their', 'national', 'security', 'policies,', 'withdraw', 'nuclear', 'weapons', 'deployed', 'abroad,', 'eliminate', 'the', 'unrestricted', 'development', 'of', 'global', 'anti-ballistic', 'missile', 'defense', '(ABM)', 'system,', 'and', 'take', 'effective', 'steps', 'to', 'reduce', 'the', 'risks', 'of', 'nuclear', 'wars', 'and', 'any', 'armed', 'conflicts', 'between', 'countries', 'with', 'military', 'nuclear', 'capabilities.', 'The', 'sides', 'reaffirm', 'that', 'the', 'Treaty', 'on', 'the', 'Non-Proliferation', 'of', 'Nuclear', 'Weapons', 'is', 'the', 'cornerstone', 'of', 'the', 'international', 'disarmament', 'and', 'nuclear', 'non-proliferation', 'system,', 'an', 'important', 'part', 'of', 'the', 'post-war', 'international', 'security', 'system,', 'and', 'plays', 'an', 'indispensable', 'role', 'in', 'world', 'peace', 'and', 'development.', 'The', 'international', 'community', 'should', 'promote', 'the', 'balanced', 'implementation', 'of', 'the', 'three', 'pillars', 'of', 'the', 'Treaty', 'and', 'work', 'together', 'to', 'protect', 'the', 'credibility,', 'effectiveness', 'and', 'the', 'universal', 'nature', 'of', 'the', 'instrument.', 'The', 'sides', 'are', 'seriously', 'concerned', 'about', 'the', 'trilateral', 'security', 'partnership', 'between', 'Australia,', 'the', 'United', 'States,', 'and', 'the', 'United', 'Kingdom', '(AUKUS),', 'which', 'provides', 'for', 'deeper', 'cooperation', 'between', 'its', 'members', 'in', 'areas', 'involving', 'strategic', 'stability,', 'in', 'particular', 'their', 'decision', 'to', 'initiate', 'cooperation', 'in', 'the', 'field', 'of', 'nuclear-powered', 'submarines.', 'Russia', 'and', 'China', 'believe', 'that', 'such', 'actions', 'are', 'contrary', 'to', 'the', 'objectives', 'of', 'security', 'and', 'sustainable', 'development', 'of', 'the', 'Asia-Pacific', 'region,', 'increase', 'the', 'danger', 'of', 'an', 'arms', 'race', 'in', 'the', 'region,', 'and', 'pose', 'serious', 'risks', 'of', 'nuclear', 'proliferation.', 'The', 'sides', 'strongly', 'condemn', 'such', 'moves', 'and', 'call', 'on', 'AUKUS', 'participants', 'to', 'fulfil', 'their', 'nuclear', 'and', 'missile', 'non-proliferation', 'commitments', 'in', 'good', 'faith', 'and', 'to', 'work', 'together', 'to', 'safeguard', 'peace,', 'stability,', 'and', 'development', 'in', 'the', 'region.', \"Japan's\", 'plans', 'to', 'release', 'nuclear', 'contaminated', 'water', 'from', 'the', 'destroyed', 'Fukushima', 'nuclear', 'plant', 'into', 'the', 'ocean', 'and', 'the', 'potential', 'environmental', 'impact', 'of', 'such', 'actions', 'are', 'of', 'deep', 'concern', 'to', 'the', 'sides.', 'The', 'sides', 'emphasize', 'that', 'the', 'disposal', 'of', 'nuclear', 'contaminated', 'water', 'should', 'be', 'handled', 'with', 'responsibility', 'and', 'carried', 'out', 'in', 'a', 'proper', 'manner', 'based', 'on', 'arrangements', 'between', 'the', 'Japanese', 'side', 'and', 'neighbouring', 'States,', 'other', 'interested', 'parties,', 'and', 'relevant', 'international', 'agencies', 'while', 'ensuring', 'transparency,', 'scientific', 'reasoning,', 'and', 'in', 'accordance', 'with', 'international', 'law.', 'The', 'sides', 'believe', 'that', 'the', 'U.S.', 'withdrawal', 'from', 'the', 'Treaty', 'on', 'the', 'Elimination', 'of', 'Intermediate-Range', 'and', 'Shorter-Range', 'Missiles,', 'the', 'acceleration', 'of', 'research', 'and', 'the', 'development', 'of', 'intermediate-range', 'and', 'shorter-range', 'ground-based', 'missiles', 'and', 'the', 'desire', 'to', 'deploy', 'them', 'in', 'the', 'Asia-Pacific', 'and', 'European', 'regions,', 'as', 'well', 'as', 'their', 'transfer', 'to', 'the', 'allies,', 'entail', 'an', 'increase', 'in', 'tension', 'and', 'distrust,', 'increase', 'risks', 'to', 'international', 'and', 'regional', 'security,', 'lead', 'to', 'the', 'weakening', 'of', 'international', 'non-proliferation', 'and', 'arms', 'control', 'system,', 'undermining', 'global', 'strategic', 'stability.', 'The', 'sided', 'call', 'on', 'the', 'United', 'States', 'to', 'respond', 'positively', 'to', 'the', 'Russian', 'initiative', 'and', 'abandon', 'its', 'plans', 'to', 'deploy', 'intermediate-range', 'and', 'shorter-range', 'ground-based', 'missiles', 'in', 'the', 'Asia-Pacific', 'region', 'and', 'Europe.', 'The', 'sides', 'will', 'continue', 'to', 'maintain', 'contacts', 'and', 'strengthen', 'coordination', 'on', 'this', 'issue.', 'The', 'Chinese', 'side', 'is', 'sympathetic', 'to', 'and', 'supports', 'the', 'proposals', 'put', 'forward', 'by', 'the', 'Russian', 'Federation', 'to', 'create', 'long-term', 'legally', 'binding', 'security', 'guarantees', 'in', 'Europe.', 'The', 'sides', 'note', 'that', 'the', 'denunciation', 'by', 'the', 'United', 'States', 'of', 'a', 'number', 'of', 'important', 'international', 'arms', 'control', 'agreements', 'has', 'an', 'extremely', 'negative', 'impact', 'on', 'international', 'and', 'regional', 'security', 'and', 'stability.', 'The', 'sides', 'express', 'concern', 'over', 'the', 'advancement', 'of', 'U.S.', 'plans', 'to', 'develop', 'global', 'missile', 'defence', 'and', 'deploy', 'its', 'elements', 'in', 'various', 'regions', 'of', 'the', 'world,', 'combined', 'with', 'capacity', 'building', 'of', 'high-precision', 'non-nuclear', 'weapons', 'for', 'disarming', 'strikes', 'and', 'other', 'strategic', 'objectives.', 'The', 'sides', 'stress', 'the', 'importance', 'of', 'the', 'peaceful', 'uses', 'of', 'outer', 'space,', 'strongly', 'support', 'the', 'central', 'role', 'of', 'the', 'UN', 'Committee', 'on', 'the', 'Peaceful', 'Uses', 'of', 'Outer', 'Space', 'in', 'promoting', 'international', 'cooperation,', 'maintaining', 'and', 'developing', 'international', 'space', 'law', 'and', 'regulation', 'in', 'the', 'field', 'of', 'space', 'activities.', 'Russia', 'and', 'China', 'will', 'continue', 'to', 'increase', 'cooperation', 'on', 'such', 'matters', 'of', 'mutual', 'interest', 'as', 'the', 'long-term', 'sustainability', 'of', 'space', 'activities', 'and', 'the', 'development', 'and', 'use', 'of', 'space', 'resources.', 'The', 'sides', 'oppose', 'attempts', 'by', 'some', 'States', 'to', 'turn', 'outer', 'space', 'into', 'an', 'arena', 'of', 'armed', 'confrontation', 'and', 'reiterate', 'their', 'intention', 'to', 'make', 'all', 'necessary', 'efforts', 'to', 'prevent', 'the', 'weaponization', 'of', 'space', 'and', 'an', 'arms', 'race', 'in', 'outer', 'space.', 'They', 'will', 'counteract', 'activities', 'aimed', 'at', 'achieving', 'military', 'superiority', 'in', 'space', 'and', 'using', 'it', 'for', 'combat', 'operations.', 'The', 'sides', 'affirm', 'the', 'need', 'for', 'the', 'early', 'launch', 'of', 'negotiations', 'to', 'conclude', 'a', 'legally', 'binding', 'multilateral', 'instrument', 'based', 'on', 'the', 'Russian-Chinese', 'draft', 'treaty', 'on', 'the', 'prevention', 'of', 'placement', 'of', 'weapons', 'in', 'outer', 'space', 'and', 'the', 'use', 'or', 'threat', 'of', 'force', 'against', 'space', 'objects', 'that', 'would', 'provide', 'fundamental', 'and', 'reliable', 'guarantees', 'against', 'an', 'arms', 'race', 'and', 'the', 'weaponization', 'of', 'outer', 'space.', 'Russia', 'and', 'China', 'emphasize', 'that', 'appropriate', 'transparency', 'and', 'confidence-building', 'measures,', 'including', 'an', 'international', 'initiative/political', 'commitment', 'not', 'to', 'be', 'the', 'first', 'to', 'place', 'weapons', 'in', 'space,', 'can', 'also', 'contribute', 'to', 'the', 'goal', 'of', 'preventing', 'an', 'arms', 'race', 'in', 'outer', 'space,', 'but', 'such', 'measures', 'should', 'complement', 'and', 'not', 'substitute', 'the', 'effective', 'legally', 'binding', 'regime', 'governing', 'space', 'activities.', 'The', 'sides', 'reaffirm', 'their', 'belief', 'that', 'the', 'Convention', 'on', 'the', 'Prohibition', 'of', 'the', 'Development,', 'Production', 'and', 'Stockpiling', 'of', 'Bacteriological', '(Biological)', 'and', 'Toxin', 'Weapons', 'and', 'on', 'their', 'Destruction', '(BWC)', 'is', 'an', 'essential', 'pillar', 'of', 'international', 'peace', 'and', 'security.', 'Russia', 'and', 'China', 'underscore', 'their', 'determination', 'to', 'preserve', 'the', 'credibility', 'and', 'effectiveness', 'of', 'the', 'Convention.', 'The', 'sides', 'affirm', 'the', 'need', 'to', 'fully', 'respect', 'and', 'further', 'strengthen', 'the', 'BWC,', 'including', 'by', 'institutionalizing', 'it,', 'strengthening', 'its', 'mechanisms,', 'and', 'adopting', 'a', 'legally', 'binding', 'Protocol', 'to', 'the', 'Convention', 'with', 'an', 'effective', 'verification', 'mechanism,', 'as', 'well', 'as', 'through', 'regular', 'consultation', 'and', 'cooperation', 'in', 'addressing', 'any', 'issues', 'related', 'to', 'the', 'implementation', 'of', 'the', 'Convention.', 'The', 'sides', 'emphasize', 'that', 'domestic', 'and', 'foreign', 'bioweapons', 'activities', 'by', 'the', 'United', 'States', 'and', 'its', 'allies', 'raise', 'serious', 'concerns', 'and', 'questions', 'for', 'the', 'international', 'community', 'regarding', 'their', 'compliance', 'with', 'the', 'BWC.', 'The', 'sides', 'share', 'the', 'view', 'that', 'such', 'activities', 'pose', 'a', 'serious', 'threat', 'to', 'the', 'national', 'security', 'of', 'the', 'Russian', 'Federation', 'and', 'China', 'and', 'are', 'detrimental', 'to', 'the', 'security', 'of', 'the', 'respective', 'regions.', 'The', 'sides', 'call', 'on', 'the', 'U.S.', 'and', 'its', 'allies', 'to', 'act', 'in', 'an', 'open,', 'transparent,', 'and', 'responsible', 'manner', 'by', 'properly', 'reporting', 'on', 'their', 'military', 'biological', 'activities', 'conducted', 'overseas', 'and', 'on', 'their', 'national', 'territory,', 'and', 'by', 'supporting', 'the', 'resumption', 'of', 'negotiations', 'on', 'a', 'legally', 'binding', 'BWC', 'Protocol', 'with', 'an', 'effective', 'verification', 'mechanism.', 'The', 'sides,', 'reaffirming', 'their', 'commitment', 'to', 'the', 'goal', 'of', 'a', 'world', 'free', 'of', 'chemical', 'weapons,', 'call', 'upon', 'all', 'parties', 'to', 'the', 'Chemical', 'Weapons', 'Convention', 'to', 'work', 'together', 'to', 'uphold', 'its', 'credibility', 'and', 'effectiveness.', 'Russia', 'and', 'China', 'are', 'deeply', 'concerned', 'about', 'the', 'politicization', 'of', 'the', 'Organization', 'for', 'the', 'Prohibition', 'of', 'Chemical', 'Weapons', 'and', 'call', 'on', 'all', 'of', 'its', 'members', 'to', 'strengthen', 'solidarity', 'and', 'cooperation', 'and', 'protect', 'the', 'tradition', 'of', 'consensual', 'decision-making.', 'Russia', 'and', 'China', 'insist', 'that', 'the', 'United', 'States,', 'as', 'the', 'sole', 'State', 'Party', 'to', 'the', 'Convention', 'that', 'has', 'not', 'yet', 'completed', 'the', 'process', 'of', 'eliminating', 'chemical', 'weapons,', 'accelerate', 'the', 'elimination', 'of', 'its', 'stockpiles', 'of', 'chemical', 'weapons.', 'The', 'sides', 'emphasize', 'the', 'importance', 'of', 'balancing', 'the', 'non-proliferation', 'obligations', 'of', 'states', 'with', 'the', 'interests', 'of', 'legitimate', 'international', 'cooperation', 'in', 'the', 'use', 'of', 'advanced', 'technology', 'and', 'related', 'materials', 'and', 'equipment', 'for', 'peaceful', 'purposes.', 'The', 'sides', 'note', 'the', 'resolution', 'entitled', '”Promoting', 'international', 'Cooperation', 'on', 'Peaceful', 'Uses', 'in', 'the', 'Context', 'of', 'International', 'Security“', 'adopted', 'at', 'the', '76th', 'session', 'of', 'the', 'UN', 'General', 'Assembly', 'on', 'the', 'initiative', 'of', 'China', 'and', 'co‑sponsored', 'by', 'Russia,', 'and', 'look', 'forward', 'to', 'its', 'consistent', 'implementation', 'in', 'accordance', 'with', 'the', 'goals', 'set', 'forth', 'therein.', 'The', 'sides', 'attach', 'great', 'importance', 'to', 'the', 'issues', 'of', 'governance', 'in', 'the', 'field', 'of', 'artificial', 'intelligence.', 'The', 'sides', 'are', 'ready', 'to', 'strengthen', 'dialogue', 'and', 'contacts', 'on', 'artificial', 'intelligence.', 'The', 'sides', 'reiterate', 'their', 'readiness', 'to', 'deepen', 'cooperation', 'in', 'the', 'field', 'of', 'international', 'information', 'security', 'and', 'to', 'contribute', 'to', 'building', 'an', 'open,', 'secure,', 'sustainable', 'and', 'accessible', 'ICT', 'environment.', 'The', 'sides', 'emphasize', 'that', 'the', 'principles', 'of', 'the', 'non-use', 'of', 'force,', 'respect', 'for', 'national', 'sovereignty', 'and', 'fundamental', 'human', 'rights', 'and', 'freedoms,', 'and', 'non-interference', 'in', 'the', 'internal', 'affairs', 'of', 'other', 'States,', 'as', 'enshrined', 'in', 'the', 'UN', 'Charter,', 'are', 'applicable', 'to', 'the', 'information', 'space.', 'Russia', 'and', 'China', 'reaffirm', 'the', 'key', 'role', 'of', 'the', 'UN', 'in', 'responding', 'to', 'threats', 'to', 'international', 'information', 'security', 'and', 'express', 'their', 'support', 'for', 'the', 'Organization', 'in', 'developing', 'new', 'norms', 'of', 'conduct', 'of', 'states', 'in', 'this', 'area.', 'The', 'sides', 'welcome', 'the', 'implementation', 'of', 'the', 'global', 'negotiation', 'process', 'on', 'international', 'information', 'security', 'within', 'a', 'single', 'mechanism', 'and', 'support', 'in', 'this', 'context', 'the', 'work', 'of', 'the', 'UN', 'Open-ended', 'Working', 'Group', 'on', 'security', 'of', 'and', 'in', 'the', 'use', 'of', 'information', 'and', 'communication', 'technologies', '(ICTs)', '2021–2025', '(OEWG)', 'and', 'express', 'their', 'willingness', 'to', 'speak', 'with', 'one', 'voice', 'within', 'it.', 'The', 'sides', 'consider', 'it', 'necessary', 'to', 'consolidate', 'the', 'efforts', 'of', 'the', 'international', 'community', 'to', 'develop', 'new', 'norms', 'of', 'responsible', 'behaviour', 'of', 'States,', 'including', 'legal', 'ones,', 'as', 'well', 'as', 'a', 'universal', 'international', 'legal', 'instrument', 'regulating', 'the', 'activities', 'of', 'States', 'in', 'the', 'field', 'of', 'ICT.', 'The', 'sides', 'believe', 'that', 'the', 'Global', 'Initiative', 'on', 'Data', 'Security,', 'proposed', 'by', 'the', 'Chinese', 'side', 'and', 'supported,', 'in', 'principle,', 'by', 'the', 'Russian', 'side,', 'provides', 'a', 'basis', 'for', 'the', 'Working', 'Group', 'to', 'discuss', 'and', 'elaborate', 'responses', 'to', 'data', 'security', 'threats', 'and', 'other', 'threats', 'to', 'international', 'information', 'security.', 'The', 'sides', 'reiterate', 'their', 'support', 'of', 'United', 'Nations', 'General', 'Assembly', 'resolutions', '74/247', 'and', '75/282,', 'support', 'the', 'work', 'of', 'the', 'relevant', 'Ad', 'Hoc', 'Committee', 'of', 'Governmental', 'Experts,', 'facilitate', 'the', 'negotiations', 'within', 'the', 'United', 'Nations', 'for', 'the', 'elaboration', 'of', 'an', 'international', 'convention', 'on', 'countering', 'the', 'use', 'of', 'ICTs', 'for', 'criminal', 'purposes.', 'The', 'sides', 'encourage', 'constructive', 'participation', 'of', 'all', 'sides', 'in', 'the', 'negotiations', 'in', 'order', 'to', 'agree', 'as', 'soon', 'as', 'possible', 'on', 'a', 'credible,', 'universal,', 'and', 'comprehensive', 'convention', 'and', 'provide', 'it', 'to', 'the', 'United', 'Nations', 'General', 'Assembly', 'at', 'its', '78th', 'session', 'in', 'strict', 'compliance', 'with', 'resolution', '75/282.', 'For', 'these', 'purposes,', 'Russia', 'and', 'China', 'have', 'presented', 'a', 'joint', 'draft', 'convention', 'as', 'a', 'basis', 'for', 'negotiations.', 'The', 'sides', 'support', 'the', 'internationalization', 'of', 'Internet', 'governance,', 'advocate', 'equal', 'rights', 'to', 'its', 'governance,', 'believe', 'that', 'any', 'attempts', 'to', 'limit', 'their', 'sovereign', 'right', 'to', 'regulate', 'national', 'segments', 'of', 'the', 'Internet', 'and', 'ensure', 'their', 'security', 'are', 'unacceptable,', 'are', 'interested', 'in', 'greater', 'participation', 'of', 'the', 'International', 'Telecommunication', 'Union', 'in', 'addressing', 'these', 'issues.', 'The', 'sides', 'intend', 'to', 'deepen', 'bilateral', 'cooperation', 'in', 'international', 'information', 'security', 'on', 'the', 'basis', 'of', 'the', 'relevant', '2015', 'intergovernmental', 'agreement.', 'To', 'this', 'end,', 'the', 'sides', 'have', 'agreed', 'to', 'adopt', 'in', 'the', 'near', 'future', 'a', 'plan', 'for', 'cooperation', 'between', 'Russia', 'and', 'China', 'in', 'this', 'area.', 'IV', 'The', 'sides', 'underline', 'that', 'Russia', 'and', 'China,', 'as', 'world', 'powers', 'and', 'permanent', 'members', 'of', 'the', 'United', 'Nations', 'Security', 'Council,', 'intend', 'to', 'firmly', 'adhere', 'to', 'moral', 'principles', 'and', 'accept', 'their', 'responsibility,', 'strongly', 'advocate', 'the', 'international', 'system', 'with', 'the', 'central', 'coordinating', 'role', 'of', 'the', 'United', 'Nations', 'in', 'international', 'affairs,', 'defend', 'the', 'world', 'order', 'based', 'on', 'international', 'law,', 'including', 'the', 'purposes', 'and', 'principles', 'of', 'the', 'Charter', 'of', 'the', 'United', 'Nations,', 'advance', 'multipolarity', 'and', 'promote', 'the', 'democratization', 'of', 'international', 'relations,', 'together', 'create', 'an', 'even', 'more', 'prospering,', 'stable,', 'and', 'just', 'world,', 'jointly', 'build', 'international', 'relations', 'of', 'a', 'new', 'type.', 'The', 'Russian', 'side', 'notes', 'the', 'significance', 'of', 'the', 'concept', 'of', 'constructing', 'a', '”community', 'of', 'common', 'destiny', 'for', 'mankind“', 'proposed', 'by', 'the', 'Chinese', 'side', 'to', 'ensure', 'greater', 'solidarity', 'of', 'the', 'international', 'community', 'and', 'consolidation', 'of', 'efforts', 'in', 'responding', 'to', 'common', 'challenges.', 'The', 'Chinese', 'side', 'notes', 'the', 'significance', 'of', 'the', 'efforts', 'taken', 'by', 'the', 'Russian', 'side', 'to', 'establish', 'a', 'just', 'multipolar', 'system', 'of', 'international', 'relations.', 'The', 'sides', 'intend', 'to', 'strongly', 'uphold', 'the', 'outcomes', 'of', 'the', 'Second', 'World', 'War', 'and', 'the', 'existing', 'post-war', 'world', 'order,', 'defend', 'the', 'authority', 'of', 'the', 'United', 'Nations', 'and', 'justice', 'in', 'international', 'relations,', 'resist', 'attempts', 'to', 'deny,', 'distort,', 'and', 'falsify', 'the', 'history', 'of', 'the', 'Second', 'World', 'War.', 'In', 'order', 'to', 'prevent', 'the', 'recurrence', 'of', 'the', 'tragedy', 'of', 'the', 'world', 'war,', 'the', 'sides', 'will', 'strongly', 'condemn', 'actions', 'aimed', 'at', 'denying', 'the', 'responsibility', 'for', 'atrocities', 'of', 'Nazi', 'aggressors,', 'militarist', 'invaders,', 'and', 'their', 'accomplices,', 'besmirch', 'and', 'tarnish', 'the', 'honour', 'of', 'the', 'victorious', 'countries.', 'The', 'sides', 'call', 'for', 'the', 'establishment', 'of', 'a', 'new', 'kind', 'of', 'relationships', 'between', 'world', 'powers', 'on', 'the', 'basis', 'of', 'mutual', 'respect,', 'peaceful', 'coexistence', 'and', 'mutually', 'beneficial', 'cooperation.', 'They', 'reaffirm', 'that', 'the', 'new', 'inter-State', 'relations', 'between', 'Russia', 'and', 'China', 'are', 'superior', 'to', 'political', 'and', 'military', 'alliances', 'of', 'the', 'Cold', 'War', 'era.', 'Friendship', 'between', 'the', 'two', 'States', 'has', 'no', 'limits,', 'there', 'are', 'no', '”forbidden“', 'areas', 'of', 'cooperation,', 'strengthening', 'of', 'bilateral', 'strategic', 'cooperation', 'is', 'neither', 'aimed', 'against', 'third', 'countries', 'nor', 'affected', 'by', 'the', 'changing', 'international', 'environment', 'and', 'circumstantial', 'changes', 'in', 'third', 'countries.', 'The', 'sides', 'reiterate', 'the', 'need', 'for', 'consolidation,', 'not', 'division', 'of', 'the', 'international', 'community,', 'the', 'need', 'for', 'cooperation,', 'not', 'confrontation.', 'The', 'sides', 'oppose', 'the', 'return', 'of', 'international', 'relations', 'to', 'the', 'state', 'of', 'confrontation', 'between', 'major', 'powers,', 'when', 'the', 'weak', 'fall', 'prey', 'to', 'the', 'strong.', 'The', 'sides', 'intend', 'to', 'resist', 'attempts', 'to', 'substitute', 'universally', 'recognized', 'formats', 'and', 'mechanisms', 'that', 'are', 'consistent', 'with', 'international', 'law', 'for', 'rules', 'elaborated', 'in', 'private', 'by', 'certain', 'nations', 'or', 'blocs', 'of', 'nations,', 'and', 'are', 'against', 'addressing', 'international', 'problems', 'indirectly', 'and', 'without', 'consensus,', 'oppose', 'power', 'politics,', 'bullying,', 'unilateral', 'sanctions,', 'and', 'extraterritorial', 'application', 'of', 'jurisdiction,', 'as', 'well', 'as', 'the', 'abuse', 'of', 'export', 'control', 'policies,', 'and', 'support', 'trade', 'facilitation', 'in', 'line', 'with', 'the', 'rules', 'of', 'the', 'World', 'Trade', 'Organization', '(WTO).', 'The', 'sides', 'reaffirmed', 'their', 'intention', 'to', 'strengthen', 'foreign', 'policy', 'coordination,', 'pursue', 'true', 'multilateralism,', 'strengthen', 'cooperation', 'on', 'multilateral', 'platforms,', 'defend', 'common', 'interests,', 'support', 'the', 'international', 'and', 'regional', 'balance', 'of', 'power,', 'and', 'improve', 'global', 'governance.', 'The', 'sides', 'support', 'and', 'defend', 'the', 'multilateral', 'trade', 'system', 'based', 'on', 'the', 'central', 'role', 'of', 'the', 'World', 'Trade', 'Organization', '(WTO),', 'take', 'an', 'active', 'part', 'in', 'the', 'WTO', 'reform,', 'opposing', 'unilateral', 'approaches', 'and', 'protectionism.', 'The', 'sides', 'are', 'ready', 'to', 'strengthen', 'dialogue', 'between', 'partners', 'and', 'coordinate', 'positions', 'on', 'trade', 'and', 'economic', 'issues', 'of', 'common', 'concern,', 'contribute', 'to', 'ensuring', 'the', 'sustainable', 'and', 'stable', 'operation', 'of', 'global', 'and', 'regional', 'value', 'chains,', 'promote', 'a', 'more', 'open,', 'inclusive,', 'transparent,', 'non-discriminatory', 'system', 'of', 'international', 'trade', 'and', 'economic', 'rules.', 'The', 'sides', 'support', 'the', 'G20', 'format', 'as', 'an', 'important', 'forum', 'for', 'discussing', 'international', 'economic', 'cooperation', 'issues', 'and', 'anti-crisis', 'response', 'measures,', 'jointly', 'promote', 'the', 'invigorated', 'spirit', 'of', 'solidarity', 'and', 'cooperation', 'within', 'the', 'G20,', 'support', 'the', 'leading', 'role', 'of', 'the', 'association', 'in', 'such', 'areas', 'as', 'the', 'international', 'fight', 'against', 'epidemics,', 'world', 'economic', 'recovery,', 'inclusive', 'sustainable', 'development,', 'improving', 'the', 'global', 'economic', 'governance', 'system', 'in', 'a', 'fair', 'and', 'rational', 'manner', 'to', 'collectively', 'address', 'global', 'challenges.', 'The', 'sides', 'support', 'the', 'deepened', 'strategic', 'partnership', 'within', 'BRICS,', 'promote', 'the', 'expanded', 'cooperation', 'in', 'three', 'main', 'areas:', 'politics', 'and', 'security,', 'economy', 'and', 'finance,', 'and', 'humanitarian', 'exchanges.', 'In', 'particular,', 'Russia', 'and', 'China', 'intend', 'to', 'encourage', 'interaction', 'in', 'the', 'fields', 'of', 'public', 'health,', 'digital', 'economy,', 'science,', 'innovation', 'and', 'technology,', 'including', 'artificial', 'intelligence', 'technologies,', 'as', 'well', 'as', 'the', 'increased', 'coordination', 'between', 'BRICS', 'countries', 'on', 'international', 'platforms.', 'The', 'sides', 'strive', 'to', 'further', 'strengthen', 'the', 'BRICS', 'Plus/Outreach', 'format', 'as', 'an', 'effective', 'mechanism', 'of', 'dialogue', 'with', 'regional', 'integration', 'associations', 'and', 'organizations', 'of', 'developing', 'countries', 'and', 'States', 'with', 'emerging', 'markets.', 'The', 'Russian', 'side', 'will', 'fully', 'support', 'the', 'Chinese', 'side', 'chairing', 'the', 'association', 'in', '2022,', 'and', 'assist', 'in', 'the', 'fruitful', 'holding', 'of', 'the', 'XIV', 'BRICS', 'summit.', 'Russia', 'and', 'China', 'aim', 'to', 'comprehensively', 'strengthen', 'the', 'Shanghai', 'Cooperation', 'Organization', '(SCO)', 'and', 'further', 'enhance', 'its', 'role', 'in', 'shaping', 'a', 'polycentric', 'world', 'order', 'based', 'on', 'the', 'universally', 'recognized', 'principles', 'of', 'international', 'law,', 'multilateralism,', 'equal,', 'joint,', 'indivisible,', 'comprehensive', 'and', 'sustainable', 'security.', 'They', 'consider', 'it', 'important', 'to', 'consistently', 'implement', 'the', 'agreements', 'on', 'improved', 'mechanisms', 'to', 'counter', 'challenges', 'and', 'threats', 'to', 'the', 'security', 'of', 'SCO', 'member', 'states', 'and,', 'in', 'the', 'context', 'of', 'addressing', 'this', 'task,', 'advocate', 'expanded', 'functionality', 'of', 'the', 'SCO', 'Regional', 'Anti-Terrorist', 'Structure.', 'The', 'sides', 'will', 'contribute', 'to', 'imparting', 'a', 'new', 'quality', 'and', 'dynamics', 'to', 'the', 'economic', 'interaction', 'between', 'the', 'SCO', 'member', 'States', 'in', 'the', 'fields', 'of', 'trade,', 'manufacturing,', 'transport,', 'energy,', 'finance,', 'investment,', 'agriculture,', 'customs,', 'telecommunications,', 'innovation', 'and', 'other', 'areas', 'of', 'mutual', 'interest,', 'including', 'through', 'the', 'use', 'of', 'advanced,', 'resource-saving,', 'energy', 'efficient', 'and', '”green“', 'technologies.', 'The', 'sides', 'note', 'the', 'fruitful', 'interaction', 'within', 'the', 'SCO', 'under', 'the', '2009', 'Agreement', 'between', 'the', 'Governments', 'of', 'the', 'Shanghai', 'Cooperation', 'Organization', 'member', 'States', 'on', 'cooperation', 'in', 'the', 'field', 'of', 'international', 'information', 'security,', 'as', 'well', 'as', 'within', 'the', 'specialized', 'Group', 'of', 'Experts.', 'In', 'this', 'context,', 'they', 'welcome', 'the', 'adoption', 'of', 'the', 'SCO', 'Joint', 'Action', 'Plan', 'on', 'Ensuring', 'International', 'Information', 'Security', 'for', '2022–2023', 'by', 'the', 'Council', 'of', 'Heads', 'of', 'State', 'of', 'SCO', 'Member', 'States', 'on', 'September', '17,', '2021', 'in', 'Dushanbe.', 'Russia', 'and', 'China', 'proceed', 'from', 'the', 'ever-increasing', 'importance', 'of', 'cultural', 'and', 'humanitarian', 'cooperation', 'for', 'the', 'progressive', 'development', 'of', 'the', 'SCO.', 'In', 'order', 'to', 'strengthen', 'mutual', 'understanding', 'between', 'the', 'people', 'of', 'the', 'SCO', 'member', 'States,', 'they', 'will', 'continue', 'to', 'effectively', 'foster', 'interaction', 'in', 'such', 'areas', 'as', 'cultural', 'ties,', 'education,', 'science', 'and', 'technology,', 'healthcare,', 'environmental', 'protection,', 'tourism,', 'people-to-people', 'contacts,', 'sports.', 'Russia', 'and', 'China', 'will', 'continue', 'to', 'work', 'to', 'strengthen', 'the', 'role', 'of', 'APEC', 'as', 'the', 'leading', 'platform', 'for', 'multilateral', 'dialogue', 'on', 'economic', 'issues', 'in', 'the', 'Asia-Pacific', 'region.', 'The', 'sides', 'intend', 'to', 'step', 'up', 'coordinated', 'action', 'to', 'successfully', 'implement', 'the', '”Putrajaya', 'guidelines', 'for', 'the', 'development', 'of', 'APEC', 'until', '2040“', 'with', 'a', 'focus', 'on', 'creating', 'a', 'free,', 'open,', 'fair,', 'non-discriminatory,', 'transparent', 'and', 'predictable', 'trade', 'and', 'investment', 'environment', 'in', 'the', 'region.', 'Particular', 'emphasis', 'will', 'be', 'placed', 'on', 'the', 'fight', 'against', 'the', 'novel', 'coronavirus', 'infection', 'pandemic', 'and', 'economic', 'recovery,', 'digitalization', 'of', 'a', 'wide', 'range', 'of', 'different', 'spheres', 'of', 'life,', 'economic', 'growth', 'in', 'remote', 'territories', 'and', 'the', 'establishment', 'of', 'interaction', 'between', 'APEC', 'and', 'other', 'regional', 'multilateral', 'associations', 'with', 'a', 'similar', 'agenda.', 'The', 'sides', 'intend', 'to', 'develop', 'cooperation', 'within', 'the', '”Russia-India-China“', 'format,', 'as', 'well', 'as', 'to', 'strengthen', 'interaction', 'on', 'such', 'venues', 'as', 'the', 'East', 'Asia', 'Summit,', 'ASEAN', 'Regional', 'Forum', 'on', 'Security,', 'Meeting', 'of', 'Defense', 'Ministers', 'of', 'the', 'ASEAN', 'Member', 'States', 'and', 'Dialogue', 'Partners.', 'Russia', 'and', 'China', 'support', \"ASEAN's\", 'central', 'role', 'in', 'developing', 'cooperation', 'in', 'East', 'Asia,', 'continue', 'to', 'increase', 'coordination', 'on', 'deepened', 'cooperation', 'with', 'ASEAN,', 'and', 'jointly', 'promote', 'cooperation', 'in', 'the', 'areas', 'of', 'public', 'health,', 'sustainable', 'development,', 'combating', 'terrorism', 'and', 'countering', 'transnational', 'crime.', 'The', 'sides', 'intend', 'to', 'continue', 'to', 'work', 'in', 'the', 'interest', 'of', 'a', 'strengthened', 'role', 'of', 'ASEAN', 'as', 'a', 'key', 'element', 'of', 'the', 'regional', 'architecture.', 'Official', 'Website', 'of', 'the', 'President', 'of', 'Russia:', 'Joint', 'Statement', 'of', 'the', 'Russian', 'Federation', 'and', 'the', 'People’s', 'Republic', 'of', 'China', 'on', 'the', 'International', 'Relations', 'Entering', 'a', 'New', 'Era', 'and', 'the', 'Global', 'Sustainable', 'Development', 'http://en.kremlin.ru/supplement/5770', 'Presidential', 'Executive', 'Office2024']\n"
     ]
    }
   ],
   "source": [
    "words = content.split()\n",
    "print(words)"
   ]
  },
  {
   "cell_type": "code",
   "execution_count": 128,
   "id": "6a606afc-94d0-4b19-b92b-f2f3cc83420a",
   "metadata": {},
   "outputs": [
    {
     "data": {
      "text/plain": [
       "5412"
      ]
     },
     "execution_count": 128,
     "metadata": {},
     "output_type": "execute_result"
    }
   ],
   "source": [
    "len(words)"
   ]
  },
  {
   "cell_type": "code",
   "execution_count": 130,
   "id": "9dc54031-e7fb-4098-a25e-253b6f88b1ad",
   "metadata": {},
   "outputs": [
    {
     "name": "stdout",
     "output_type": "stream",
     "text": [
      "[('the', 463), ('of', 316), ('and', 311), ('to', 174), ('in', 125), ('The', 98), ('sides', 83), ('on', 75), ('international', 67), ('as', 53), ('a', 53), ('for', 41), ('their', 38), ('that', 37), ('cooperation', 33), ('with', 31), ('its', 31), ('China', 28), ('development', 28), ('security', 27)]\n"
     ]
    }
   ],
   "source": [
    "fdist = FreqDist(words)\n",
    "print(fdist.most_common(20))"
   ]
  },
  {
   "cell_type": "code",
   "execution_count": 132,
   "id": "29f9a757-1dd3-421a-a04a-ac9fb93fe87c",
   "metadata": {},
   "outputs": [
    {
     "name": "stdout",
     "output_type": "stream",
     "text": [
      "[('The', 98), ('sides', 83), ('international', 67), ('cooperation', 33), ('China', 28), ('development', 28), ('security', 27), ('global', 24), ('Russia', 21), ('United', 19), ('support', 19), ('States', 17), ('world', 16), ('strengthen', 16), ('countries', 16), ('new', 15), ('Russian', 14), ('call', 14), ('well', 14), ('side', 14)]\n"
     ]
    }
   ],
   "source": [
    "clean_kremlin = []\n",
    "for word in words:\n",
    "    if not word in stopwords:\n",
    "        clean_kremlin.append(word)\n",
    "fdist2 = FreqDist(clean_kremlin)\n",
    "x = fdist2.most_common(20)\n",
    "print(x)"
   ]
  },
  {
   "cell_type": "code",
   "execution_count": 134,
   "id": "746b537b-9799-4259-8cce-75515a3a8ebd",
   "metadata": {},
   "outputs": [
    {
     "name": "stdout",
     "output_type": "stream",
     "text": [
      "['i', 'me', 'my', 'myself', 'we', 'our', 'ours', 'ourselves', 'you', \"you're\", \"you've\", \"you'll\", \"you'd\", 'your', 'yours', 'yourself', 'yourselves', 'he', 'him', 'his', 'himself', 'she', \"she's\", 'her', 'hers', 'herself', 'it', \"it's\", 'its', 'itself', 'they', 'them', 'their', 'theirs', 'themselves', 'what', 'which', 'who', 'whom', 'this', 'that', \"that'll\", 'these', 'those', 'am', 'is', 'are', 'was', 'were', 'be', 'been', 'being', 'have', 'has', 'had', 'having', 'do', 'does', 'did', 'doing', 'a', 'an', 'the', 'and', 'but', 'if', 'or', 'because', 'as', 'until', 'while', 'of', 'at', 'by', 'for', 'with', 'about', 'against', 'between', 'into', 'through', 'during', 'before', 'after', 'above', 'below', 'to', 'from', 'up', 'down', 'in', 'out', 'on', 'off', 'over', 'under', 'again', 'further', 'then', 'once', 'here', 'there', 'when', 'where', 'why', 'how', 'all', 'any', 'both', 'each', 'few', 'more', 'most', 'other', 'some', 'such', 'no', 'nor', 'not', 'only', 'own', 'same', 'so', 'than', 'too', 'very', 's', 't', 'can', 'will', 'just', 'don', \"don't\", 'should', \"should've\", 'now', 'd', 'll', 'm', 'o', 're', 've', 'y', 'ain', 'aren', \"aren't\", 'couldn', \"couldn't\", 'didn', \"didn't\", 'doesn', \"doesn't\", 'hadn', \"hadn't\", 'hasn', \"hasn't\", 'haven', \"haven't\", 'isn', \"isn't\", 'ma', 'mightn', \"mightn't\", 'mustn', \"mustn't\", 'needn', \"needn't\", 'shan', \"shan't\", 'shouldn', \"shouldn't\", 'wasn', \"wasn't\", 'weren', \"weren't\", 'won', \"won't\", 'wouldn', \"wouldn't\", ',', 'I', '.', ';', '-', '\"', 'may', 'shall', 'The']\n"
     ]
    }
   ],
   "source": [
    "new_stops = ['The']\n",
    "stopwords.extend(new_stops)\n",
    "print(stopwords)"
   ]
  },
  {
   "cell_type": "code",
   "execution_count": 138,
   "id": "7d3d860d-63a5-42a0-a75b-b3f0db93009d",
   "metadata": {},
   "outputs": [
    {
     "name": "stdout",
     "output_type": "stream",
     "text": [
      "[('sides', 83), ('international', 67), ('cooperation', 33), ('China', 28), ('development', 28), ('security', 27), ('global', 24), ('Russia', 21), ('United', 19), ('support', 19), ('States', 17), ('world', 16), ('strengthen', 16), ('countries', 16), ('new', 15), ('Russian', 14), ('call', 14), ('well', 14), ('side', 14), ('rights', 13)]\n"
     ]
    },
    {
     "data": {
      "image/png": "[encoded data removed]",
      "text/plain": [
       "<Figure size 640x480 with 1 Axes>"
      ]
     },
     "metadata": {},
     "output_type": "display_data"
    },
    {
     "name": "stdout",
     "output_type": "stream",
     "text": [
      "Axes(0.125,0.11;0.775x0.77)\n"
     ]
    }
   ],
   "source": [
    "clean_kremlin2 = []\n",
    "for word in clean_kremlin:\n",
    "    if not word in stopwords:\n",
    "        clean_kremlin2.append(word)\n",
    "fdist3 = FreqDist(clean_kremlin2)\n",
    "x = fdist3.most_common(20)\n",
    "print(x)\n",
    "print(fdist3.plot(20))"
   ]
  },
  {
   "cell_type": "code",
   "execution_count": 142,
   "id": "0a9d1231-d0fb-404f-990b-c531f489f2fe",
   "metadata": {},
   "outputs": [
    {
     "name": "stdout",
     "output_type": "stream",
     "text": [
      "[(('Russia', 'China'), 20), (('international', 'community'), 10), (('United', 'Nations'), 9), (('human', 'rights'), 9), (('sides', 'call'), 8), (('Russian', 'side'), 7), (('sides', 'believe'), 6), (('sides', 'note'), 6), (('sides', 'oppose'), 6), (('Chinese', 'side'), 6), (('international', 'information'), 6), (('sides', 'intend'), 6), (('Russian', 'Federation'), 5), (('new', 'coronavirus'), 5), (('coronavirus', 'infection'), 5), (('internal', 'affairs'), 5), (('work', 'together'), 5), (('sides', 'emphasize'), 5), (('legally', 'binding'), 5), (('international', 'regional'), 4)]\n"
     ]
    },
    {
     "data": {
      "image/png": "[encoded data removed]",
      "text/plain": [
       "<Figure size 640x480 with 1 Axes>"
      ]
     },
     "metadata": {},
     "output_type": "display_data"
    },
    {
     "name": "stdout",
     "output_type": "stream",
     "text": [
      "Axes(0.125,0.11;0.775x0.77)\n"
     ]
    }
   ],
   "source": [
    "fdist_bi2 = list(nltk.bigrams(clean_kremlin2))\n",
    "fdist4 = FreqDist(fdist_bi2)\n",
    "x = fdist4.most_common(20)\n",
    "print(x)\n",
    "print(fdist4.plot(20))"
   ]
  },
  {
   "cell_type": "markdown",
   "id": "74243478-22c7-4fbc-b03e-95699c62c874",
   "metadata": {},
   "source": [
    "5 pts Please read the speech. What does the word frequency tell us, if anything, about the speech? Please answer in a short paragraph that tells me how the word frequency distribution is good at finding meaning, but also may miss the meaning that you gained from actually reading the article.\n",
    "\n",
    "Your paragraph here:\n",
    "\n",
    "The word frequency tells me that Russia and China really wanted to emphasize cooperation with one another, which makes sense given the context of Russia's then-impending invasion of Ukraine, upon which they'd be shunned by much of the global community. I also see weight given to security, which also tracks due to the above. You can also see \"United\" and \"States\", but what's missing in a simple word frequency is whether these words are used together to refer to the United States. That's why I used the bigrams function afterward, but it appears \"United Nations\" appears far more frequently than \"United States\", which makes sense given Russia's habit of calling for operating within the bounds of UN norms. So, it's obviously helpful to get a sense of which words are used and how often, but some crucial context is missing that might afford us some deeper meaning.\n"
   ]
  },
  {
   "cell_type": "markdown",
   "id": "02613f82-9c85-4581-a5e3-b194d7feeca1",
   "metadata": {},
   "source": [
    "### Intro to Summarization\n",
    "Summarization has been a thorny problem for data scientists over the past decade. There have been many approaches, but most, until ChatGPT and it's use of the transformers' architecture, they have been unsatisfactory. There are two main types of summarization:\n",
    "\n",
    "Extractive Summarization: Finding the most important sentences and rendering them verbatim.\n",
    "\n",
    "Abstractive Summarization: Taking the most important ideas from a document and generating a summary based on them\n",
    "\n",
    "There have been many different algorithms that have attempted summarization. Let's learn about one of the most used and deploy it in python."
   ]
  },
  {
   "cell_type": "markdown",
   "id": "4fb7cd69-83a1-400a-8820-2d0929b5d52d",
   "metadata": {},
   "source": [
    "#### Luhns Heuristic Method\n",
    "This is one of the earliest approaches of text summarization. This is related to our manual interpretation of the importance of word frequency in a document.Basically, just as we did, Luhn recognized that word frequency and word significance is highly correlated, but only \"important\" words. The assumption that the most important sentences are those with the most significant words. Here is a nice short article that explains the algo in an accessible way: https://blog.fastforwardlabs.com/2016/03/25/h.p.-luhn-and-the-heuristic-value-of-simplicity.html\n",
    "\n",
    "##### Sumy is a python package that has a lot of different commons summarization methods including LSA, LexRank and Luhn."
   ]
  },
  {
   "cell_type": "code",
   "execution_count": 1,
   "id": "e937ffbd-8fc9-4eff-91bc-dfdbcc4048e4",
   "metadata": {},
   "outputs": [
    {
     "name": "stdout",
     "output_type": "stream",
     "text": [
      "Collecting sumy\n",
      "  Downloading sumy-0.11.0-py2.py3-none-any.whl.metadata (7.5 kB)\n",
      "Collecting docopt<0.7,>=0.6.1 (from sumy)\n",
      "  Downloading docopt-0.6.2.tar.gz (25 kB)\n",
      "  Preparing metadata (setup.py): started\n",
      "  Preparing metadata (setup.py): finished with status 'done'\n",
      "Collecting breadability>=0.1.20 (from sumy)\n",
      "  Downloading breadability-0.1.20.tar.gz (32 kB)\n",
      "  Preparing metadata (setup.py): started\n",
      "  Preparing metadata (setup.py): finished with status 'done'\n",
      "Requirement already satisfied: requests>=2.7.0 in c:\\users\\wolyn\\anaconda3\\lib\\site-packages (from sumy) (2.32.2)\n",
      "Collecting pycountry>=18.2.23 (from sumy)\n",
      "  Downloading pycountry-24.6.1-py3-none-any.whl.metadata (12 kB)\n",
      "Requirement already satisfied: nltk>=3.0.2 in c:\\users\\wolyn\\anaconda3\\lib\\site-packages (from sumy) (3.8.1)\n",
      "Requirement already satisfied: chardet in c:\\users\\wolyn\\anaconda3\\lib\\site-packages (from breadability>=0.1.20->sumy) (3.0.4)\n",
      "Requirement already satisfied: lxml>=2.0 in c:\\users\\wolyn\\anaconda3\\lib\\site-packages (from breadability>=0.1.20->sumy) (5.2.1)\n",
      "Requirement already satisfied: click in c:\\users\\wolyn\\anaconda3\\lib\\site-packages (from nltk>=3.0.2->sumy) (8.1.7)\n",
      "Requirement already satisfied: joblib in c:\\users\\wolyn\\anaconda3\\lib\\site-packages (from nltk>=3.0.2->sumy) (1.4.2)\n",
      "Requirement already satisfied: regex>=2021.8.3 in c:\\users\\wolyn\\anaconda3\\lib\\site-packages (from nltk>=3.0.2->sumy) (2023.10.3)\n",
      "Requirement already satisfied: tqdm in c:\\users\\wolyn\\anaconda3\\lib\\site-packages (from nltk>=3.0.2->sumy) (4.66.4)\n",
      "Requirement already satisfied: charset-normalizer<4,>=2 in c:\\users\\wolyn\\anaconda3\\lib\\site-packages (from requests>=2.7.0->sumy) (2.0.4)\n",
      "Requirement already satisfied: idna<4,>=2.5 in c:\\users\\wolyn\\anaconda3\\lib\\site-packages (from requests>=2.7.0->sumy) (2.10)\n",
      "Requirement already satisfied: urllib3<3,>=1.21.1 in c:\\users\\wolyn\\anaconda3\\lib\\site-packages (from requests>=2.7.0->sumy) (2.2.2)\n",
      "Requirement already satisfied: certifi>=2017.4.17 in c:\\users\\wolyn\\anaconda3\\lib\\site-packages (from requests>=2.7.0->sumy) (2024.7.4)\n",
      "Requirement already satisfied: colorama in c:\\users\\wolyn\\anaconda3\\lib\\site-packages (from click->nltk>=3.0.2->sumy) (0.4.6)\n",
      "Downloading sumy-0.11.0-py2.py3-none-any.whl (97 kB)\n",
      "   ---------------------------------------- 0.0/97.3 kB ? eta -:--:--\n",
      "   ------------------------------------- -- 92.2/97.3 kB 2.6 MB/s eta 0:00:01\n",
      "   ---------------------------------------- 97.3/97.3 kB 1.9 MB/s eta 0:00:00\n",
      "Downloading pycountry-24.6.1-py3-none-any.whl (6.3 MB)\n",
      "   ---------------------------------------- 0.0/6.3 MB ? eta -:--:--\n",
      "   -- ------------------------------------- 0.4/6.3 MB 12.9 MB/s eta 0:00:01\n",
      "   --------- ------------------------------ 1.5/6.3 MB 15.9 MB/s eta 0:00:01\n",
      "   ----------------------- ---------------- 3.7/6.3 MB 26.0 MB/s eta 0:00:01\n",
      "   ------------------------------------ --- 5.9/6.3 MB 31.3 MB/s eta 0:00:01\n",
      "   ---------------------------------------  6.3/6.3 MB 33.8 MB/s eta 0:00:01\n",
      "   ---------------------------------------  6.3/6.3 MB 33.8 MB/s eta 0:00:01\n",
      "   ---------------------------------------- 6.3/6.3 MB 22.5 MB/s eta 0:00:00\n",
      "Building wheels for collected packages: breadability, docopt\n",
      "  Building wheel for breadability (setup.py): started\n",
      "  Building wheel for breadability (setup.py): finished with status 'done'\n",
      "  Created wheel for breadability: filename=breadability-0.1.20-py2.py3-none-any.whl size=21739 sha256=e665a8184a28182a223e51de0c4c37f7bbd8af69d88992070302f7b658ca8d45\n",
      "  Stored in directory: c:\\users\\wolyn\\appdata\\local\\pip\\cache\\wheels\\32\\99\\64\\59305409cacd03aa03e7bddf31a9db34b1fa7033bd41972662\n",
      "  Building wheel for docopt (setup.py): started\n",
      "  Building wheel for docopt (setup.py): finished with status 'done'\n",
      "  Created wheel for docopt: filename=docopt-0.6.2-py2.py3-none-any.whl size=13773 sha256=0d3a9812884792edef1e0f463f707c0c358186fd58c3cc65f2544d687007a661\n",
      "  Stored in directory: c:\\users\\wolyn\\appdata\\local\\pip\\cache\\wheels\\1a\\bf\\a1\\4cee4f7678c68c5875ca89eaccf460593539805c3906722228\n",
      "Successfully built breadability docopt\n",
      "Installing collected packages: docopt, pycountry, breadability, sumy\n",
      "Successfully installed breadability-0.1.20 docopt-0.6.2 pycountry-24.6.1 sumy-0.11.0\n"
     ]
    }
   ],
   "source": [
    "#install sumy package\n",
    "!pip install sumy"
   ]
  },
  {
   "cell_type": "markdown",
   "id": "819dde4b-4a7a-45b6-a728-a93d7fc8ce06",
   "metadata": {},
   "source": [
    "Run the following code. Pass the document you want to summarize as a variable in the document part of the statement below. Use the variable that you saved the document into if it's something different.\n",
    "\n",
    "PlaintextParser.from_string(document,Tokenizer(\"english\"))"
   ]
  },
  {
   "cell_type": "code",
   "execution_count": 11,
   "id": "b3d00b0b-10d6-49ea-9c27-24af0c3f3167",
   "metadata": {},
   "outputs": [
    {
     "name": "stdout",
     "output_type": "stream",
     "text": [
      "What was necessary to implement effective family planning and other programs was a much closer look at, in this case, the place of women in a society, and, more broadly, the conditions and norms of each unique place in which such programs would be applied, as well as the solutions those peculiarities would call for.\n",
      "He was joined by other such advocates of integrated/basic human needs approaches as Soedjatmoko, an Indonesian diplomat and development figure who also grew concerned about “growing inequality in developing societies.”9 He was encouraged by his observation that the “Basic Needs Model” had already started to gain traction in many development projects and exhibited positive results, but he also urged caution, arguing that relatively little was known about this model and the greater policy landscape it fit into, among other things.\n"
     ]
    }
   ],
   "source": [
    "from sumy.summarizers.luhn import LuhnSummarizer\n",
    "from sumy.parsers.plaintext import PlaintextParser\n",
    "from sumy.nlp.tokenizers import Tokenizer\n",
    "\n",
    "with open(r\"C:\\Users\\wolyn\\OneDrive\\Documents\\Yale - Fall 2024\\Development in Crisis\\shortpaper.txt\", \"r\", encoding=\"windows-1252\") as file:\n",
    "    document = file.read() #Took me some troubleshooting with ChatGPT to work through some errors here, the encoding used above finally worked to sift through the document\n",
    "#I used the full path to the file because my document is not in the directory where the script is being executed\n",
    "parser = PlaintextParser.from_string(document,Tokenizer(\"english\"))\n",
    "\n",
    "summarizer_luhn = LuhnSummarizer()\n",
    "summary_1 =summarizer_luhn(parser.document,2)\n",
    "for sentence in summary_1:\n",
    "    print(sentence)"
   ]
  },
  {
   "cell_type": "markdown",
   "id": "ef1612c2-f4fb-4b53-b851-876a4176ce42",
   "metadata": {},
   "source": [
    "10 pts Evaluate the Luhn summarization below on the document you selected in the previous problem. How did it do?\n",
    "\n",
    "Your evaluation here: These pieces from a paper I submitted last week are helpful, but they certainly don't capture the most important main ideas. They come close - I brought up two key takeaways from the development experience of the mid-20th century, and these two pieces are examples of the ideas but not the broader ideas themselves. I'm guessing the words the algorithm picked up on were \"unique\", \"conditions\", \"implement\", and \"integrated\"."
   ]
  },
  {
   "cell_type": "markdown",
   "id": "d781fdfc-13fe-4b5b-8c3d-a827304e86b5",
   "metadata": {},
   "source": [
    "10 pts Now look at the documentation for Sumy and use the Lex Rank summarization algo.\n"
   ]
  },
  {
   "cell_type": "code",
   "execution_count": 14,
   "id": "5de74fde-eb5e-459f-b041-632f8da2c6cf",
   "metadata": {},
   "outputs": [
    {
     "name": "stdout",
     "output_type": "stream",
     "text": [
      "What was necessary to implement effective family planning and other programs was a much closer look at, in this case, the place of women in a society, and, more broadly, the conditions and norms of each unique place in which such programs would be applied, as well as the solutions those peculiarities would call for.\n",
      "Despite the comparatively uncharted territory in which development actors were now operating as well as their various reservations, Soedjatmoko and others such as Paul Streeten and Shahid Javed Burki were unambiguous in their assertion that the growth-focused model was outdated and it had plainly become necessary to pivot to something with at least the basic contours of integrated/basic human needs approaches.\n"
     ]
    }
   ],
   "source": [
    "# Your code here:\n",
    "from sumy.summarizers.lex_rank import LexRankSummarizer\n",
    "\n",
    "with open(r\"C:\\Users\\wolyn\\OneDrive\\Documents\\Yale - Fall 2024\\Development in Crisis\\shortpaper.txt\", \"r\", encoding=\"windows-1252\") as file:\n",
    "    document = file.read()\n",
    "parser = PlaintextParser.from_string(document, Tokenizer(\"english\"))\n",
    "summarizer_lexrank = LexRankSummarizer()\n",
    "summary = summarizer_lexrank(parser.document, 2)\n",
    "for sentence in summary:\n",
    "    print(sentence)"
   ]
  },
  {
   "cell_type": "markdown",
   "id": "01d55601-95b4-4f97-8014-a22e0524cd11",
   "metadata": {},
   "source": [
    "How does Lex Rank work? Explain it to me and evaluate the differences in the two algos.\n",
    "\n",
    "5 pts Your explanation and evaluation here:\n",
    "\n",
    "LexRank is a graph-based algorithm, while Luhn is a frequency-based algorithm. In other words, LexRank homes in on the relationships between sentences based on how similar the content in them is. Luhn picks out important sentences by focusing on the frequency of keywords (most likely keywords listed above). Here, LexRank did a better job of capturing the essence/key ideas in my paper, as the second sentence is a pretty succint summary of one of the two key ideas I was trying to convey. In hindsight, the first sentence (same for both methods) does sum up the first idea pretty well, so the Luhn algorithm did better than I initially thought. But it's the choice of the second sentence that gives LexRank the edge here."
   ]
  },
  {
   "cell_type": "markdown",
   "id": "fad17b90-a828-4306-a725-636acfefb776",
   "metadata": {},
   "source": [
    "#### Using ChatGPT for Summarization\n",
    "Now use Chatgpt to perform extractive and abstractive summarization on your document. Copy and paste into prompt. You will see that the document may be too long, so you may have to break the document into parts. Does where you break your document impact the summarization?\n",
    "\n",
    "5 pts Copy and paste your prompt and the ChatGPT extractive summarization here:\n",
    "\n",
    "Prompt: Give me an extractive summarization of the attached txt document.\n",
    "\n",
    "ChatGPT answer: Here’s an extractive summarization of the document using key sentences:\n",
    "In the mid-20th century, two critical lessons emerged in development practice: (1) development efforts must consider local conditions, and (2) long-term solutions must be integrated, addressing various interrelated aspects of development. Failures in the Philippines and India highlighted the dangers of imposing external solutions without considering local preferences or logistical challenges. As noted in Ester Boserup’s critique, cultural factors—such as the social status tied to having children in rural African communities—were often ignored in family planning efforts, leading to ineffective results.\n",
    "\n",
    "Mahbub ul Haq argued in 1973 for an integrated, human-needs-based approach to development, rejecting narrow goals like GNP growth and advocating for direct attacks on poverty and inequality. He, alongside others like Soedjatmoko, Paul Streeten, and Shahid Javed Burki, stressed the importance of addressing basic needs, warning that economic growth alone did little for the poorest populations in the Global South.\n",
    "\n",
    "Ultimately, these lessons stressed the necessity of customized, integrated approaches to development, considering both the interdependence of sectors and local specificities.\n",
    "\n",
    "This summary focuses on the core themes and examples used in the document."
   ]
  },
  {
   "cell_type": "markdown",
   "id": "731da82e-7aeb-48b8-8a82-a6455b41232e",
   "metadata": {},
   "source": [
    "5 pts Copy and paste your prompt and the ChatGPT abstractive summarization here:\n",
    "\n",
    "Prompt: Now give me an abstractive summarization of the same document.\n",
    "\n",
    "ChatGPT answer:\n",
    "In the mid-20th century, development efforts often failed because they didn't account for local conditions or implement holistic solutions. Lessons learned from mistakes in countries like the Philippines and India demonstrated the need for customized approaches that consider environmental, cultural, and logistical factors. For example, introducing inappropriate technologies or failing to consider local preferences led to development failures. Additionally, family planning initiatives in Africa overlooked the cultural significance of having children, which hampered their effectiveness.\n",
    "\n",
    "Development thinkers like Mahbub ul Haq criticized earlier strategies focused solely on economic growth, advocating instead for a more integrated approach addressing basic human needs, such as health, education, and poverty reduction. This shift aimed to directly improve living conditions, rather than assuming that wealth would naturally trickle down to the poor. The realization that addressing interrelated aspects of development is crucial became a central principle for successful long-term development strategies.\n",
    "\n",
    "This version rephrases the content and presents a more concise interpretation of the document’s main ideas."
   ]
  },
  {
   "cell_type": "markdown",
   "id": "5a8c850c-bf83-412c-b1ee-ee48e6b80550",
   "metadata": {},
   "source": [
    "5 pts Does breaking the document in different places impact the summarization? Answer here:\n",
    "\n",
    "Perhaps it's because my document isn't extremely long (1600ish words), but breaking it did not result in a significantly different summarization. In fact, it's nearly identical to the others.\n"
   ]
  },
  {
   "cell_type": "markdown",
   "id": "b338a145-bd59-4039-a7e8-5de9d14f0b73",
   "metadata": {},
   "source": [
    "5 pts Watch this video, and be prepared for a quiz on it! \n",
    "https://www.youtube.com/watch?v=wjZofJX0v4M&list=PLZHQObOWTQDNU6R1_67000Dx_ZCJB-3pi&index=5\n"
   ]
  }
 ],
 "metadata": {
  "kernelspec": {
   "display_name": "Python 3 (ipykernel)",
   "language": "python",
   "name": "python3"
  },
  "language_info": {
   "codemirror_mode": {
    "name": "ipython",
    "version": 3
   },
   "file_extension": ".py",
   "mimetype": "text/x-python",
   "name": "python",
   "nbconvert_exporter": "python",
   "pygments_lexer": "ipython3",
   "version": "3.12.4"
  }
 },
 "nbformat": 4,
 "nbformat_minor": 5
}
