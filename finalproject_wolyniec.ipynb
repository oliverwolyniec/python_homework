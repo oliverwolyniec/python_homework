{
 "cells": [
  {
   "cell_type": "markdown",
   "id": "fa09eee8-9df8-4089-b73d-8db757fc8f1b",
   "metadata": {},
   "source": [
    "# Hate Narratives and the Nagorno-Karabakh Conflict, 2020-2024"
   ]
  },
  {
   "cell_type": "markdown",
   "id": "1cb4a259-c950-45fb-aa40-b9c265a6808d",
   "metadata": {},
   "source": [
    "This summer, I spent six weeks in the South Caucasus conducting research on civil society-led peacebuilding initiatives in Armenia, in the particular context of the decades-long Nagorno-Karabakh conflict between Armenia and Azerbaijan. I was based in Yerevan, Armenia's capital, but also spent several days in Baku, the capital of Azerbaijan. Throughout my time there, I was perpetually struck by the hateful rhetoric used by both political leaders and regular people on both sides of the conflict. At times it was downright appalling - I recall watching a recent video of an elderly Azerbaijani woman, in the aftermath of an Armenian strike, crying, \"We thirst for every last drop of Armenian blood. We thirst for their children's blood.\"\n",
    "\n",
    "Such hateful speech has become an integral dimension of the conflict, especially as actual contact between Armenians and Azerbaijanis, which has in many cases facilitated mutual understanding, increasingly vanishes. I was struck when an Armenian colleague at the Yerevan think tank I worked with over the summer told me that she'd only met one Azerbaijani in her life, when she lived in Russia in her youth. She added that if she had an opportunity in the future to speak with someone from Azerbaijan, she wouldn't take it. This was coming from somebody I deeply admired for her intellectual curiosity and openmindedness, and someone who had been involved to varying degrees in peacebuilding efforts before. If someone with her position and pedigree was completely uninterested in building bridges, what hope was there to promote reconciliation - especially when travel by Armenians to Azerbaijan, and even their presence in the other country, and vice versa has effectively been banned? My colleague never used bombastic, hateful speech, but there was always a sense of disdain, and that Armenians had been deeply, indelibly wronged by the Azerbaijanis.\n",
    "\n",
    "One can, though, often hear hateful, dehumanizing rhetoric emanating from the top offices in both countries. In my experience, Ilham Aliyev, the president of Azerbaijan since 2003, is the bigger culprit, but Armenia's Nikol Pashinyan, prime minister since 2018, is guilty of weaponizing such speech as well. I'm interested in investigating how Aliyev and Pashinyan use hate narratives, when and to what end they use them, and their historical roots, among other things. Borrowing from Iwona Jakubowska-Branicka (2016), hate narratives are patterns of speech or communication that promote hostility, discrimination, or violence against a particular group, often based on their ethnicity, religion, nationality, gender, or other traits. Hate narratives often involve stereotyping, dehumanization, or the justification of harm toward the targeted group. **My primary research question is as follows: How do the speeches of Nikol Pashinyan and Ilham Aliyev between 2020 and 2024 reflect and propagate hate narratives, and what differences or similarities exist in their rhetorical strategies?**\n",
    "\n",
    "While the conflict began in 1988 as the Soviet Union began to crumble, my focus is on the past four years, and especially on four particularly pivotal events: the Second Nagorno-Karabakh War, which lasted from late September to early November 2020; September 2022 clashes between Armenia and Azerbaijan which included the largest attacks by Azerbaijan on Armenia proper in the history of the conflict; the Azerbaijani blockade of the Lachin corridor, the only road connecting Armenia and Nagorno-Karabakh, which began in December 2022; and the one-day lightning offensive launched by Azerbaijan in September 2023, giving it complete control of Nagorno-Karabakh for the first time and leading to the exodus of nearly all Armenians from the territory and into mainland Armenia.\n",
    "\n",
    "My analysis includes speeches by Pashinyan and Aliyev before, during, and after these events. In total, it includes 48 speeches by Pashinyan and 36 by Aliyev, scraped from their official websites. All the speeches are available in English on the sites. More precisely, it includes 16 Pashinyan speeches and 11 Aliyev speeches around the Second Nagorno-Karabakh War; six Pashinyan and eight Aliyev speeches around the September 2022 clashes; 12 Pashinyan and seven Aliyev speeches around the Lachin corridor blockade; and 14 Pashinyan and 10 Aliyev speeches around the 2023 lightning offensive.\n",
    "\n",
    "First, it's always helpful to get a mental picture of where something is taking place, so let's generate a map."
   ]
  },
  {
   "cell_type": "markdown",
   "id": "9e31352d-d20c-4340-9862-c74698db9c42",
   "metadata": {},
   "source": [
    "***Generating a map of Armenia, Azerbaijan, and Nagorno-Karabakh***"
   ]
  },
  {
   "cell_type": "code",
   "execution_count": 15,
   "id": "779bf839-1f3e-4073-968c-f057cba51f66",
   "metadata": {},
   "outputs": [
    {
     "data": {
      "text/html": [
       "\n",
       "        <iframe\n",
       "            width=\"800\"\n",
       "            height=\"600\"\n",
       "            src=\"nagorno_karabakh_map_with_labels.html\"\n",
       "            frameborder=\"0\"\n",
       "            allowfullscreen\n",
       "            \n",
       "        ></iframe>\n",
       "        "
      ],
      "text/plain": [
       "<IPython.lib.display.IFrame at 0x20ebbd473e0>"
      ]
     },
     "execution_count": 15,
     "metadata": {},
     "output_type": "execute_result"
    }
   ],
   "source": [
    "\"\"\"I wanted to create a map of Armenia and Azerbaijan and also show Nagorno-Karabakh, the rough borders of which aren't\n",
    "usually shown on most maps. If you click on the pins on the map, it'll show you which entity is which.\"\"\"\n",
    "\n",
    "import folium #For creating interactive maps\n",
    "import json #To handle GeoJSON data, a file format for geographic data, in this case to add the Nagorno-Karabakh border to the map\n",
    "from IPython.display import IFrame #To display the map directly in the notebook\n",
    "\n",
    "#Specifying the path to my local GeoJSON file, which I found for Nagorno-Karabakh on GitHub.\n",
    "#It's got the blue border on the map below.\n",
    "geojson_file_path = r\"C:\\Users\\wolyn\\Downloads\\nagorno-karabakh.geojson\"\n",
    "\n",
    "#Opening and loading the GeoJSON data from the local file\n",
    "with open(geojson_file_path, 'r') as f:\n",
    "    geojson_data = json.load(f)\n",
    "\n",
    "#Initializing the map centered around a latitude and longitude, got these with help from ChatGPT\n",
    "m = folium.Map(location=[40.2, 45.3], zoom_start=7) #zoom_start determines the starting zoom level\n",
    "\n",
    "#Displaying the geographic data on the map\n",
    "folium.GeoJson(geojson_data).add_to(m)\n",
    "\n",
    "#Adding markers with labels for Armenia, Azerbaijan, and Nagorno-Karabakh\n",
    "#Coordinates for approximate locations of these regions\n",
    "folium.Marker([40.2, 44.5], popup=\"Armenia\").add_to(m)\n",
    "folium.Marker([40.2, 47.5], popup=\"Azerbaijan\").add_to(m)\n",
    "folium.Marker([39.9, 46.8], popup=\"Nagorno-Karabakh\").add_to(m)\n",
    "\n",
    "#Saving the map to an HTML file\n",
    "m.save(\"nagorno_karabakh_map_with_labels.html\")\n",
    "\n",
    "#Displaying the map in the notebook\n",
    "IFrame(\"nagorno_karabakh_map_with_labels.html\", width=800, height=600)"
   ]
  },
  {
   "cell_type": "markdown",
   "id": "4938a793-2418-421d-ae70-5b28e8e6cb0e",
   "metadata": {},
   "source": [
    "***Collecting and cleaning the data***"
   ]
  },
  {
   "cell_type": "markdown",
   "id": "42a2d1ae-d9ad-4dbd-a664-dcca3921e9a0",
   "metadata": {},
   "source": [
    "Now that we can easily visualize this part of the world, I need to actually collect the speeches for my analysis. I went to the respective websites for Aliyev and Pashinyan and gathered the URLs for each relevant speech around the four events in question. I'm creating two CSV files, one for Aliyev's speeches and one for Pashinyan's, to keep it simple in my mind/analysis."
   ]
  },
  {
   "cell_type": "code",
   "execution_count": 17,
   "id": "d3959927-ea95-4406-b6c2-9fe7dead1d59",
   "metadata": {},
   "outputs": [
    {
     "name": "stdout",
     "output_type": "stream",
     "text": [
      "Successfully scraped: https://www.primeminister.am/en/statements-and-messages/item/2020/08/21/Nikol-Pashinyan-Security-Council-meeting/\n",
      "Successfully scraped: https://www.primeminister.am/en/statements-and-messages/item/2020/08/28/Nikol-Pashinyan--message/\n",
      "Successfully scraped: https://www.primeminister.am/en/statements-and-messages/item/2020/09/27/Nikol-Pashinyan-message/\n",
      "Successfully scraped: https://www.primeminister.am/en/statements-and-messages/item/2020/09/27/Nikol-Pashinyan-Speech/\n",
      "Successfully scraped: https://www.primeminister.am/en/statements-and-messages/item/2020/09/27/Cabinet-meeting-Speech-27-09/\n",
      "Successfully scraped: https://www.primeminister.am/en/statements-and-messages/item/2020/10/03/Nikol-Pashinyan-message/\n",
      "Successfully scraped: https://www.primeminister.am/en/statements-and-messages/item/2020/10/14/Nikol-Pashinyan-message-to-the-nation/\n",
      "Successfully scraped: https://www.primeminister.am/en/statements-and-messages/item/2020/10/21/Nikol-Pashinyan/\n",
      "Successfully scraped: https://www.primeminister.am/en/statements-and-messages/item/2020/10/27/Nikol-Pashinyan-Speech/\n",
      "Successfully scraped: https://www.primeminister.am/en/statements-and-messages/item/2020/11/12/Nikol-Pashinyan-Speech/\n",
      "Successfully scraped: https://www.primeminister.am/en/statements-and-messages/item/2020/11/26/Nikol-Pashinyan-Speech/\n",
      "Successfully scraped: https://www.primeminister.am/en/statements-and-messages/item/2020/11/27/Cabinet-meeting-Speech/\n",
      "Successfully scraped: https://www.primeminister.am/en/statements-and-messages/item/2020/12/02/Nikol-Pashinyan-Speech-CSTO-session/\n",
      "Successfully scraped: https://www.primeminister.am/en/statements-and-messages/item/2020/12/05/Nikol-Pashinyan-message/\n",
      "Successfully scraped: https://www.primeminister.am/en/statements-and-messages/item/2020/12/14/Nikol-Pashinyan-Speech/\n",
      "Successfully scraped: https://www.primeminister.am/en/statements-and-messages/item/2020/12/19/Nikol-Pashinyan-message/\n",
      "Successfully scraped: https://www.primeminister.am/en/statements-and-messages/item/2022/08/04/Cabinet-meeting-Speech/\n",
      "Successfully scraped: https://www.primeminister.am/en/statements-and-messages/item/2022/09/02/Nikol-Pashinyan-messages/\n",
      "Successfully scraped: https://www.primeminister.am/en/statements-and-messages/item/2022/09/13/Nikol-Pashinyan-Speech/\n",
      "Successfully scraped: https://www.primeminister.am/en/statements-and-messages/item/2022/09/19/Nikol-Pashinyan-Speech/\n",
      "Successfully scraped: https://www.primeminister.am/en/statements-and-messages/item/2022/09/22/Nikol-Pashinyan-Speech/\n",
      "Successfully scraped: https://www.primeminister.am/en/statements-and-messages/item/2022/10/14/Nikol-Pashinyan-Speech/#photos[pp_gal_1]/0/\n",
      "Successfully scraped: https://www.primeminister.am/en/statements-and-messages/item/2022/11/10/Cabinet-meeting-Speech/\n",
      "Successfully scraped: https://www.primeminister.am/en/statements-and-messages/item/2022/11/23/Nikol-Pashinyan-CSTO-meeting/\n",
      "Successfully scraped: https://www.primeminister.am/en/statements-and-messages/item/2022/12/15/Cabinet-meeting-Speech/\n",
      "Successfully scraped: https://www.primeminister.am/en/statements-and-messages/item/2022/12/22/Cabinet-meeting-Speech/\n",
      "Successfully scraped: https://www.primeminister.am/en/statements-and-messages/item/2022/12/29/Cabinet-meeting-Speech/\n",
      "Successfully scraped: https://www.primeminister.am/en/statements-and-messages/item/2022/12/31/Nikol-Pashinyan-New-Year-Message/\n",
      "Successfully scraped: https://www.primeminister.am/en/statements-and-messages/item/2023/02/16/Cabinet-meeting-Speech/\n",
      "Successfully scraped: https://www.primeminister.am/en/statements-and-messages/item/2023/02/20/Nikol-Pashinyan-Congratulations/\n",
      "Successfully scraped: https://www.primeminister.am/en/statements-and-messages/item/2023/02/23/Cabinet-meeting-Speech/\n",
      "Successfully scraped: https://www.primeminister.am/en/statements-and-messages/item/2023/03/09/Cabinet-meeting-Speech/\n",
      "Successfully scraped: https://www.primeminister.am/en/statements-and-messages/item/2023/03/16/Cabinet-meeting-Speech/\n",
      "Successfully scraped: https://www.primeminister.am/en/statements-and-messages/item/2023/03/23/Cabinet-meeting-Speech/\n",
      "Successfully scraped: https://www.primeminister.am/en/statements-and-messages/item/2023/08/17/Cabinet-meeting-Speech/\n",
      "Successfully scraped: https://www.primeminister.am/en/statements-and-messages/item/2023/08/24/Cabinet-meeting-Speech/\n",
      "Successfully scraped: https://www.primeminister.am/en/statements-and-messages/item/2023/09/02/Nikol-Pashinyan-message/\n",
      "Successfully scraped: https://www.primeminister.am/en/statements-and-messages/item/2023/09/07/Cabinet-meeting-Speech/\n",
      "Successfully scraped: https://www.primeminister.am/en/statements-and-messages/item/2023/09/14/Cabinet-meeting-Speech/\n",
      "Successfully scraped: https://www.primeminister.am/en/statements-and-messages/item/2023/09/19/Nikol-Pashinyan-Speech/\n",
      "Successfully scraped: https://www.primeminister.am/en/statements-and-messages/item/2023/09/20/Nikol-Pashinyan-Speech/\n",
      "Successfully scraped: https://www.primeminister.am/en/statements-and-messages/item/2023/09/21/Nikol-Pashinyan-21-09-Speech/\n",
      "Successfully scraped: https://www.primeminister.am/en/statements-and-messages/item/2023/09/22/Cabinet-meeting-Speech/\n",
      "Successfully scraped: https://www.primeminister.am/en/statements-and-messages/item/2023/09/24/Nikol-Pashinyan-messages/\n",
      "Successfully scraped: https://www.primeminister.am/en/statements-and-messages/item/2023/09/28/Cabinet-meeting-Speech/\n",
      "Successfully scraped: https://www.primeminister.am/en/statements-and-messages/item/2023/10/17/Nikol-Pashinyan-Speech/\n",
      "Successfully scraped: https://www.primeminister.am/en/statements-and-messages/item/2023/10/26/Nikol-Pashinyan-Speech/#photos[pp_gal_1]/0/\n",
      "Successfully scraped: https://www.primeminister.am/en/statements-and-messages/item/2023/11/18/Nikol-Pashinyan-Speech/\n"
     ]
    }
   ],
   "source": [
    "import requests #To fetch webpage content\n",
    "import csv #To write extracted data into a CSV file\n",
    "from bs4 import BeautifulSoup #To parse and extract data from HTML\n",
    "\n",
    "#List of web links to Pashinyan's speeches to be scraped\n",
    "urls = [\n",
    "    \"https://www.primeminister.am/en/statements-and-messages/item/2020/08/21/Nikol-Pashinyan-Security-Council-meeting/\",\n",
    "\"https://www.primeminister.am/en/statements-and-messages/item/2020/08/28/Nikol-Pashinyan--message/\",\n",
    "\"https://www.primeminister.am/en/statements-and-messages/item/2020/09/27/Nikol-Pashinyan-message/\",\n",
    "\"https://www.primeminister.am/en/statements-and-messages/item/2020/09/27/Nikol-Pashinyan-Speech/\",\n",
    "\"https://www.primeminister.am/en/statements-and-messages/item/2020/09/27/Cabinet-meeting-Speech-27-09/\",\n",
    "\"https://www.primeminister.am/en/statements-and-messages/item/2020/10/03/Nikol-Pashinyan-message/\",\n",
    "\"https://www.primeminister.am/en/statements-and-messages/item/2020/10/14/Nikol-Pashinyan-message-to-the-nation/\",\n",
    "\"https://www.primeminister.am/en/statements-and-messages/item/2020/10/21/Nikol-Pashinyan/\",\n",
    "\"https://www.primeminister.am/en/statements-and-messages/item/2020/10/27/Nikol-Pashinyan-Speech/\",\n",
    "\"https://www.primeminister.am/en/statements-and-messages/item/2020/11/12/Nikol-Pashinyan-Speech/\",\n",
    "\"https://www.primeminister.am/en/statements-and-messages/item/2020/11/26/Nikol-Pashinyan-Speech/\",\n",
    "\"https://www.primeminister.am/en/statements-and-messages/item/2020/11/27/Cabinet-meeting-Speech/\",\n",
    "\"https://www.primeminister.am/en/statements-and-messages/item/2020/12/02/Nikol-Pashinyan-Speech-CSTO-session/\",\n",
    "\"https://www.primeminister.am/en/statements-and-messages/item/2020/12/05/Nikol-Pashinyan-message/\",\n",
    "\"https://www.primeminister.am/en/statements-and-messages/item/2020/12/14/Nikol-Pashinyan-Speech/\",\n",
    "\"https://www.primeminister.am/en/statements-and-messages/item/2020/12/19/Nikol-Pashinyan-message/\",\n",
    "\"https://www.primeminister.am/en/statements-and-messages/item/2022/08/04/Cabinet-meeting-Speech/\",\n",
    "\"https://www.primeminister.am/en/statements-and-messages/item/2022/09/02/Nikol-Pashinyan-messages/\",\n",
    "\"https://www.primeminister.am/en/statements-and-messages/item/2022/09/13/Nikol-Pashinyan-Speech/\",\n",
    "\"https://www.primeminister.am/en/statements-and-messages/item/2022/09/19/Nikol-Pashinyan-Speech/\",\n",
    "\"https://www.primeminister.am/en/statements-and-messages/item/2022/09/22/Nikol-Pashinyan-Speech/\",\n",
    "\"https://www.primeminister.am/en/statements-and-messages/item/2022/10/14/Nikol-Pashinyan-Speech/#photos[pp_gal_1]/0/\",\n",
    "\"https://www.primeminister.am/en/statements-and-messages/item/2022/11/10/Cabinet-meeting-Speech/\",\n",
    "\"https://www.primeminister.am/en/statements-and-messages/item/2022/11/23/Nikol-Pashinyan-CSTO-meeting/\",\n",
    "\"https://www.primeminister.am/en/statements-and-messages/item/2022/12/15/Cabinet-meeting-Speech/\",\n",
    "\"https://www.primeminister.am/en/statements-and-messages/item/2022/12/22/Cabinet-meeting-Speech/\",\n",
    "\"https://www.primeminister.am/en/statements-and-messages/item/2022/12/29/Cabinet-meeting-Speech/\",\n",
    "\"https://www.primeminister.am/en/statements-and-messages/item/2022/12/31/Nikol-Pashinyan-New-Year-Message/\",\n",
    "\"https://www.primeminister.am/en/statements-and-messages/item/2023/02/16/Cabinet-meeting-Speech/\",\n",
    "\"https://www.primeminister.am/en/statements-and-messages/item/2023/02/20/Nikol-Pashinyan-Congratulations/\",\n",
    "\"https://www.primeminister.am/en/statements-and-messages/item/2023/02/23/Cabinet-meeting-Speech/\",\n",
    "\"https://www.primeminister.am/en/statements-and-messages/item/2023/03/09/Cabinet-meeting-Speech/\",\n",
    "\"https://www.primeminister.am/en/statements-and-messages/item/2023/03/16/Cabinet-meeting-Speech/\",\n",
    "\"https://www.primeminister.am/en/statements-and-messages/item/2023/03/23/Cabinet-meeting-Speech/\",\n",
    "\"https://www.primeminister.am/en/statements-and-messages/item/2023/08/17/Cabinet-meeting-Speech/\",\n",
    "\"https://www.primeminister.am/en/statements-and-messages/item/2023/08/24/Cabinet-meeting-Speech/\",\n",
    "\"https://www.primeminister.am/en/statements-and-messages/item/2023/09/02/Nikol-Pashinyan-message/\",\n",
    "\"https://www.primeminister.am/en/statements-and-messages/item/2023/09/07/Cabinet-meeting-Speech/\",\n",
    "\"https://www.primeminister.am/en/statements-and-messages/item/2023/09/14/Cabinet-meeting-Speech/\",\n",
    "\"https://www.primeminister.am/en/statements-and-messages/item/2023/09/19/Nikol-Pashinyan-Speech/\",\n",
    "\"https://www.primeminister.am/en/statements-and-messages/item/2023/09/20/Nikol-Pashinyan-Speech/\",\n",
    "\"https://www.primeminister.am/en/statements-and-messages/item/2023/09/21/Nikol-Pashinyan-21-09-Speech/\",\n",
    "\"https://www.primeminister.am/en/statements-and-messages/item/2023/09/22/Cabinet-meeting-Speech/\",\n",
    "\"https://www.primeminister.am/en/statements-and-messages/item/2023/09/24/Nikol-Pashinyan-messages/\",\n",
    "\"https://www.primeminister.am/en/statements-and-messages/item/2023/09/28/Cabinet-meeting-Speech/\",\n",
    "\"https://www.primeminister.am/en/statements-and-messages/item/2023/10/17/Nikol-Pashinyan-Speech/\",\n",
    "\"https://www.primeminister.am/en/statements-and-messages/item/2023/10/26/Nikol-Pashinyan-Speech/#photos[pp_gal_1]/0/\",\n",
    "\"https://www.primeminister.am/en/statements-and-messages/item/2023/11/18/Nikol-Pashinyan-Speech/\"\n",
    "]\n",
    "\n",
    "#Name of the file to store the scraped speeches\n",
    "csv_file = 'pashinyan_speeches48.csv'\n",
    "\n",
    "#Looping through the URLs to process each speech webpage\n",
    "for url in urls:\n",
    "    try:\n",
    "        response = requests.get(url) #Retrieving the page\n",
    "        response.raise_for_status() #Ensuring the request is successful\n",
    "        soup = BeautifulSoup(response.text, 'html.parser') #Parses the HTML structure of the page\n",
    "\n",
    "        #Finding the speech text (in all <p> tags)\n",
    "        paragraphs = soup.find_all('p')\n",
    "        speech_text = \"\\n\".join([p.get_text() for p in paragraphs]) #Combining the text into a single string\n",
    "\n",
    "        #Extracting the date\n",
    "        date = soup.find('div', class_='search__date fs12')  #Locates the date using a specific class, had to manually inspect the page to get the right class\n",
    "        date_text = date.get_text(strip=True) if date else \"Date not found\"\n",
    "\n",
    "        #Categorizing the leader for this CSV, not super necessary since this one is only for Pashinyan but helpful in my mind\n",
    "        leader = \"Pashinyan\"\n",
    "\n",
    "        #Opening the CSV file and writing speech data\n",
    "        with open(csv_file, mode='a', newline='', encoding='utf-8') as file:\n",
    "            writer = csv.writer(file)\n",
    "\n",
    "            #Making sure to write the header only once\n",
    "            if file.tell() == 0:  #Check if the file is empty to write a header\n",
    "                writer.writerow([\"Leader\", \"Date\", \"Speech Text\", \"URL\"])\n",
    "\n",
    "            # Write the speech data\n",
    "            writer.writerow([leader, date_text, speech_text, url]) #Writes leader name, date, speech, and URL as a row\n",
    "\n",
    "        print(f\"Successfully scraped: {url}\")\n",
    "\n",
    "    except Exception as e:\n",
    "        print(f\"Failed to scrape {url}: {e}\")"
   ]
  },
  {
   "cell_type": "markdown",
   "id": "3f404940-03c5-4f53-b714-b7050de1e083",
   "metadata": {},
   "source": [
    "Now my Pashinyan CSV file has been created, and I want to go in and add a column for \"Event\" so each speech clearly corresponds to one of the four events I'm looking at. Then I want to see the data I'm working with, using Pandas."
   ]
  },
  {
   "cell_type": "code",
   "execution_count": 41,
   "id": "d5067e18-ee56-4b6b-9026-e6790c5fbea8",
   "metadata": {},
   "outputs": [
    {
     "name": "stdout",
     "output_type": "stream",
     "text": [
      "Collecting numpy==1.23.5\n",
      "  Using cached numpy-1.23.5.tar.gz (10.7 MB)\n",
      "  Installing build dependencies: started\n",
      "  Installing build dependencies: finished with status 'done'\n",
      "  Getting requirements to build wheel: started\n",
      "  Getting requirements to build wheel: finished with status 'error'\n"
     ]
    },
    {
     "name": "stderr",
     "output_type": "stream",
     "text": [
      "  error: subprocess-exited-with-error\n",
      "  \n",
      "  Getting requirements to build wheel did not run successfully.\n",
      "  exit code: 1\n",
      "  \n",
      "  [33 lines of output]\n",
      "  Traceback (most recent call last):\n",
      "    File \"C:\\Users\\wolyn\\anaconda3\\Lib\\site-packages\\pip\\_vendor\\pyproject_hooks\\_in_process\\_in_process.py\", line 353, in <module>\n",
      "      main()\n",
      "    File \"C:\\Users\\wolyn\\anaconda3\\Lib\\site-packages\\pip\\_vendor\\pyproject_hooks\\_in_process\\_in_process.py\", line 335, in main\n",
      "      json_out['return_val'] = hook(**hook_input['kwargs'])\n",
      "                               ^^^^^^^^^^^^^^^^^^^^^^^^^^^^\n",
      "    File \"C:\\Users\\wolyn\\anaconda3\\Lib\\site-packages\\pip\\_vendor\\pyproject_hooks\\_in_process\\_in_process.py\", line 112, in get_requires_for_build_wheel\n",
      "      backend = _build_backend()\n",
      "                ^^^^^^^^^^^^^^^^\n",
      "    File \"C:\\Users\\wolyn\\anaconda3\\Lib\\site-packages\\pip\\_vendor\\pyproject_hooks\\_in_process\\_in_process.py\", line 77, in _build_backend\n",
      "      obj = import_module(mod_path)\n",
      "            ^^^^^^^^^^^^^^^^^^^^^^^\n",
      "    File \"C:\\Users\\wolyn\\anaconda3\\Lib\\importlib\\__init__.py\", line 90, in import_module\n",
      "      return _bootstrap._gcd_import(name[level:], package, level)\n",
      "             ^^^^^^^^^^^^^^^^^^^^^^^^^^^^^^^^^^^^^^^^^^^^^^^^^^^^\n",
      "    File \"<frozen importlib._bootstrap>\", line 1387, in _gcd_import\n",
      "    File \"<frozen importlib._bootstrap>\", line 1360, in _find_and_load\n",
      "    File \"<frozen importlib._bootstrap>\", line 1310, in _find_and_load_unlocked\n",
      "    File \"<frozen importlib._bootstrap>\", line 488, in _call_with_frames_removed\n",
      "    File \"<frozen importlib._bootstrap>\", line 1387, in _gcd_import\n",
      "    File \"<frozen importlib._bootstrap>\", line 1360, in _find_and_load\n",
      "    File \"<frozen importlib._bootstrap>\", line 1331, in _find_and_load_unlocked\n",
      "    File \"<frozen importlib._bootstrap>\", line 935, in _load_unlocked\n",
      "    File \"<frozen importlib._bootstrap_external>\", line 995, in exec_module\n",
      "    File \"<frozen importlib._bootstrap>\", line 488, in _call_with_frames_removed\n",
      "    File \"C:\\Users\\wolyn\\AppData\\Local\\Temp\\pip-build-env-0oirsqqd\\overlay\\Lib\\site-packages\\setuptools\\__init__.py\", line 16, in <module>\n",
      "      import setuptools.version\n",
      "    File \"C:\\Users\\wolyn\\AppData\\Local\\Temp\\pip-build-env-0oirsqqd\\overlay\\Lib\\site-packages\\setuptools\\version.py\", line 1, in <module>\n",
      "      import pkg_resources\n",
      "    File \"C:\\Users\\wolyn\\AppData\\Local\\Temp\\pip-build-env-0oirsqqd\\overlay\\Lib\\site-packages\\pkg_resources\\__init__.py\", line 2172, in <module>\n",
      "      register_finder(pkgutil.ImpImporter, find_on_path)\n",
      "                      ^^^^^^^^^^^^^^^^^^^\n",
      "  AttributeError: module 'pkgutil' has no attribute 'ImpImporter'. Did you mean: 'zipimporter'?\n",
      "  [end of output]\n",
      "  \n",
      "  note: This error originates from a subprocess, and is likely not a problem with pip.\n",
      "error: subprocess-exited-with-error\n",
      "\n",
      "Getting requirements to build wheel did not run successfully.\n",
      "exit code: 1\n",
      "\n",
      "See above for output.\n",
      "\n",
      "note: This error originates from a subprocess, and is likely not a problem with pip.\n"
     ]
    }
   ],
   "source": [
    "!pip install numpy==1.23.5"
   ]
  },
  {
   "cell_type": "code",
   "execution_count": 29,
   "id": "b0d3e49e-d706-498f-aabb-7b6e8c053e10",
   "metadata": {},
   "outputs": [
    {
     "name": "stderr",
     "output_type": "stream",
     "text": [
      "\n",
      "A module that was compiled using NumPy 1.x cannot be run in\n",
      "NumPy 2.0.2 as it may crash. To support both 1.x and 2.x\n",
      "versions of NumPy, modules must be compiled with NumPy 2.0.\n",
      "Some module may need to rebuild instead e.g. with 'pybind11>=2.12'.\n",
      "\n",
      "If you are a user of the module, the easiest solution will be to\n",
      "downgrade to 'numpy<2' or try to upgrade the affected module.\n",
      "We expect that some modules will need time to support NumPy 2.\n",
      "\n",
      "Traceback (most recent call last):  File \"<frozen runpy>\", line 198, in _run_module_as_main\n",
      "  File \"<frozen runpy>\", line 88, in _run_code\n",
      "  File \"C:\\Users\\wolyn\\anaconda3\\Lib\\site-packages\\ipykernel_launcher.py\", line 17, in <module>\n",
      "    app.launch_new_instance()\n",
      "  File \"C:\\Users\\wolyn\\anaconda3\\Lib\\site-packages\\traitlets\\config\\application.py\", line 1075, in launch_instance\n",
      "    app.start()\n",
      "  File \"C:\\Users\\wolyn\\anaconda3\\Lib\\site-packages\\ipykernel\\kernelapp.py\", line 701, in start\n",
      "    self.io_loop.start()\n",
      "  File \"C:\\Users\\wolyn\\anaconda3\\Lib\\site-packages\\tornado\\platform\\asyncio.py\", line 205, in start\n",
      "    self.asyncio_loop.run_forever()\n",
      "  File \"C:\\Users\\wolyn\\anaconda3\\Lib\\asyncio\\windows_events.py\", line 322, in run_forever\n",
      "    super().run_forever()\n",
      "  File \"C:\\Users\\wolyn\\anaconda3\\Lib\\asyncio\\base_events.py\", line 641, in run_forever\n",
      "    self._run_once()\n",
      "  File \"C:\\Users\\wolyn\\anaconda3\\Lib\\asyncio\\base_events.py\", line 1987, in _run_once\n",
      "    handle._run()\n",
      "  File \"C:\\Users\\wolyn\\anaconda3\\Lib\\asyncio\\events.py\", line 88, in _run\n",
      "    self._context.run(self._callback, *self._args)\n",
      "  File \"C:\\Users\\wolyn\\anaconda3\\Lib\\site-packages\\ipykernel\\kernelbase.py\", line 534, in dispatch_queue\n",
      "    await self.process_one()\n",
      "  File \"C:\\Users\\wolyn\\anaconda3\\Lib\\site-packages\\ipykernel\\kernelbase.py\", line 523, in process_one\n",
      "    await dispatch(*args)\n",
      "  File \"C:\\Users\\wolyn\\anaconda3\\Lib\\site-packages\\ipykernel\\kernelbase.py\", line 429, in dispatch_shell\n",
      "    await result\n",
      "  File \"C:\\Users\\wolyn\\anaconda3\\Lib\\site-packages\\ipykernel\\kernelbase.py\", line 767, in execute_request\n",
      "    reply_content = await reply_content\n",
      "  File \"C:\\Users\\wolyn\\anaconda3\\Lib\\site-packages\\ipykernel\\ipkernel.py\", line 429, in do_execute\n",
      "    res = shell.run_cell(\n",
      "  File \"C:\\Users\\wolyn\\anaconda3\\Lib\\site-packages\\ipykernel\\zmqshell.py\", line 549, in run_cell\n",
      "    return super().run_cell(*args, **kwargs)\n",
      "  File \"C:\\Users\\wolyn\\anaconda3\\Lib\\site-packages\\IPython\\core\\interactiveshell.py\", line 3075, in run_cell\n",
      "    result = self._run_cell(\n",
      "  File \"C:\\Users\\wolyn\\anaconda3\\Lib\\site-packages\\IPython\\core\\interactiveshell.py\", line 3130, in _run_cell\n",
      "    result = runner(coro)\n",
      "  File \"C:\\Users\\wolyn\\anaconda3\\Lib\\site-packages\\IPython\\core\\async_helpers.py\", line 129, in _pseudo_sync_runner\n",
      "    coro.send(None)\n",
      "  File \"C:\\Users\\wolyn\\anaconda3\\Lib\\site-packages\\IPython\\core\\interactiveshell.py\", line 3334, in run_cell_async\n",
      "    has_raised = await self.run_ast_nodes(code_ast.body, cell_name,\n",
      "  File \"C:\\Users\\wolyn\\anaconda3\\Lib\\site-packages\\IPython\\core\\interactiveshell.py\", line 3517, in run_ast_nodes\n",
      "    if await self.run_code(code, result, async_=asy):\n",
      "  File \"C:\\Users\\wolyn\\anaconda3\\Lib\\site-packages\\IPython\\core\\interactiveshell.py\", line 3577, in run_code\n",
      "    exec(code_obj, self.user_global_ns, self.user_ns)\n",
      "  File \"C:\\Users\\wolyn\\AppData\\Local\\Temp\\ipykernel_36748\\3166046482.py\", line 1, in <module>\n",
      "    import pandas as pd\n",
      "  File \"C:\\Users\\wolyn\\anaconda3\\Lib\\site-packages\\pandas\\__init__.py\", line 49, in <module>\n",
      "    from pandas.core.api import (\n",
      "  File \"C:\\Users\\wolyn\\anaconda3\\Lib\\site-packages\\pandas\\core\\api.py\", line 1, in <module>\n",
      "    from pandas._libs import (\n",
      "  File \"C:\\Users\\wolyn\\anaconda3\\Lib\\site-packages\\pandas\\_libs\\__init__.py\", line 17, in <module>\n",
      "    import pandas._libs.pandas_datetime  # noqa: F401 # isort: skip # type: ignore[reportUnusedImport]\n"
     ]
    },
    {
     "ename": "ImportError",
     "evalue": "\nA module that was compiled using NumPy 1.x cannot be run in\nNumPy 2.0.2 as it may crash. To support both 1.x and 2.x\nversions of NumPy, modules must be compiled with NumPy 2.0.\nSome module may need to rebuild instead e.g. with 'pybind11>=2.12'.\n\nIf you are a user of the module, the easiest solution will be to\ndowngrade to 'numpy<2' or try to upgrade the affected module.\nWe expect that some modules will need time to support NumPy 2.\n\n",
     "output_type": "error",
     "traceback": [
      "\u001b[1;31m---------------------------------------------------------------------------\u001b[0m",
      "\u001b[1;31mImportError\u001b[0m                               Traceback (most recent call last)",
      "File \u001b[1;32m~\\anaconda3\\Lib\\site-packages\\numpy\\core\\_multiarray_umath.py:44\u001b[0m, in \u001b[0;36m__getattr__\u001b[1;34m(attr_name)\u001b[0m\n\u001b[0;32m     39\u001b[0m     \u001b[38;5;66;03m# Also print the message (with traceback).  This is because old versions\u001b[39;00m\n\u001b[0;32m     40\u001b[0m     \u001b[38;5;66;03m# of NumPy unfortunately set up the import to replace (and hide) the\u001b[39;00m\n\u001b[0;32m     41\u001b[0m     \u001b[38;5;66;03m# error.  The traceback shouldn't be needed, but e.g. pytest plugins\u001b[39;00m\n\u001b[0;32m     42\u001b[0m     \u001b[38;5;66;03m# seem to swallow it and we should be failing anyway...\u001b[39;00m\n\u001b[0;32m     43\u001b[0m     sys\u001b[38;5;241m.\u001b[39mstderr\u001b[38;5;241m.\u001b[39mwrite(msg \u001b[38;5;241m+\u001b[39m tb_msg)\n\u001b[1;32m---> 44\u001b[0m     \u001b[38;5;28;01mraise\u001b[39;00m \u001b[38;5;167;01mImportError\u001b[39;00m(msg)\n\u001b[0;32m     46\u001b[0m ret \u001b[38;5;241m=\u001b[39m \u001b[38;5;28mgetattr\u001b[39m(_multiarray_umath, attr_name, \u001b[38;5;28;01mNone\u001b[39;00m)\n\u001b[0;32m     47\u001b[0m \u001b[38;5;28;01mif\u001b[39;00m ret \u001b[38;5;129;01mis\u001b[39;00m \u001b[38;5;28;01mNone\u001b[39;00m:\n",
      "\u001b[1;31mImportError\u001b[0m: \nA module that was compiled using NumPy 1.x cannot be run in\nNumPy 2.0.2 as it may crash. To support both 1.x and 2.x\nversions of NumPy, modules must be compiled with NumPy 2.0.\nSome module may need to rebuild instead e.g. with 'pybind11>=2.12'.\n\nIf you are a user of the module, the easiest solution will be to\ndowngrade to 'numpy<2' or try to upgrade the affected module.\nWe expect that some modules will need time to support NumPy 2.\n\n"
     ]
    },
    {
     "ename": "ImportError",
     "evalue": "numpy.core.multiarray failed to import",
     "output_type": "error",
     "traceback": [
      "\u001b[1;31m---------------------------------------------------------------------------\u001b[0m",
      "\u001b[1;31mImportError\u001b[0m                               Traceback (most recent call last)",
      "Cell \u001b[1;32mIn[29], line 1\u001b[0m\n\u001b[1;32m----> 1\u001b[0m \u001b[38;5;28;01mimport\u001b[39;00m \u001b[38;5;21;01mpandas\u001b[39;00m \u001b[38;5;28;01mas\u001b[39;00m \u001b[38;5;21;01mpd\u001b[39;00m\n\u001b[0;32m      3\u001b[0m df_p \u001b[38;5;241m=\u001b[39m pd\u001b[38;5;241m.\u001b[39mread_csv(\u001b[38;5;124mr\u001b[39m\u001b[38;5;124m\"\u001b[39m\u001b[38;5;124mC:\u001b[39m\u001b[38;5;124m\\\u001b[39m\u001b[38;5;124mUsers\u001b[39m\u001b[38;5;124m\\\u001b[39m\u001b[38;5;124mwolyn\u001b[39m\u001b[38;5;124m\\\u001b[39m\u001b[38;5;124mOneDrive\u001b[39m\u001b[38;5;124m\\\u001b[39m\u001b[38;5;124mDocuments\u001b[39m\u001b[38;5;124m\\\u001b[39m\u001b[38;5;124mYale - Fall 2024\u001b[39m\u001b[38;5;124m\\\u001b[39m\u001b[38;5;124mPython for Global Affairs\u001b[39m\u001b[38;5;124m\\\u001b[39m\u001b[38;5;124mpashinyan_speeches48.csv\u001b[39m\u001b[38;5;124m\"\u001b[39m)\n\u001b[0;32m      4\u001b[0m \u001b[38;5;28mprint\u001b[39m(df_p\u001b[38;5;241m.\u001b[39mhead())\n",
      "File \u001b[1;32m~\\anaconda3\\Lib\\site-packages\\pandas\\__init__.py:49\u001b[0m\n\u001b[0;32m     46\u001b[0m \u001b[38;5;66;03m# let init-time option registration happen\u001b[39;00m\n\u001b[0;32m     47\u001b[0m \u001b[38;5;28;01mimport\u001b[39;00m \u001b[38;5;21;01mpandas\u001b[39;00m\u001b[38;5;21;01m.\u001b[39;00m\u001b[38;5;21;01mcore\u001b[39;00m\u001b[38;5;21;01m.\u001b[39;00m\u001b[38;5;21;01mconfig_init\u001b[39;00m  \u001b[38;5;66;03m# pyright: ignore[reportUnusedImport] # noqa: F401\u001b[39;00m\n\u001b[1;32m---> 49\u001b[0m \u001b[38;5;28;01mfrom\u001b[39;00m \u001b[38;5;21;01mpandas\u001b[39;00m\u001b[38;5;21;01m.\u001b[39;00m\u001b[38;5;21;01mcore\u001b[39;00m\u001b[38;5;21;01m.\u001b[39;00m\u001b[38;5;21;01mapi\u001b[39;00m \u001b[38;5;28;01mimport\u001b[39;00m (\n\u001b[0;32m     50\u001b[0m     \u001b[38;5;66;03m# dtype\u001b[39;00m\n\u001b[0;32m     51\u001b[0m     ArrowDtype,\n\u001b[0;32m     52\u001b[0m     Int8Dtype,\n\u001b[0;32m     53\u001b[0m     Int16Dtype,\n\u001b[0;32m     54\u001b[0m     Int32Dtype,\n\u001b[0;32m     55\u001b[0m     Int64Dtype,\n\u001b[0;32m     56\u001b[0m     UInt8Dtype,\n\u001b[0;32m     57\u001b[0m     UInt16Dtype,\n\u001b[0;32m     58\u001b[0m     UInt32Dtype,\n\u001b[0;32m     59\u001b[0m     UInt64Dtype,\n\u001b[0;32m     60\u001b[0m     Float32Dtype,\n\u001b[0;32m     61\u001b[0m     Float64Dtype,\n\u001b[0;32m     62\u001b[0m     CategoricalDtype,\n\u001b[0;32m     63\u001b[0m     PeriodDtype,\n\u001b[0;32m     64\u001b[0m     IntervalDtype,\n\u001b[0;32m     65\u001b[0m     DatetimeTZDtype,\n\u001b[0;32m     66\u001b[0m     StringDtype,\n\u001b[0;32m     67\u001b[0m     BooleanDtype,\n\u001b[0;32m     68\u001b[0m     \u001b[38;5;66;03m# missing\u001b[39;00m\n\u001b[0;32m     69\u001b[0m     NA,\n\u001b[0;32m     70\u001b[0m     isna,\n\u001b[0;32m     71\u001b[0m     isnull,\n\u001b[0;32m     72\u001b[0m     notna,\n\u001b[0;32m     73\u001b[0m     notnull,\n\u001b[0;32m     74\u001b[0m     \u001b[38;5;66;03m# indexes\u001b[39;00m\n\u001b[0;32m     75\u001b[0m     Index,\n\u001b[0;32m     76\u001b[0m     CategoricalIndex,\n\u001b[0;32m     77\u001b[0m     RangeIndex,\n\u001b[0;32m     78\u001b[0m     MultiIndex,\n\u001b[0;32m     79\u001b[0m     IntervalIndex,\n\u001b[0;32m     80\u001b[0m     TimedeltaIndex,\n\u001b[0;32m     81\u001b[0m     DatetimeIndex,\n\u001b[0;32m     82\u001b[0m     PeriodIndex,\n\u001b[0;32m     83\u001b[0m     IndexSlice,\n\u001b[0;32m     84\u001b[0m     \u001b[38;5;66;03m# tseries\u001b[39;00m\n\u001b[0;32m     85\u001b[0m     NaT,\n\u001b[0;32m     86\u001b[0m     Period,\n\u001b[0;32m     87\u001b[0m     period_range,\n\u001b[0;32m     88\u001b[0m     Timedelta,\n\u001b[0;32m     89\u001b[0m     timedelta_range,\n\u001b[0;32m     90\u001b[0m     Timestamp,\n\u001b[0;32m     91\u001b[0m     date_range,\n\u001b[0;32m     92\u001b[0m     bdate_range,\n\u001b[0;32m     93\u001b[0m     Interval,\n\u001b[0;32m     94\u001b[0m     interval_range,\n\u001b[0;32m     95\u001b[0m     DateOffset,\n\u001b[0;32m     96\u001b[0m     \u001b[38;5;66;03m# conversion\u001b[39;00m\n\u001b[0;32m     97\u001b[0m     to_numeric,\n\u001b[0;32m     98\u001b[0m     to_datetime,\n\u001b[0;32m     99\u001b[0m     to_timedelta,\n\u001b[0;32m    100\u001b[0m     \u001b[38;5;66;03m# misc\u001b[39;00m\n\u001b[0;32m    101\u001b[0m     Flags,\n\u001b[0;32m    102\u001b[0m     Grouper,\n\u001b[0;32m    103\u001b[0m     factorize,\n\u001b[0;32m    104\u001b[0m     unique,\n\u001b[0;32m    105\u001b[0m     value_counts,\n\u001b[0;32m    106\u001b[0m     NamedAgg,\n\u001b[0;32m    107\u001b[0m     array,\n\u001b[0;32m    108\u001b[0m     Categorical,\n\u001b[0;32m    109\u001b[0m     set_eng_float_format,\n\u001b[0;32m    110\u001b[0m     Series,\n\u001b[0;32m    111\u001b[0m     DataFrame,\n\u001b[0;32m    112\u001b[0m )\n\u001b[0;32m    114\u001b[0m \u001b[38;5;28;01mfrom\u001b[39;00m \u001b[38;5;21;01mpandas\u001b[39;00m\u001b[38;5;21;01m.\u001b[39;00m\u001b[38;5;21;01mcore\u001b[39;00m\u001b[38;5;21;01m.\u001b[39;00m\u001b[38;5;21;01mdtypes\u001b[39;00m\u001b[38;5;21;01m.\u001b[39;00m\u001b[38;5;21;01mdtypes\u001b[39;00m \u001b[38;5;28;01mimport\u001b[39;00m SparseDtype\n\u001b[0;32m    116\u001b[0m \u001b[38;5;28;01mfrom\u001b[39;00m \u001b[38;5;21;01mpandas\u001b[39;00m\u001b[38;5;21;01m.\u001b[39;00m\u001b[38;5;21;01mtseries\u001b[39;00m\u001b[38;5;21;01m.\u001b[39;00m\u001b[38;5;21;01mapi\u001b[39;00m \u001b[38;5;28;01mimport\u001b[39;00m infer_freq\n",
      "File \u001b[1;32m~\\anaconda3\\Lib\\site-packages\\pandas\\core\\api.py:1\u001b[0m\n\u001b[1;32m----> 1\u001b[0m \u001b[38;5;28;01mfrom\u001b[39;00m \u001b[38;5;21;01mpandas\u001b[39;00m\u001b[38;5;21;01m.\u001b[39;00m\u001b[38;5;21;01m_libs\u001b[39;00m \u001b[38;5;28;01mimport\u001b[39;00m (\n\u001b[0;32m      2\u001b[0m     NaT,\n\u001b[0;32m      3\u001b[0m     Period,\n\u001b[0;32m      4\u001b[0m     Timedelta,\n\u001b[0;32m      5\u001b[0m     Timestamp,\n\u001b[0;32m      6\u001b[0m )\n\u001b[0;32m      7\u001b[0m \u001b[38;5;28;01mfrom\u001b[39;00m \u001b[38;5;21;01mpandas\u001b[39;00m\u001b[38;5;21;01m.\u001b[39;00m\u001b[38;5;21;01m_libs\u001b[39;00m\u001b[38;5;21;01m.\u001b[39;00m\u001b[38;5;21;01mmissing\u001b[39;00m \u001b[38;5;28;01mimport\u001b[39;00m NA\n\u001b[0;32m      9\u001b[0m \u001b[38;5;28;01mfrom\u001b[39;00m \u001b[38;5;21;01mpandas\u001b[39;00m\u001b[38;5;21;01m.\u001b[39;00m\u001b[38;5;21;01mcore\u001b[39;00m\u001b[38;5;21;01m.\u001b[39;00m\u001b[38;5;21;01mdtypes\u001b[39;00m\u001b[38;5;21;01m.\u001b[39;00m\u001b[38;5;21;01mdtypes\u001b[39;00m \u001b[38;5;28;01mimport\u001b[39;00m (\n\u001b[0;32m     10\u001b[0m     ArrowDtype,\n\u001b[0;32m     11\u001b[0m     CategoricalDtype,\n\u001b[1;32m   (...)\u001b[0m\n\u001b[0;32m     14\u001b[0m     PeriodDtype,\n\u001b[0;32m     15\u001b[0m )\n",
      "File \u001b[1;32m~\\anaconda3\\Lib\\site-packages\\pandas\\_libs\\__init__.py:17\u001b[0m\n\u001b[0;32m     13\u001b[0m \u001b[38;5;66;03m# Below imports needs to happen first to ensure pandas top level\u001b[39;00m\n\u001b[0;32m     14\u001b[0m \u001b[38;5;66;03m# module gets monkeypatched with the pandas_datetime_CAPI\u001b[39;00m\n\u001b[0;32m     15\u001b[0m \u001b[38;5;66;03m# see pandas_datetime_exec in pd_datetime.c\u001b[39;00m\n\u001b[0;32m     16\u001b[0m \u001b[38;5;28;01mimport\u001b[39;00m \u001b[38;5;21;01mpandas\u001b[39;00m\u001b[38;5;21;01m.\u001b[39;00m\u001b[38;5;21;01m_libs\u001b[39;00m\u001b[38;5;21;01m.\u001b[39;00m\u001b[38;5;21;01mpandas_parser\u001b[39;00m  \u001b[38;5;66;03m# isort: skip # type: ignore[reportUnusedImport]\u001b[39;00m\n\u001b[1;32m---> 17\u001b[0m \u001b[38;5;28;01mimport\u001b[39;00m \u001b[38;5;21;01mpandas\u001b[39;00m\u001b[38;5;21;01m.\u001b[39;00m\u001b[38;5;21;01m_libs\u001b[39;00m\u001b[38;5;21;01m.\u001b[39;00m\u001b[38;5;21;01mpandas_datetime\u001b[39;00m  \u001b[38;5;66;03m# noqa: F401 # isort: skip # type: ignore[reportUnusedImport]\u001b[39;00m\n\u001b[0;32m     18\u001b[0m \u001b[38;5;28;01mfrom\u001b[39;00m \u001b[38;5;21;01mpandas\u001b[39;00m\u001b[38;5;21;01m.\u001b[39;00m\u001b[38;5;21;01m_libs\u001b[39;00m\u001b[38;5;21;01m.\u001b[39;00m\u001b[38;5;21;01minterval\u001b[39;00m \u001b[38;5;28;01mimport\u001b[39;00m Interval\n\u001b[0;32m     19\u001b[0m \u001b[38;5;28;01mfrom\u001b[39;00m \u001b[38;5;21;01mpandas\u001b[39;00m\u001b[38;5;21;01m.\u001b[39;00m\u001b[38;5;21;01m_libs\u001b[39;00m\u001b[38;5;21;01m.\u001b[39;00m\u001b[38;5;21;01mtslibs\u001b[39;00m \u001b[38;5;28;01mimport\u001b[39;00m (\n\u001b[0;32m     20\u001b[0m     NaT,\n\u001b[0;32m     21\u001b[0m     NaTType,\n\u001b[1;32m   (...)\u001b[0m\n\u001b[0;32m     26\u001b[0m     iNaT,\n\u001b[0;32m     27\u001b[0m )\n",
      "\u001b[1;31mImportError\u001b[0m: numpy.core.multiarray failed to import"
     ]
    }
   ],
   "source": [
    "import pandas as pd\n",
    "\n",
    "df_p = pd.read_csv(r\"C:\\Users\\wolyn\\OneDrive\\Documents\\Yale - Fall 2024\\Python for Global Affairs\\pashinyan_speeches48.csv\")\n",
    "print(df_p.head())  #Viewing the first few rows"
   ]
  },
  {
   "cell_type": "markdown",
   "id": "55d5f6b7-903d-4e43-9048-8f3b28892bb2",
   "metadata": {},
   "source": [
    "Looks like there are some unnecessary characters like the \\n, so I want to take care of those. I also want to make sure the date column is in datetime format for easier analysis."
   ]
  },
  {
   "cell_type": "code",
   "execution_count": 31,
   "id": "5ee61a6d-5dc5-445b-88bf-f068adf49171",
   "metadata": {},
   "outputs": [
    {
     "ename": "NameError",
     "evalue": "name 'pd' is not defined",
     "output_type": "error",
     "traceback": [
      "\u001b[1;31m---------------------------------------------------------------------------\u001b[0m",
      "\u001b[1;31mNameError\u001b[0m                                 Traceback (most recent call last)",
      "Cell \u001b[1;32mIn[31], line 1\u001b[0m\n\u001b[1;32m----> 1\u001b[0m df_p[\u001b[38;5;124m'\u001b[39m\u001b[38;5;124mDate\u001b[39m\u001b[38;5;124m'\u001b[39m] \u001b[38;5;241m=\u001b[39m pd\u001b[38;5;241m.\u001b[39mto_datetime(df_p[\u001b[38;5;124m'\u001b[39m\u001b[38;5;124mDate\u001b[39m\u001b[38;5;124m'\u001b[39m], \u001b[38;5;28mformat\u001b[39m\u001b[38;5;241m=\u001b[39m\u001b[38;5;124m'\u001b[39m\u001b[38;5;132;01m%d\u001b[39;00m\u001b[38;5;124m.\u001b[39m\u001b[38;5;124m%\u001b[39m\u001b[38;5;124mm.\u001b[39m\u001b[38;5;124m%\u001b[39m\u001b[38;5;124mY\u001b[39m\u001b[38;5;124m'\u001b[39m)\n\u001b[0;32m      2\u001b[0m \u001b[38;5;28mprint\u001b[39m(df_p\u001b[38;5;241m.\u001b[39mdtypes)\n",
      "\u001b[1;31mNameError\u001b[0m: name 'pd' is not defined"
     ]
    }
   ],
   "source": [
    "df_p['Date'] = pd.to_datetime(df_p['Date'], format='%d.%m.%Y')\n",
    "print(df_p.dtypes) #Date should now show datetime64[ns]"
   ]
  },
  {
   "cell_type": "code",
   "execution_count": 33,
   "id": "f33ec10e-91b7-47de-b7a2-e82b247372e5",
   "metadata": {},
   "outputs": [
    {
     "ename": "NameError",
     "evalue": "name 'df_p' is not defined",
     "output_type": "error",
     "traceback": [
      "\u001b[1;31m---------------------------------------------------------------------------\u001b[0m",
      "\u001b[1;31mNameError\u001b[0m                                 Traceback (most recent call last)",
      "Cell \u001b[1;32mIn[33], line 2\u001b[0m\n\u001b[0;32m      1\u001b[0m \u001b[38;5;66;03m#Applying the text cleaning\u001b[39;00m\n\u001b[1;32m----> 2\u001b[0m df_p[\u001b[38;5;124m'\u001b[39m\u001b[38;5;124mSpeech Text\u001b[39m\u001b[38;5;124m'\u001b[39m] \u001b[38;5;241m=\u001b[39m df_p[\u001b[38;5;124m'\u001b[39m\u001b[38;5;124mSpeech Text\u001b[39m\u001b[38;5;124m'\u001b[39m]\u001b[38;5;241m.\u001b[39mstr\u001b[38;5;241m.\u001b[39mreplace(\u001b[38;5;124mr\u001b[39m\u001b[38;5;124m'\u001b[39m\u001b[38;5;124m\\\u001b[39m\u001b[38;5;124mn\u001b[39m\u001b[38;5;124m'\u001b[39m, \u001b[38;5;124m'\u001b[39m\u001b[38;5;124m \u001b[39m\u001b[38;5;124m'\u001b[39m, regex\u001b[38;5;241m=\u001b[39m\u001b[38;5;28;01mTrue\u001b[39;00m)  \u001b[38;5;66;03m#Removing newline characters here\u001b[39;00m\n\u001b[0;32m      3\u001b[0m df_p[\u001b[38;5;124m'\u001b[39m\u001b[38;5;124mSpeech Text\u001b[39m\u001b[38;5;124m'\u001b[39m] \u001b[38;5;241m=\u001b[39m df_p[\u001b[38;5;124m'\u001b[39m\u001b[38;5;124mSpeech Text\u001b[39m\u001b[38;5;124m'\u001b[39m]\u001b[38;5;241m.\u001b[39mstr\u001b[38;5;241m.\u001b[39mreplace(\u001b[38;5;124mr\u001b[39m\u001b[38;5;124m'\u001b[39m\u001b[38;5;124m\\\u001b[39m\u001b[38;5;124ms+\u001b[39m\u001b[38;5;124m'\u001b[39m, \u001b[38;5;124m'\u001b[39m\u001b[38;5;124m \u001b[39m\u001b[38;5;124m'\u001b[39m, regex\u001b[38;5;241m=\u001b[39m\u001b[38;5;28;01mTrue\u001b[39;00m)  \u001b[38;5;66;03m#Replacing multiple spaces with a single space\u001b[39;00m\n\u001b[0;32m      4\u001b[0m df_p[\u001b[38;5;124m'\u001b[39m\u001b[38;5;124mSpeech Text\u001b[39m\u001b[38;5;124m'\u001b[39m] \u001b[38;5;241m=\u001b[39m df_p[\u001b[38;5;124m'\u001b[39m\u001b[38;5;124mSpeech Text\u001b[39m\u001b[38;5;124m'\u001b[39m]\u001b[38;5;241m.\u001b[39mstr\u001b[38;5;241m.\u001b[39mstrip()  \u001b[38;5;66;03m#Removing leading and trailing spaces\u001b[39;00m\n",
      "\u001b[1;31mNameError\u001b[0m: name 'df_p' is not defined"
     ]
    }
   ],
   "source": [
    "#Applying the text cleaning\n",
    "df_p['Speech Text'] = df_p['Speech Text'].str.replace(r'\\n', ' ', regex=True)  #Removing newline characters here\n",
    "df_p['Speech Text'] = df_p['Speech Text'].str.replace(r'\\s+', ' ', regex=True)  #Replacing multiple spaces with a single space\n",
    "df_p['Speech Text'] = df_p['Speech Text'].str.strip()  #Removing leading and trailing spaces\n",
    "\n",
    "#Let's check out what we have now\n",
    "print(df_p.head())"
   ]
  },
  {
   "cell_type": "markdown",
   "id": "cb58356e-db39-4241-af07-96ada731331e",
   "metadata": {},
   "source": [
    "Now I want to normalize the speech text and do tokenization at the word level."
   ]
  },
  {
   "cell_type": "code",
   "execution_count": null,
   "id": "e7f53a7a-febc-4235-87c1-6fcdb5908a38",
   "metadata": {},
   "outputs": [],
   "source": [
    "import re\n",
    "\n",
    "def normalize_and_tokenize(text):\n",
    "    \"\"\"This is a function to normalize and tokenize\"\"\"\n",
    "    #Converting to lowercase\n",
    "    text = text.lower()\n",
    "    #Removing punctuation\n",
    "    text = re.sub(r'[^\\w\\s]', '', text)\n",
    "    #Tokenizing into words\n",
    "    tokens = text.split()\n",
    "    return tokens\n",
    "\n",
    "#Applying the function to my DataFrame\n",
    "df_p['Tokens'] = df_p['Speech Text'].apply(normalize_and_tokenize)\n",
    "\n",
    "#Displaying updated DataFrame to check\n",
    "print(df_p[['Speech Text', 'Tokens']].head())"
   ]
  },
  {
   "cell_type": "markdown",
   "id": "8342239a-686e-4383-a7c1-156d0add5572",
   "metadata": {},
   "source": [
    "Lastly, I just want to see a full speech to make sure everything looks acceptable."
   ]
  },
  {
   "cell_type": "code",
   "execution_count": null,
   "id": "b652f61c-8f8d-4477-8a02-7ca956b58795",
   "metadata": {},
   "outputs": [],
   "source": [
    "print(df_p['Speech Text'].iloc[5]) #Picking a random row/speech"
   ]
  },
  {
   "cell_type": "markdown",
   "id": "f888b7d7-4fba-491e-92cc-6e6b3372d027",
   "metadata": {},
   "source": [
    "I'll take it. Now I've got a workable CSV with all 48 Pashinyan speeches. I'll move on to Aliyev's speeches. I tried the same approach with his, but I ran into a bunch of errors I think stemming from a slightly different website setup, so bit of a different approach here."
   ]
  },
  {
   "cell_type": "code",
   "execution_count": null,
   "id": "503a9731-e058-45d4-90c7-ab83fbc1c735",
   "metadata": {},
   "outputs": [],
   "source": [
    "#List of web links to Aliyev's speeches to be scraped\n",
    "urls = [\n",
    "    \"https://president.az/en/articles/view/39951\",\n",
    "\"https://president.az/en/articles/view/40267\",\n",
    "\"https://president.az/en/articles/view/42798\",\n",
    "\"https://president.az/en/articles/view/42794\",\n",
    "\"https://president.az/en/articles/view/42459\",\n",
    "\"https://president.az/en/articles/view/42108\",\n",
    "\"https://president.az/en/articles/view/44371\",\n",
    "\"https://president.az/en/articles/view/48793\",\n",
    "\"https://president.az/en/articles/view/49937\",\n",
    "\"https://president.az/en/articles/view/49953\",\n",
    "\"https://president.az/en/articles/view/50226\",\n",
    "\"https://president.az/en/articles/view/56550\",\n",
    "\"https://president.az/en/articles/view/56987\",\n",
    "\"https://president.az/en/articles/view/57277\",\n",
    "\"https://president.az/en/articles/view/57276\",\n",
    "\"https://president.az/en/articles/view/58559\",\n",
    "\"https://president.az/en/articles/view/58557\",\n",
    "\"https://president.az/en/articles/view/57564\",\n",
    "\"https://president.az/en/articles/view/57748\",\n",
    "\"https://president.az/en/articles/view/57857\",\n",
    "\"https://president.az/en/articles/view/57856\",\n",
    "\"https://president.az/en/articles/view/58470\",\n",
    "\"https://president.az/en/articles/view/59164\",\n",
    "\"https://president.az/en/articles/view/59195\",\n",
    "\"https://president.az/en/articles/view/63447\",\n",
    "\"https://president.az/en/articles/view/60430\",\n",
    "\"https://president.az/en/articles/view/60990\",\n",
    "\"https://president.az/en/articles/view/61113\",\n",
    "\"https://president.az/en/articles/view/61532\",\n",
    "\"https://president.az/en/articles/view/61664\",\n",
    "\"https://president.az/en/articles/view/62244\",\n",
    "\"https://president.az/en/articles/view/62209\",\n",
    "\"https://president.az/en/articles/view/62336\",\n",
    "\"https://president.az/en/articles/view/62864\",\n",
    "\"https://president.az/en/articles/view/64527\",\n",
    "\"https://president.az/en/articles/view/64830\"\n",
    "]\n",
    "\n",
    "def scrape_speech(url):\n",
    "    \"\"\"This is a function to extract content from the webpages\"\"\"\n",
    "    response = requests.get(url) #Scraping a URL, retrieving the page content\n",
    "    soup = BeautifulSoup(response.content, 'html.parser') #This converts the webpage into a navigable BeautifulSoup object\n",
    "    \n",
    "    #Extracting the date\n",
    "    date = soup.find('span', class_='news_date') #Again, had to inspect the webpage to find the right class\n",
    "    date = date.text.strip() if date else 'No date found'\n",
    "    \n",
    "    #Extracting the speech text; combining text from <p> tags within the proper news_paragraph-block class\n",
    "    speech_text = ' '.join([p.text.strip() for p in soup.find_all('p') if p.find_parent(class_='news_paragraph-block')]) #Also had to inspect here to get the right class for the speech text\n",
    "    if not speech_text:\n",
    "        speech_text = 'No speech text found'\n",
    "\n",
    "    return {\n",
    "        'Date': date,\n",
    "        'Speech Text': speech_text,\n",
    "        'URL': url\n",
    "    } #Returns a dictionary with the above elements\n",
    "\n",
    "#Scraping the speeches\n",
    "speech_data = [] #Initializing an empty list to store the scraped data\n",
    "for url in urls: #Looping through the URLs and appending results to the list\n",
    "    speech_data.append(scrape_speech(url))\n",
    "\n",
    "#Creating a DataFrame from the scraped data\n",
    "df = pd.DataFrame(speech_data)\n",
    "\n",
    "#Saving the data to a CSV file\n",
    "df.to_csv('aliyev_speeches36.csv', index=False)"
   ]
  },
  {
   "cell_type": "markdown",
   "id": "81c4ff52-2caa-4ae2-a679-efa1aa57a743",
   "metadata": {},
   "source": [
    "As with the Pashinyan speeches, I also want to see what I have here. And again, I want to manually add an \"Event\" column, including (as for Pashinyan) \"2nd NK War\", \"Border clashes\", \"Lachin blockade\", and \"Lightning offensive\"."
   ]
  },
  {
   "cell_type": "code",
   "execution_count": null,
   "id": "9b7a8971-736c-4929-a149-499dae119539",
   "metadata": {},
   "outputs": [],
   "source": [
    "df_a = pd.read_csv(r\"C:\\Users\\wolyn\\OneDrive\\Documents\\Yale - Fall 2024\\Python for Global Affairs\\aliyev_speeches36.csv\")\n",
    "print(df_a.head())  #Viewing the first few rows"
   ]
  },
  {
   "cell_type": "code",
   "execution_count": null,
   "id": "0f7a5600-b60c-43bc-9e69-f308cef4d192",
   "metadata": {},
   "outputs": [],
   "source": [
    "#Convert to datetime and get rid of the time part here, which Pashinyan's didn't have\n",
    "df_a['Date'] = pd.to_datetime(df_a['Date'], format='%d %B %Y, %H:%M').dt.date"
   ]
  },
  {
   "cell_type": "code",
   "execution_count": null,
   "id": "5548f400-a216-4e5c-b452-a1386ffa45f8",
   "metadata": {},
   "outputs": [],
   "source": [
    "print(df_a.head()) #Looks good"
   ]
  },
  {
   "cell_type": "markdown",
   "id": "89d03e92-c72e-4bec-9aa2-8008e28002e2",
   "metadata": {},
   "source": [
    "Normalizing and tokenizing for Aliyev's speeches now."
   ]
  },
  {
   "cell_type": "code",
   "execution_count": null,
   "id": "8813a112-7a19-4440-b449-e4ff2db09a83",
   "metadata": {},
   "outputs": [],
   "source": [
    "import re\n",
    "\n",
    "def normalize_and_tokenize(text):\n",
    "    \"\"\"This is a function to normalize and tokenize\"\"\"\n",
    "    #Converting to lowercase\n",
    "    text = text.lower()\n",
    "    #Removing punctuation\n",
    "    text = re.sub(r'[^\\w\\s]', '', text)\n",
    "    #Tokenizing into words\n",
    "    tokens = text.split()\n",
    "    return tokens\n",
    "\n",
    "#Applying the function to my DataFrame\n",
    "df_a['Tokens'] = df_a['Speech Text'].apply(normalize_and_tokenize)\n",
    "\n",
    "#Displaying updated DataFrame to check\n",
    "print(df_a[['Speech Text', 'Tokens']].head())"
   ]
  },
  {
   "cell_type": "code",
   "execution_count": null,
   "id": "e6cf3789-1e8e-4746-9bde-f4939b12a245",
   "metadata": {},
   "outputs": [],
   "source": [
    "#Let's see a full speech just to make sure it looks OK\n",
    "print(df_a['Speech Text'].iloc[17]) #Picking a random row/speech"
   ]
  },
  {
   "cell_type": "markdown",
   "id": "0fbf0bfe-6e6f-4407-a65a-8feb806d8681",
   "metadata": {},
   "source": [
    "Everything looks alright to me. Now I have two DataFrames to work with and analyze, one each for Pashinyan and Aliyev."
   ]
  },
  {
   "cell_type": "markdown",
   "id": "cdba2bd0-3cc1-41ef-8dd7-73795014daa0",
   "metadata": {},
   "source": [
    "***Sentiment Analysis***"
   ]
  },
  {
   "cell_type": "markdown",
   "id": "842b08e8-cda4-4e48-a603-a13c34300b93",
   "metadata": {},
   "source": [
    "I'm gonna start with a sentiment analysis to try to quantify and compare the tone of the speeches. I'll use TextBlob."
   ]
  },
  {
   "cell_type": "code",
   "execution_count": null,
   "id": "c69e4e0f-be58-4bd7-bf2c-17068d7c99f8",
   "metadata": {},
   "outputs": [],
   "source": [
    "!pip install textblob nltk"
   ]
  },
  {
   "cell_type": "code",
   "execution_count": null,
   "id": "981d087e-9e14-42b9-bd00-f2984b7113a1",
   "metadata": {},
   "outputs": [],
   "source": [
    "from textblob import TextBlob\n",
    "\n",
    "def calculate_sentiment(text):\n",
    "    \"\"\"This is a function to calculate sentiment\"\"\"\n",
    "    blob = TextBlob(text)\n",
    "    return blob.sentiment.polarity  #Gives me a polarity score: -1 (negative) to +1 (positive)\n",
    "\n",
    "#Applying sentiment analysis to both DataFrames\n",
    "df_p['Sentiment'] = df_p['Speech Text'].apply(calculate_sentiment)\n",
    "df_a['Sentiment'] = df_a['Speech Text'].apply(calculate_sentiment)\n",
    "\n",
    "#Displaying sample results\n",
    "print(df_p[['Speech Text', 'Sentiment']].head())\n",
    "print(df_a[['Speech Text', 'Sentiment']].head())"
   ]
  },
  {
   "cell_type": "markdown",
   "id": "bdc96ea4-899c-4a9c-a262-0bda6b37b321",
   "metadata": {},
   "source": [
    "Now I want to visualize changes in sentiment over time. I also want to easily see when each important event occurred, so I'm adding labels for each (incl. start and end date for the Second Nagorno-Karabakh War)."
   ]
  },
  {
   "cell_type": "code",
   "execution_count": null,
   "id": "8899dc3d-9a23-4e34-a240-3277d7a22b34",
   "metadata": {},
   "outputs": [],
   "source": [
    "import matplotlib.pyplot as plt\n",
    "\n",
    "#Sorting by date\n",
    "df_p.sort_values('Date', inplace=True)\n",
    "df_a.sort_values('Date', inplace=True)\n",
    "\n",
    "#Defining my key events and their dates\n",
    "events = {\n",
    "    \"2nd NK War Start\": \"2020-09-27\",\n",
    "    \"2nd NK War End\": \"2020-11-10\",\n",
    "    \"Sept 2022 Attacks\": \"2022-09-13\",\n",
    "    \"Dec 2022 Blockade\": \"2022-12-12\",\n",
    "    \"Sept 2023 Offensive\": \"2023-09-19\"\n",
    "}\n",
    "\n",
    "#Converting event dates to datetime\n",
    "event_dates = {event: pd.to_datetime(date) for event, date in events.items()}\n",
    "\n",
    "#Plotting sentiment for both leaders\n",
    "plt.figure(figsize=(12, 6))\n",
    "plt.plot(df_p['Date'], df_p['Sentiment'], label='Pashinyan', marker='o', color='blue')\n",
    "plt.plot(df_a['Date'], df_a['Sentiment'], label='Aliyev', marker='x', color='red')\n",
    "\n",
    "#Adding labels for events\n",
    "for event, date in event_dates.items():\n",
    "    plt.axvline(x=date, color='gray', linestyle='--', alpha=0.7)  #Vertical lines for my key events\n",
    "    plt.text(date, 0.1, event, rotation=90, verticalalignment='bottom', fontsize=9, color='black')  #Text labels\n",
    "\n",
    "#Adding plot details here\n",
    "plt.xlabel('Date')\n",
    "plt.ylabel('Sentiment')\n",
    "plt.title('Sentiment Over Time: Pashinyan vs. Aliyev with Events')\n",
    "plt.legend()\n",
    "plt.tight_layout()\n",
    "\n",
    "plt.show()"
   ]
  },
  {
   "cell_type": "markdown",
   "id": "0e1a89a7-4fc7-46bd-8061-390fb0511a75",
   "metadata": {},
   "source": [
    "I also want to get some summary stats for sentiment, including mean sentiment for each leader."
   ]
  },
  {
   "cell_type": "code",
   "execution_count": null,
   "id": "6cf0c240-89e7-4512-90b1-e44cfa6d2fdc",
   "metadata": {},
   "outputs": [],
   "source": [
    "#Calculating mean sentiment for Pashinyan\n",
    "pashinyan_mean_sentiment = df_p['Sentiment'].mean()\n",
    "\n",
    "#Calculating mean sentiment for Aliyev\n",
    "aliyev_mean_sentiment = df_a['Sentiment'].mean()\n",
    "\n",
    "#Summary statistics for both leaders\n",
    "pashinyan_stats = df_p['Sentiment'].describe()\n",
    "aliyev_stats = df_a['Sentiment'].describe()\n",
    "\n",
    "#Printing results\n",
    "print(\"Pashinyan Mean Sentiment:\", pashinyan_mean_sentiment)\n",
    "print(\"Aliyev Mean Sentiment:\", aliyev_mean_sentiment)\n",
    "print(\"\\nPashinyan Sentiment Statistics:\")\n",
    "print(pashinyan_stats)\n",
    "print(\"\\nAliyev Sentiment Statistics:\")\n",
    "print(aliyev_stats)"
   ]
  },
  {
   "cell_type": "markdown",
   "id": "9b33ba57-b9df-4a3c-b8fb-16d4f037e492",
   "metadata": {},
   "source": [
    "Firstly, it looks like the average sentiment for Aliyev's speeches over this time period is slightly higher than that of Pashinyan's speeches, which makes sense. Azerbaijan was the clear victor across these stages of the conflict, winning on the battlefield over nearly all the events and eventually taking over Nagorno-Karabakh completely. It's interesting that Pashinyan's mean sentiment is in the positive range, considering Armenia, obviously, was the clear loser and lost control of what it sees as some of its historical homeland. Much of this can be chalked up to Pashinyan's opting to strike a tone of resilience and optimism in many of his speeches. For example, this excerpt from his Nov. 12, 2020 speech, just after the end of the 2nd NK War, illustrates this point: \"Many may whether we can talk about a good future after such a disastrous war. Yes, because today there are countries that have suffered the most severe capitulations in the 20th century, but today are among the most powerful nations in the world. They did so after a brutal defeat, with an emphasis on the development of education, science, industry and democracy, and this should be our next step. And I urge all of us to focus on what we can do to strengthen our country. This will be our best service to the memory of our martyrs, our wounded and disabled servicemen, their relatives, families, mothers, fathers, wives, and children.\" Clearly, Pashinyan here is trying to maintain a sense of hope and looking forward to a brighter future."
   ]
  },
  {
   "cell_type": "markdown",
   "id": "2f04925d-6f3b-4988-9f82-15a077f89e26",
   "metadata": {},
   "source": [
    "A couple of things jump out to me from the line graph. Pashinyan's most positive speech came right after the start of the 2nd NK War. Here's a bit of it: \"Victory and only victory is the ending that we see at the end of this struggle. Today, a few hours ago, the Artsakh Defense Army launched a powerful counteroffensive and recorded significant advances and destroyed several special units of Azerbaijan. No matter how many mercenaries have been deployed over there: the Azerbaijani side cannot compete with the Armenian will to win and live. With joint efforts we will break the adversary's backbone, so that it could never raise its murderous hands on us, so that its bloody gaze could never fall upon our people...This is a new Sardarapat, and we all should be prepared to devote ourselves to a single mission that we call final victory. Each of us must be ready to be on the forefront of that victory. We will win! We are sure to win! Rest assured that victory will be on our side!\" At this point in the war, there were indeed a few positive developments for the Armenian side, but more than anything this speech serves as a rallying cry, a way for Pashinyan to inject a sense of purpose and victory into his people. It was looking like it might become a protracted conflict at this point, so Pashinyan was trying to motivate and inspire the Armenian forces and people, and ready them for a potentially long war. After this point, things went clearly south for Armenia on the battlefield, and you can see that reflected in the sentiment of Pashinyan's ensuing speeches.\n",
    "\n",
    "Not surprisingly, Aliyev's speeches were clearly more positive than Pashinyan's after the conclusion of the 2nd NK War. Azerbaijan won and claimed quite a bit of territory. We then see Aliyev at his most positive after the September 2022 border clashes, which tracks - the Azerbaijani attacks struck across a wide swath of Armenia proper, the largest such offensive on mainland Armenia in the entire history of the conflict. Armenia put up little resistance, and the international community hardly batted an eye, so Aliyev had to be feeling pretty good: \"Our Victory march started in this direction as we broke through the enemy's first line of defense. For 44 days, the Azerbaijan Army moved forward every single day. Every day, without stopping, without pausing, tirelessly, we went forward, shedding blood and giving martyrs, but advancing towards Victory. We didn't stop even for a day. We didn't step back even for a day but went forward, chasing the enemy on the battlefield and winning the historic Victory.\"\n",
    "\n",
    "Lastly, we can see that Pashinyan was at his most negative in the lead up to Azerbaijan's 2023 lightning offensive and takeover of NK. You can clearly feel a sense of despair in this Sep. 7, 2023 speech as Azerbaijan built up its forces at the front lines: \"In the past week, the military-political situation in our region significantly worsened. The reason is that Azerbaijan has been accumulating troops for days along the Nagorno Karabakh contact line and the Armenia-Azerbaijan border. The rhetoric of anti-Armenian hatred has intensified in the Azerbaijani press and propaganda platforms. The policy of encroachment on the sovereign territory of Armenia continues.\" Interestingly, Pashinyan's rhetoric grows slightly more positive after the Azerbaijani offensive, again most probably to strike that tone of resilience and optimism, looking forward to (hopefully) less bleak times."
   ]
  },
  {
   "cell_type": "markdown",
   "id": "4909ce86-17e9-4023-bf65-920160eb18e3",
   "metadata": {},
   "source": [
    "***Rhetorical Strategy Analysis***"
   ]
  },
  {
   "cell_type": "markdown",
   "id": "0f9b5a9d-75ed-4e27-b0cb-f64c573730ad",
   "metadata": {},
   "source": [
    "Now I want to take a deeper dive into Pashinyan's and Aliyev's rhetorical strategies. I'll tokenize by sentence here, which will be more conducive to such an analysis."
   ]
  },
  {
   "cell_type": "code",
   "execution_count": null,
   "id": "5ff40d21-d5c2-4dc8-a4a1-fd7b5109d258",
   "metadata": {},
   "outputs": [],
   "source": [
    "import nltk\n",
    "nltk.download('punkt')\n",
    "\n",
    "from nltk.tokenize import sent_tokenize\n",
    "\n",
    "#Tokenizing the speeches in df_p and df_a by sentence\n",
    "df_p['Sentences'] = df_p['Speech Text'].apply(sent_tokenize)\n",
    "df_a['Sentences'] = df_a['Speech Text'].apply(sent_tokenize)\n",
    "\n",
    "#Viewing the first few sentences of speeches\n",
    "print(df_p['Sentences'].iloc[0])\n",
    "print(df_a['Sentences'].iloc[0])"
   ]
  },
  {
   "cell_type": "code",
   "execution_count": null,
   "id": "2be2ce6e-d1bb-48b4-ab98-528dade9965c",
   "metadata": {},
   "outputs": [],
   "source": [
    "!pip install blis"
   ]
  },
  {
   "cell_type": "code",
   "execution_count": null,
   "id": "215c45aa-86db-4f34-9eed-aa75a8a3176e",
   "metadata": {},
   "outputs": [],
   "source": [
    "import pandas as pd\n",
    "import spacy\n",
    "from collections import Counter\n",
    "import matplotlib.pyplot as plt\n",
    "from wordcloud import WordCloud\n",
    "\n",
    "# Load spaCy model\n",
    "nlp = spacy.load(\"en_core_web_sm\")\n",
    "\n",
    "# Example: Processing Pashinyan's speeches\n",
    "df_p['processed_speech'] = df_p['Speech Text'].apply(lambda x: ' '.join([token.text.lower() for token in nlp(x) if token.is_alpha]))\n",
    "\n",
    "# List of common hate speech words (expand as needed)\n",
    "hate_words = [\n",
    "    'terrorist', 'enemy', 'invader', 'occupier', 'separatist', 'vandal', \n",
    "    'criminal', 'barbarian', 'savage', 'threat', 'aggressor', 'murderer', \n",
    "    'traitor', 'enemy-of-the-state', 'radical', 'fanatic', 'extremist', \n",
    "    'bloodthirsty', 'devil', 'beast', 'oppressor', 'rebel', 'usurper', \n",
    "    'invading', 'violator', 'destroyer', 'butcher', 'enemy-combatant', \n",
    "    'scum', 'filth', 'despicable', 'terrorizing', 'horrible', 'bloodshed', \n",
    "    'executioner', 'hater', 'perpetrator', 'war-criminal', 'unforgivable', \n",
    "    'fiend', 'rapist', 'scoundrel', 'monster', 'hate-filled', 'unjust', \n",
    "    'infidel', 'disgraceful', 'subhuman', 'abomination', 'cruel', 'evil', \n",
    "    'inhuman', 'destruction', 'heinous', 'barbaric', 'traitorous', 'fanatical', \n",
    "    'hatemonger', 'radicalized', 'unholy', 'killers', 'vicious', 'unworthy', \n",
    "    'vile', 'devastator', 'cold-blooded', 'hostile', 'murderous', 'insurgent', \n",
    "    'madman', 'deceiver', 'corrupt', 'fascist', 'enemy-of-humanity', 'scary', \n",
    "    'unpatriotic', 'subversive', 'disloyal', 'hateful', 'vengeful', 'destructive', \n",
    "    'war-monger', 'intolerant', 'untrustworthy', 'tyrant', 'reprehensible', \n",
    "    'beastly', 'monstrous', 'evil-doer', 'blasphemous', 'inhumane', 'backstabber', \n",
    "    'vile', 'intolerable', 'warrior-of-evil', 'racist', 'xenophobic', 'unforgiven', \n",
    "    'unrepentant', 'sacrilegious', 'unspeakable', 'demonic', 'apocalyptic', 'chauvinist', \n",
    "    'miserable', 'hostility', 'unholy', 'unjustifiable', 'unredeemable', 'defiler'\n",
    "]\n",
    "\n",
    "\n",
    "# Function to detect hate speech\n",
    "def detect_hate_speech(text, hate_words):\n",
    "    return sum([1 for word in text.split() if word in hate_words])\n",
    "\n",
    "# Apply function to detect hate speech\n",
    "df_p['hate_speech_count'] = df_p['processed_speech'].apply(lambda x: detect_hate_speech(x, hate_words))\n",
    "\n",
    "# Visualize frequency of hate speech words\n",
    "word_freq = Counter(\" \".join(df_p['processed_speech']).split())\n",
    "top_hate_words = {word: freq for word, freq in word_freq.items() if word in hate_words}\n",
    "\n",
    "# Plot WordCloud\n",
    "wordcloud = WordCloud(width=800, height=400).generate_from_frequencies(top_hate_words)\n",
    "plt.imshow(wordcloud, interpolation='bilinear')\n",
    "plt.axis('off')\n",
    "plt.show()\n",
    "\n",
    "# Compare between leaders\n",
    "df_a['processed_speech'] = df_a['Speech Text'].apply(lambda x: ' '.join([token.text.lower() for token in nlp(x) if token.is_alpha]))\n",
    "df_a['hate_speech_count'] = df_a['processed_speech'].apply(lambda x: detect_hate_speech(x, hate_words))\n",
    "\n",
    "# Plot comparison\n",
    "plt.plot(df_p['Date'], df_p['hate_speech_count'], label='Pashinyan', marker='o')\n",
    "plt.plot(df_a['Date'], df_a['hate_speech_count'], label='Aliyev', marker='x')\n",
    "plt.xlabel('Date')\n",
    "plt.ylabel('Hate Speech Count')\n",
    "plt.title('Comparison of Hate Speech Over Time')\n",
    "plt.legend()\n",
    "plt.show()"
   ]
  },
  {
   "cell_type": "code",
   "execution_count": null,
   "id": "8e78036f-0173-4fb8-a97c-9993a9ea8a8d",
   "metadata": {},
   "outputs": [],
   "source": []
  }
 ],
 "metadata": {
  "kernelspec": {
   "display_name": "Python 3 (ipykernel)",
   "language": "python",
   "name": "python3"
  },
  "language_info": {
   "codemirror_mode": {
    "name": "ipython",
    "version": 3
   },
   "file_extension": ".py",
   "mimetype": "text/x-python",
   "name": "python",
   "nbconvert_exporter": "python",
   "pygments_lexer": "ipython3",
   "version": "3.12.4"
  }
 },
 "nbformat": 4,
 "nbformat_minor": 5
}
